{
  "nbformat": 4,
  "nbformat_minor": 0,
  "metadata": {
    "kernelspec": {
      "display_name": "Python 3",
      "language": "python",
      "name": "python3"
    },
    "language_info": {
      "codemirror_mode": {
        "name": "ipython",
        "version": 3
      },
      "file_extension": ".py",
      "mimetype": "text/x-python",
      "name": "python",
      "nbconvert_exporter": "python",
      "pygments_lexer": "ipython3",
      "version": "3.6.9"
    },
    "colab": {
      "provenance": []
    },
    "accelerator": "GPU"
  },
  "cells": [
    {
      "cell_type": "code",
      "metadata": {
        "colab": {
          "base_uri": "https://localhost:8080/"
        },
        "id": "auOKAzR_Veu7",
        "outputId": "7658ef6e-a985-4ba8-bbf9-05168afd266b"
      },
      "source": [
        "from google.colab import drive\n",
        "drive.mount('/content/drive')"
      ],
      "execution_count": 5,
      "outputs": [
        {
          "output_type": "stream",
          "name": "stdout",
          "text": [
            "Drive already mounted at /content/drive; to attempt to forcibly remount, call drive.mount(\"/content/drive\", force_remount=True).\n"
          ]
        }
      ]
    },
    {
      "cell_type": "markdown",
      "metadata": {
        "id": "U4W9v4K25prG"
      },
      "source": [
        "# **Dataset Load**"
      ]
    },
    {
      "cell_type": "code",
      "metadata": {
        "id": "-MiA_A9hU-nA"
      },
      "source": [
        "import pandas as pd"
      ],
      "execution_count": 6,
      "outputs": []
    },
    {
      "cell_type": "code",
      "metadata": {
        "id": "5B4Y8StdU-nB"
      },
      "source": [
        "df=pd.read_csv('/content/drive/MyDrive/corona project/bangladesh.csv')"
      ],
      "execution_count": 7,
      "outputs": []
    },
    {
      "cell_type": "code",
      "metadata": {
        "colab": {
          "base_uri": "https://localhost:8080/",
          "height": 206
        },
        "id": "JM6jPwPLU-nD",
        "outputId": "761cc352-baa7-41b2-f396-f6627cae97e3"
      },
      "source": [
        "df.head()"
      ],
      "execution_count": 8,
      "outputs": [
        {
          "output_type": "execute_result",
          "data": {
            "text/plain": [
              "        date  new_case  death\n",
              "0  9-27-2020      1275     32\n",
              "1  9-28-2020      1407     32\n",
              "2  9-29-2020      1488     26\n",
              "3  9-30-2020      1436     32\n",
              "4  10-1-2020      1508     21"
            ],
            "text/html": [
              "\n",
              "  <div id=\"df-87e2dc25-6770-4dfb-8b84-66ed93c81139\">\n",
              "    <div class=\"colab-df-container\">\n",
              "      <div>\n",
              "<style scoped>\n",
              "    .dataframe tbody tr th:only-of-type {\n",
              "        vertical-align: middle;\n",
              "    }\n",
              "\n",
              "    .dataframe tbody tr th {\n",
              "        vertical-align: top;\n",
              "    }\n",
              "\n",
              "    .dataframe thead th {\n",
              "        text-align: right;\n",
              "    }\n",
              "</style>\n",
              "<table border=\"1\" class=\"dataframe\">\n",
              "  <thead>\n",
              "    <tr style=\"text-align: right;\">\n",
              "      <th></th>\n",
              "      <th>date</th>\n",
              "      <th>new_case</th>\n",
              "      <th>death</th>\n",
              "    </tr>\n",
              "  </thead>\n",
              "  <tbody>\n",
              "    <tr>\n",
              "      <th>0</th>\n",
              "      <td>9-27-2020</td>\n",
              "      <td>1275</td>\n",
              "      <td>32</td>\n",
              "    </tr>\n",
              "    <tr>\n",
              "      <th>1</th>\n",
              "      <td>9-28-2020</td>\n",
              "      <td>1407</td>\n",
              "      <td>32</td>\n",
              "    </tr>\n",
              "    <tr>\n",
              "      <th>2</th>\n",
              "      <td>9-29-2020</td>\n",
              "      <td>1488</td>\n",
              "      <td>26</td>\n",
              "    </tr>\n",
              "    <tr>\n",
              "      <th>3</th>\n",
              "      <td>9-30-2020</td>\n",
              "      <td>1436</td>\n",
              "      <td>32</td>\n",
              "    </tr>\n",
              "    <tr>\n",
              "      <th>4</th>\n",
              "      <td>10-1-2020</td>\n",
              "      <td>1508</td>\n",
              "      <td>21</td>\n",
              "    </tr>\n",
              "  </tbody>\n",
              "</table>\n",
              "</div>\n",
              "      <button class=\"colab-df-convert\" onclick=\"convertToInteractive('df-87e2dc25-6770-4dfb-8b84-66ed93c81139')\"\n",
              "              title=\"Convert this dataframe to an interactive table.\"\n",
              "              style=\"display:none;\">\n",
              "        \n",
              "  <svg xmlns=\"http://www.w3.org/2000/svg\" height=\"24px\"viewBox=\"0 0 24 24\"\n",
              "       width=\"24px\">\n",
              "    <path d=\"M0 0h24v24H0V0z\" fill=\"none\"/>\n",
              "    <path d=\"M18.56 5.44l.94 2.06.94-2.06 2.06-.94-2.06-.94-.94-2.06-.94 2.06-2.06.94zm-11 1L8.5 8.5l.94-2.06 2.06-.94-2.06-.94L8.5 2.5l-.94 2.06-2.06.94zm10 10l.94 2.06.94-2.06 2.06-.94-2.06-.94-.94-2.06-.94 2.06-2.06.94z\"/><path d=\"M17.41 7.96l-1.37-1.37c-.4-.4-.92-.59-1.43-.59-.52 0-1.04.2-1.43.59L10.3 9.45l-7.72 7.72c-.78.78-.78 2.05 0 2.83L4 21.41c.39.39.9.59 1.41.59.51 0 1.02-.2 1.41-.59l7.78-7.78 2.81-2.81c.8-.78.8-2.07 0-2.86zM5.41 20L4 18.59l7.72-7.72 1.47 1.35L5.41 20z\"/>\n",
              "  </svg>\n",
              "      </button>\n",
              "      \n",
              "  <style>\n",
              "    .colab-df-container {\n",
              "      display:flex;\n",
              "      flex-wrap:wrap;\n",
              "      gap: 12px;\n",
              "    }\n",
              "\n",
              "    .colab-df-convert {\n",
              "      background-color: #E8F0FE;\n",
              "      border: none;\n",
              "      border-radius: 50%;\n",
              "      cursor: pointer;\n",
              "      display: none;\n",
              "      fill: #1967D2;\n",
              "      height: 32px;\n",
              "      padding: 0 0 0 0;\n",
              "      width: 32px;\n",
              "    }\n",
              "\n",
              "    .colab-df-convert:hover {\n",
              "      background-color: #E2EBFA;\n",
              "      box-shadow: 0px 1px 2px rgba(60, 64, 67, 0.3), 0px 1px 3px 1px rgba(60, 64, 67, 0.15);\n",
              "      fill: #174EA6;\n",
              "    }\n",
              "\n",
              "    [theme=dark] .colab-df-convert {\n",
              "      background-color: #3B4455;\n",
              "      fill: #D2E3FC;\n",
              "    }\n",
              "\n",
              "    [theme=dark] .colab-df-convert:hover {\n",
              "      background-color: #434B5C;\n",
              "      box-shadow: 0px 1px 3px 1px rgba(0, 0, 0, 0.15);\n",
              "      filter: drop-shadow(0px 1px 2px rgba(0, 0, 0, 0.3));\n",
              "      fill: #FFFFFF;\n",
              "    }\n",
              "  </style>\n",
              "\n",
              "      <script>\n",
              "        const buttonEl =\n",
              "          document.querySelector('#df-87e2dc25-6770-4dfb-8b84-66ed93c81139 button.colab-df-convert');\n",
              "        buttonEl.style.display =\n",
              "          google.colab.kernel.accessAllowed ? 'block' : 'none';\n",
              "\n",
              "        async function convertToInteractive(key) {\n",
              "          const element = document.querySelector('#df-87e2dc25-6770-4dfb-8b84-66ed93c81139');\n",
              "          const dataTable =\n",
              "            await google.colab.kernel.invokeFunction('convertToInteractive',\n",
              "                                                     [key], {});\n",
              "          if (!dataTable) return;\n",
              "\n",
              "          const docLinkHtml = 'Like what you see? Visit the ' +\n",
              "            '<a target=\"_blank\" href=https://colab.research.google.com/notebooks/data_table.ipynb>data table notebook</a>'\n",
              "            + ' to learn more about interactive tables.';\n",
              "          element.innerHTML = '';\n",
              "          dataTable['output_type'] = 'display_data';\n",
              "          await google.colab.output.renderOutput(dataTable, element);\n",
              "          const docLink = document.createElement('div');\n",
              "          docLink.innerHTML = docLinkHtml;\n",
              "          element.appendChild(docLink);\n",
              "        }\n",
              "      </script>\n",
              "    </div>\n",
              "  </div>\n",
              "  "
            ]
          },
          "metadata": {},
          "execution_count": 8
        }
      ]
    },
    {
      "cell_type": "code",
      "metadata": {
        "colab": {
          "base_uri": "https://localhost:8080/",
          "height": 206
        },
        "id": "GpgOCTfcU-nI",
        "outputId": "bc614ffd-cd88-4f9d-bb82-15975b69d54e"
      },
      "source": [
        "df.tail()"
      ],
      "execution_count": 9,
      "outputs": [
        {
          "output_type": "execute_result",
          "data": {
            "text/plain": [
              "           date  new_case  death\n",
              "414  11/15/2021       234      4\n",
              "415  11/16/2021       213      2\n",
              "416  11/17/2021       266      6\n",
              "417  11/18/2021       244      5\n",
              "418  11/19/2021       253      7"
            ],
            "text/html": [
              "\n",
              "  <div id=\"df-2e129a29-58a1-4dca-914a-9b7ee3bebd8b\">\n",
              "    <div class=\"colab-df-container\">\n",
              "      <div>\n",
              "<style scoped>\n",
              "    .dataframe tbody tr th:only-of-type {\n",
              "        vertical-align: middle;\n",
              "    }\n",
              "\n",
              "    .dataframe tbody tr th {\n",
              "        vertical-align: top;\n",
              "    }\n",
              "\n",
              "    .dataframe thead th {\n",
              "        text-align: right;\n",
              "    }\n",
              "</style>\n",
              "<table border=\"1\" class=\"dataframe\">\n",
              "  <thead>\n",
              "    <tr style=\"text-align: right;\">\n",
              "      <th></th>\n",
              "      <th>date</th>\n",
              "      <th>new_case</th>\n",
              "      <th>death</th>\n",
              "    </tr>\n",
              "  </thead>\n",
              "  <tbody>\n",
              "    <tr>\n",
              "      <th>414</th>\n",
              "      <td>11/15/2021</td>\n",
              "      <td>234</td>\n",
              "      <td>4</td>\n",
              "    </tr>\n",
              "    <tr>\n",
              "      <th>415</th>\n",
              "      <td>11/16/2021</td>\n",
              "      <td>213</td>\n",
              "      <td>2</td>\n",
              "    </tr>\n",
              "    <tr>\n",
              "      <th>416</th>\n",
              "      <td>11/17/2021</td>\n",
              "      <td>266</td>\n",
              "      <td>6</td>\n",
              "    </tr>\n",
              "    <tr>\n",
              "      <th>417</th>\n",
              "      <td>11/18/2021</td>\n",
              "      <td>244</td>\n",
              "      <td>5</td>\n",
              "    </tr>\n",
              "    <tr>\n",
              "      <th>418</th>\n",
              "      <td>11/19/2021</td>\n",
              "      <td>253</td>\n",
              "      <td>7</td>\n",
              "    </tr>\n",
              "  </tbody>\n",
              "</table>\n",
              "</div>\n",
              "      <button class=\"colab-df-convert\" onclick=\"convertToInteractive('df-2e129a29-58a1-4dca-914a-9b7ee3bebd8b')\"\n",
              "              title=\"Convert this dataframe to an interactive table.\"\n",
              "              style=\"display:none;\">\n",
              "        \n",
              "  <svg xmlns=\"http://www.w3.org/2000/svg\" height=\"24px\"viewBox=\"0 0 24 24\"\n",
              "       width=\"24px\">\n",
              "    <path d=\"M0 0h24v24H0V0z\" fill=\"none\"/>\n",
              "    <path d=\"M18.56 5.44l.94 2.06.94-2.06 2.06-.94-2.06-.94-.94-2.06-.94 2.06-2.06.94zm-11 1L8.5 8.5l.94-2.06 2.06-.94-2.06-.94L8.5 2.5l-.94 2.06-2.06.94zm10 10l.94 2.06.94-2.06 2.06-.94-2.06-.94-.94-2.06-.94 2.06-2.06.94z\"/><path d=\"M17.41 7.96l-1.37-1.37c-.4-.4-.92-.59-1.43-.59-.52 0-1.04.2-1.43.59L10.3 9.45l-7.72 7.72c-.78.78-.78 2.05 0 2.83L4 21.41c.39.39.9.59 1.41.59.51 0 1.02-.2 1.41-.59l7.78-7.78 2.81-2.81c.8-.78.8-2.07 0-2.86zM5.41 20L4 18.59l7.72-7.72 1.47 1.35L5.41 20z\"/>\n",
              "  </svg>\n",
              "      </button>\n",
              "      \n",
              "  <style>\n",
              "    .colab-df-container {\n",
              "      display:flex;\n",
              "      flex-wrap:wrap;\n",
              "      gap: 12px;\n",
              "    }\n",
              "\n",
              "    .colab-df-convert {\n",
              "      background-color: #E8F0FE;\n",
              "      border: none;\n",
              "      border-radius: 50%;\n",
              "      cursor: pointer;\n",
              "      display: none;\n",
              "      fill: #1967D2;\n",
              "      height: 32px;\n",
              "      padding: 0 0 0 0;\n",
              "      width: 32px;\n",
              "    }\n",
              "\n",
              "    .colab-df-convert:hover {\n",
              "      background-color: #E2EBFA;\n",
              "      box-shadow: 0px 1px 2px rgba(60, 64, 67, 0.3), 0px 1px 3px 1px rgba(60, 64, 67, 0.15);\n",
              "      fill: #174EA6;\n",
              "    }\n",
              "\n",
              "    [theme=dark] .colab-df-convert {\n",
              "      background-color: #3B4455;\n",
              "      fill: #D2E3FC;\n",
              "    }\n",
              "\n",
              "    [theme=dark] .colab-df-convert:hover {\n",
              "      background-color: #434B5C;\n",
              "      box-shadow: 0px 1px 3px 1px rgba(0, 0, 0, 0.15);\n",
              "      filter: drop-shadow(0px 1px 2px rgba(0, 0, 0, 0.3));\n",
              "      fill: #FFFFFF;\n",
              "    }\n",
              "  </style>\n",
              "\n",
              "      <script>\n",
              "        const buttonEl =\n",
              "          document.querySelector('#df-2e129a29-58a1-4dca-914a-9b7ee3bebd8b button.colab-df-convert');\n",
              "        buttonEl.style.display =\n",
              "          google.colab.kernel.accessAllowed ? 'block' : 'none';\n",
              "\n",
              "        async function convertToInteractive(key) {\n",
              "          const element = document.querySelector('#df-2e129a29-58a1-4dca-914a-9b7ee3bebd8b');\n",
              "          const dataTable =\n",
              "            await google.colab.kernel.invokeFunction('convertToInteractive',\n",
              "                                                     [key], {});\n",
              "          if (!dataTable) return;\n",
              "\n",
              "          const docLinkHtml = 'Like what you see? Visit the ' +\n",
              "            '<a target=\"_blank\" href=https://colab.research.google.com/notebooks/data_table.ipynb>data table notebook</a>'\n",
              "            + ' to learn more about interactive tables.';\n",
              "          element.innerHTML = '';\n",
              "          dataTable['output_type'] = 'display_data';\n",
              "          await google.colab.output.renderOutput(dataTable, element);\n",
              "          const docLink = document.createElement('div');\n",
              "          docLink.innerHTML = docLinkHtml;\n",
              "          element.appendChild(docLink);\n",
              "        }\n",
              "      </script>\n",
              "    </div>\n",
              "  </div>\n",
              "  "
            ]
          },
          "metadata": {},
          "execution_count": 9
        }
      ]
    },
    {
      "cell_type": "code",
      "metadata": {
        "id": "ijmwpW1gU-nJ"
      },
      "source": [
        "df1=df.reset_index()['death']"
      ],
      "execution_count": 10,
      "outputs": []
    },
    {
      "cell_type": "code",
      "metadata": {
        "colab": {
          "base_uri": "https://localhost:8080/"
        },
        "id": "aKoLe-HhU-nL",
        "outputId": "a539ca67-9050-4104-c37e-a32e52847b51"
      },
      "source": [
        "df1"
      ],
      "execution_count": 11,
      "outputs": [
        {
          "output_type": "execute_result",
          "data": {
            "text/plain": [
              "0      32\n",
              "1      32\n",
              "2      26\n",
              "3      32\n",
              "4      21\n",
              "       ..\n",
              "414     4\n",
              "415     2\n",
              "416     6\n",
              "417     5\n",
              "418     7\n",
              "Name: death, Length: 419, dtype: int64"
            ]
          },
          "metadata": {},
          "execution_count": 11
        }
      ]
    },
    {
      "cell_type": "code",
      "metadata": {
        "colab": {
          "base_uri": "https://localhost:8080/",
          "height": 282
        },
        "id": "pSwnk45GU-nN",
        "outputId": "143f07a8-2a3c-45cd-b749-beb8aaf6ea43"
      },
      "source": [
        "import matplotlib.pyplot as plt\n",
        "plt.plot(df1)"
      ],
      "execution_count": 12,
      "outputs": [
        {
          "output_type": "execute_result",
          "data": {
            "text/plain": [
              "[<matplotlib.lines.Line2D at 0x7faf56862700>]"
            ]
          },
          "metadata": {},
          "execution_count": 12
        },
        {
          "output_type": "display_data",
          "data": {
            "text/plain": [
              "<Figure size 432x288 with 1 Axes>"
            ],
            "image/png": "[encoded data removed]"
          },
          "metadata": {
            "needs_background": "light"
          }
        }
      ]
    },
    {
      "cell_type": "markdown",
      "metadata": {
        "id": "zbJn0GUS5evX"
      },
      "source": [
        "# **Data Preprocessing**"
      ]
    },
    {
      "cell_type": "code",
      "metadata": {
        "id": "wMEO68luU-nQ"
      },
      "source": [
        "import numpy as np"
      ],
      "execution_count": 13,
      "outputs": []
    },
    {
      "cell_type": "code",
      "metadata": {
        "id": "VWgWE33lU-nS"
      },
      "source": [
        "from sklearn.preprocessing import MinMaxScaler\n",
        "scaler=MinMaxScaler(feature_range=(0,1))\n",
        "df1=scaler.fit_transform(np.array(df1).reshape(-1,1))"
      ],
      "execution_count": 14,
      "outputs": []
    },
    {
      "cell_type": "code",
      "metadata": {
        "colab": {
          "base_uri": "https://localhost:8080/"
        },
        "id": "eLO4CR7YU-nS",
        "outputId": "16ee8923-9040-4424-a43e-58cb13994dd0"
      },
      "source": [
        "print(df1)"
      ],
      "execution_count": 15,
      "outputs": [
        {
          "output_type": "stream",
          "name": "stdout",
          "text": [
            "[[0.11787072]\n",
            " [0.11787072]\n",
            " [0.09505703]\n",
            " [0.11787072]\n",
            " [0.07604563]\n",
            " [0.121673  ]\n",
            " [0.07224335]\n",
            " [0.08365019]\n",
            " [0.09885932]\n",
            " [0.11026616]\n",
            " [0.12927757]\n",
            " [0.07224335]\n",
            " [0.0608365 ]\n",
            " [0.08365019]\n",
            " [0.08745247]\n",
            " [0.11406844]\n",
            " [0.07984791]\n",
            " [0.05703422]\n",
            " [0.05323194]\n",
            " [0.05323194]\n",
            " [0.08365019]\n",
            " [0.04942966]\n",
            " [0.07604563]\n",
            " [0.06463878]\n",
            " [0.08745247]\n",
            " [0.08745247]\n",
            " [0.04942966]\n",
            " [0.06844106]\n",
            " [0.08365019]\n",
            " [0.05323194]\n",
            " [0.07224335]\n",
            " [0.08365019]\n",
            " [0.09125475]\n",
            " [0.06844106]\n",
            " [0.06463878]\n",
            " [0.06463878]\n",
            " [0.09125475]\n",
            " [0.0608365 ]\n",
            " [0.07604563]\n",
            " [0.0608365 ]\n",
            " [0.05323194]\n",
            " [0.04562738]\n",
            " [0.06463878]\n",
            " [0.09125475]\n",
            " [0.05703422]\n",
            " [0.06844106]\n",
            " [0.04562738]\n",
            " [0.06844106]\n",
            " [0.04942966]\n",
            " [0.07604563]\n",
            " [0.07604563]\n",
            " [0.14448669]\n",
            " [0.07604563]\n",
            " [0.11026616]\n",
            " [0.0608365 ]\n",
            " [0.1026616 ]\n",
            " [0.14068441]\n",
            " [0.1026616 ]\n",
            " [0.11787072]\n",
            " [0.14448669]\n",
            " [0.13688213]\n",
            " [0.07224335]\n",
            " [0.13307985]\n",
            " [0.10646388]\n",
            " [0.12927757]\n",
            " [0.11406844]\n",
            " [0.14068441]\n",
            " [0.12927757]\n",
            " [0.08745247]\n",
            " [0.12927757]\n",
            " [0.11406844]\n",
            " [0.13307985]\n",
            " [0.11787072]\n",
            " [0.08745247]\n",
            " [0.13688213]\n",
            " [0.06844106]\n",
            " [0.12547529]\n",
            " [0.11787072]\n",
            " [0.13688213]\n",
            " [0.14828897]\n",
            " [0.09885932]\n",
            " [0.13307985]\n",
            " [0.09125475]\n",
            " [0.09125475]\n",
            " [0.14068441]\n",
            " [0.11787072]\n",
            " [0.0608365 ]\n",
            " [0.11026616]\n",
            " [0.06844106]\n",
            " [0.07224335]\n",
            " [0.11026616]\n",
            " [0.08745247]\n",
            " [0.09885932]\n",
            " [0.11026616]\n",
            " [0.07984791]\n",
            " [0.1026616 ]\n",
            " [0.0608365 ]\n",
            " [0.08365019]\n",
            " [0.09885932]\n",
            " [0.08745247]\n",
            " [0.07224335]\n",
            " [0.0608365 ]\n",
            " [0.11406844]\n",
            " [0.05703422]\n",
            " [0.07984791]\n",
            " [0.09125475]\n",
            " [0.07984791]\n",
            " [0.05703422]\n",
            " [0.04942966]\n",
            " [0.05703422]\n",
            " [0.04562738]\n",
            " [0.07604563]\n",
            " [0.08365019]\n",
            " [0.05703422]\n",
            " [0.07224335]\n",
            " [0.02661597]\n",
            " [0.05703422]\n",
            " [0.05323194]\n",
            " [0.07984791]\n",
            " [0.07224335]\n",
            " [0.06463878]\n",
            " [0.04942966]\n",
            " [0.0608365 ]\n",
            " [0.05323194]\n",
            " [0.02281369]\n",
            " [0.0608365 ]\n",
            " [0.05703422]\n",
            " [0.03422053]\n",
            " [0.0418251 ]\n",
            " [0.04562738]\n",
            " [0.04562738]\n",
            " [0.02281369]\n",
            " [0.02661597]\n",
            " [0.05323194]\n",
            " [0.05703422]\n",
            " [0.02661597]\n",
            " [0.03422053]\n",
            " [0.03041825]\n",
            " [0.01520913]\n",
            " [0.04562738]\n",
            " [0.02661597]\n",
            " [0.03802281]\n",
            " [0.04562738]\n",
            " [0.05703422]\n",
            " [0.05323194]\n",
            " [0.02661597]\n",
            " [0.01520913]\n",
            " [0.02281369]\n",
            " [0.02281369]\n",
            " [0.06463878]\n",
            " [0.01520913]\n",
            " [0.01520913]\n",
            " [0.03802281]\n",
            " [0.01520913]\n",
            " [0.02661597]\n",
            " [0.02661597]\n",
            " [0.02281369]\n",
            " [0.01520913]\n",
            " [0.02281369]\n",
            " [0.01901141]\n",
            " [0.03422053]\n",
            " [0.03802281]\n",
            " [0.04942966]\n",
            " [0.04562738]\n",
            " [0.02281369]\n",
            " [0.01901141]\n",
            " [0.04562738]\n",
            " [0.0418251 ]\n",
            " [0.06463878]\n",
            " [0.09505703]\n",
            " [0.09505703]\n",
            " [0.03802281]\n",
            " [0.05703422]\n",
            " [0.06463878]\n",
            " [0.09505703]\n",
            " [0.07984791]\n",
            " [0.11026616]\n",
            " [0.06463878]\n",
            " [0.09125475]\n",
            " [0.12547529]\n",
            " [0.121673  ]\n",
            " [0.14448669]\n",
            " [0.12927757]\n",
            " [0.16730038]\n",
            " [0.16730038]\n",
            " [0.19391635]\n",
            " [0.22053232]\n",
            " [0.18631179]\n",
            " [0.21673004]\n",
            " [0.19771863]\n",
            " [0.19391635]\n",
            " [0.24714829]\n",
            " [0.23574144]\n",
            " [0.27756654]\n",
            " [0.23574144]\n",
            " [0.28897338]\n",
            " [0.29277567]\n",
            " [0.31178707]\n",
            " [0.25855513]\n",
            " [0.36121673]\n",
            " [0.35361217]\n",
            " [0.38022814]\n",
            " [0.38022814]\n",
            " [0.38403042]\n",
            " [0.42205323]\n",
            " [0.34220532]\n",
            " [0.35741445]\n",
            " [0.36882129]\n",
            " [0.33079848]\n",
            " [0.31178707]\n",
            " [0.38022814]\n",
            " [0.36501901]\n",
            " [0.29277567]\n",
            " [0.28897338]\n",
            " [0.33079848]\n",
            " [0.21292776]\n",
            " [0.2243346 ]\n",
            " [0.25855513]\n",
            " [0.24334601]\n",
            " [0.22813688]\n",
            " [0.18631179]\n",
            " [0.15209125]\n",
            " [0.13688213]\n",
            " [0.16730038]\n",
            " [0.20912548]\n",
            " [0.14068441]\n",
            " [0.121673  ]\n",
            " [0.14828897]\n",
            " [0.11406844]\n",
            " [0.09505703]\n",
            " [0.07984791]\n",
            " [0.09125475]\n",
            " [0.11787072]\n",
            " [0.11026616]\n",
            " [0.13688213]\n",
            " [0.13307985]\n",
            " [0.09505703]\n",
            " [0.14068441]\n",
            " [0.1026616 ]\n",
            " [0.09125475]\n",
            " [0.14828897]\n",
            " [0.0608365 ]\n",
            " [0.07984791]\n",
            " [0.11406844]\n",
            " [0.14068441]\n",
            " [0.12547529]\n",
            " [0.13307985]\n",
            " [0.15209125]\n",
            " [0.12547529]\n",
            " [0.11026616]\n",
            " [0.12547529]\n",
            " [0.15969582]\n",
            " [0.14068441]\n",
            " [0.11026616]\n",
            " [0.1634981 ]\n",
            " [0.13307985]\n",
            " [0.14828897]\n",
            " [0.15969582]\n",
            " [0.14448669]\n",
            " [0.17490494]\n",
            " [0.20152091]\n",
            " [0.18631179]\n",
            " [0.2243346 ]\n",
            " [0.23574144]\n",
            " [0.20152091]\n",
            " [0.25095057]\n",
            " [0.30798479]\n",
            " [0.29277567]\n",
            " [0.2851711 ]\n",
            " [0.31939163]\n",
            " [0.30418251]\n",
            " [0.40684411]\n",
            " [0.28897338]\n",
            " [0.4486692 ]\n",
            " [0.39163498]\n",
            " [0.42205323]\n",
            " [0.43346008]\n",
            " [0.53992395]\n",
            " [0.49809886]\n",
            " [0.50570342]\n",
            " [0.57794677]\n",
            " [0.61977186]\n",
            " [0.61596958]\n",
            " [0.76045627]\n",
            " [0.75285171]\n",
            " [0.80228137]\n",
            " [0.69961977]\n",
            " [0.87072243]\n",
            " [0.83269962]\n",
            " [0.76806084]\n",
            " [0.79467681]\n",
            " [0.85551331]\n",
            " [0.70722433]\n",
            " [0.77186312]\n",
            " [0.85171103]\n",
            " [0.87452471]\n",
            " [0.75665399]\n",
            " [0.6539924 ]\n",
            " [0.70722433]\n",
            " [0.62737643]\n",
            " [0.73764259]\n",
            " [0.86311787]\n",
            " [0.93536122]\n",
            " [0.97718631]\n",
            " [0.8973384 ]\n",
            " [0.90494297]\n",
            " [0.80228137]\n",
            " [0.82509506]\n",
            " [0.87452471]\n",
            " [0.93155894]\n",
            " [0.88973384]\n",
            " [0.91254753]\n",
            " [1.        ]\n",
            " [0.9391635 ]\n",
            " [0.98859316]\n",
            " [0.91254753]\n",
            " [0.92775665]\n",
            " [1.        ]\n",
            " [0.8973384 ]\n",
            " [0.81368821]\n",
            " [0.74524715]\n",
            " [0.6730038 ]\n",
            " [0.70722433]\n",
            " [0.65779468]\n",
            " [0.74904943]\n",
            " [0.65019011]\n",
            " [0.60076046]\n",
            " [0.54752852]\n",
            " [0.45247148]\n",
            " [0.52471483]\n",
            " [0.44106464]\n",
            " [0.42965779]\n",
            " [0.42965779]\n",
            " [0.38403042]\n",
            " [0.44106464]\n",
            " [0.30038023]\n",
            " [0.33460076]\n",
            " [0.35361217]\n",
            " [0.32319392]\n",
            " [0.29657795]\n",
            " [0.33079848]\n",
            " [0.26235741]\n",
            " [0.22813688]\n",
            " [0.26235741]\n",
            " [0.24334601]\n",
            " [0.20912548]\n",
            " [0.19391635]\n",
            " [0.21673004]\n",
            " [0.14068441]\n",
            " [0.17870722]\n",
            " [0.19011407]\n",
            " [0.15209125]\n",
            " [0.12927757]\n",
            " [0.19011407]\n",
            " [0.19011407]\n",
            " [0.14068441]\n",
            " [0.12927757]\n",
            " [0.15969582]\n",
            " [0.09505703]\n",
            " [0.09505703]\n",
            " [0.13307985]\n",
            " [0.08745247]\n",
            " [0.11406844]\n",
            " [0.09125475]\n",
            " [0.07604563]\n",
            " [0.09125475]\n",
            " [0.11406844]\n",
            " [0.0608365 ]\n",
            " [0.08365019]\n",
            " [0.07604563]\n",
            " [0.08745247]\n",
            " [0.06463878]\n",
            " [0.06463878]\n",
            " [0.08365019]\n",
            " [0.07604563]\n",
            " [0.0418251 ]\n",
            " [0.02281369]\n",
            " [0.14828897]\n",
            " [0.04942966]\n",
            " [0.03802281]\n",
            " [0.04942966]\n",
            " [0.0608365 ]\n",
            " [0.02281369]\n",
            " [0.03041825]\n",
            " [0.01901141]\n",
            " [0.05703422]\n",
            " [0.03422053]\n",
            " [0.02281369]\n",
            " [0.01901141]\n",
            " [0.03422053]\n",
            " [0.01140684]\n",
            " [0.03041825]\n",
            " [0.03041825]\n",
            " [0.01520913]\n",
            " [0.01901141]\n",
            " [0.02281369]\n",
            " [0.01901141]\n",
            " [0.02281369]\n",
            " [0.02661597]\n",
            " [0.01901141]\n",
            " [0.00380228]\n",
            " [0.00760456]\n",
            " [0.02281369]\n",
            " [0.02281369]\n",
            " [0.00760456]\n",
            " [0.01140684]\n",
            " [0.01140684]\n",
            " [0.01901141]\n",
            " [0.00760456]\n",
            " [0.00380228]\n",
            " [0.        ]\n",
            " [0.01520913]\n",
            " [0.01901141]\n",
            " [0.01140684]\n",
            " [0.01140684]\n",
            " [0.00380228]\n",
            " [0.01901141]\n",
            " [0.01520913]\n",
            " [0.02281369]]\n"
          ]
        }
      ]
    },
    {
      "cell_type": "code",
      "metadata": {
        "colab": {
          "base_uri": "https://localhost:8080/",
          "height": 282
        },
        "id": "CqS6SfPMeaWa",
        "outputId": "bff0eada-cac5-46f3-a3c2-7c09bb8e1a0d"
      },
      "source": [
        "import matplotlib.pyplot as plt\n",
        "plt.plot(df1)"
      ],
      "execution_count": 16,
      "outputs": [
        {
          "output_type": "execute_result",
          "data": {
            "text/plain": [
              "[<matplotlib.lines.Line2D at 0x7faf4c5f7250>]"
            ]
          },
          "metadata": {},
          "execution_count": 16
        },
        {
          "output_type": "display_data",
          "data": {
            "text/plain": [
              "<Figure size 432x288 with 1 Axes>"
            ],
            "image/png": "[encoded data removed]"
          },
          "metadata": {
            "needs_background": "light"
          }
        }
      ]
    },
    {
      "cell_type": "code",
      "metadata": {
        "id": "-SNmx9gDU-nT"
      },
      "source": [
        "##splitting dataset into train and test split\n",
        "training_size=int(len(df1)*0.65)\n",
        "test_size=len(df1)-training_size\n",
        "train_data,test_data=df1[0:training_size,:],df1[training_size:len(df1),:1]"
      ],
      "execution_count": 17,
      "outputs": []
    },
    {
      "cell_type": "code",
      "metadata": {
        "colab": {
          "base_uri": "https://localhost:8080/"
        },
        "id": "NPlqp4q1U-nV",
        "outputId": "8938ddef-31d8-465c-9345-9939a7cfc08d"
      },
      "source": [
        "training_size,test_size"
      ],
      "execution_count": 18,
      "outputs": [
        {
          "output_type": "execute_result",
          "data": {
            "text/plain": [
              "(272, 147)"
            ]
          },
          "metadata": {},
          "execution_count": 18
        }
      ]
    },
    {
      "cell_type": "code",
      "metadata": {
        "colab": {
          "base_uri": "https://localhost:8080/"
        },
        "id": "nkBYTyeJU-nW",
        "outputId": "9d7a243b-7358-4b99-c11a-23daabe9e9c8"
      },
      "source": [
        "train_data"
      ],
      "execution_count": 19,
      "outputs": [
        {
          "output_type": "execute_result",
          "data": {
            "text/plain": [
              "array([[0.11787072],\n",
              "       [0.11787072],\n",
              "       [0.09505703],\n",
              "       [0.11787072],\n",
              "       [0.07604563],\n",
              "       [0.121673  ],\n",
              "       [0.07224335],\n",
              "       [0.08365019],\n",
              "       [0.09885932],\n",
              "       [0.11026616],\n",
              "       [0.12927757],\n",
              "       [0.07224335],\n",
              "       [0.0608365 ],\n",
              "       [0.08365019],\n",
              "       [0.08745247],\n",
              "       [0.11406844],\n",
              "       [0.07984791],\n",
              "       [0.05703422],\n",
              "       [0.05323194],\n",
              "       [0.05323194],\n",
              "       [0.08365019],\n",
              "       [0.04942966],\n",
              "       [0.07604563],\n",
              "       [0.06463878],\n",
              "       [0.08745247],\n",
              "       [0.08745247],\n",
              "       [0.04942966],\n",
              "       [0.06844106],\n",
              "       [0.08365019],\n",
              "       [0.05323194],\n",
              "       [0.07224335],\n",
              "       [0.08365019],\n",
              "       [0.09125475],\n",
              "       [0.06844106],\n",
              "       [0.06463878],\n",
              "       [0.06463878],\n",
              "       [0.09125475],\n",
              "       [0.0608365 ],\n",
              "       [0.07604563],\n",
              "       [0.0608365 ],\n",
              "       [0.05323194],\n",
              "       [0.04562738],\n",
              "       [0.06463878],\n",
              "       [0.09125475],\n",
              "       [0.05703422],\n",
              "       [0.06844106],\n",
              "       [0.04562738],\n",
              "       [0.06844106],\n",
              "       [0.04942966],\n",
              "       [0.07604563],\n",
              "       [0.07604563],\n",
              "       [0.14448669],\n",
              "       [0.07604563],\n",
              "       [0.11026616],\n",
              "       [0.0608365 ],\n",
              "       [0.1026616 ],\n",
              "       [0.14068441],\n",
              "       [0.1026616 ],\n",
              "       [0.11787072],\n",
              "       [0.14448669],\n",
              "       [0.13688213],\n",
              "       [0.07224335],\n",
              "       [0.13307985],\n",
              "       [0.10646388],\n",
              "       [0.12927757],\n",
              "       [0.11406844],\n",
              "       [0.14068441],\n",
              "       [0.12927757],\n",
              "       [0.08745247],\n",
              "       [0.12927757],\n",
              "       [0.11406844],\n",
              "       [0.13307985],\n",
              "       [0.11787072],\n",
              "       [0.08745247],\n",
              "       [0.13688213],\n",
              "       [0.06844106],\n",
              "       [0.12547529],\n",
              "       [0.11787072],\n",
              "       [0.13688213],\n",
              "       [0.14828897],\n",
              "       [0.09885932],\n",
              "       [0.13307985],\n",
              "       [0.09125475],\n",
              "       [0.09125475],\n",
              "       [0.14068441],\n",
              "       [0.11787072],\n",
              "       [0.0608365 ],\n",
              "       [0.11026616],\n",
              "       [0.06844106],\n",
              "       [0.07224335],\n",
              "       [0.11026616],\n",
              "       [0.08745247],\n",
              "       [0.09885932],\n",
              "       [0.11026616],\n",
              "       [0.07984791],\n",
              "       [0.1026616 ],\n",
              "       [0.0608365 ],\n",
              "       [0.08365019],\n",
              "       [0.09885932],\n",
              "       [0.08745247],\n",
              "       [0.07224335],\n",
              "       [0.0608365 ],\n",
              "       [0.11406844],\n",
              "       [0.05703422],\n",
              "       [0.07984791],\n",
              "       [0.09125475],\n",
              "       [0.07984791],\n",
              "       [0.05703422],\n",
              "       [0.04942966],\n",
              "       [0.05703422],\n",
              "       [0.04562738],\n",
              "       [0.07604563],\n",
              "       [0.08365019],\n",
              "       [0.05703422],\n",
              "       [0.07224335],\n",
              "       [0.02661597],\n",
              "       [0.05703422],\n",
              "       [0.05323194],\n",
              "       [0.07984791],\n",
              "       [0.07224335],\n",
              "       [0.06463878],\n",
              "       [0.04942966],\n",
              "       [0.0608365 ],\n",
              "       [0.05323194],\n",
              "       [0.02281369],\n",
              "       [0.0608365 ],\n",
              "       [0.05703422],\n",
              "       [0.03422053],\n",
              "       [0.0418251 ],\n",
              "       [0.04562738],\n",
              "       [0.04562738],\n",
              "       [0.02281369],\n",
              "       [0.02661597],\n",
              "       [0.05323194],\n",
              "       [0.05703422],\n",
              "       [0.02661597],\n",
              "       [0.03422053],\n",
              "       [0.03041825],\n",
              "       [0.01520913],\n",
              "       [0.04562738],\n",
              "       [0.02661597],\n",
              "       [0.03802281],\n",
              "       [0.04562738],\n",
              "       [0.05703422],\n",
              "       [0.05323194],\n",
              "       [0.02661597],\n",
              "       [0.01520913],\n",
              "       [0.02281369],\n",
              "       [0.02281369],\n",
              "       [0.06463878],\n",
              "       [0.01520913],\n",
              "       [0.01520913],\n",
              "       [0.03802281],\n",
              "       [0.01520913],\n",
              "       [0.02661597],\n",
              "       [0.02661597],\n",
              "       [0.02281369],\n",
              "       [0.01520913],\n",
              "       [0.02281369],\n",
              "       [0.01901141],\n",
              "       [0.03422053],\n",
              "       [0.03802281],\n",
              "       [0.04942966],\n",
              "       [0.04562738],\n",
              "       [0.02281369],\n",
              "       [0.01901141],\n",
              "       [0.04562738],\n",
              "       [0.0418251 ],\n",
              "       [0.06463878],\n",
              "       [0.09505703],\n",
              "       [0.09505703],\n",
              "       [0.03802281],\n",
              "       [0.05703422],\n",
              "       [0.06463878],\n",
              "       [0.09505703],\n",
              "       [0.07984791],\n",
              "       [0.11026616],\n",
              "       [0.06463878],\n",
              "       [0.09125475],\n",
              "       [0.12547529],\n",
              "       [0.121673  ],\n",
              "       [0.14448669],\n",
              "       [0.12927757],\n",
              "       [0.16730038],\n",
              "       [0.16730038],\n",
              "       [0.19391635],\n",
              "       [0.22053232],\n",
              "       [0.18631179],\n",
              "       [0.21673004],\n",
              "       [0.19771863],\n",
              "       [0.19391635],\n",
              "       [0.24714829],\n",
              "       [0.23574144],\n",
              "       [0.27756654],\n",
              "       [0.23574144],\n",
              "       [0.28897338],\n",
              "       [0.29277567],\n",
              "       [0.31178707],\n",
              "       [0.25855513],\n",
              "       [0.36121673],\n",
              "       [0.35361217],\n",
              "       [0.38022814],\n",
              "       [0.38022814],\n",
              "       [0.38403042],\n",
              "       [0.42205323],\n",
              "       [0.34220532],\n",
              "       [0.35741445],\n",
              "       [0.36882129],\n",
              "       [0.33079848],\n",
              "       [0.31178707],\n",
              "       [0.38022814],\n",
              "       [0.36501901],\n",
              "       [0.29277567],\n",
              "       [0.28897338],\n",
              "       [0.33079848],\n",
              "       [0.21292776],\n",
              "       [0.2243346 ],\n",
              "       [0.25855513],\n",
              "       [0.24334601],\n",
              "       [0.22813688],\n",
              "       [0.18631179],\n",
              "       [0.15209125],\n",
              "       [0.13688213],\n",
              "       [0.16730038],\n",
              "       [0.20912548],\n",
              "       [0.14068441],\n",
              "       [0.121673  ],\n",
              "       [0.14828897],\n",
              "       [0.11406844],\n",
              "       [0.09505703],\n",
              "       [0.07984791],\n",
              "       [0.09125475],\n",
              "       [0.11787072],\n",
              "       [0.11026616],\n",
              "       [0.13688213],\n",
              "       [0.13307985],\n",
              "       [0.09505703],\n",
              "       [0.14068441],\n",
              "       [0.1026616 ],\n",
              "       [0.09125475],\n",
              "       [0.14828897],\n",
              "       [0.0608365 ],\n",
              "       [0.07984791],\n",
              "       [0.11406844],\n",
              "       [0.14068441],\n",
              "       [0.12547529],\n",
              "       [0.13307985],\n",
              "       [0.15209125],\n",
              "       [0.12547529],\n",
              "       [0.11026616],\n",
              "       [0.12547529],\n",
              "       [0.15969582],\n",
              "       [0.14068441],\n",
              "       [0.11026616],\n",
              "       [0.1634981 ],\n",
              "       [0.13307985],\n",
              "       [0.14828897],\n",
              "       [0.15969582],\n",
              "       [0.14448669],\n",
              "       [0.17490494],\n",
              "       [0.20152091],\n",
              "       [0.18631179],\n",
              "       [0.2243346 ],\n",
              "       [0.23574144],\n",
              "       [0.20152091],\n",
              "       [0.25095057],\n",
              "       [0.30798479],\n",
              "       [0.29277567],\n",
              "       [0.2851711 ],\n",
              "       [0.31939163],\n",
              "       [0.30418251],\n",
              "       [0.40684411]])"
            ]
          },
          "metadata": {},
          "execution_count": 19
        }
      ]
    },
    {
      "cell_type": "code",
      "metadata": {
        "id": "Bx15Zi4kU-nX"
      },
      "source": [
        "import numpy\n",
        "# convert an array of values into a dataset matrix\n",
        "def create_dataset(dataset, time_step=1):\n",
        "\tdataX, dataY = [], []\n",
        "\tfor i in range(len(dataset)-time_step-1):\n",
        "\t\ta = dataset[i:(i+time_step), 0]   ###i=0, 0,1,2,3-----99   100 \n",
        "\t\tdataX.append(a)\n",
        "\t\tdataY.append(dataset[i + time_step, 0])\n",
        "\treturn numpy.array(dataX), numpy.array(dataY)"
      ],
      "execution_count": 20,
      "outputs": []
    },
    {
      "cell_type": "code",
      "metadata": {
        "id": "K7yDgAeAU-nY"
      },
      "source": [
        "# reshape into X=t,t+1,t+2,t+3 and Y=t+4\n",
        "time_step = 10\n",
        "X_train, y_train = create_dataset(train_data, time_step)\n",
        "X_test, ytest = create_dataset(test_data, time_step)"
      ],
      "execution_count": 21,
      "outputs": []
    },
    {
      "cell_type": "code",
      "metadata": {
        "colab": {
          "base_uri": "https://localhost:8080/"
        },
        "id": "ldKjB4UOU-nZ",
        "outputId": "5f6b6cd8-9289-4098-ce61-5672b2488502"
      },
      "source": [
        "print(X_train.shape), print(y_train.shape)"
      ],
      "execution_count": 22,
      "outputs": [
        {
          "output_type": "stream",
          "name": "stdout",
          "text": [
            "(261, 10)\n",
            "(261,)\n"
          ]
        },
        {
          "output_type": "execute_result",
          "data": {
            "text/plain": [
              "(None, None)"
            ]
          },
          "metadata": {},
          "execution_count": 22
        }
      ]
    },
    {
      "cell_type": "code",
      "metadata": {
        "colab": {
          "base_uri": "https://localhost:8080/"
        },
        "id": "WIQbLpyFU-na",
        "outputId": "886beb4e-9728-4dfb-c87d-0c663f50dc6e"
      },
      "source": [
        "print(X_test.shape), print(ytest.shape)"
      ],
      "execution_count": 23,
      "outputs": [
        {
          "output_type": "stream",
          "name": "stdout",
          "text": [
            "(136, 10)\n",
            "(136,)\n"
          ]
        },
        {
          "output_type": "execute_result",
          "data": {
            "text/plain": [
              "(None, None)"
            ]
          },
          "metadata": {},
          "execution_count": 23
        }
      ]
    },
    {
      "cell_type": "code",
      "metadata": {
        "id": "DxWQ-NPGU-nb"
      },
      "source": [
        "# reshape input to be [samples, time steps, features] which is required for LSTM\n",
        "X_train =X_train.reshape(X_train.shape[0],X_train.shape[1] , 1)\n",
        "X_test = X_test.reshape(X_test.shape[0],X_test.shape[1] , 1)"
      ],
      "execution_count": 24,
      "outputs": []
    },
    {
      "cell_type": "markdown",
      "metadata": {
        "id": "33N9iMXC_RVp"
      },
      "source": [
        "# **Stacked LSTM**"
      ]
    },
    {
      "cell_type": "code",
      "metadata": {
        "id": "oYVS8e0kU-nb"
      },
      "source": [
        "### Create the Stacked LSTM model\n",
        "from tensorflow.keras.models import Sequential\n",
        "from tensorflow.keras.layers import Dense\n",
        "from tensorflow.keras.layers import LSTM"
      ],
      "execution_count": 25,
      "outputs": []
    },
    {
      "cell_type": "code",
      "metadata": {
        "id": "0m1L1x_nU-nc"
      },
      "source": [
        "model=Sequential()\n",
        "model.add(LSTM(50,return_sequences=True,input_shape=(10,1)))\n",
        "model.add(LSTM(50,return_sequences=True))\n",
        "model.add(LSTM(50,return_sequences=True))\n",
        "model.add(LSTM(50))\n",
        "model.add(Dense(1))\n",
        "model.compile(loss='mean_squared_error',optimizer='adam')\n"
      ],
      "execution_count": 26,
      "outputs": []
    },
    {
      "cell_type": "code",
      "metadata": {
        "colab": {
          "base_uri": "https://localhost:8080/"
        },
        "id": "t6_soEUbU-nc",
        "outputId": "6f00cb04-840b-433e-da57-4a5fb469076b"
      },
      "source": [
        "model.summary()"
      ],
      "execution_count": 27,
      "outputs": [
        {
          "output_type": "stream",
          "name": "stdout",
          "text": [
            "Model: \"sequential\"\n",
            "_________________________________________________________________\n",
            " Layer (type)                Output Shape              Param #   \n",
            "=================================================================\n",
            " lstm (LSTM)                 (None, 10, 50)            10400     \n",
            "                                                                 \n",
            " lstm_1 (LSTM)               (None, 10, 50)            20200     \n",
            "                                                                 \n",
            " lstm_2 (LSTM)               (None, 10, 50)            20200     \n",
            "                                                                 \n",
            " lstm_3 (LSTM)               (None, 50)                20200     \n",
            "                                                                 \n",
            " dense (Dense)               (None, 1)                 51        \n",
            "                                                                 \n",
            "=================================================================\n",
            "Total params: 71,051\n",
            "Trainable params: 71,051\n",
            "Non-trainable params: 0\n",
            "_________________________________________________________________\n"
          ]
        }
      ]
    },
    {
      "cell_type": "code",
      "metadata": {
        "colab": {
          "base_uri": "https://localhost:8080/"
        },
        "id": "eo1RBgrLU-ne",
        "outputId": "ea47e0b9-cc70-4500-d93f-4d5df9d40f78"
      },
      "source": [
        "model.fit(X_train,y_train,validation_data=(X_test,ytest),epochs=100,batch_size=32,verbose=1)"
      ],
      "execution_count": 28,
      "outputs": [
        {
          "output_type": "stream",
          "name": "stdout",
          "text": [
            "Epoch 1/100\n",
            "9/9 [==============================] - 13s 171ms/step - loss: 0.0115 - val_loss: 0.0824\n",
            "Epoch 2/100\n",
            "9/9 [==============================] - 0s 16ms/step - loss: 0.0063 - val_loss: 0.0972\n",
            "Epoch 3/100\n",
            "9/9 [==============================] - 0s 14ms/step - loss: 0.0041 - val_loss: 0.0180\n",
            "Epoch 4/100\n",
            "9/9 [==============================] - 0s 14ms/step - loss: 0.0027 - val_loss: 0.0136\n",
            "Epoch 5/100\n",
            "9/9 [==============================] - 0s 15ms/step - loss: 0.0022 - val_loss: 0.0139\n",
            "Epoch 6/100\n",
            "9/9 [==============================] - 0s 14ms/step - loss: 0.0022 - val_loss: 0.0138\n",
            "Epoch 7/100\n",
            "9/9 [==============================] - 0s 21ms/step - loss: 0.0021 - val_loss: 0.0149\n",
            "Epoch 8/100\n",
            "9/9 [==============================] - 0s 14ms/step - loss: 0.0023 - val_loss: 0.0168\n",
            "Epoch 9/100\n",
            "9/9 [==============================] - 0s 15ms/step - loss: 0.0022 - val_loss: 0.0160\n",
            "Epoch 10/100\n",
            "9/9 [==============================] - 0s 14ms/step - loss: 0.0022 - val_loss: 0.0160\n",
            "Epoch 11/100\n",
            "9/9 [==============================] - 0s 14ms/step - loss: 0.0025 - val_loss: 0.0270\n",
            "Epoch 12/100\n",
            "9/9 [==============================] - 0s 14ms/step - loss: 0.0026 - val_loss: 0.0288\n",
            "Epoch 13/100\n",
            "9/9 [==============================] - 0s 14ms/step - loss: 0.0025 - val_loss: 0.0176\n",
            "Epoch 14/100\n",
            "9/9 [==============================] - 0s 15ms/step - loss: 0.0021 - val_loss: 0.0269\n",
            "Epoch 15/100\n",
            "9/9 [==============================] - 0s 14ms/step - loss: 0.0022 - val_loss: 0.0252\n",
            "Epoch 16/100\n",
            "9/9 [==============================] - 0s 16ms/step - loss: 0.0020 - val_loss: 0.0166\n",
            "Epoch 17/100\n",
            "9/9 [==============================] - 0s 14ms/step - loss: 0.0021 - val_loss: 0.0232\n",
            "Epoch 18/100\n",
            "9/9 [==============================] - 0s 14ms/step - loss: 0.0021 - val_loss: 0.0226\n",
            "Epoch 19/100\n",
            "9/9 [==============================] - 0s 14ms/step - loss: 0.0022 - val_loss: 0.0205\n",
            "Epoch 20/100\n",
            "9/9 [==============================] - 0s 17ms/step - loss: 0.0028 - val_loss: 0.0299\n",
            "Epoch 21/100\n",
            "9/9 [==============================] - 0s 14ms/step - loss: 0.0025 - val_loss: 0.0275\n",
            "Epoch 22/100\n",
            "9/9 [==============================] - 0s 14ms/step - loss: 0.0019 - val_loss: 0.0358\n",
            "Epoch 23/100\n",
            "9/9 [==============================] - 0s 29ms/step - loss: 0.0019 - val_loss: 0.0218\n",
            "Epoch 24/100\n",
            "9/9 [==============================] - 0s 17ms/step - loss: 0.0018 - val_loss: 0.0258\n",
            "Epoch 25/100\n",
            "9/9 [==============================] - 0s 14ms/step - loss: 0.0017 - val_loss: 0.0255\n",
            "Epoch 26/100\n",
            "9/9 [==============================] - 0s 15ms/step - loss: 0.0017 - val_loss: 0.0265\n",
            "Epoch 27/100\n",
            "9/9 [==============================] - 0s 15ms/step - loss: 0.0017 - val_loss: 0.0241\n",
            "Epoch 28/100\n",
            "9/9 [==============================] - 0s 30ms/step - loss: 0.0016 - val_loss: 0.0340\n",
            "Epoch 29/100\n",
            "9/9 [==============================] - 0s 15ms/step - loss: 0.0016 - val_loss: 0.0276\n",
            "Epoch 30/100\n",
            "9/9 [==============================] - 0s 15ms/step - loss: 0.0016 - val_loss: 0.0258\n",
            "Epoch 31/100\n",
            "9/9 [==============================] - 0s 14ms/step - loss: 0.0018 - val_loss: 0.0451\n",
            "Epoch 32/100\n",
            "9/9 [==============================] - 0s 15ms/step - loss: 0.0016 - val_loss: 0.0361\n",
            "Epoch 33/100\n",
            "9/9 [==============================] - 0s 17ms/step - loss: 0.0017 - val_loss: 0.0318\n",
            "Epoch 34/100\n",
            "9/9 [==============================] - 0s 14ms/step - loss: 0.0014 - val_loss: 0.0415\n",
            "Epoch 35/100\n",
            "9/9 [==============================] - 0s 17ms/step - loss: 0.0015 - val_loss: 0.0460\n",
            "Epoch 36/100\n",
            "9/9 [==============================] - 0s 16ms/step - loss: 0.0013 - val_loss: 0.0381\n",
            "Epoch 37/100\n",
            "9/9 [==============================] - 0s 14ms/step - loss: 0.0012 - val_loss: 0.0572\n",
            "Epoch 38/100\n",
            "9/9 [==============================] - 0s 15ms/step - loss: 0.0010 - val_loss: 0.0326\n",
            "Epoch 39/100\n",
            "9/9 [==============================] - 0s 14ms/step - loss: 0.0010 - val_loss: 0.0527\n",
            "Epoch 40/100\n",
            "9/9 [==============================] - 0s 17ms/step - loss: 9.4805e-04 - val_loss: 0.0950\n",
            "Epoch 41/100\n",
            "9/9 [==============================] - 0s 15ms/step - loss: 0.0010 - val_loss: 0.0205\n",
            "Epoch 42/100\n",
            "9/9 [==============================] - 0s 20ms/step - loss: 0.0021 - val_loss: 0.0754\n",
            "Epoch 43/100\n",
            "9/9 [==============================] - 0s 15ms/step - loss: 0.0022 - val_loss: 0.0223\n",
            "Epoch 44/100\n",
            "9/9 [==============================] - 0s 15ms/step - loss: 0.0014 - val_loss: 0.0111\n",
            "Epoch 45/100\n",
            "9/9 [==============================] - 0s 15ms/step - loss: 0.0012 - val_loss: 0.0273\n",
            "Epoch 46/100\n",
            "9/9 [==============================] - 0s 14ms/step - loss: 0.0011 - val_loss: 0.0149\n",
            "Epoch 47/100\n",
            "9/9 [==============================] - 0s 16ms/step - loss: 0.0011 - val_loss: 0.0208\n",
            "Epoch 48/100\n",
            "9/9 [==============================] - 0s 13ms/step - loss: 0.0011 - val_loss: 0.0218\n",
            "Epoch 49/100\n",
            "9/9 [==============================] - 0s 14ms/step - loss: 9.7820e-04 - val_loss: 0.0222\n",
            "Epoch 50/100\n",
            "9/9 [==============================] - 0s 14ms/step - loss: 9.5882e-04 - val_loss: 0.0316\n",
            "Epoch 51/100\n",
            "9/9 [==============================] - 0s 14ms/step - loss: 9.1077e-04 - val_loss: 0.0245\n",
            "Epoch 52/100\n",
            "9/9 [==============================] - 0s 14ms/step - loss: 8.9438e-04 - val_loss: 0.0323\n",
            "Epoch 53/100\n",
            "9/9 [==============================] - 0s 14ms/step - loss: 8.5617e-04 - val_loss: 0.0280\n",
            "Epoch 54/100\n",
            "9/9 [==============================] - 0s 15ms/step - loss: 9.5484e-04 - val_loss: 0.0434\n",
            "Epoch 55/100\n",
            "9/9 [==============================] - 0s 27ms/step - loss: 9.3700e-04 - val_loss: 0.0206\n",
            "Epoch 56/100\n",
            "9/9 [==============================] - 0s 25ms/step - loss: 8.9486e-04 - val_loss: 0.0342\n",
            "Epoch 57/100\n",
            "9/9 [==============================] - 0s 23ms/step - loss: 8.5550e-04 - val_loss: 0.0197\n",
            "Epoch 58/100\n",
            "9/9 [==============================] - 0s 20ms/step - loss: 0.0010 - val_loss: 0.0184\n",
            "Epoch 59/100\n",
            "9/9 [==============================] - 0s 23ms/step - loss: 8.4688e-04 - val_loss: 0.0115\n",
            "Epoch 60/100\n",
            "9/9 [==============================] - 0s 23ms/step - loss: 8.1593e-04 - val_loss: 0.0098\n",
            "Epoch 61/100\n",
            "9/9 [==============================] - 0s 24ms/step - loss: 8.2938e-04 - val_loss: 0.0243\n",
            "Epoch 62/100\n",
            "9/9 [==============================] - 0s 23ms/step - loss: 8.3250e-04 - val_loss: 0.0106\n",
            "Epoch 63/100\n",
            "9/9 [==============================] - 0s 23ms/step - loss: 8.3560e-04 - val_loss: 0.0156\n",
            "Epoch 64/100\n",
            "9/9 [==============================] - 0s 25ms/step - loss: 7.5418e-04 - val_loss: 0.0142\n",
            "Epoch 65/100\n",
            "9/9 [==============================] - 0s 25ms/step - loss: 7.9234e-04 - val_loss: 0.0128\n",
            "Epoch 66/100\n",
            "9/9 [==============================] - 0s 20ms/step - loss: 8.1887e-04 - val_loss: 0.0100\n",
            "Epoch 67/100\n",
            "9/9 [==============================] - 0s 18ms/step - loss: 8.0234e-04 - val_loss: 0.0258\n",
            "Epoch 68/100\n",
            "9/9 [==============================] - 0s 23ms/step - loss: 8.4009e-04 - val_loss: 0.0107\n",
            "Epoch 69/100\n",
            "9/9 [==============================] - 0s 20ms/step - loss: 7.8132e-04 - val_loss: 0.0218\n",
            "Epoch 70/100\n",
            "9/9 [==============================] - 0s 21ms/step - loss: 7.5966e-04 - val_loss: 0.0154\n",
            "Epoch 71/100\n",
            "9/9 [==============================] - 0s 24ms/step - loss: 9.1840e-04 - val_loss: 0.0083\n",
            "Epoch 72/100\n",
            "9/9 [==============================] - 0s 20ms/step - loss: 9.2574e-04 - val_loss: 0.0252\n",
            "Epoch 73/100\n",
            "9/9 [==============================] - 0s 14ms/step - loss: 8.6478e-04 - val_loss: 0.0158\n",
            "Epoch 74/100\n",
            "9/9 [==============================] - 0s 13ms/step - loss: 8.1076e-04 - val_loss: 0.0228\n",
            "Epoch 75/100\n",
            "9/9 [==============================] - 0s 13ms/step - loss: 7.9590e-04 - val_loss: 0.0184\n",
            "Epoch 76/100\n",
            "9/9 [==============================] - 0s 14ms/step - loss: 8.1009e-04 - val_loss: 0.0225\n",
            "Epoch 77/100\n",
            "9/9 [==============================] - 0s 15ms/step - loss: 7.5941e-04 - val_loss: 0.0238\n",
            "Epoch 78/100\n",
            "9/9 [==============================] - 0s 14ms/step - loss: 7.4278e-04 - val_loss: 0.0309\n",
            "Epoch 79/100\n",
            "9/9 [==============================] - 0s 20ms/step - loss: 7.5566e-04 - val_loss: 0.0225\n",
            "Epoch 80/100\n",
            "9/9 [==============================] - 0s 14ms/step - loss: 7.4802e-04 - val_loss: 0.0265\n",
            "Epoch 81/100\n",
            "9/9 [==============================] - 0s 15ms/step - loss: 7.8992e-04 - val_loss: 0.0134\n",
            "Epoch 82/100\n",
            "9/9 [==============================] - 0s 20ms/step - loss: 8.8873e-04 - val_loss: 0.0333\n",
            "Epoch 83/100\n",
            "9/9 [==============================] - 0s 14ms/step - loss: 8.2249e-04 - val_loss: 0.0190\n",
            "Epoch 84/100\n",
            "9/9 [==============================] - 0s 17ms/step - loss: 8.5709e-04 - val_loss: 0.0231\n",
            "Epoch 85/100\n",
            "9/9 [==============================] - 0s 14ms/step - loss: 7.7863e-04 - val_loss: 0.0205\n",
            "Epoch 86/100\n",
            "9/9 [==============================] - 0s 15ms/step - loss: 7.6770e-04 - val_loss: 0.0192\n",
            "Epoch 87/100\n",
            "9/9 [==============================] - 0s 15ms/step - loss: 7.7046e-04 - val_loss: 0.0253\n",
            "Epoch 88/100\n",
            "9/9 [==============================] - 0s 14ms/step - loss: 7.4566e-04 - val_loss: 0.0219\n",
            "Epoch 89/100\n",
            "9/9 [==============================] - 0s 16ms/step - loss: 7.4738e-04 - val_loss: 0.0183\n",
            "Epoch 90/100\n",
            "9/9 [==============================] - 0s 14ms/step - loss: 7.7727e-04 - val_loss: 0.0216\n",
            "Epoch 91/100\n",
            "9/9 [==============================] - 0s 20ms/step - loss: 8.0139e-04 - val_loss: 0.0139\n",
            "Epoch 92/100\n",
            "9/9 [==============================] - 0s 14ms/step - loss: 8.8722e-04 - val_loss: 0.0240\n",
            "Epoch 93/100\n",
            "9/9 [==============================] - 0s 14ms/step - loss: 7.7939e-04 - val_loss: 0.0209\n",
            "Epoch 94/100\n",
            "9/9 [==============================] - 0s 14ms/step - loss: 7.6345e-04 - val_loss: 0.0116\n",
            "Epoch 95/100\n",
            "9/9 [==============================] - 0s 14ms/step - loss: 8.2061e-04 - val_loss: 0.0176\n",
            "Epoch 96/100\n",
            "9/9 [==============================] - 0s 14ms/step - loss: 8.2539e-04 - val_loss: 0.0316\n",
            "Epoch 97/100\n",
            "9/9 [==============================] - 0s 14ms/step - loss: 8.4902e-04 - val_loss: 0.0102\n",
            "Epoch 98/100\n",
            "9/9 [==============================] - 0s 14ms/step - loss: 7.9651e-04 - val_loss: 0.0310\n",
            "Epoch 99/100\n",
            "9/9 [==============================] - 0s 15ms/step - loss: 9.2494e-04 - val_loss: 0.0084\n",
            "Epoch 100/100\n",
            "9/9 [==============================] - 0s 14ms/step - loss: 8.4162e-04 - val_loss: 0.0351\n"
          ]
        },
        {
          "output_type": "execute_result",
          "data": {
            "text/plain": [
              "<keras.callbacks.History at 0x7fae6addb790>"
            ]
          },
          "metadata": {},
          "execution_count": 28
        }
      ]
    },
    {
      "cell_type": "markdown",
      "metadata": {
        "id": "vrlWZ37sAA9y"
      },
      "source": [
        "# **Prediction**"
      ]
    },
    {
      "cell_type": "code",
      "metadata": {
        "id": "3SW6HRZTA7f5"
      },
      "source": [
        "import tensorflow as tf"
      ],
      "execution_count": 29,
      "outputs": []
    },
    {
      "cell_type": "code",
      "metadata": {
        "id": "9oaBwaxLA_jP",
        "colab": {
          "base_uri": "https://localhost:8080/"
        },
        "outputId": "551a99e5-79a5-4195-ebd3-4719d00b6ad4"
      },
      "source": [
        "### Lets Do the prediction and check performance metrics\n",
        "train_predict=model.predict(X_train)\n",
        "test_predict=model.predict(X_test)"
      ],
      "execution_count": 30,
      "outputs": [
        {
          "output_type": "stream",
          "name": "stdout",
          "text": [
            "9/9 [==============================] - 2s 4ms/step\n",
            "5/5 [==============================] - 0s 5ms/step\n"
          ]
        }
      ]
    },
    {
      "cell_type": "code",
      "metadata": {
        "id": "b297BP2XBAXV"
      },
      "source": [
        "##Transformback to original form\n",
        "train_predict=scaler.inverse_transform(train_predict)\n",
        "test_predict=scaler.inverse_transform(test_predict)"
      ],
      "execution_count": 31,
      "outputs": []
    },
    {
      "cell_type": "markdown",
      "metadata": {
        "id": "9Ug1OAhw1x_H"
      },
      "source": [
        "# **Performence Matrix**"
      ]
    },
    {
      "cell_type": "markdown",
      "metadata": {
        "id": "LNbwAOK22F0l"
      },
      "source": [
        "## **MSE**"
      ]
    },
    {
      "cell_type": "code",
      "metadata": {
        "id": "KQhW6goE2Jwk"
      },
      "source": [
        "import math\n",
        "from sklearn.metrics import mean_squared_error\n"
      ],
      "execution_count": 32,
      "outputs": []
    },
    {
      "cell_type": "code",
      "metadata": {
        "colab": {
          "base_uri": "https://localhost:8080/"
        },
        "id": "i3Zzg46z-c6f",
        "outputId": "860bfc92-f60e-4196-e415-72ddf8c4de0e"
      },
      "source": [
        "### Train Data MSE\n",
        "mean_squared_error(y_train,train_predict)"
      ],
      "execution_count": 33,
      "outputs": [
        {
          "output_type": "execute_result",
          "data": {
            "text/plain": [
              "1222.3487367713844"
            ]
          },
          "metadata": {},
          "execution_count": 33
        }
      ]
    },
    {
      "cell_type": "code",
      "metadata": {
        "colab": {
          "base_uri": "https://localhost:8080/"
        },
        "id": "3VWD1twi2Jh_",
        "outputId": "3db0c90c-89ae-4662-8f11-e7c8e83177b5"
      },
      "source": [
        "### Test Data RMSE\n",
        "mean_squared_error(ytest,test_predict)"
      ],
      "execution_count": 34,
      "outputs": [
        {
          "output_type": "execute_result",
          "data": {
            "text/plain": [
              "7129.007257572062"
            ]
          },
          "metadata": {},
          "execution_count": 34
        }
      ]
    },
    {
      "cell_type": "markdown",
      "metadata": {
        "id": "6fY6qQVm1_U-"
      },
      "source": [
        "## **RMSE**"
      ]
    },
    {
      "cell_type": "code",
      "metadata": {
        "colab": {
          "base_uri": "https://localhost:8080/"
        },
        "id": "h2i2Tn1oU-ng",
        "outputId": "6cad6335-4636-4457-b3cd-bac6a26faa30"
      },
      "source": [
        "### Calculate RMSE performance metrics\n",
        "from sklearn.metrics import mean_squared_error\n",
        "math.sqrt(mean_squared_error(y_train,train_predict))"
      ],
      "execution_count": 35,
      "outputs": [
        {
          "output_type": "execute_result",
          "data": {
            "text/plain": [
              "34.9621042955281"
            ]
          },
          "metadata": {},
          "execution_count": 35
        }
      ]
    },
    {
      "cell_type": "code",
      "metadata": {
        "colab": {
          "base_uri": "https://localhost:8080/"
        },
        "id": "9OxVnb8LU-ni",
        "outputId": "b12d4251-29b4-4fc1-e28f-1282590e66b3"
      },
      "source": [
        "### Test Data RMSE\n",
        "math.sqrt(mean_squared_error(ytest,test_predict))"
      ],
      "execution_count": 36,
      "outputs": [
        {
          "output_type": "execute_result",
          "data": {
            "text/plain": [
              "84.43344868932017"
            ]
          },
          "metadata": {},
          "execution_count": 36
        }
      ]
    },
    {
      "cell_type": "markdown",
      "metadata": {
        "id": "Th0nU35i2Xtj"
      },
      "source": [
        "## **MAE**"
      ]
    },
    {
      "cell_type": "code",
      "metadata": {
        "colab": {
          "base_uri": "https://localhost:8080/"
        },
        "id": "oxPKN2aR2bmq",
        "outputId": "843a15fd-ed73-4ed2-af6f-b326bb415d50"
      },
      "source": [
        "from sklearn.metrics import mean_absolute_error\n",
        "mean_absolute_error(y_train,train_predict)"
      ],
      "execution_count": 37,
      "outputs": [
        {
          "output_type": "execute_result",
          "data": {
            "text/plain": [
              "29.67928573612622"
            ]
          },
          "metadata": {},
          "execution_count": 37
        }
      ]
    },
    {
      "cell_type": "code",
      "metadata": {
        "colab": {
          "base_uri": "https://localhost:8080/"
        },
        "id": "5X-HVodF2bTN",
        "outputId": "b1db092c-b45a-4876-bbac-e3e51a0b68e8"
      },
      "source": [
        "### Test Data MAE\n",
        "mean_absolute_error(ytest,test_predict)"
      ],
      "execution_count": 38,
      "outputs": [
        {
          "output_type": "execute_result",
          "data": {
            "text/plain": [
              "63.744886659430705"
            ]
          },
          "metadata": {},
          "execution_count": 38
        }
      ]
    },
    {
      "cell_type": "code",
      "metadata": {
        "colab": {
          "base_uri": "https://localhost:8080/",
          "height": 265
        },
        "id": "yesyT_OzU-nj",
        "outputId": "059640e3-772f-4081-dbe7-00e509e2453f"
      },
      "source": [
        "### Plotting \n",
        "# shift train predictions for plotting\n",
        "look_back=10\n",
        "trainPredictPlot = numpy.empty_like(df1)\n",
        "trainPredictPlot[:, :] = np.nan\n",
        "trainPredictPlot[look_back:len(train_predict)+look_back, :] = train_predict\n",
        "# shift test predictions for plotting\n",
        "testPredictPlot = numpy.empty_like(df1)\n",
        "testPredictPlot[:, :] = numpy.nan\n",
        "testPredictPlot[len(train_predict)+(look_back*2)+1:len(df1)-1, :] = test_predict\n",
        "# plot baseline and predictions\n",
        "plt.plot(scaler.inverse_transform(df1))\n",
        "plt.plot(trainPredictPlot)\n",
        "plt.plot(testPredictPlot)\n",
        "plt.show()"
      ],
      "execution_count": 39,
      "outputs": [
        {
          "output_type": "display_data",
          "data": {
            "text/plain": [
              "<Figure size 432x288 with 1 Axes>"
            ],
            "image/png": "[encoded data removed]"
          },
          "metadata": {
            "needs_background": "light"
          }
        }
      ]
    },
    {
      "cell_type": "code",
      "metadata": {
        "colab": {
          "base_uri": "https://localhost:8080/"
        },
        "id": "9GkMLkiUU-nk",
        "outputId": "e37ce30e-5345-4537-a55a-4d81f6bb93a0"
      },
      "source": [
        "len(test_data)"
      ],
      "execution_count": 40,
      "outputs": [
        {
          "output_type": "execute_result",
          "data": {
            "text/plain": [
              "147"
            ]
          },
          "metadata": {},
          "execution_count": 40
        }
      ]
    },
    {
      "cell_type": "code",
      "metadata": {
        "colab": {
          "base_uri": "https://localhost:8080/"
        },
        "id": "p9hqyf35U-nl",
        "outputId": "0e1713ab-f227-4ed3-b8f1-54a0c0426576"
      },
      "source": [
        "x_input=test_data[137:].reshape(1,-1)\n",
        "x_input.shape\n"
      ],
      "execution_count": 41,
      "outputs": [
        {
          "output_type": "execute_result",
          "data": {
            "text/plain": [
              "(1, 10)"
            ]
          },
          "metadata": {},
          "execution_count": 41
        }
      ]
    },
    {
      "cell_type": "code",
      "metadata": {
        "id": "KFN-DYjkU-nn"
      },
      "source": [
        "temp_input=list(x_input)\n",
        "temp_input=temp_input[0].tolist()"
      ],
      "execution_count": 42,
      "outputs": []
    },
    {
      "cell_type": "code",
      "metadata": {
        "colab": {
          "base_uri": "https://localhost:8080/"
        },
        "id": "CuUtPlH6RHVO",
        "outputId": "021cc576-4851-4c86-de88-85ff00dabafe"
      },
      "source": [
        "len(temp_input)"
      ],
      "execution_count": 43,
      "outputs": [
        {
          "output_type": "execute_result",
          "data": {
            "text/plain": [
              "10"
            ]
          },
          "metadata": {},
          "execution_count": 43
        }
      ]
    },
    {
      "cell_type": "code",
      "metadata": {
        "colab": {
          "base_uri": "https://localhost:8080/"
        },
        "id": "HQqAaefdU-no",
        "outputId": "22bacd9b-8cb5-4de0-e4a1-79ee104d7153"
      },
      "source": [
        "temp_input"
      ],
      "execution_count": 44,
      "outputs": [
        {
          "output_type": "execute_result",
          "data": {
            "text/plain": [
              "[0.0038022813688212928,\n",
              " 0.0,\n",
              " 0.015209125475285171,\n",
              " 0.019011406844106463,\n",
              " 0.011406844106463879,\n",
              " 0.011406844106463879,\n",
              " 0.0038022813688212928,\n",
              " 0.019011406844106463,\n",
              " 0.015209125475285171,\n",
              " 0.022813688212927754]"
            ]
          },
          "metadata": {},
          "execution_count": 44
        }
      ]
    },
    {
      "cell_type": "code",
      "metadata": {
        "colab": {
          "base_uri": "https://localhost:8080/"
        },
        "id": "EL4ab3SJU-no",
        "outputId": "e30afcb5-279b-439f-eec0-10f3cab75c11"
      },
      "source": [
        "# demonstrate prediction for next 10 days\n",
        "from numpy import array\n",
        "\n",
        "lst_output=[]\n",
        "n_steps=10\n",
        "i=0\n",
        "while(i<30):\n",
        "    \n",
        "    if(len(temp_input)>10):\n",
        "        #print(temp_input)\n",
        "        x_input=np.array(temp_input[1:])\n",
        "        print(\"{} day input {}\".format(i,x_input))\n",
        "        x_input=x_input.reshape(1,-1)\n",
        "        x_input = x_input.reshape((1, n_steps, 1))\n",
        "        #print(x_input)\n",
        "        yhat = model.predict(x_input, verbose=0)\n",
        "        print(\"{} day output {}\".format(i,yhat))\n",
        "        temp_input.extend(yhat[0].tolist())\n",
        "        temp_input=temp_input[1:]\n",
        "        #print(temp_input)\n",
        "        lst_output.extend(yhat.tolist())\n",
        "        i=i+1\n",
        "    else:\n",
        "        x_input = x_input.reshape((1, n_steps,1))\n",
        "        yhat = model.predict(x_input, verbose=0)\n",
        "        print(yhat[0])\n",
        "        temp_input.extend(yhat[0].tolist())\n",
        "        print(len(temp_input))\n",
        "        lst_output.extend(yhat.tolist())\n",
        "        i=i+1\n",
        "    \n",
        "\n",
        "print(lst_output)\n",
        "\n"
      ],
      "execution_count": 45,
      "outputs": [
        {
          "output_type": "stream",
          "name": "stdout",
          "text": [
            "[0.01829038]\n",
            "11\n",
            "1 day input [0.         0.01520913 0.01901141 0.01140684 0.01140684 0.00380228\n",
            " 0.01901141 0.01520913 0.02281369 0.01829038]\n",
            "1 day output [[0.01938576]]\n",
            "2 day input [0.01520913 0.01901141 0.01140684 0.01140684 0.00380228 0.01901141\n",
            " 0.01520913 0.02281369 0.01829038 0.01938576]\n",
            "2 day output [[0.02010808]]\n",
            "3 day input [0.01901141 0.01140684 0.01140684 0.00380228 0.01901141 0.01520913\n",
            " 0.02281369 0.01829038 0.01938576 0.02010808]\n",
            "3 day output [[0.02222072]]\n",
            "4 day input [0.01140684 0.01140684 0.00380228 0.01901141 0.01520913 0.02281369\n",
            " 0.01829038 0.01938576 0.02010808 0.02222072]\n",
            "4 day output [[0.02444835]]\n",
            "5 day input [0.01140684 0.00380228 0.01901141 0.01520913 0.02281369 0.01829038\n",
            " 0.01938576 0.02010808 0.02222072 0.02444835]\n",
            "5 day output [[0.02560597]]\n",
            "6 day input [0.00380228 0.01901141 0.01520913 0.02281369 0.01829038 0.01938576\n",
            " 0.02010808 0.02222072 0.02444835 0.02560597]\n",
            "6 day output [[0.02656002]]\n",
            "7 day input [0.01901141 0.01520913 0.02281369 0.01829038 0.01938576 0.02010808\n",
            " 0.02222072 0.02444835 0.02560597 0.02656002]\n",
            "7 day output [[0.02660798]]\n",
            "8 day input [0.01520913 0.02281369 0.01829038 0.01938576 0.02010808 0.02222072\n",
            " 0.02444835 0.02560597 0.02656002 0.02660798]\n",
            "8 day output [[0.02814619]]\n",
            "9 day input [0.02281369 0.01829038 0.01938576 0.02010808 0.02222072 0.02444835\n",
            " 0.02560597 0.02656002 0.02660798 0.02814619]\n",
            "9 day output [[0.0291561]]\n",
            "10 day input [0.01829038 0.01938576 0.02010808 0.02222072 0.02444835 0.02560597\n",
            " 0.02656002 0.02660798 0.02814619 0.0291561 ]\n",
            "10 day output [[0.03078203]]\n",
            "11 day input [0.01938576 0.02010808 0.02222072 0.02444835 0.02560597 0.02656002\n",
            " 0.02660798 0.02814619 0.0291561  0.03078203]\n",
            "11 day output [[0.03175729]]\n",
            "12 day input [0.02010808 0.02222072 0.02444835 0.02560597 0.02656002 0.02660798\n",
            " 0.02814619 0.0291561  0.03078203 0.03175729]\n",
            "12 day output [[0.03269283]]\n",
            "13 day input [0.02222072 0.02444835 0.02560597 0.02656002 0.02660798 0.02814619\n",
            " 0.0291561  0.03078203 0.03175729 0.03269283]\n",
            "13 day output [[0.03357901]]\n",
            "14 day input [0.02444835 0.02560597 0.02656002 0.02660798 0.02814619 0.0291561\n",
            " 0.03078203 0.03175729 0.03269283 0.03357901]\n",
            "14 day output [[0.03456517]]\n",
            "15 day input [0.02560597 0.02656002 0.02660798 0.02814619 0.0291561  0.03078203\n",
            " 0.03175729 0.03269283 0.03357901 0.03456517]\n",
            "15 day output [[0.03565273]]\n",
            "16 day input [0.02656002 0.02660798 0.02814619 0.0291561  0.03078203 0.03175729\n",
            " 0.03269283 0.03357901 0.03456517 0.03565273]\n",
            "16 day output [[0.03671745]]\n",
            "17 day input [0.02660798 0.02814619 0.0291561  0.03078203 0.03175729 0.03269283\n",
            " 0.03357901 0.03456517 0.03565273 0.03671745]\n",
            "17 day output [[0.03773708]]\n",
            "18 day input [0.02814619 0.0291561  0.03078203 0.03175729 0.03269283 0.03357901\n",
            " 0.03456517 0.03565273 0.03671745 0.03773708]\n",
            "18 day output [[0.03862385]]\n",
            "19 day input [0.0291561  0.03078203 0.03175729 0.03269283 0.03357901 0.03456517\n",
            " 0.03565273 0.03671745 0.03773708 0.03862385]\n",
            "19 day output [[0.03954519]]\n",
            "20 day input [0.03078203 0.03175729 0.03269283 0.03357901 0.03456517 0.03565273\n",
            " 0.03671745 0.03773708 0.03862385 0.03954519]\n",
            "20 day output [[0.04044738]]\n",
            "21 day input [0.03175729 0.03269283 0.03357901 0.03456517 0.03565273 0.03671745\n",
            " 0.03773708 0.03862385 0.03954519 0.04044738]\n",
            "21 day output [[0.04139346]]\n",
            "22 day input [0.03269283 0.03357901 0.03456517 0.03565273 0.03671745 0.03773708\n",
            " 0.03862385 0.03954519 0.04044738 0.04139346]\n",
            "22 day output [[0.04231144]]\n",
            "23 day input [0.03357901 0.03456517 0.03565273 0.03671745 0.03773708 0.03862385\n",
            " 0.03954519 0.04044738 0.04139346 0.04231144]\n",
            "23 day output [[0.04319799]]\n",
            "24 day input [0.03456517 0.03565273 0.03671745 0.03773708 0.03862385 0.03954519\n",
            " 0.04044738 0.04139346 0.04231144 0.04319799]\n",
            "24 day output [[0.04405167]]\n",
            "25 day input [0.03565273 0.03671745 0.03773708 0.03862385 0.03954519 0.04044738\n",
            " 0.04139346 0.04231144 0.04319799 0.04405167]\n",
            "25 day output [[0.04488688]]\n",
            "26 day input [0.03671745 0.03773708 0.03862385 0.03954519 0.04044738 0.04139346\n",
            " 0.04231144 0.04319799 0.04405167 0.04488688]\n",
            "26 day output [[0.04571642]]\n",
            "27 day input [0.03773708 0.03862385 0.03954519 0.04044738 0.04139346 0.04231144\n",
            " 0.04319799 0.04405167 0.04488688 0.04571642]\n",
            "27 day output [[0.04653826]]\n",
            "28 day input [0.03862385 0.03954519 0.04044738 0.04139346 0.04231144 0.04319799\n",
            " 0.04405167 0.04488688 0.04571642 0.04653826]\n",
            "28 day output [[0.04734801]]\n",
            "29 day input [0.03954519 0.04044738 0.04139346 0.04231144 0.04319799 0.04405167\n",
            " 0.04488688 0.04571642 0.04653826 0.04734801]\n",
            "29 day output [[0.04813277]]\n",
            "[[0.018290380015969276], [0.01938576251268387], [0.02010807953774929], [0.022220715880393982], [0.024448353797197342], [0.02560596913099289], [0.026560021564364433], [0.026607975363731384], [0.02814618870615959], [0.029156096279621124], [0.030782025307416916], [0.03175729140639305], [0.03269283100962639], [0.033579010516405106], [0.034565169364213943], [0.035652730613946915], [0.036717452108860016], [0.037737078964710236], [0.03862385451793671], [0.03954519331455231], [0.040447380393743515], [0.0413934551179409], [0.04231144115328789], [0.04319798946380615], [0.044051673263311386], [0.04488688334822655], [0.04571641981601715], [0.04653826355934143], [0.047348007559776306], [0.0481327660381794]]\n"
          ]
        }
      ]
    },
    {
      "cell_type": "code",
      "metadata": {
        "id": "itL7ug7xU-np"
      },
      "source": [
        "day_new=np.arange(1,101)\n",
        "day_pred=np.arange(101,131)"
      ],
      "execution_count": 46,
      "outputs": []
    },
    {
      "cell_type": "code",
      "metadata": {
        "id": "4LFs9dLgU-nq"
      },
      "source": [
        "import matplotlib.pyplot as plt"
      ],
      "execution_count": 47,
      "outputs": []
    },
    {
      "cell_type": "code",
      "metadata": {
        "colab": {
          "base_uri": "https://localhost:8080/"
        },
        "id": "9Hyxt_gQU-nq",
        "outputId": "98f84af2-919f-4b66-fdfc-7b6d7ac0f42b"
      },
      "source": [
        "len(df1)"
      ],
      "execution_count": 48,
      "outputs": [
        {
          "output_type": "execute_result",
          "data": {
            "text/plain": [
              "419"
            ]
          },
          "metadata": {},
          "execution_count": 48
        }
      ]
    },
    {
      "cell_type": "code",
      "metadata": {
        "colab": {
          "base_uri": "https://localhost:8080/"
        },
        "id": "9fl8-tsXr41b",
        "outputId": "99f28857-b208-4485-8364-2591d2282bfb"
      },
      "source": [
        "len(lst_output)"
      ],
      "execution_count": 49,
      "outputs": [
        {
          "output_type": "execute_result",
          "data": {
            "text/plain": [
              "30"
            ]
          },
          "metadata": {},
          "execution_count": 49
        }
      ]
    },
    {
      "cell_type": "code",
      "metadata": {
        "colab": {
          "base_uri": "https://localhost:8080/",
          "height": 282
        },
        "id": "QFCMU5meU-nr",
        "outputId": "bbede3c1-bc17-47e7-9a81-333e86c02f1f"
      },
      "source": [
        "plt.plot(day_new,scaler.inverse_transform(df1[319:]))\n",
        "plt.plot(day_pred,scaler.inverse_transform(lst_output))"
      ],
      "execution_count": 50,
      "outputs": [
        {
          "output_type": "execute_result",
          "data": {
            "text/plain": [
              "[<matplotlib.lines.Line2D at 0x7fae5e6eaee0>]"
            ]
          },
          "metadata": {},
          "execution_count": 50
        },
        {
          "output_type": "display_data",
          "data": {
            "text/plain": [
              "<Figure size 432x288 with 1 Axes>"
            ],
            "image/png": "[encoded data removed]"
          },
          "metadata": {
            "needs_background": "light"
          }
        }
      ]
    },
    {
      "cell_type": "code",
      "metadata": {
        "colab": {
          "base_uri": "https://localhost:8080/",
          "height": 282
        },
        "id": "b-2A0_qfU-nr",
        "outputId": "b8d41139-4e3e-4aae-ac21-f241227dec3e"
      },
      "source": [
        "df3=df1.tolist()\n",
        "df3.extend(lst_output)\n",
        "plt.plot(df3[310:])"
      ],
      "execution_count": 51,
      "outputs": [
        {
          "output_type": "execute_result",
          "data": {
            "text/plain": [
              "[<matplotlib.lines.Line2D at 0x7fae5ef93910>]"
            ]
          },
          "metadata": {},
          "execution_count": 51
        },
        {
          "output_type": "display_data",
          "data": {
            "text/plain": [
              "<Figure size 432x288 with 1 Axes>"
            ],
            "image/png": "[encoded data removed]"
          },
          "metadata": {
            "needs_background": "light"
          }
        }
      ]
    },
    {
      "cell_type": "code",
      "metadata": {
        "id": "YOhppl7gU-ns"
      },
      "source": [
        "df3=scaler.inverse_transform(df3).tolist()"
      ],
      "execution_count": 52,
      "outputs": []
    },
    {
      "cell_type": "code",
      "metadata": {
        "colab": {
          "base_uri": "https://localhost:8080/",
          "height": 282
        },
        "id": "Casmv77fU-ns",
        "outputId": "5408ceff-3c46-4715-a167-ba2bf2e266ad"
      },
      "source": [
        "plt.plot(df3)"
      ],
      "execution_count": 53,
      "outputs": [
        {
          "output_type": "execute_result",
          "data": {
            "text/plain": [
              "[<matplotlib.lines.Line2D at 0x7fae5ef17070>]"
            ]
          },
          "metadata": {},
          "execution_count": 53
        },
        {
          "output_type": "display_data",
          "data": {
            "text/plain": [
              "<Figure size 432x288 with 1 Axes>"
            ],
            "image/png": "[encoded data removed]"
          },
          "metadata": {
            "needs_background": "light"
          }
        }
      ]
    },
    {
      "cell_type": "markdown",
      "metadata": {
        "id": "uviEE9j9Pbgo"
      },
      "source": [
        "# **Bidirectional LSTM**"
      ]
    },
    {
      "cell_type": "code",
      "metadata": {
        "colab": {
          "base_uri": "https://localhost:8080/"
        },
        "id": "ZfCaowxLPadw",
        "outputId": "4d044923-b443-4262-b7c0-fac362626ac2"
      },
      "source": [
        "from keras.layers import Bidirectional\n",
        "model2 = Sequential()\n",
        "model2.add(Bidirectional(LSTM(50, activation='relu'), input_shape=(10,1)))\n",
        "model2.add(Dense(1))\n",
        "model2.compile(loss='mean_squared_error',optimizer='adam')"
      ],
      "execution_count": 54,
      "outputs": [
        {
          "output_type": "stream",
          "name": "stderr",
          "text": [
            "WARNING:tensorflow:Layer lstm_4 will not use cuDNN kernels since it doesn't meet the criteria. It will use a generic GPU kernel as fallback when running on GPU.\n",
            "WARNING:tensorflow:Layer lstm_4 will not use cuDNN kernels since it doesn't meet the criteria. It will use a generic GPU kernel as fallback when running on GPU.\n",
            "WARNING:tensorflow:Layer lstm_4 will not use cuDNN kernels since it doesn't meet the criteria. It will use a generic GPU kernel as fallback when running on GPU.\n"
          ]
        }
      ]
    },
    {
      "cell_type": "code",
      "metadata": {
        "colab": {
          "base_uri": "https://localhost:8080/"
        },
        "id": "5DpXde_4Qho-",
        "outputId": "e57a5abb-927e-465a-843f-c9bbc5155416"
      },
      "source": [
        "model2.summary()"
      ],
      "execution_count": 55,
      "outputs": [
        {
          "output_type": "stream",
          "name": "stdout",
          "text": [
            "Model: \"sequential_1\"\n",
            "_________________________________________________________________\n",
            " Layer (type)                Output Shape              Param #   \n",
            "=================================================================\n",
            " bidirectional (Bidirectiona  (None, 100)              20800     \n",
            " l)                                                              \n",
            "                                                                 \n",
            " dense_1 (Dense)             (None, 1)                 101       \n",
            "                                                                 \n",
            "=================================================================\n",
            "Total params: 20,901\n",
            "Trainable params: 20,901\n",
            "Non-trainable params: 0\n",
            "_________________________________________________________________\n"
          ]
        }
      ]
    },
    {
      "cell_type": "code",
      "metadata": {
        "colab": {
          "base_uri": "https://localhost:8080/"
        },
        "id": "yBgW4PGgQwKs",
        "outputId": "2b1d79c3-c40b-44c1-fd9b-b82acf88f180"
      },
      "source": [
        "model2.fit(X_train,y_train,validation_data=(X_test,ytest),epochs=100,batch_size=32,verbose=1)"
      ],
      "execution_count": 56,
      "outputs": [
        {
          "output_type": "stream",
          "name": "stdout",
          "text": [
            "Epoch 1/100\n",
            "9/9 [==============================] - 4s 82ms/step - loss: 0.0197 - val_loss: 0.1799\n",
            "Epoch 2/100\n",
            "9/9 [==============================] - 0s 48ms/step - loss: 0.0077 - val_loss: 0.1001\n",
            "Epoch 3/100\n",
            "9/9 [==============================] - 0s 40ms/step - loss: 0.0041 - val_loss: 0.0555\n",
            "Epoch 4/100\n",
            "9/9 [==============================] - 0s 43ms/step - loss: 0.0036 - val_loss: 0.0412\n",
            "Epoch 5/100\n",
            "9/9 [==============================] - 0s 40ms/step - loss: 0.0028 - val_loss: 0.0306\n",
            "Epoch 6/100\n",
            "9/9 [==============================] - 0s 41ms/step - loss: 0.0023 - val_loss: 0.0159\n",
            "Epoch 7/100\n",
            "9/9 [==============================] - 0s 49ms/step - loss: 0.0018 - val_loss: 0.0090\n",
            "Epoch 8/100\n",
            "9/9 [==============================] - 0s 42ms/step - loss: 0.0014 - val_loss: 0.0102\n",
            "Epoch 9/100\n",
            "9/9 [==============================] - 0s 45ms/step - loss: 0.0014 - val_loss: 0.0119\n",
            "Epoch 10/100\n",
            "9/9 [==============================] - 0s 41ms/step - loss: 0.0014 - val_loss: 0.0113\n",
            "Epoch 11/100\n",
            "9/9 [==============================] - 0s 40ms/step - loss: 0.0013 - val_loss: 0.0094\n",
            "Epoch 12/100\n",
            "9/9 [==============================] - 0s 45ms/step - loss: 0.0013 - val_loss: 0.0083\n",
            "Epoch 13/100\n",
            "9/9 [==============================] - 0s 56ms/step - loss: 0.0012 - val_loss: 0.0082\n",
            "Epoch 14/100\n",
            "9/9 [==============================] - 1s 79ms/step - loss: 0.0012 - val_loss: 0.0080\n",
            "Epoch 15/100\n",
            "9/9 [==============================] - 1s 82ms/step - loss: 0.0012 - val_loss: 0.0082\n",
            "Epoch 16/100\n",
            "9/9 [==============================] - 1s 73ms/step - loss: 0.0012 - val_loss: 0.0078\n",
            "Epoch 17/100\n",
            "9/9 [==============================] - 1s 77ms/step - loss: 0.0013 - val_loss: 0.0080\n",
            "Epoch 18/100\n",
            "9/9 [==============================] - 1s 78ms/step - loss: 0.0012 - val_loss: 0.0079\n",
            "Epoch 19/100\n",
            "9/9 [==============================] - 0s 51ms/step - loss: 0.0012 - val_loss: 0.0077\n",
            "Epoch 20/100\n",
            "9/9 [==============================] - 0s 43ms/step - loss: 0.0012 - val_loss: 0.0080\n",
            "Epoch 21/100\n",
            "9/9 [==============================] - 0s 44ms/step - loss: 0.0011 - val_loss: 0.0081\n",
            "Epoch 22/100\n",
            "9/9 [==============================] - 0s 45ms/step - loss: 0.0011 - val_loss: 0.0074\n",
            "Epoch 23/100\n",
            "9/9 [==============================] - 0s 42ms/step - loss: 0.0011 - val_loss: 0.0074\n",
            "Epoch 24/100\n",
            "9/9 [==============================] - 0s 44ms/step - loss: 0.0011 - val_loss: 0.0073\n",
            "Epoch 25/100\n",
            "9/9 [==============================] - 0s 40ms/step - loss: 0.0011 - val_loss: 0.0070\n",
            "Epoch 26/100\n",
            "9/9 [==============================] - 0s 39ms/step - loss: 0.0011 - val_loss: 0.0069\n",
            "Epoch 27/100\n",
            "9/9 [==============================] - 0s 47ms/step - loss: 0.0011 - val_loss: 0.0069\n",
            "Epoch 28/100\n",
            "9/9 [==============================] - 0s 46ms/step - loss: 0.0011 - val_loss: 0.0067\n",
            "Epoch 29/100\n",
            "9/9 [==============================] - 0s 48ms/step - loss: 0.0011 - val_loss: 0.0064\n",
            "Epoch 30/100\n",
            "9/9 [==============================] - 0s 45ms/step - loss: 0.0011 - val_loss: 0.0070\n",
            "Epoch 31/100\n",
            "9/9 [==============================] - 0s 40ms/step - loss: 0.0012 - val_loss: 0.0066\n",
            "Epoch 32/100\n",
            "9/9 [==============================] - 0s 40ms/step - loss: 0.0010 - val_loss: 0.0063\n",
            "Epoch 33/100\n",
            "9/9 [==============================] - 0s 42ms/step - loss: 9.7101e-04 - val_loss: 0.0061\n",
            "Epoch 34/100\n",
            "9/9 [==============================] - 0s 42ms/step - loss: 0.0010 - val_loss: 0.0062\n",
            "Epoch 35/100\n",
            "9/9 [==============================] - 0s 48ms/step - loss: 0.0010 - val_loss: 0.0058\n",
            "Epoch 36/100\n",
            "9/9 [==============================] - 0s 44ms/step - loss: 9.3643e-04 - val_loss: 0.0056\n",
            "Epoch 37/100\n",
            "9/9 [==============================] - 0s 46ms/step - loss: 9.4299e-04 - val_loss: 0.0056\n",
            "Epoch 38/100\n",
            "9/9 [==============================] - 0s 41ms/step - loss: 9.1212e-04 - val_loss: 0.0058\n",
            "Epoch 39/100\n",
            "9/9 [==============================] - 0s 40ms/step - loss: 8.9369e-04 - val_loss: 0.0056\n",
            "Epoch 40/100\n",
            "9/9 [==============================] - 0s 47ms/step - loss: 8.7878e-04 - val_loss: 0.0063\n",
            "Epoch 41/100\n",
            "9/9 [==============================] - 0s 45ms/step - loss: 9.3774e-04 - val_loss: 0.0104\n",
            "Epoch 42/100\n",
            "9/9 [==============================] - 0s 43ms/step - loss: 8.3583e-04 - val_loss: 0.0088\n",
            "Epoch 43/100\n",
            "9/9 [==============================] - 0s 42ms/step - loss: 8.8940e-04 - val_loss: 0.0075\n",
            "Epoch 44/100\n",
            "9/9 [==============================] - 0s 47ms/step - loss: 0.0011 - val_loss: 0.0114\n",
            "Epoch 45/100\n",
            "9/9 [==============================] - 1s 78ms/step - loss: 8.3259e-04 - val_loss: 0.0097\n",
            "Epoch 46/100\n",
            "9/9 [==============================] - 1s 79ms/step - loss: 8.0109e-04 - val_loss: 0.0153\n",
            "Epoch 47/100\n",
            "9/9 [==============================] - 1s 88ms/step - loss: 8.3522e-04 - val_loss: 0.0236\n",
            "Epoch 48/100\n",
            "9/9 [==============================] - 1s 85ms/step - loss: 7.7904e-04 - val_loss: 0.0233\n",
            "Epoch 49/100\n",
            "9/9 [==============================] - 1s 87ms/step - loss: 8.0566e-04 - val_loss: 0.0205\n",
            "Epoch 50/100\n",
            "9/9 [==============================] - 0s 45ms/step - loss: 7.9632e-04 - val_loss: 0.0370\n",
            "Epoch 51/100\n",
            "9/9 [==============================] - 0s 47ms/step - loss: 7.2395e-04 - val_loss: 0.0326\n",
            "Epoch 52/100\n",
            "9/9 [==============================] - 0s 49ms/step - loss: 7.8001e-04 - val_loss: 0.0632\n",
            "Epoch 53/100\n",
            "9/9 [==============================] - 0s 40ms/step - loss: 6.9761e-04 - val_loss: 0.0661\n",
            "Epoch 54/100\n",
            "9/9 [==============================] - 0s 44ms/step - loss: 7.5093e-04 - val_loss: 0.0600\n",
            "Epoch 55/100\n",
            "9/9 [==============================] - 0s 46ms/step - loss: 6.8887e-04 - val_loss: 0.0678\n",
            "Epoch 56/100\n",
            "9/9 [==============================] - 0s 44ms/step - loss: 7.4685e-04 - val_loss: 0.0961\n",
            "Epoch 57/100\n",
            "9/9 [==============================] - 0s 43ms/step - loss: 6.7291e-04 - val_loss: 0.0553\n",
            "Epoch 58/100\n",
            "9/9 [==============================] - 0s 41ms/step - loss: 7.5614e-04 - val_loss: 0.0535\n",
            "Epoch 59/100\n",
            "9/9 [==============================] - 0s 39ms/step - loss: 8.2231e-04 - val_loss: 0.0698\n",
            "Epoch 60/100\n",
            "9/9 [==============================] - 0s 40ms/step - loss: 6.6559e-04 - val_loss: 0.1087\n",
            "Epoch 61/100\n",
            "9/9 [==============================] - 0s 42ms/step - loss: 7.6470e-04 - val_loss: 0.0679\n",
            "Epoch 62/100\n",
            "9/9 [==============================] - 0s 44ms/step - loss: 8.1309e-04 - val_loss: 0.0775\n",
            "Epoch 63/100\n",
            "9/9 [==============================] - 0s 46ms/step - loss: 8.2896e-04 - val_loss: 0.0850\n",
            "Epoch 64/100\n",
            "9/9 [==============================] - 0s 40ms/step - loss: 6.8143e-04 - val_loss: 0.0531\n",
            "Epoch 65/100\n",
            "9/9 [==============================] - 0s 45ms/step - loss: 7.0073e-04 - val_loss: 0.0678\n",
            "Epoch 66/100\n",
            "9/9 [==============================] - 0s 40ms/step - loss: 6.6660e-04 - val_loss: 0.0733\n",
            "Epoch 67/100\n",
            "9/9 [==============================] - 0s 41ms/step - loss: 6.8075e-04 - val_loss: 0.0895\n",
            "Epoch 68/100\n",
            "9/9 [==============================] - 0s 47ms/step - loss: 7.0189e-04 - val_loss: 0.0811\n",
            "Epoch 69/100\n",
            "9/9 [==============================] - 0s 48ms/step - loss: 7.5047e-04 - val_loss: 0.0858\n",
            "Epoch 70/100\n",
            "9/9 [==============================] - 0s 46ms/step - loss: 7.2596e-04 - val_loss: 0.0666\n",
            "Epoch 71/100\n",
            "9/9 [==============================] - 0s 42ms/step - loss: 6.8191e-04 - val_loss: 0.0748\n",
            "Epoch 72/100\n",
            "9/9 [==============================] - 0s 40ms/step - loss: 7.2264e-04 - val_loss: 0.0928\n",
            "Epoch 73/100\n",
            "9/9 [==============================] - 0s 42ms/step - loss: 6.7460e-04 - val_loss: 0.0999\n",
            "Epoch 74/100\n",
            "9/9 [==============================] - 0s 39ms/step - loss: 6.8198e-04 - val_loss: 0.0631\n",
            "Epoch 75/100\n",
            "9/9 [==============================] - 1s 60ms/step - loss: 6.8562e-04 - val_loss: 0.0841\n",
            "Epoch 76/100\n",
            "9/9 [==============================] - 1s 85ms/step - loss: 6.5367e-04 - val_loss: 0.0890\n",
            "Epoch 77/100\n",
            "9/9 [==============================] - 1s 83ms/step - loss: 6.7902e-04 - val_loss: 0.0876\n",
            "Epoch 78/100\n",
            "9/9 [==============================] - 1s 67ms/step - loss: 6.7723e-04 - val_loss: 0.1202\n",
            "Epoch 79/100\n",
            "9/9 [==============================] - 1s 84ms/step - loss: 6.9079e-04 - val_loss: 0.0707\n",
            "Epoch 80/100\n",
            "9/9 [==============================] - 1s 74ms/step - loss: 7.0614e-04 - val_loss: 0.0789\n",
            "Epoch 81/100\n",
            "9/9 [==============================] - 0s 43ms/step - loss: 7.6087e-04 - val_loss: 0.0952\n",
            "Epoch 82/100\n",
            "9/9 [==============================] - 0s 44ms/step - loss: 8.3016e-04 - val_loss: 0.0649\n",
            "Epoch 83/100\n",
            "9/9 [==============================] - 0s 38ms/step - loss: 6.7204e-04 - val_loss: 0.0464\n",
            "Epoch 84/100\n",
            "9/9 [==============================] - 0s 41ms/step - loss: 7.3019e-04 - val_loss: 0.0536\n",
            "Epoch 85/100\n",
            "9/9 [==============================] - 1s 77ms/step - loss: 7.2422e-04 - val_loss: 0.0677\n",
            "Epoch 86/100\n",
            "9/9 [==============================] - 1s 111ms/step - loss: 6.4618e-04 - val_loss: 0.0647\n",
            "Epoch 87/100\n",
            "9/9 [==============================] - 1s 111ms/step - loss: 6.6932e-04 - val_loss: 0.0649\n",
            "Epoch 88/100\n",
            "9/9 [==============================] - 1s 104ms/step - loss: 7.0785e-04 - val_loss: 0.0548\n",
            "Epoch 89/100\n",
            "9/9 [==============================] - 1s 94ms/step - loss: 7.2875e-04 - val_loss: 0.0645\n",
            "Epoch 90/100\n",
            "9/9 [==============================] - 1s 113ms/step - loss: 8.1629e-04 - val_loss: 0.0708\n",
            "Epoch 91/100\n",
            "9/9 [==============================] - 1s 109ms/step - loss: 7.2172e-04 - val_loss: 0.0624\n",
            "Epoch 92/100\n",
            "9/9 [==============================] - 1s 93ms/step - loss: 7.1512e-04 - val_loss: 0.0729\n",
            "Epoch 93/100\n",
            "9/9 [==============================] - 1s 103ms/step - loss: 6.6856e-04 - val_loss: 0.0696\n",
            "Epoch 94/100\n",
            "9/9 [==============================] - 1s 118ms/step - loss: 6.6725e-04 - val_loss: 0.0746\n",
            "Epoch 95/100\n",
            "9/9 [==============================] - 1s 138ms/step - loss: 6.8945e-04 - val_loss: 0.0620\n",
            "Epoch 96/100\n",
            "9/9 [==============================] - 1s 83ms/step - loss: 6.5851e-04 - val_loss: 0.0838\n",
            "Epoch 97/100\n",
            "9/9 [==============================] - 1s 85ms/step - loss: 6.5734e-04 - val_loss: 0.0749\n",
            "Epoch 98/100\n",
            "9/9 [==============================] - 1s 88ms/step - loss: 6.4900e-04 - val_loss: 0.0728\n",
            "Epoch 99/100\n",
            "9/9 [==============================] - 0s 41ms/step - loss: 6.4769e-04 - val_loss: 0.0646\n",
            "Epoch 100/100\n",
            "9/9 [==============================] - 0s 45ms/step - loss: 6.6858e-04 - val_loss: 0.0748\n"
          ]
        },
        {
          "output_type": "execute_result",
          "data": {
            "text/plain": [
              "<keras.callbacks.History at 0x7fae5ee2ff10>"
            ]
          },
          "metadata": {},
          "execution_count": 56
        }
      ]
    },
    {
      "cell_type": "code",
      "metadata": {
        "id": "DKTU4Cx-RAoz",
        "colab": {
          "base_uri": "https://localhost:8080/"
        },
        "outputId": "485fb63c-d4bb-40d0-ff74-efa4b84179ff"
      },
      "source": [
        "train_predict=model2.predict(X_train)\n",
        "test_predict=model2.predict(X_test)"
      ],
      "execution_count": 57,
      "outputs": [
        {
          "output_type": "stream",
          "name": "stdout",
          "text": [
            "9/9 [==============================] - 0s 5ms/step\n",
            "5/5 [==============================] - 0s 5ms/step\n"
          ]
        }
      ]
    },
    {
      "cell_type": "code",
      "metadata": {
        "id": "c80-pT6_RGDF"
      },
      "source": [
        "train_predict=scaler.inverse_transform(train_predict)\n",
        "test_predict=scaler.inverse_transform(test_predict)"
      ],
      "execution_count": 58,
      "outputs": []
    },
    {
      "cell_type": "markdown",
      "metadata": {
        "id": "jwiMRYEv25V_"
      },
      "source": [
        "# **Performence Matrix**"
      ]
    },
    {
      "cell_type": "markdown",
      "metadata": {
        "id": "OUW7jKjR3lBn"
      },
      "source": [
        "## **MSE**"
      ]
    },
    {
      "cell_type": "code",
      "metadata": {
        "colab": {
          "base_uri": "https://localhost:8080/"
        },
        "id": "X6euaefY3oYO",
        "outputId": "ff489cdf-806c-405d-938a-7044d0dee339"
      },
      "source": [
        "mean_squared_error(y_train,train_predict)"
      ],
      "execution_count": 59,
      "outputs": [
        {
          "output_type": "execute_result",
          "data": {
            "text/plain": [
              "1393.4950737208558"
            ]
          },
          "metadata": {},
          "execution_count": 59
        }
      ]
    },
    {
      "cell_type": "code",
      "metadata": {
        "colab": {
          "base_uri": "https://localhost:8080/"
        },
        "id": "Jzvy3zsE3oHT",
        "outputId": "a5af9829-decc-479a-ca8c-16a251e8a95c"
      },
      "source": [
        "### Test Data RMSE\n",
        "mean_squared_error(ytest,test_predict)"
      ],
      "execution_count": 60,
      "outputs": [
        {
          "output_type": "execute_result",
          "data": {
            "text/plain": [
              "5163.782393196198"
            ]
          },
          "metadata": {},
          "execution_count": 60
        }
      ]
    },
    {
      "cell_type": "markdown",
      "metadata": {
        "id": "_zYu0ouP3f54"
      },
      "source": [
        "## **RMSE**"
      ]
    },
    {
      "cell_type": "code",
      "metadata": {
        "colab": {
          "base_uri": "https://localhost:8080/"
        },
        "id": "qAI2cBvoRR9q",
        "outputId": "4748e27c-0a15-4bac-97ec-765c32ca4f5a"
      },
      "source": [
        "### Calculate RMSE performance metrics\n",
        "math.sqrt(mean_squared_error(y_train,train_predict))"
      ],
      "execution_count": 61,
      "outputs": [
        {
          "output_type": "execute_result",
          "data": {
            "text/plain": [
              "37.32954692627351"
            ]
          },
          "metadata": {},
          "execution_count": 61
        }
      ]
    },
    {
      "cell_type": "code",
      "metadata": {
        "colab": {
          "base_uri": "https://localhost:8080/"
        },
        "id": "nd0z2PoxRWgG",
        "outputId": "34903fcc-6a67-4928-93bc-46cadc4ee7fb"
      },
      "source": [
        "### Test Data RMSE\n",
        "math.sqrt(mean_squared_error(ytest,test_predict))"
      ],
      "execution_count": 62,
      "outputs": [
        {
          "output_type": "execute_result",
          "data": {
            "text/plain": [
              "71.85946279507104"
            ]
          },
          "metadata": {},
          "execution_count": 62
        }
      ]
    },
    {
      "cell_type": "markdown",
      "metadata": {
        "id": "NuVlHO-S419f"
      },
      "source": [
        "## **MAE**"
      ]
    },
    {
      "cell_type": "code",
      "metadata": {
        "colab": {
          "base_uri": "https://localhost:8080/"
        },
        "id": "oeoC-fMA44ts",
        "outputId": "6cbc5f55-2f09-4228-a388-41d6c68d98e5"
      },
      "source": [
        "mean_absolute_error(y_train,train_predict)"
      ],
      "execution_count": 63,
      "outputs": [
        {
          "output_type": "execute_result",
          "data": {
            "text/plain": [
              "30.323701766922316"
            ]
          },
          "metadata": {},
          "execution_count": 63
        }
      ]
    },
    {
      "cell_type": "code",
      "metadata": {
        "colab": {
          "base_uri": "https://localhost:8080/"
        },
        "id": "NLjEu_Xv45f-",
        "outputId": "9d969d74-30e5-4a01-b639-83b23fc1a101"
      },
      "source": [
        "### Test Data MAE\n",
        "mean_absolute_error(ytest,test_predict)"
      ],
      "execution_count": 64,
      "outputs": [
        {
          "output_type": "execute_result",
          "data": {
            "text/plain": [
              "52.484726477101916"
            ]
          },
          "metadata": {},
          "execution_count": 64
        }
      ]
    },
    {
      "cell_type": "code",
      "metadata": {
        "colab": {
          "base_uri": "https://localhost:8080/",
          "height": 265
        },
        "id": "hYawp5LRRbpu",
        "outputId": "81856e7b-afc6-473e-8113-889bd7a458e5"
      },
      "source": [
        "### Plotting \n",
        "# shift train predictions for plotting\n",
        "look_back=10\n",
        "trainPredictPlot = numpy.empty_like(df1)\n",
        "trainPredictPlot[:, :] = np.nan\n",
        "trainPredictPlot[look_back:len(train_predict)+look_back, :] = train_predict\n",
        "# shift test predictions for plotting\n",
        "testPredictPlot = numpy.empty_like(df1)\n",
        "testPredictPlot[:, :] = numpy.nan\n",
        "testPredictPlot[len(train_predict)+(look_back*2)+1:len(df1)-1, :] = test_predict\n",
        "# plot baseline and predictions\n",
        "plt.plot(scaler.inverse_transform(df1))\n",
        "plt.plot(trainPredictPlot)\n",
        "plt.plot(testPredictPlot)\n",
        "plt.show()"
      ],
      "execution_count": 65,
      "outputs": [
        {
          "output_type": "display_data",
          "data": {
            "text/plain": [
              "<Figure size 432x288 with 1 Axes>"
            ],
            "image/png": "[encoded data removed]"
          },
          "metadata": {
            "needs_background": "light"
          }
        }
      ]
    },
    {
      "cell_type": "code",
      "metadata": {
        "colab": {
          "base_uri": "https://localhost:8080/"
        },
        "id": "qYp7Gl0mSXVH",
        "outputId": "74de5219-31b0-46ad-cc34-3d31bf8dcfda"
      },
      "source": [
        "x_input=test_data[137:].reshape(1,-1)\n",
        "x_input.shape"
      ],
      "execution_count": 66,
      "outputs": [
        {
          "output_type": "execute_result",
          "data": {
            "text/plain": [
              "(1, 10)"
            ]
          },
          "metadata": {},
          "execution_count": 66
        }
      ]
    },
    {
      "cell_type": "code",
      "metadata": {
        "id": "tJkxpncMSeAa"
      },
      "source": [
        "temp_input=list(x_input)\n",
        "temp_input=temp_input[0].tolist()"
      ],
      "execution_count": 67,
      "outputs": []
    },
    {
      "cell_type": "code",
      "metadata": {
        "colab": {
          "base_uri": "https://localhost:8080/"
        },
        "id": "VonUkKmuRfQv",
        "outputId": "924333dd-3283-461e-b255-b27a5bb34ef5"
      },
      "source": [
        "# demonstrate prediction for next 10 days\n",
        "from numpy import array\n",
        "\n",
        "lst_output=[]\n",
        "n_steps=10\n",
        "i=0\n",
        "while(i<30):\n",
        "    \n",
        "    if(len(temp_input)>10):\n",
        "        #print(temp_input)\n",
        "        x_input=np.array(temp_input[1:])\n",
        "        print(\"{} day input {}\".format(i,x_input))\n",
        "        x_input=x_input.reshape(1,-1)\n",
        "        x_input = x_input.reshape((1, n_steps, 1))\n",
        "        #print(x_input)\n",
        "        yhat = model2.predict(x_input, verbose=0)\n",
        "        print(\"{} day output {}\".format(i,yhat))\n",
        "        temp_input.extend(yhat[0].tolist())\n",
        "        temp_input=temp_input[1:]\n",
        "        #print(temp_input)\n",
        "        lst_output.extend(yhat.tolist())\n",
        "        i=i+1\n",
        "    else:\n",
        "        x_input = x_input.reshape((1, n_steps,1))\n",
        "        yhat = model2.predict(x_input, verbose=0)\n",
        "        print(yhat[0])\n",
        "        temp_input.extend(yhat[0].tolist())\n",
        "        print(len(temp_input))\n",
        "        lst_output.extend(yhat.tolist())\n",
        "        i=i+1\n",
        "    \n",
        "\n",
        "print(lst_output)"
      ],
      "execution_count": 68,
      "outputs": [
        {
          "output_type": "stream",
          "name": "stdout",
          "text": [
            "[0.01319696]\n",
            "11\n",
            "1 day input [0.         0.01520913 0.01901141 0.01140684 0.01140684 0.00380228\n",
            " 0.01901141 0.01520913 0.02281369 0.01319696]\n",
            "1 day output [[0.0132685]]\n",
            "2 day input [0.01520913 0.01901141 0.01140684 0.01140684 0.00380228 0.01901141\n",
            " 0.01520913 0.02281369 0.01319696 0.0132685 ]\n",
            "2 day output [[0.0132224]]\n",
            "3 day input [0.01901141 0.01140684 0.01140684 0.00380228 0.01901141 0.01520913\n",
            " 0.02281369 0.01319696 0.0132685  0.0132224 ]\n",
            "3 day output [[0.01296585]]\n",
            "4 day input [0.01140684 0.01140684 0.00380228 0.01901141 0.01520913 0.02281369\n",
            " 0.01319696 0.0132685  0.0132224  0.01296585]\n",
            "4 day output [[0.0125854]]\n",
            "5 day input [0.01140684 0.00380228 0.01901141 0.01520913 0.02281369 0.01319696\n",
            " 0.0132685  0.0132224  0.01296585 0.0125854 ]\n",
            "5 day output [[0.01223392]]\n",
            "6 day input [0.00380228 0.01901141 0.01520913 0.02281369 0.01319696 0.0132685\n",
            " 0.0132224  0.01296585 0.0125854  0.01223392]\n",
            "6 day output [[0.01179758]]\n",
            "7 day input [0.01901141 0.01520913 0.02281369 0.01319696 0.0132685  0.0132224\n",
            " 0.01296585 0.0125854  0.01223392 0.01179758]\n",
            "7 day output [[0.01143075]]\n",
            "8 day input [0.01520913 0.02281369 0.01319696 0.0132685  0.0132224  0.01296585\n",
            " 0.0125854  0.01223392 0.01179758 0.01143075]\n",
            "8 day output [[0.0109527]]\n",
            "9 day input [0.02281369 0.01319696 0.0132685  0.0132224  0.01296585 0.0125854\n",
            " 0.01223392 0.01179758 0.01143075 0.0109527 ]\n",
            "9 day output [[0.0105336]]\n",
            "10 day input [0.01319696 0.0132685  0.0132224  0.01296585 0.0125854  0.01223392\n",
            " 0.01179758 0.01143075 0.0109527  0.0105336 ]\n",
            "10 day output [[0.01008733]]\n",
            "11 day input [0.0132685  0.0132224  0.01296585 0.0125854  0.01223392 0.01179758\n",
            " 0.01143075 0.0109527  0.0105336  0.01008733]\n",
            "11 day output [[0.00971089]]\n",
            "12 day input [0.0132224  0.01296585 0.0125854  0.01223392 0.01179758 0.01143075\n",
            " 0.0109527  0.0105336  0.01008733 0.00971089]\n",
            "12 day output [[0.00933063]]\n",
            "13 day input [0.01296585 0.0125854  0.01223392 0.01179758 0.01143075 0.0109527\n",
            " 0.0105336  0.01008733 0.00971089 0.00933063]\n",
            "13 day output [[0.00895111]]\n",
            "14 day input [0.0125854  0.01223392 0.01179758 0.01143075 0.0109527  0.0105336\n",
            " 0.01008733 0.00971089 0.00933063 0.00895111]\n",
            "14 day output [[0.00857581]]\n",
            "15 day input [0.01223392 0.01179758 0.01143075 0.0109527  0.0105336  0.01008733\n",
            " 0.00971089 0.00933063 0.00895111 0.00857581]\n",
            "15 day output [[0.00820686]]\n",
            "16 day input [0.01179758 0.01143075 0.0109527  0.0105336  0.01008733 0.00971089\n",
            " 0.00933063 0.00895111 0.00857581 0.00820686]\n",
            "16 day output [[0.00784402]]\n",
            "17 day input [0.01143075 0.0109527  0.0105336  0.01008733 0.00971089 0.00933063\n",
            " 0.00895111 0.00857581 0.00820686 0.00784402]\n",
            "17 day output [[0.00748816]]\n",
            "18 day input [0.0109527  0.0105336  0.01008733 0.00971089 0.00933063 0.00895111\n",
            " 0.00857581 0.00820686 0.00784402 0.00748816]\n",
            "18 day output [[0.00713826]]\n",
            "19 day input [0.0105336  0.01008733 0.00971089 0.00933063 0.00895111 0.00857581\n",
            " 0.00820686 0.00784402 0.00748816 0.00713826]\n",
            "19 day output [[0.00679512]]\n",
            "20 day input [0.01008733 0.00971089 0.00933063 0.00895111 0.00857581 0.00820686\n",
            " 0.00784402 0.00748816 0.00713826 0.00679512]\n",
            "20 day output [[0.006459]]\n",
            "21 day input [0.00971089 0.00933063 0.00895111 0.00857581 0.00820686 0.00784402\n",
            " 0.00748816 0.00713826 0.00679512 0.006459  ]\n",
            "21 day output [[0.00612941]]\n",
            "22 day input [0.00933063 0.00895111 0.00857581 0.00820686 0.00784402 0.00748816\n",
            " 0.00713826 0.00679512 0.006459   0.00612941]\n",
            "22 day output [[0.00580643]]\n",
            "23 day input [0.00895111 0.00857581 0.00820686 0.00784402 0.00748816 0.00713826\n",
            " 0.00679512 0.006459   0.00612941 0.00580643]\n",
            "23 day output [[0.00548985]]\n",
            "24 day input [0.00857581 0.00820686 0.00784402 0.00748816 0.00713826 0.00679512\n",
            " 0.006459   0.00612941 0.00580643 0.00548985]\n",
            "24 day output [[0.00517944]]\n",
            "25 day input [0.00820686 0.00784402 0.00748816 0.00713826 0.00679512 0.006459\n",
            " 0.00612941 0.00580643 0.00548985 0.00517944]\n",
            "25 day output [[0.00487659]]\n",
            "26 day input [0.00784402 0.00748816 0.00713826 0.00679512 0.006459   0.00612941\n",
            " 0.00580643 0.00548985 0.00517944 0.00487659]\n",
            "26 day output [[0.0045801]]\n",
            "27 day input [0.00748816 0.00713826 0.00679512 0.006459   0.00612941 0.00580643\n",
            " 0.00548985 0.00517944 0.00487659 0.0045801 ]\n",
            "27 day output [[0.00428988]]\n",
            "28 day input [0.00713826 0.00679512 0.006459   0.00612941 0.00580643 0.00548985\n",
            " 0.00517944 0.00487659 0.0045801  0.00428988]\n",
            "28 day output [[0.0040058]]\n",
            "29 day input [0.00679512 0.006459   0.00612941 0.00580643 0.00548985 0.00517944\n",
            " 0.00487659 0.0045801  0.00428988 0.0040058 ]\n",
            "29 day output [[0.00372595]]\n",
            "[[0.013196958228945732], [0.013268502429127693], [0.013222395442426205], [0.012965848669409752], [0.012585403397679329], [0.012233916670084], [0.011797578074038029], [0.011430751532316208], [0.010952700860798359], [0.01053360290825367], [0.010087328031659126], [0.009710890240967274], [0.009330634959042072], [0.008951112627983093], [0.008575807325541973], [0.008206856437027454], [0.007844017818570137], [0.007488155737519264], [0.007138257846236229], [0.006795123219490051], [0.006459001451730728], [0.0061294082552194595], [0.00580642931163311], [0.00548984669148922], [0.005179440602660179], [0.004876591265201569], [0.004580099135637283], [0.004289882257580757], [0.004005800932645798], [0.003725949674844742]]\n"
          ]
        }
      ]
    },
    {
      "cell_type": "code",
      "metadata": {
        "id": "mnLg9E0tStlB"
      },
      "source": [
        "day_new=np.arange(1,101)\n",
        "day_pred=np.arange(101,131)"
      ],
      "execution_count": 69,
      "outputs": []
    },
    {
      "cell_type": "code",
      "metadata": {
        "colab": {
          "base_uri": "https://localhost:8080/",
          "height": 282
        },
        "id": "dPuNEx_USumh",
        "outputId": "6cd754c4-c16c-46bd-8aa9-f8e2b7fa99b3"
      },
      "source": [
        "plt.plot(day_new,scaler.inverse_transform(df1[319:]))\n",
        "plt.plot(day_pred,scaler.inverse_transform(lst_output))"
      ],
      "execution_count": 70,
      "outputs": [
        {
          "output_type": "execute_result",
          "data": {
            "text/plain": [
              "[<matplotlib.lines.Line2D at 0x7fae5ff1f100>]"
            ]
          },
          "metadata": {},
          "execution_count": 70
        },
        {
          "output_type": "display_data",
          "data": {
            "text/plain": [
              "<Figure size 432x288 with 1 Axes>"
            ],
            "image/png": "[encoded data removed]"
          },
          "metadata": {
            "needs_background": "light"
          }
        }
      ]
    },
    {
      "cell_type": "code",
      "metadata": {
        "colab": {
          "base_uri": "https://localhost:8080/",
          "height": 282
        },
        "id": "MXIYtsiGSuch",
        "outputId": "31878e75-4c2a-498e-c058-3aebeeb87315"
      },
      "source": [
        "df3=df1.tolist()\n",
        "df3.extend(lst_output)\n",
        "plt.plot(df3[310:])"
      ],
      "execution_count": 71,
      "outputs": [
        {
          "output_type": "execute_result",
          "data": {
            "text/plain": [
              "[<matplotlib.lines.Line2D at 0x7fae5fe42d00>]"
            ]
          },
          "metadata": {},
          "execution_count": 71
        },
        {
          "output_type": "display_data",
          "data": {
            "text/plain": [
              "<Figure size 432x288 with 1 Axes>"
            ],
            "image/png": "[encoded data removed]"
          },
          "metadata": {
            "needs_background": "light"
          }
        }
      ]
    },
    {
      "cell_type": "code",
      "metadata": {
        "colab": {
          "base_uri": "https://localhost:8080/",
          "height": 282
        },
        "id": "DecNMKBkTKFU",
        "outputId": "5a806f98-1ff8-4566-8594-870ba2691966"
      },
      "source": [
        "df3=scaler.inverse_transform(df3).tolist()\n",
        "plt.plot(df3)"
      ],
      "execution_count": 72,
      "outputs": [
        {
          "output_type": "execute_result",
          "data": {
            "text/plain": [
              "[<matplotlib.lines.Line2D at 0x7fae5ff5b310>]"
            ]
          },
          "metadata": {},
          "execution_count": 72
        },
        {
          "output_type": "display_data",
          "data": {
            "text/plain": [
              "<Figure size 432x288 with 1 Axes>"
            ],
            "image/png": "[encoded data removed]"
          },
          "metadata": {
            "needs_background": "light"
          }
        }
      ]
    },
    {
      "cell_type": "markdown",
      "metadata": {
        "id": "PHtkAuHpXa3O"
      },
      "source": [
        "# **Vanilla LSTM**"
      ]
    },
    {
      "cell_type": "code",
      "metadata": {
        "colab": {
          "base_uri": "https://localhost:8080/"
        },
        "id": "o812ihR9XnZD",
        "outputId": "5a7caad5-dc35-4a73-bb42-0c86dc8caada"
      },
      "source": [
        "model3 = Sequential()\n",
        "model3.add(LSTM(50, activation='relu', input_shape=(10, 1)))\n",
        "model3.add(Dense(1))\n",
        "model3.compile(loss='mean_squared_error',optimizer='adam')"
      ],
      "execution_count": 73,
      "outputs": [
        {
          "output_type": "stream",
          "name": "stderr",
          "text": [
            "WARNING:tensorflow:Layer lstm_5 will not use cuDNN kernels since it doesn't meet the criteria. It will use a generic GPU kernel as fallback when running on GPU.\n"
          ]
        }
      ]
    },
    {
      "cell_type": "code",
      "metadata": {
        "colab": {
          "base_uri": "https://localhost:8080/"
        },
        "id": "OUm4Xn7FYj15",
        "outputId": "6924379f-d540-404b-a7f6-930e51e3f134"
      },
      "source": [
        "model3.summary()"
      ],
      "execution_count": 74,
      "outputs": [
        {
          "output_type": "stream",
          "name": "stdout",
          "text": [
            "Model: \"sequential_2\"\n",
            "_________________________________________________________________\n",
            " Layer (type)                Output Shape              Param #   \n",
            "=================================================================\n",
            " lstm_5 (LSTM)               (None, 50)                10400     \n",
            "                                                                 \n",
            " dense_2 (Dense)             (None, 1)                 51        \n",
            "                                                                 \n",
            "=================================================================\n",
            "Total params: 10,451\n",
            "Trainable params: 10,451\n",
            "Non-trainable params: 0\n",
            "_________________________________________________________________\n"
          ]
        }
      ]
    },
    {
      "cell_type": "code",
      "metadata": {
        "colab": {
          "base_uri": "https://localhost:8080/"
        },
        "id": "77axoUvpX0FY",
        "outputId": "caa68871-8c86-475a-f839-024ada11dca8"
      },
      "source": [
        "model3.fit(X_train,y_train,validation_data=(X_test,ytest),epochs=100,batch_size=32,verbose=1)"
      ],
      "execution_count": 75,
      "outputs": [
        {
          "output_type": "stream",
          "name": "stdout",
          "text": [
            "Epoch 1/100\n",
            "9/9 [==============================] - 2s 52ms/step - loss: 0.0146 - val_loss: 0.1393\n",
            "Epoch 2/100\n",
            "9/9 [==============================] - 0s 22ms/step - loss: 0.0062 - val_loss: 0.0789\n",
            "Epoch 3/100\n",
            "9/9 [==============================] - 0s 25ms/step - loss: 0.0040 - val_loss: 0.0435\n",
            "Epoch 4/100\n",
            "9/9 [==============================] - 0s 23ms/step - loss: 0.0033 - val_loss: 0.0360\n",
            "Epoch 5/100\n",
            "9/9 [==============================] - 0s 26ms/step - loss: 0.0026 - val_loss: 0.0249\n",
            "Epoch 6/100\n",
            "9/9 [==============================] - 0s 23ms/step - loss: 0.0020 - val_loss: 0.0106\n",
            "Epoch 7/100\n",
            "9/9 [==============================] - 0s 22ms/step - loss: 0.0016 - val_loss: 0.0079\n",
            "Epoch 8/100\n",
            "9/9 [==============================] - 0s 24ms/step - loss: 0.0013 - val_loss: 0.0133\n",
            "Epoch 9/100\n",
            "9/9 [==============================] - 0s 25ms/step - loss: 0.0012 - val_loss: 0.0135\n",
            "Epoch 10/100\n",
            "9/9 [==============================] - 0s 26ms/step - loss: 0.0012 - val_loss: 0.0138\n",
            "Epoch 11/100\n",
            "9/9 [==============================] - 0s 23ms/step - loss: 0.0012 - val_loss: 0.0119\n",
            "Epoch 12/100\n",
            "9/9 [==============================] - 0s 23ms/step - loss: 0.0012 - val_loss: 0.0102\n",
            "Epoch 13/100\n",
            "9/9 [==============================] - 0s 22ms/step - loss: 0.0012 - val_loss: 0.0093\n",
            "Epoch 14/100\n",
            "9/9 [==============================] - 0s 25ms/step - loss: 0.0012 - val_loss: 0.0096\n",
            "Epoch 15/100\n",
            "9/9 [==============================] - 0s 24ms/step - loss: 0.0013 - val_loss: 0.0085\n",
            "Epoch 16/100\n",
            "9/9 [==============================] - 0s 24ms/step - loss: 0.0011 - val_loss: 0.0092\n",
            "Epoch 17/100\n",
            "9/9 [==============================] - 0s 24ms/step - loss: 0.0012 - val_loss: 0.0097\n",
            "Epoch 18/100\n",
            "9/9 [==============================] - 0s 28ms/step - loss: 0.0011 - val_loss: 0.0093\n",
            "Epoch 19/100\n",
            "9/9 [==============================] - 0s 26ms/step - loss: 0.0011 - val_loss: 0.0081\n",
            "Epoch 20/100\n",
            "9/9 [==============================] - 0s 26ms/step - loss: 0.0011 - val_loss: 0.0073\n",
            "Epoch 21/100\n",
            "9/9 [==============================] - 0s 51ms/step - loss: 0.0011 - val_loss: 0.0069\n",
            "Epoch 22/100\n",
            "9/9 [==============================] - 0s 55ms/step - loss: 0.0010 - val_loss: 0.0071\n",
            "Epoch 23/100\n",
            "9/9 [==============================] - 0s 48ms/step - loss: 0.0010 - val_loss: 0.0067\n",
            "Epoch 24/100\n",
            "9/9 [==============================] - 0s 48ms/step - loss: 9.8440e-04 - val_loss: 0.0061\n",
            "Epoch 25/100\n",
            "9/9 [==============================] - 0s 46ms/step - loss: 9.9694e-04 - val_loss: 0.0066\n",
            "Epoch 26/100\n",
            "9/9 [==============================] - 0s 51ms/step - loss: 9.7303e-04 - val_loss: 0.0058\n",
            "Epoch 27/100\n",
            "9/9 [==============================] - 0s 46ms/step - loss: 9.4901e-04 - val_loss: 0.0058\n",
            "Epoch 28/100\n",
            "9/9 [==============================] - 0s 52ms/step - loss: 9.3055e-04 - val_loss: 0.0052\n",
            "Epoch 29/100\n",
            "9/9 [==============================] - 0s 40ms/step - loss: 9.5206e-04 - val_loss: 0.0052\n",
            "Epoch 30/100\n",
            "9/9 [==============================] - 0s 24ms/step - loss: 9.0840e-04 - val_loss: 0.0047\n",
            "Epoch 31/100\n",
            "9/9 [==============================] - 0s 23ms/step - loss: 8.7495e-04 - val_loss: 0.0047\n",
            "Epoch 32/100\n",
            "9/9 [==============================] - 0s 23ms/step - loss: 9.0332e-04 - val_loss: 0.0045\n",
            "Epoch 33/100\n",
            "9/9 [==============================] - 0s 24ms/step - loss: 8.5276e-04 - val_loss: 0.0047\n",
            "Epoch 34/100\n",
            "9/9 [==============================] - 0s 25ms/step - loss: 8.6364e-04 - val_loss: 0.0051\n",
            "Epoch 35/100\n",
            "9/9 [==============================] - 0s 23ms/step - loss: 8.6100e-04 - val_loss: 0.0073\n",
            "Epoch 36/100\n",
            "9/9 [==============================] - 0s 21ms/step - loss: 8.4717e-04 - val_loss: 0.0081\n",
            "Epoch 37/100\n",
            "9/9 [==============================] - 0s 23ms/step - loss: 8.2432e-04 - val_loss: 0.0045\n",
            "Epoch 38/100\n",
            "9/9 [==============================] - 0s 22ms/step - loss: 9.2459e-04 - val_loss: 0.0154\n",
            "Epoch 39/100\n",
            "9/9 [==============================] - 0s 26ms/step - loss: 9.5355e-04 - val_loss: 0.0078\n",
            "Epoch 40/100\n",
            "9/9 [==============================] - 0s 23ms/step - loss: 7.7243e-04 - val_loss: 0.0080\n",
            "Epoch 41/100\n",
            "9/9 [==============================] - 0s 26ms/step - loss: 7.8654e-04 - val_loss: 0.0166\n",
            "Epoch 42/100\n",
            "9/9 [==============================] - 0s 23ms/step - loss: 8.9439e-04 - val_loss: 0.0118\n",
            "Epoch 43/100\n",
            "9/9 [==============================] - 0s 26ms/step - loss: 9.2580e-04 - val_loss: 0.0302\n",
            "Epoch 44/100\n",
            "9/9 [==============================] - 0s 22ms/step - loss: 7.1334e-04 - val_loss: 0.0146\n",
            "Epoch 45/100\n",
            "9/9 [==============================] - 0s 24ms/step - loss: 8.8171e-04 - val_loss: 0.0268\n",
            "Epoch 46/100\n",
            "9/9 [==============================] - 0s 24ms/step - loss: 7.6538e-04 - val_loss: 0.0258\n",
            "Epoch 47/100\n",
            "9/9 [==============================] - 0s 27ms/step - loss: 8.4585e-04 - val_loss: 0.0167\n",
            "Epoch 48/100\n",
            "9/9 [==============================] - 0s 26ms/step - loss: 9.5537e-04 - val_loss: 0.0268\n",
            "Epoch 49/100\n",
            "9/9 [==============================] - 0s 25ms/step - loss: 8.4459e-04 - val_loss: 0.0291\n",
            "Epoch 50/100\n",
            "9/9 [==============================] - 0s 24ms/step - loss: 9.9370e-04 - val_loss: 0.0123\n",
            "Epoch 51/100\n",
            "9/9 [==============================] - 0s 24ms/step - loss: 7.5087e-04 - val_loss: 0.0320\n",
            "Epoch 52/100\n",
            "9/9 [==============================] - 0s 24ms/step - loss: 7.6775e-04 - val_loss: 0.0259\n",
            "Epoch 53/100\n",
            "9/9 [==============================] - 0s 26ms/step - loss: 7.2439e-04 - val_loss: 0.0321\n",
            "Epoch 54/100\n",
            "9/9 [==============================] - 0s 25ms/step - loss: 7.0374e-04 - val_loss: 0.0294\n",
            "Epoch 55/100\n",
            "9/9 [==============================] - 0s 25ms/step - loss: 7.0607e-04 - val_loss: 0.0423\n",
            "Epoch 56/100\n",
            "9/9 [==============================] - 0s 28ms/step - loss: 7.0766e-04 - val_loss: 0.0767\n",
            "Epoch 57/100\n",
            "9/9 [==============================] - 0s 26ms/step - loss: 7.9228e-04 - val_loss: 0.0424\n",
            "Epoch 58/100\n",
            "9/9 [==============================] - 0s 31ms/step - loss: 9.0249e-04 - val_loss: 0.0748\n",
            "Epoch 59/100\n",
            "9/9 [==============================] - 0s 25ms/step - loss: 7.1253e-04 - val_loss: 0.0647\n",
            "Epoch 60/100\n",
            "9/9 [==============================] - 0s 25ms/step - loss: 7.7151e-04 - val_loss: 0.0702\n",
            "Epoch 61/100\n",
            "9/9 [==============================] - 0s 26ms/step - loss: 7.5656e-04 - val_loss: 0.0854\n",
            "Epoch 62/100\n",
            "9/9 [==============================] - 0s 25ms/step - loss: 7.3824e-04 - val_loss: 0.0601\n",
            "Epoch 63/100\n",
            "9/9 [==============================] - 0s 25ms/step - loss: 6.9261e-04 - val_loss: 0.0723\n",
            "Epoch 64/100\n",
            "9/9 [==============================] - 0s 23ms/step - loss: 6.9291e-04 - val_loss: 0.0830\n",
            "Epoch 65/100\n",
            "9/9 [==============================] - 0s 23ms/step - loss: 6.8312e-04 - val_loss: 0.0920\n",
            "Epoch 66/100\n",
            "9/9 [==============================] - 0s 27ms/step - loss: 7.0178e-04 - val_loss: 0.1062\n",
            "Epoch 67/100\n",
            "9/9 [==============================] - 0s 25ms/step - loss: 7.1043e-04 - val_loss: 0.0926\n",
            "Epoch 68/100\n",
            "9/9 [==============================] - 0s 25ms/step - loss: 7.1248e-04 - val_loss: 0.0773\n",
            "Epoch 69/100\n",
            "9/9 [==============================] - 0s 26ms/step - loss: 6.8268e-04 - val_loss: 0.0980\n",
            "Epoch 70/100\n",
            "9/9 [==============================] - 0s 23ms/step - loss: 6.6755e-04 - val_loss: 0.1125\n",
            "Epoch 71/100\n",
            "9/9 [==============================] - 0s 24ms/step - loss: 6.6338e-04 - val_loss: 0.1195\n",
            "Epoch 72/100\n",
            "9/9 [==============================] - 0s 24ms/step - loss: 7.5234e-04 - val_loss: 0.1590\n",
            "Epoch 73/100\n",
            "9/9 [==============================] - 0s 23ms/step - loss: 6.7773e-04 - val_loss: 0.1053\n",
            "Epoch 74/100\n",
            "9/9 [==============================] - 0s 38ms/step - loss: 6.8817e-04 - val_loss: 0.1107\n",
            "Epoch 75/100\n",
            "9/9 [==============================] - 0s 49ms/step - loss: 6.6757e-04 - val_loss: 0.1086\n",
            "Epoch 76/100\n",
            "9/9 [==============================] - 0s 48ms/step - loss: 6.6457e-04 - val_loss: 0.1164\n",
            "Epoch 77/100\n",
            "9/9 [==============================] - 0s 49ms/step - loss: 6.6115e-04 - val_loss: 0.1076\n",
            "Epoch 78/100\n",
            "9/9 [==============================] - 0s 49ms/step - loss: 6.7783e-04 - val_loss: 0.0874\n",
            "Epoch 79/100\n",
            "9/9 [==============================] - 0s 43ms/step - loss: 6.7063e-04 - val_loss: 0.0710\n",
            "Epoch 80/100\n",
            "9/9 [==============================] - 0s 47ms/step - loss: 6.6790e-04 - val_loss: 0.0838\n",
            "Epoch 81/100\n",
            "9/9 [==============================] - 0s 53ms/step - loss: 6.7153e-04 - val_loss: 0.0842\n",
            "Epoch 82/100\n",
            "9/9 [==============================] - 0s 38ms/step - loss: 7.0641e-04 - val_loss: 0.0921\n",
            "Epoch 83/100\n",
            "9/9 [==============================] - 0s 25ms/step - loss: 7.0166e-04 - val_loss: 0.0853\n",
            "Epoch 84/100\n",
            "9/9 [==============================] - 0s 24ms/step - loss: 7.4837e-04 - val_loss: 0.0708\n",
            "Epoch 85/100\n",
            "9/9 [==============================] - 0s 23ms/step - loss: 6.7217e-04 - val_loss: 0.0940\n",
            "Epoch 86/100\n",
            "9/9 [==============================] - 0s 28ms/step - loss: 6.7045e-04 - val_loss: 0.0957\n",
            "Epoch 87/100\n",
            "9/9 [==============================] - 0s 24ms/step - loss: 6.9402e-04 - val_loss: 0.1151\n",
            "Epoch 88/100\n",
            "9/9 [==============================] - 0s 25ms/step - loss: 6.7944e-04 - val_loss: 0.0965\n",
            "Epoch 89/100\n",
            "9/9 [==============================] - 0s 27ms/step - loss: 7.6862e-04 - val_loss: 0.0894\n",
            "Epoch 90/100\n",
            "9/9 [==============================] - 0s 25ms/step - loss: 6.6779e-04 - val_loss: 0.1046\n",
            "Epoch 91/100\n",
            "9/9 [==============================] - 0s 29ms/step - loss: 7.6847e-04 - val_loss: 0.0679\n",
            "Epoch 92/100\n",
            "9/9 [==============================] - 0s 23ms/step - loss: 6.6642e-04 - val_loss: 0.0964\n",
            "Epoch 93/100\n",
            "9/9 [==============================] - 0s 24ms/step - loss: 7.1730e-04 - val_loss: 0.1056\n",
            "Epoch 94/100\n",
            "9/9 [==============================] - 0s 27ms/step - loss: 6.9281e-04 - val_loss: 0.1027\n",
            "Epoch 95/100\n",
            "9/9 [==============================] - 0s 28ms/step - loss: 6.8693e-04 - val_loss: 0.0995\n",
            "Epoch 96/100\n",
            "9/9 [==============================] - 0s 27ms/step - loss: 7.0601e-04 - val_loss: 0.1027\n",
            "Epoch 97/100\n",
            "9/9 [==============================] - 0s 25ms/step - loss: 6.8173e-04 - val_loss: 0.0813\n",
            "Epoch 98/100\n",
            "9/9 [==============================] - 0s 24ms/step - loss: 6.7772e-04 - val_loss: 0.0862\n",
            "Epoch 99/100\n",
            "9/9 [==============================] - 0s 31ms/step - loss: 7.4491e-04 - val_loss: 0.1139\n",
            "Epoch 100/100\n",
            "9/9 [==============================] - 0s 23ms/step - loss: 7.3921e-04 - val_loss: 0.0806\n"
          ]
        },
        {
          "output_type": "execute_result",
          "data": {
            "text/plain": [
              "<keras.callbacks.History at 0x7fae5fd99c70>"
            ]
          },
          "metadata": {},
          "execution_count": 75
        }
      ]
    },
    {
      "cell_type": "markdown",
      "metadata": {
        "id": "5M2nxSRnGbPe"
      },
      "source": [
        "# **Prediction**"
      ]
    },
    {
      "cell_type": "code",
      "metadata": {
        "id": "rJVXqWhpX7Tb",
        "colab": {
          "base_uri": "https://localhost:8080/"
        },
        "outputId": "693254a6-f645-4045-892c-68db2fb9d95c"
      },
      "source": [
        "train_predict=model3.predict(X_train)\n",
        "test_predict=model3.predict(X_test)\n",
        "##Transformback to original form\n",
        "train_predict=scaler.inverse_transform(train_predict)\n",
        "test_predict=scaler.inverse_transform(test_predict)"
      ],
      "execution_count": 76,
      "outputs": [
        {
          "output_type": "stream",
          "name": "stdout",
          "text": [
            "9/9 [==============================] - 0s 3ms/step\n",
            "5/5 [==============================] - 0s 4ms/step\n"
          ]
        }
      ]
    },
    {
      "cell_type": "markdown",
      "metadata": {
        "id": "g-w5UmOj4IOd"
      },
      "source": [
        "# **Performence Matrix**"
      ]
    },
    {
      "cell_type": "markdown",
      "metadata": {
        "id": "eywpegkK4NtM"
      },
      "source": [
        "## **MSE**"
      ]
    },
    {
      "cell_type": "code",
      "metadata": {
        "colab": {
          "base_uri": "https://localhost:8080/"
        },
        "id": "tbIamdNo308X",
        "outputId": "eb911611-1ca8-4444-ef0c-ba77f258faf3"
      },
      "source": [
        "mean_squared_error(y_train,train_predict)"
      ],
      "execution_count": 77,
      "outputs": [
        {
          "output_type": "execute_result",
          "data": {
            "text/plain": [
              "1694.8434463772915"
            ]
          },
          "metadata": {},
          "execution_count": 77
        }
      ]
    },
    {
      "cell_type": "code",
      "metadata": {
        "colab": {
          "base_uri": "https://localhost:8080/"
        },
        "id": "DqTB-fCR32R9",
        "outputId": "7bac8186-8825-46e8-a256-64c80de3e6ee"
      },
      "source": [
        "### Test Data RMSE\n",
        "mean_squared_error(ytest,test_predict)"
      ],
      "execution_count": 78,
      "outputs": [
        {
          "output_type": "execute_result",
          "data": {
            "text/plain": [
              "6524.380949271206"
            ]
          },
          "metadata": {},
          "execution_count": 78
        }
      ]
    },
    {
      "cell_type": "markdown",
      "metadata": {
        "id": "pOZ9kfqz4RoV"
      },
      "source": [
        "## **RMSE**"
      ]
    },
    {
      "cell_type": "code",
      "metadata": {
        "colab": {
          "base_uri": "https://localhost:8080/"
        },
        "id": "--q1N7beY3YU",
        "outputId": "7fe07451-9003-4e8e-b850-7802bd54e597"
      },
      "source": [
        "### Calculate RMSE performance metrics\n",
        "math.sqrt(mean_squared_error(y_train,train_predict))"
      ],
      "execution_count": 79,
      "outputs": [
        {
          "output_type": "execute_result",
          "data": {
            "text/plain": [
              "41.16847636696422"
            ]
          },
          "metadata": {},
          "execution_count": 79
        }
      ]
    },
    {
      "cell_type": "code",
      "metadata": {
        "colab": {
          "base_uri": "https://localhost:8080/"
        },
        "id": "Q3SRTZsPZEiS",
        "outputId": "dbc1bc8d-a15e-4d9f-f4b1-e73d635bf01b"
      },
      "source": [
        "### Test Data RMSE\n",
        "math.sqrt(mean_squared_error(ytest,test_predict))"
      ],
      "execution_count": 80,
      "outputs": [
        {
          "output_type": "execute_result",
          "data": {
            "text/plain": [
              "80.77364018831395"
            ]
          },
          "metadata": {},
          "execution_count": 80
        }
      ]
    },
    {
      "cell_type": "markdown",
      "metadata": {
        "id": "_wxLwd0a48gP"
      },
      "source": [
        "## **MAE**"
      ]
    },
    {
      "cell_type": "code",
      "metadata": {
        "colab": {
          "base_uri": "https://localhost:8080/"
        },
        "id": "gkjFSXhH5AsU",
        "outputId": "60de9510-e0d0-4984-b825-7188a268fa99"
      },
      "source": [
        "mean_absolute_error(y_train,train_predict)"
      ],
      "execution_count": 81,
      "outputs": [
        {
          "output_type": "execute_result",
          "data": {
            "text/plain": [
              "34.31224459955632"
            ]
          },
          "metadata": {},
          "execution_count": 81
        }
      ]
    },
    {
      "cell_type": "code",
      "metadata": {
        "colab": {
          "base_uri": "https://localhost:8080/"
        },
        "id": "X1nPg-Pj5Ait",
        "outputId": "812c6b75-07de-4a48-9ec6-d812d5bdcf1f"
      },
      "source": [
        "### Test Data MAE\n",
        "mean_absolute_error(ytest,test_predict)"
      ],
      "execution_count": 82,
      "outputs": [
        {
          "output_type": "execute_result",
          "data": {
            "text/plain": [
              "58.4665023657439"
            ]
          },
          "metadata": {},
          "execution_count": 82
        }
      ]
    },
    {
      "cell_type": "code",
      "metadata": {
        "colab": {
          "base_uri": "https://localhost:8080/",
          "height": 265
        },
        "id": "QZ2NR-WDZGTa",
        "outputId": "319b1c11-7597-4274-91d7-973b83fd6a87"
      },
      "source": [
        "### Plotting \n",
        "# shift train predictions for plotting\n",
        "look_back=10\n",
        "trainPredictPlot = numpy.empty_like(df1)\n",
        "trainPredictPlot[:, :] = np.nan\n",
        "trainPredictPlot[look_back:len(train_predict)+look_back, :] = train_predict\n",
        "# shift test predictions for plotting\n",
        "testPredictPlot = numpy.empty_like(df1)\n",
        "testPredictPlot[:, :] = numpy.nan\n",
        "testPredictPlot[len(train_predict)+(look_back*2)+1:len(df1)-1, :] = test_predict\n",
        "# plot baseline and predictions\n",
        "plt.plot(scaler.inverse_transform(df1))\n",
        "plt.plot(trainPredictPlot)\n",
        "plt.plot(testPredictPlot)\n",
        "plt.show()"
      ],
      "execution_count": 83,
      "outputs": [
        {
          "output_type": "display_data",
          "data": {
            "text/plain": [
              "<Figure size 432x288 with 1 Axes>"
            ],
            "image/png": "[encoded data removed]"
          },
          "metadata": {
            "needs_background": "light"
          }
        }
      ]
    },
    {
      "cell_type": "code",
      "metadata": {
        "colab": {
          "base_uri": "https://localhost:8080/"
        },
        "id": "NvkswuURZO91",
        "outputId": "f6747b59-697e-4829-b42f-4871834e378e"
      },
      "source": [
        "x_input=test_data[137:].reshape(1,-1)\n",
        "x_input.shape"
      ],
      "execution_count": 84,
      "outputs": [
        {
          "output_type": "execute_result",
          "data": {
            "text/plain": [
              "(1, 10)"
            ]
          },
          "metadata": {},
          "execution_count": 84
        }
      ]
    },
    {
      "cell_type": "code",
      "metadata": {
        "id": "C3xPO9GNZZqq"
      },
      "source": [
        "temp_input=list(x_input)\n",
        "temp_input=temp_input[0].tolist()"
      ],
      "execution_count": 85,
      "outputs": []
    },
    {
      "cell_type": "code",
      "metadata": {
        "colab": {
          "base_uri": "https://localhost:8080/"
        },
        "id": "iGbwDep0ZbHy",
        "outputId": "96b58209-bf4c-4298-8941-f80e0fd2caaa"
      },
      "source": [
        "# demonstrate prediction for next 10 days\n",
        "from numpy import array\n",
        "\n",
        "lst_output=[]\n",
        "n_steps=10\n",
        "i=0\n",
        "while(i<30):\n",
        "    \n",
        "    if(len(temp_input)>10):\n",
        "        #print(temp_input)\n",
        "        x_input=np.array(temp_input[1:])\n",
        "        print(\"{} day input {}\".format(i,x_input))\n",
        "        x_input=x_input.reshape(1,-1)\n",
        "        x_input = x_input.reshape((1, n_steps, 1))\n",
        "        #print(x_input)\n",
        "        yhat = model3.predict(x_input, verbose=0)\n",
        "        print(\"{} day output {}\".format(i,yhat))\n",
        "        temp_input.extend(yhat[0].tolist())\n",
        "        temp_input=temp_input[1:]\n",
        "        #print(temp_input)\n",
        "        lst_output.extend(yhat.tolist())\n",
        "        i=i+1\n",
        "    else:\n",
        "        x_input = x_input.reshape((1, n_steps,1))\n",
        "        yhat = model3.predict(x_input, verbose=0)\n",
        "        print(yhat[0])\n",
        "        temp_input.extend(yhat[0].tolist())\n",
        "        print(len(temp_input))\n",
        "        lst_output.extend(yhat.tolist())\n",
        "        i=i+1\n",
        "    \n",
        "\n",
        "print(lst_output)"
      ],
      "execution_count": 86,
      "outputs": [
        {
          "output_type": "stream",
          "name": "stdout",
          "text": [
            "[0.0183197]\n",
            "11\n",
            "1 day input [0.         0.01520913 0.01901141 0.01140684 0.01140684 0.00380228\n",
            " 0.01901141 0.01520913 0.02281369 0.0183197 ]\n",
            "1 day output [[0.01945245]]\n",
            "2 day input [0.01520913 0.01901141 0.01140684 0.01140684 0.00380228 0.01901141\n",
            " 0.01520913 0.02281369 0.0183197  0.01945245]\n",
            "2 day output [[0.02045937]]\n",
            "3 day input [0.01901141 0.01140684 0.01140684 0.00380228 0.01901141 0.01520913\n",
            " 0.02281369 0.0183197  0.01945245 0.02045937]\n",
            "3 day output [[0.02176512]]\n",
            "4 day input [0.01140684 0.01140684 0.00380228 0.01901141 0.01520913 0.02281369\n",
            " 0.0183197  0.01945245 0.02045937 0.02176512]\n",
            "4 day output [[0.02339308]]\n",
            "5 day input [0.01140684 0.00380228 0.01901141 0.01520913 0.02281369 0.0183197\n",
            " 0.01945245 0.02045937 0.02176512 0.02339308]\n",
            "5 day output [[0.02477448]]\n",
            "6 day input [0.00380228 0.01901141 0.01520913 0.02281369 0.0183197  0.01945245\n",
            " 0.02045937 0.02176512 0.02339308 0.02477448]\n",
            "6 day output [[0.02616049]]\n",
            "7 day input [0.01901141 0.01520913 0.02281369 0.0183197  0.01945245 0.02045937\n",
            " 0.02176512 0.02339308 0.02477448 0.02616049]\n",
            "7 day output [[0.02729404]]\n",
            "8 day input [0.01520913 0.02281369 0.0183197  0.01945245 0.02045937 0.02176512\n",
            " 0.02339308 0.02477448 0.02616049 0.02729404]\n",
            "8 day output [[0.02873536]]\n",
            "9 day input [0.02281369 0.0183197  0.01945245 0.02045937 0.02176512 0.02339308\n",
            " 0.02477448 0.02616049 0.02729404 0.02873536]\n",
            "9 day output [[0.03016155]]\n",
            "10 day input [0.0183197  0.01945245 0.02045937 0.02176512 0.02339308 0.02477448\n",
            " 0.02616049 0.02729404 0.02873536 0.03016155]\n",
            "10 day output [[0.03182983]]\n",
            "11 day input [0.01945245 0.02045937 0.02176512 0.02339308 0.02477448 0.02616049\n",
            " 0.02729404 0.02873536 0.03016155 0.03182983]\n",
            "11 day output [[0.03349913]]\n",
            "12 day input [0.02045937 0.02176512 0.02339308 0.02477448 0.02616049 0.02729404\n",
            " 0.02873536 0.03016155 0.03182983 0.03349913]\n",
            "12 day output [[0.03523026]]\n",
            "13 day input [0.02176512 0.02339308 0.02477448 0.02616049 0.02729404 0.02873536\n",
            " 0.03016155 0.03182983 0.03349913 0.03523026]\n",
            "13 day output [[0.03699409]]\n",
            "14 day input [0.02339308 0.02477448 0.02616049 0.02729404 0.02873536 0.03016155\n",
            " 0.03182983 0.03349913 0.03523026 0.03699409]\n",
            "14 day output [[0.03878061]]\n",
            "15 day input [0.02477448 0.02616049 0.02729404 0.02873536 0.03016155 0.03182983\n",
            " 0.03349913 0.03523026 0.03699409 0.03878061]\n",
            "15 day output [[0.04064351]]\n",
            "16 day input [0.02616049 0.02729404 0.02873536 0.03016155 0.03182983 0.03349913\n",
            " 0.03523026 0.03699409 0.03878061 0.04064351]\n",
            "16 day output [[0.04254603]]\n",
            "17 day input [0.02729404 0.02873536 0.03016155 0.03182983 0.03349913 0.03523026\n",
            " 0.03699409 0.03878061 0.04064351 0.04254603]\n",
            "17 day output [[0.04451102]]\n",
            "18 day input [0.02873536 0.03016155 0.03182983 0.03349913 0.03523026 0.03699409\n",
            " 0.03878061 0.04064351 0.04254603 0.04451102]\n",
            "18 day output [[0.0464915]]\n",
            "19 day input [0.03016155 0.03182983 0.03349913 0.03523026 0.03699409 0.03878061\n",
            " 0.04064351 0.04254603 0.04451102 0.0464915 ]\n",
            "19 day output [[0.04851659]]\n",
            "20 day input [0.03182983 0.03349913 0.03523026 0.03699409 0.03878061 0.04064351\n",
            " 0.04254603 0.04451102 0.0464915  0.04851659]\n",
            "20 day output [[0.05057587]]\n",
            "21 day input [0.03349913 0.03523026 0.03699409 0.03878061 0.04064351 0.04254603\n",
            " 0.04451102 0.0464915  0.04851659 0.05057587]\n",
            "21 day output [[0.05267944]]\n",
            "22 day input [0.03523026 0.03699409 0.03878061 0.04064351 0.04254603 0.04451102\n",
            " 0.0464915  0.04851659 0.05057587 0.05267944]\n",
            "22 day output [[0.05482379]]\n",
            "23 day input [0.03699409 0.03878061 0.04064351 0.04254603 0.04451102 0.0464915\n",
            " 0.04851659 0.05057587 0.05267944 0.05482379]\n",
            "23 day output [[0.05701199]]\n",
            "24 day input [0.03878061 0.04064351 0.04254603 0.04451102 0.0464915  0.04851659\n",
            " 0.05057587 0.05267944 0.05482379 0.05701199]\n",
            "24 day output [[0.05924513]]\n",
            "25 day input [0.04064351 0.04254603 0.04451102 0.0464915  0.04851659 0.05057587\n",
            " 0.05267944 0.05482379 0.05701199 0.05924513]\n",
            "25 day output [[0.06156017]]\n",
            "26 day input [0.04254603 0.04451102 0.0464915  0.04851659 0.05057587 0.05267944\n",
            " 0.05482379 0.05701199 0.05924513 0.06156017]\n",
            "26 day output [[0.06395166]]\n",
            "27 day input [0.04451102 0.0464915  0.04851659 0.05057587 0.05267944 0.05482379\n",
            " 0.05701199 0.05924513 0.06156017 0.06395166]\n",
            "27 day output [[0.06640824]]\n",
            "28 day input [0.0464915  0.04851659 0.05057587 0.05267944 0.05482379 0.05701199\n",
            " 0.05924513 0.06156017 0.06395166 0.06640824]\n",
            "28 day output [[0.0689273]]\n",
            "29 day input [0.04851659 0.05057587 0.05267944 0.05482379 0.05701199 0.05924513\n",
            " 0.06156017 0.06395166 0.06640824 0.0689273 ]\n",
            "29 day output [[0.07151193]]\n",
            "[[0.01831970177590847], [0.019452454522252083], [0.02045937068760395], [0.021765122190117836], [0.02339308150112629], [0.02477448247373104], [0.02616049163043499], [0.027294043451547623], [0.028735360130667686], [0.030161548405885696], [0.031829833984375], [0.03349912911653519], [0.035230256617069244], [0.0369940921664238], [0.03878060728311539], [0.04064350575208664], [0.04254602640867233], [0.04451102018356323], [0.04649150371551514], [0.04851658642292023], [0.050575874745845795], [0.05267943814396858], [0.05482379347085953], [0.05701199173927307], [0.05924513190984726], [0.061560168862342834], [0.06395165622234344], [0.06640823930501938], [0.06892729550600052], [0.07151193171739578]]\n"
          ]
        }
      ]
    },
    {
      "cell_type": "code",
      "metadata": {
        "id": "WDKNYR_HZlMg"
      },
      "source": [
        "day_new=np.arange(1,101)\n",
        "day_pred=np.arange(101,131)   "
      ],
      "execution_count": 87,
      "outputs": []
    },
    {
      "cell_type": "code",
      "metadata": {
        "id": "cdZXW7RcRJK-"
      },
      "source": [],
      "execution_count": 87,
      "outputs": []
    },
    {
      "cell_type": "code",
      "metadata": {
        "colab": {
          "base_uri": "https://localhost:8080/",
          "height": 282
        },
        "id": "TJdnmujbZlIP",
        "outputId": "611f9363-e59e-4a6a-8c2c-c0180fc87a04"
      },
      "source": [
        "plt.plot(day_new,scaler.inverse_transform(df1[319:]))\n",
        "plt.plot(day_pred,scaler.inverse_transform(lst_output))"
      ],
      "execution_count": 88,
      "outputs": [
        {
          "output_type": "execute_result",
          "data": {
            "text/plain": [
              "[<matplotlib.lines.Line2D at 0x7fae5f9ffe80>]"
            ]
          },
          "metadata": {},
          "execution_count": 88
        },
        {
          "output_type": "display_data",
          "data": {
            "text/plain": [
              "<Figure size 432x288 with 1 Axes>"
            ],
            "image/png": "[encoded data removed]"
          },
          "metadata": {
            "needs_background": "light"
          }
        }
      ]
    },
    {
      "cell_type": "code",
      "metadata": {
        "colab": {
          "base_uri": "https://localhost:8080/",
          "height": 282
        },
        "id": "uq5ZynCaZlDu",
        "outputId": "55d6cfc3-522b-4234-85e9-4ea3513087df"
      },
      "source": [
        "df3=df1.tolist()\n",
        "df3.extend(lst_output)\n",
        "plt.plot(df3[310:])"
      ],
      "execution_count": 89,
      "outputs": [
        {
          "output_type": "execute_result",
          "data": {
            "text/plain": [
              "[<matplotlib.lines.Line2D at 0x7fae5f979e50>]"
            ]
          },
          "metadata": {},
          "execution_count": 89
        },
        {
          "output_type": "display_data",
          "data": {
            "text/plain": [
              "<Figure size 432x288 with 1 Axes>"
            ],
            "image/png": "[encoded data removed]"
          },
          "metadata": {
            "needs_background": "light"
          }
        }
      ]
    },
    {
      "cell_type": "code",
      "metadata": {
        "colab": {
          "base_uri": "https://localhost:8080/",
          "height": 282
        },
        "id": "v5eSUsMaaLp_",
        "outputId": "2a1649d2-1e43-4be6-c973-3ffb075e394f"
      },
      "source": [
        "df3=scaler.inverse_transform(df3).tolist()\n",
        "plt.plot(df3)"
      ],
      "execution_count": 90,
      "outputs": [
        {
          "output_type": "execute_result",
          "data": {
            "text/plain": [
              "[<matplotlib.lines.Line2D at 0x7fae5f8b8a60>]"
            ]
          },
          "metadata": {},
          "execution_count": 90
        },
        {
          "output_type": "display_data",
          "data": {
            "text/plain": [
              "<Figure size 432x288 with 1 Axes>"
            ],
            "image/png": "[encoded data removed]"
          },
          "metadata": {
            "needs_background": "light"
          }
        }
      ]
    },
    {
      "cell_type": "markdown",
      "metadata": {
        "id": "fki4gj64TYyC"
      },
      "source": [
        "# **ConvLSTM1D**"
      ]
    },
    {
      "cell_type": "code",
      "metadata": {
        "id": "OM9c-vAxcV3Q"
      },
      "source": [
        "X_train = X_train.reshape((261, 1, 10, 1))\n",
        "X_test = X_test.reshape((136, 1, 10, 1))"
      ],
      "execution_count": 91,
      "outputs": []
    },
    {
      "cell_type": "code",
      "metadata": {
        "colab": {
          "base_uri": "https://localhost:8080/"
        },
        "id": "GCGGq7UETYea",
        "outputId": "30d40784-32ad-40a1-fbd9-d04acd64691f"
      },
      "source": [
        "from keras.layers import Flatten\n",
        "from keras.layers import TimeDistributed\n",
        "from keras.layers.convolutional import Conv1D\n",
        "from keras.layers.convolutional import MaxPooling1D\n",
        "model4 = Sequential()\n",
        "model4.add(TimeDistributed(Conv1D(filters=64, kernel_size=1, activation='relu'), input_shape=(None,10,1)))\n",
        "model4.add(TimeDistributed(MaxPooling1D(pool_size=2)))\n",
        "model4.add(TimeDistributed(Flatten()))\n",
        "model4.add(LSTM(50, activation='relu'))\n",
        "model4.add(Dense(1))\n",
        "model4.compile(loss='mean_squared_error',optimizer='adam')"
      ],
      "execution_count": 92,
      "outputs": [
        {
          "output_type": "stream",
          "name": "stderr",
          "text": [
            "WARNING:tensorflow:Layer lstm_6 will not use cuDNN kernels since it doesn't meet the criteria. It will use a generic GPU kernel as fallback when running on GPU.\n"
          ]
        }
      ]
    },
    {
      "cell_type": "code",
      "metadata": {
        "colab": {
          "base_uri": "https://localhost:8080/"
        },
        "id": "FfNxtKa8b19L",
        "outputId": "eef813c5-d177-463d-8247-7e636e5522e0"
      },
      "source": [
        "model4.summary()"
      ],
      "execution_count": 93,
      "outputs": [
        {
          "output_type": "stream",
          "name": "stdout",
          "text": [
            "Model: \"sequential_3\"\n",
            "_________________________________________________________________\n",
            " Layer (type)                Output Shape              Param #   \n",
            "=================================================================\n",
            " time_distributed (TimeDistr  (None, None, 10, 64)     128       \n",
            " ibuted)                                                         \n",
            "                                                                 \n",
            " time_distributed_1 (TimeDis  (None, None, 5, 64)      0         \n",
            " tributed)                                                       \n",
            "                                                                 \n",
            " time_distributed_2 (TimeDis  (None, None, 320)        0         \n",
            " tributed)                                                       \n",
            "                                                                 \n",
            " lstm_6 (LSTM)               (None, 50)                74200     \n",
            "                                                                 \n",
            " dense_3 (Dense)             (None, 1)                 51        \n",
            "                                                                 \n",
            "=================================================================\n",
            "Total params: 74,379\n",
            "Trainable params: 74,379\n",
            "Non-trainable params: 0\n",
            "_________________________________________________________________\n"
          ]
        }
      ]
    },
    {
      "cell_type": "code",
      "metadata": {
        "colab": {
          "base_uri": "https://localhost:8080/"
        },
        "id": "ZChlqcZxbzz3",
        "outputId": "621584a3-215f-433a-d6ec-60c6bdd374fe"
      },
      "source": [
        "model4.fit(X_train,y_train,validation_data=(X_test,ytest),epochs=100,batch_size=32,verbose=1)"
      ],
      "execution_count": 94,
      "outputs": [
        {
          "output_type": "stream",
          "name": "stdout",
          "text": [
            "Epoch 1/100\n",
            "9/9 [==============================] - 7s 52ms/step - loss: 0.0185 - val_loss: 0.1591\n",
            "Epoch 2/100\n",
            "9/9 [==============================] - 0s 11ms/step - loss: 0.0088 - val_loss: 0.0651\n",
            "Epoch 3/100\n",
            "9/9 [==============================] - 0s 14ms/step - loss: 0.0034 - val_loss: 0.0136\n",
            "Epoch 4/100\n",
            "9/9 [==============================] - 0s 12ms/step - loss: 0.0034 - val_loss: 0.0125\n",
            "Epoch 5/100\n",
            "9/9 [==============================] - 0s 11ms/step - loss: 0.0024 - val_loss: 0.0113\n",
            "Epoch 6/100\n",
            "9/9 [==============================] - 0s 11ms/step - loss: 0.0021 - val_loss: 0.0127\n",
            "Epoch 7/100\n",
            "9/9 [==============================] - 0s 10ms/step - loss: 0.0018 - val_loss: 0.0231\n",
            "Epoch 8/100\n",
            "9/9 [==============================] - 0s 11ms/step - loss: 0.0016 - val_loss: 0.0274\n",
            "Epoch 9/100\n",
            "9/9 [==============================] - 0s 12ms/step - loss: 0.0016 - val_loss: 0.0390\n",
            "Epoch 10/100\n",
            "9/9 [==============================] - 0s 10ms/step - loss: 0.0016 - val_loss: 0.0364\n",
            "Epoch 11/100\n",
            "9/9 [==============================] - 0s 11ms/step - loss: 0.0015 - val_loss: 0.0494\n",
            "Epoch 12/100\n",
            "9/9 [==============================] - 0s 12ms/step - loss: 0.0015 - val_loss: 0.0320\n",
            "Epoch 13/100\n",
            "9/9 [==============================] - 0s 10ms/step - loss: 0.0014 - val_loss: 0.0464\n",
            "Epoch 14/100\n",
            "9/9 [==============================] - 0s 11ms/step - loss: 0.0014 - val_loss: 0.0431\n",
            "Epoch 15/100\n",
            "9/9 [==============================] - 0s 12ms/step - loss: 0.0013 - val_loss: 0.0377\n",
            "Epoch 16/100\n",
            "9/9 [==============================] - 0s 12ms/step - loss: 0.0013 - val_loss: 0.0421\n",
            "Epoch 17/100\n",
            "9/9 [==============================] - 0s 11ms/step - loss: 0.0013 - val_loss: 0.0418\n",
            "Epoch 18/100\n",
            "9/9 [==============================] - 0s 10ms/step - loss: 0.0012 - val_loss: 0.0370\n",
            "Epoch 19/100\n",
            "9/9 [==============================] - 0s 12ms/step - loss: 0.0012 - val_loss: 0.0402\n",
            "Epoch 20/100\n",
            "9/9 [==============================] - 0s 11ms/step - loss: 0.0012 - val_loss: 0.0359\n",
            "Epoch 21/100\n",
            "9/9 [==============================] - 0s 12ms/step - loss: 0.0012 - val_loss: 0.0257\n",
            "Epoch 22/100\n",
            "9/9 [==============================] - 0s 12ms/step - loss: 0.0012 - val_loss: 0.0356\n",
            "Epoch 23/100\n",
            "9/9 [==============================] - 0s 11ms/step - loss: 0.0011 - val_loss: 0.0256\n",
            "Epoch 24/100\n",
            "9/9 [==============================] - 0s 11ms/step - loss: 0.0011 - val_loss: 0.0332\n",
            "Epoch 25/100\n",
            "9/9 [==============================] - 0s 12ms/step - loss: 0.0010 - val_loss: 0.0290\n",
            "Epoch 26/100\n",
            "9/9 [==============================] - 0s 11ms/step - loss: 0.0010 - val_loss: 0.0292\n",
            "Epoch 27/100\n",
            "9/9 [==============================] - 0s 11ms/step - loss: 9.8066e-04 - val_loss: 0.0256\n",
            "Epoch 28/100\n",
            "9/9 [==============================] - 0s 11ms/step - loss: 9.6230e-04 - val_loss: 0.0268\n",
            "Epoch 29/100\n",
            "9/9 [==============================] - 0s 11ms/step - loss: 9.3997e-04 - val_loss: 0.0279\n",
            "Epoch 30/100\n",
            "9/9 [==============================] - 0s 12ms/step - loss: 9.7877e-04 - val_loss: 0.0250\n",
            "Epoch 31/100\n",
            "9/9 [==============================] - 0s 11ms/step - loss: 9.2140e-04 - val_loss: 0.0293\n",
            "Epoch 32/100\n",
            "9/9 [==============================] - 0s 15ms/step - loss: 8.9815e-04 - val_loss: 0.0296\n",
            "Epoch 33/100\n",
            "9/9 [==============================] - 0s 10ms/step - loss: 8.9207e-04 - val_loss: 0.0217\n",
            "Epoch 34/100\n",
            "9/9 [==============================] - 0s 11ms/step - loss: 8.7807e-04 - val_loss: 0.0184\n",
            "Epoch 35/100\n",
            "9/9 [==============================] - 0s 11ms/step - loss: 8.5459e-04 - val_loss: 0.0188\n",
            "Epoch 36/100\n",
            "9/9 [==============================] - 0s 11ms/step - loss: 8.3648e-04 - val_loss: 0.0161\n",
            "Epoch 37/100\n",
            "9/9 [==============================] - 0s 10ms/step - loss: 8.2283e-04 - val_loss: 0.0148\n",
            "Epoch 38/100\n",
            "9/9 [==============================] - 0s 13ms/step - loss: 8.1004e-04 - val_loss: 0.0181\n",
            "Epoch 39/100\n",
            "9/9 [==============================] - 0s 11ms/step - loss: 8.1390e-04 - val_loss: 0.0175\n",
            "Epoch 40/100\n",
            "9/9 [==============================] - 0s 12ms/step - loss: 8.2656e-04 - val_loss: 0.0172\n",
            "Epoch 41/100\n",
            "9/9 [==============================] - 0s 13ms/step - loss: 8.4304e-04 - val_loss: 0.0149\n",
            "Epoch 42/100\n",
            "9/9 [==============================] - 0s 12ms/step - loss: 8.1901e-04 - val_loss: 0.0157\n",
            "Epoch 43/100\n",
            "9/9 [==============================] - 0s 12ms/step - loss: 7.9197e-04 - val_loss: 0.0155\n",
            "Epoch 44/100\n",
            "9/9 [==============================] - 0s 11ms/step - loss: 7.9520e-04 - val_loss: 0.0166\n",
            "Epoch 45/100\n",
            "9/9 [==============================] - 0s 11ms/step - loss: 8.1501e-04 - val_loss: 0.0101\n",
            "Epoch 46/100\n",
            "9/9 [==============================] - 0s 12ms/step - loss: 7.8931e-04 - val_loss: 0.0130\n",
            "Epoch 47/100\n",
            "9/9 [==============================] - 0s 11ms/step - loss: 7.8943e-04 - val_loss: 0.0168\n",
            "Epoch 48/100\n",
            "9/9 [==============================] - 0s 12ms/step - loss: 8.6385e-04 - val_loss: 0.0114\n",
            "Epoch 49/100\n",
            "9/9 [==============================] - 0s 11ms/step - loss: 0.0010 - val_loss: 0.0101\n",
            "Epoch 50/100\n",
            "9/9 [==============================] - 0s 11ms/step - loss: 8.6636e-04 - val_loss: 0.0077\n",
            "Epoch 51/100\n",
            "9/9 [==============================] - 0s 13ms/step - loss: 7.8360e-04 - val_loss: 0.0082\n",
            "Epoch 52/100\n",
            "9/9 [==============================] - 0s 9ms/step - loss: 7.7332e-04 - val_loss: 0.0098\n",
            "Epoch 53/100\n",
            "9/9 [==============================] - 0s 13ms/step - loss: 7.7026e-04 - val_loss: 0.0074\n",
            "Epoch 54/100\n",
            "9/9 [==============================] - 0s 10ms/step - loss: 8.0191e-04 - val_loss: 0.0098\n",
            "Epoch 55/100\n",
            "9/9 [==============================] - 0s 10ms/step - loss: 8.1024e-04 - val_loss: 0.0095\n",
            "Epoch 56/100\n",
            "9/9 [==============================] - 0s 10ms/step - loss: 7.9170e-04 - val_loss: 0.0090\n",
            "Epoch 57/100\n",
            "9/9 [==============================] - 0s 12ms/step - loss: 7.7976e-04 - val_loss: 0.0073\n",
            "Epoch 58/100\n",
            "9/9 [==============================] - 0s 11ms/step - loss: 7.6255e-04 - val_loss: 0.0065\n",
            "Epoch 59/100\n",
            "9/9 [==============================] - 0s 11ms/step - loss: 7.6269e-04 - val_loss: 0.0059\n",
            "Epoch 60/100\n",
            "9/9 [==============================] - 0s 11ms/step - loss: 8.0373e-04 - val_loss: 0.0060\n",
            "Epoch 61/100\n",
            "9/9 [==============================] - 0s 12ms/step - loss: 7.6079e-04 - val_loss: 0.0071\n",
            "Epoch 62/100\n",
            "9/9 [==============================] - 0s 12ms/step - loss: 7.9482e-04 - val_loss: 0.0066\n",
            "Epoch 63/100\n",
            "9/9 [==============================] - 0s 11ms/step - loss: 8.0890e-04 - val_loss: 0.0074\n",
            "Epoch 64/100\n",
            "9/9 [==============================] - 0s 11ms/step - loss: 7.7956e-04 - val_loss: 0.0061\n",
            "Epoch 65/100\n",
            "9/9 [==============================] - 0s 11ms/step - loss: 7.8657e-04 - val_loss: 0.0059\n",
            "Epoch 66/100\n",
            "9/9 [==============================] - 0s 12ms/step - loss: 7.5925e-04 - val_loss: 0.0059\n",
            "Epoch 67/100\n",
            "9/9 [==============================] - 0s 12ms/step - loss: 7.5475e-04 - val_loss: 0.0060\n",
            "Epoch 68/100\n",
            "9/9 [==============================] - 0s 13ms/step - loss: 7.8326e-04 - val_loss: 0.0060\n",
            "Epoch 69/100\n",
            "9/9 [==============================] - 0s 12ms/step - loss: 7.5872e-04 - val_loss: 0.0060\n",
            "Epoch 70/100\n",
            "9/9 [==============================] - 0s 12ms/step - loss: 7.5114e-04 - val_loss: 0.0060\n",
            "Epoch 71/100\n",
            "9/9 [==============================] - 0s 12ms/step - loss: 7.5952e-04 - val_loss: 0.0063\n",
            "Epoch 72/100\n",
            "9/9 [==============================] - 0s 19ms/step - loss: 7.7115e-04 - val_loss: 0.0064\n",
            "Epoch 73/100\n",
            "9/9 [==============================] - 0s 20ms/step - loss: 8.2749e-04 - val_loss: 0.0067\n",
            "Epoch 74/100\n",
            "9/9 [==============================] - 0s 20ms/step - loss: 9.1166e-04 - val_loss: 0.0073\n",
            "Epoch 75/100\n",
            "9/9 [==============================] - 0s 20ms/step - loss: 8.1704e-04 - val_loss: 0.0073\n",
            "Epoch 76/100\n",
            "9/9 [==============================] - 0s 18ms/step - loss: 7.9467e-04 - val_loss: 0.0070\n",
            "Epoch 77/100\n",
            "9/9 [==============================] - 0s 18ms/step - loss: 8.2340e-04 - val_loss: 0.0078\n",
            "Epoch 78/100\n",
            "9/9 [==============================] - 0s 18ms/step - loss: 7.9206e-04 - val_loss: 0.0078\n",
            "Epoch 79/100\n",
            "9/9 [==============================] - 0s 20ms/step - loss: 8.2140e-04 - val_loss: 0.0080\n",
            "Epoch 80/100\n",
            "9/9 [==============================] - 0s 19ms/step - loss: 7.5314e-04 - val_loss: 0.0080\n",
            "Epoch 81/100\n",
            "9/9 [==============================] - 0s 19ms/step - loss: 7.3807e-04 - val_loss: 0.0082\n",
            "Epoch 82/100\n",
            "9/9 [==============================] - 0s 20ms/step - loss: 7.4114e-04 - val_loss: 0.0093\n",
            "Epoch 83/100\n",
            "9/9 [==============================] - 0s 19ms/step - loss: 7.4728e-04 - val_loss: 0.0080\n",
            "Epoch 84/100\n",
            "9/9 [==============================] - 0s 21ms/step - loss: 7.4799e-04 - val_loss: 0.0109\n",
            "Epoch 85/100\n",
            "9/9 [==============================] - 0s 20ms/step - loss: 7.5579e-04 - val_loss: 0.0089\n",
            "Epoch 86/100\n",
            "9/9 [==============================] - 0s 19ms/step - loss: 7.7388e-04 - val_loss: 0.0087\n",
            "Epoch 87/100\n",
            "9/9 [==============================] - 0s 19ms/step - loss: 7.7460e-04 - val_loss: 0.0097\n",
            "Epoch 88/100\n",
            "9/9 [==============================] - 0s 18ms/step - loss: 7.4703e-04 - val_loss: 0.0105\n",
            "Epoch 89/100\n",
            "9/9 [==============================] - 0s 21ms/step - loss: 7.3110e-04 - val_loss: 0.0120\n",
            "Epoch 90/100\n",
            "9/9 [==============================] - 0s 18ms/step - loss: 7.4217e-04 - val_loss: 0.0103\n",
            "Epoch 91/100\n",
            "9/9 [==============================] - 0s 18ms/step - loss: 7.3536e-04 - val_loss: 0.0107\n",
            "Epoch 92/100\n",
            "9/9 [==============================] - 0s 19ms/step - loss: 7.5844e-04 - val_loss: 0.0144\n",
            "Epoch 93/100\n",
            "9/9 [==============================] - 0s 20ms/step - loss: 7.5017e-04 - val_loss: 0.0155\n",
            "Epoch 94/100\n",
            "9/9 [==============================] - 0s 16ms/step - loss: 7.9954e-04 - val_loss: 0.0143\n",
            "Epoch 95/100\n",
            "9/9 [==============================] - 0s 11ms/step - loss: 7.4353e-04 - val_loss: 0.0124\n",
            "Epoch 96/100\n",
            "9/9 [==============================] - 0s 12ms/step - loss: 7.4019e-04 - val_loss: 0.0104\n",
            "Epoch 97/100\n",
            "9/9 [==============================] - 0s 12ms/step - loss: 7.3049e-04 - val_loss: 0.0109\n",
            "Epoch 98/100\n",
            "9/9 [==============================] - 0s 11ms/step - loss: 7.4587e-04 - val_loss: 0.0175\n",
            "Epoch 99/100\n",
            "9/9 [==============================] - 0s 17ms/step - loss: 7.4723e-04 - val_loss: 0.0196\n",
            "Epoch 100/100\n",
            "9/9 [==============================] - 0s 30ms/step - loss: 7.3508e-04 - val_loss: 0.0154\n"
          ]
        },
        {
          "output_type": "execute_result",
          "data": {
            "text/plain": [
              "<keras.callbacks.History at 0x7fae5e92f220>"
            ]
          },
          "metadata": {},
          "execution_count": 94
        }
      ]
    },
    {
      "cell_type": "markdown",
      "metadata": {
        "id": "xl6048H3G302"
      },
      "source": [
        "# **Predection**"
      ]
    },
    {
      "cell_type": "code",
      "metadata": {
        "id": "2lvbuN3fdLw6",
        "colab": {
          "base_uri": "https://localhost:8080/"
        },
        "outputId": "d807c707-f46b-4aed-b78d-3a5ac3769917"
      },
      "source": [
        "train_predict=model4.predict(X_train)\n",
        "test_predict=model4.predict(X_test)\n",
        "##Transformback to original form\n",
        "train_predict=scaler.inverse_transform(train_predict)\n",
        "test_predict=scaler.inverse_transform(test_predict)"
      ],
      "execution_count": 95,
      "outputs": [
        {
          "output_type": "stream",
          "name": "stdout",
          "text": [
            "9/9 [==============================] - 0s 2ms/step\n",
            "5/5 [==============================] - 0s 3ms/step\n"
          ]
        }
      ]
    },
    {
      "cell_type": "markdown",
      "metadata": {
        "id": "Kj3512Gz4YUM"
      },
      "source": [
        "# **Performence Matrix**"
      ]
    },
    {
      "cell_type": "markdown",
      "metadata": {
        "id": "SCEpXkPq4byM"
      },
      "source": [
        "## **MSE**"
      ]
    },
    {
      "cell_type": "code",
      "metadata": {
        "colab": {
          "base_uri": "https://localhost:8080/"
        },
        "id": "IzyLtBO638GF",
        "outputId": "c85d1b6b-84fd-4ea2-ecb9-b66a748a2826"
      },
      "source": [
        "mean_squared_error(y_train,train_predict)"
      ],
      "execution_count": 96,
      "outputs": [
        {
          "output_type": "execute_result",
          "data": {
            "text/plain": [
              "1543.1955416806404"
            ]
          },
          "metadata": {},
          "execution_count": 96
        }
      ]
    },
    {
      "cell_type": "code",
      "metadata": {
        "colab": {
          "base_uri": "https://localhost:8080/"
        },
        "id": "0ebm59eF378Q",
        "outputId": "8c74c5b7-4841-499c-c2ff-539fefc092f9"
      },
      "source": [
        "### Test Data RMSE\n",
        "mean_squared_error(ytest,test_predict)"
      ],
      "execution_count": 97,
      "outputs": [
        {
          "output_type": "execute_result",
          "data": {
            "text/plain": [
              "11335.641065641319"
            ]
          },
          "metadata": {},
          "execution_count": 97
        }
      ]
    },
    {
      "cell_type": "markdown",
      "metadata": {
        "id": "2Xjqs7Za4fBD"
      },
      "source": [
        "## **RMSE**"
      ]
    },
    {
      "cell_type": "code",
      "metadata": {
        "colab": {
          "base_uri": "https://localhost:8080/"
        },
        "id": "rGBK0vu5fqXi",
        "outputId": "589bfa77-648e-44be-ccec-35a9cf54b759"
      },
      "source": [
        "### Calculate RMSE performance metrics\n",
        "math.sqrt(mean_squared_error(y_train,train_predict))"
      ],
      "execution_count": 98,
      "outputs": [
        {
          "output_type": "execute_result",
          "data": {
            "text/plain": [
              "39.28352761248206"
            ]
          },
          "metadata": {},
          "execution_count": 98
        }
      ]
    },
    {
      "cell_type": "code",
      "metadata": {
        "colab": {
          "base_uri": "https://localhost:8080/"
        },
        "id": "ipbZYmxcfqU5",
        "outputId": "884a7bf3-3493-492c-c173-ed84cfdaa1a1"
      },
      "source": [
        "### Test Data RMSE\n",
        "math.sqrt(mean_squared_error(ytest,test_predict))"
      ],
      "execution_count": 99,
      "outputs": [
        {
          "output_type": "execute_result",
          "data": {
            "text/plain": [
              "106.46896761799336"
            ]
          },
          "metadata": {},
          "execution_count": 99
        }
      ]
    },
    {
      "cell_type": "markdown",
      "metadata": {
        "id": "YYWcWZyh4kD0"
      },
      "source": [
        "## **MAE**"
      ]
    },
    {
      "cell_type": "code",
      "metadata": {
        "colab": {
          "base_uri": "https://localhost:8080/"
        },
        "id": "jl4JZ2zj4oBr",
        "outputId": "4429193f-bc76-4021-961e-f81f66d7a809"
      },
      "source": [
        "mean_absolute_error(y_train,train_predict)"
      ],
      "execution_count": 100,
      "outputs": [
        {
          "output_type": "execute_result",
          "data": {
            "text/plain": [
              "32.580233529816404"
            ]
          },
          "metadata": {},
          "execution_count": 100
        }
      ]
    },
    {
      "cell_type": "code",
      "metadata": {
        "colab": {
          "base_uri": "https://localhost:8080/"
        },
        "id": "_9QNIYhI4ocG",
        "outputId": "a7b9b440-bb33-4e57-e0c5-892fa8330e7a"
      },
      "source": [
        "### Test Data MAE\n",
        "mean_absolute_error(ytest,test_predict)"
      ],
      "execution_count": 101,
      "outputs": [
        {
          "output_type": "execute_result",
          "data": {
            "text/plain": [
              "78.22883270408613"
            ]
          },
          "metadata": {},
          "execution_count": 101
        }
      ]
    },
    {
      "cell_type": "code",
      "metadata": {
        "colab": {
          "base_uri": "https://localhost:8080/",
          "height": 265
        },
        "id": "Y9iNr1dkfqCx",
        "outputId": "c7695438-2cbb-49d8-a079-369dda26b3fc"
      },
      "source": [
        "### Plotting \n",
        "# shift train predictions for plotting\n",
        "look_back=10\n",
        "trainPredictPlot = numpy.empty_like(df1)\n",
        "trainPredictPlot[:, :] = np.nan\n",
        "trainPredictPlot[look_back:len(train_predict)+look_back, :] = train_predict\n",
        "# shift test predictions for plotting\n",
        "testPredictPlot = numpy.empty_like(df1)\n",
        "testPredictPlot[:, :] = numpy.nan\n",
        "testPredictPlot[len(train_predict)+(look_back*2)+1:len(df1)-1, :] = test_predict\n",
        "# plot baseline and predictions\n",
        "plt.plot(scaler.inverse_transform(df1))\n",
        "plt.plot(trainPredictPlot)\n",
        "plt.plot(testPredictPlot)\n",
        "plt.show()"
      ],
      "execution_count": 102,
      "outputs": [
        {
          "output_type": "display_data",
          "data": {
            "text/plain": [
              "<Figure size 432x288 with 1 Axes>"
            ],
            "image/png": "[encoded data removed]"
          },
          "metadata": {
            "needs_background": "light"
          }
        }
      ]
    },
    {
      "cell_type": "code",
      "metadata": {
        "colab": {
          "base_uri": "https://localhost:8080/"
        },
        "id": "r1zmGD6Afp_V",
        "outputId": "4a1431a1-5456-4177-8917-3e5ef0c7542d"
      },
      "source": [
        "x_input=test_data[137:].reshape(1,-1)\n",
        "x_input.shape"
      ],
      "execution_count": 103,
      "outputs": [
        {
          "output_type": "execute_result",
          "data": {
            "text/plain": [
              "(1, 10)"
            ]
          },
          "metadata": {},
          "execution_count": 103
        }
      ]
    },
    {
      "cell_type": "code",
      "metadata": {
        "id": "Gi0vCQq4fp7Y"
      },
      "source": [
        "temp_input=list(x_input)\n",
        "temp_input=temp_input[0].tolist()"
      ],
      "execution_count": 104,
      "outputs": []
    },
    {
      "cell_type": "code",
      "metadata": {
        "colab": {
          "base_uri": "https://localhost:8080/"
        },
        "id": "Nom3OeowZErg",
        "outputId": "0ae1191d-1bf8-46e3-ccad-216784b416f3"
      },
      "source": [
        "temp_input"
      ],
      "execution_count": 105,
      "outputs": [
        {
          "output_type": "execute_result",
          "data": {
            "text/plain": [
              "[0.0038022813688212928,\n",
              " 0.0,\n",
              " 0.015209125475285171,\n",
              " 0.019011406844106463,\n",
              " 0.011406844106463879,\n",
              " 0.011406844106463879,\n",
              " 0.0038022813688212928,\n",
              " 0.019011406844106463,\n",
              " 0.015209125475285171,\n",
              " 0.022813688212927754]"
            ]
          },
          "metadata": {},
          "execution_count": 105
        }
      ]
    },
    {
      "cell_type": "code",
      "metadata": {
        "colab": {
          "base_uri": "https://localhost:8080/"
        },
        "id": "Ia9z--hkfp3o",
        "outputId": "c7464e5f-ae75-4061-cf2d-5491b77d22fb"
      },
      "source": [
        "# demonstrate prediction for next 10 days\n",
        "from numpy import array\n",
        "\n",
        "lst_output=[]\n",
        "n_steps=10\n",
        "i=0\n",
        "while(i<30):\n",
        "    \n",
        "    if(len(temp_input)>10):\n",
        "        #print(temp_input)\n",
        "        x_input=np.array(temp_input[1:])\n",
        "        print(\"{} day input {}\".format(i,x_input))\n",
        "        x_input=x_input.reshape(1,-1)\n",
        "        x_input = x_input.reshape((1,1, n_steps, 1))\n",
        "        #print(x_input)\n",
        "        yhat = model4.predict(x_input, verbose=0)\n",
        "        print(\"{} day output {}\".format(i,yhat))\n",
        "        temp_input.extend(yhat[0].tolist())\n",
        "        temp_input=temp_input[1:]\n",
        "        #print(temp_input)\n",
        "        lst_output.extend(yhat.tolist())\n",
        "        i=i+1\n",
        "    else:\n",
        "        x_input = x_input.reshape((1,1, n_steps,1))\n",
        "        yhat = model4.predict(x_input, verbose=0)\n",
        "        print(yhat[0])\n",
        "        temp_input.extend(yhat[0].tolist())\n",
        "        print(len(temp_input))\n",
        "        lst_output.extend(yhat.tolist())\n",
        "        i=i+1\n",
        "    \n",
        "\n",
        "print(lst_output)"
      ],
      "execution_count": 106,
      "outputs": [
        {
          "output_type": "stream",
          "name": "stdout",
          "text": [
            "[0.02366554]\n",
            "11\n",
            "1 day input [0.         0.01520913 0.01901141 0.01140684 0.01140684 0.00380228\n",
            " 0.01901141 0.01520913 0.02281369 0.02366554]\n",
            "1 day output [[0.02353388]]\n",
            "2 day input [0.01520913 0.01901141 0.01140684 0.01140684 0.00380228 0.01901141\n",
            " 0.01520913 0.02281369 0.02366554 0.02353388]\n",
            "2 day output [[0.0247489]]\n",
            "3 day input [0.01901141 0.01140684 0.01140684 0.00380228 0.01901141 0.01520913\n",
            " 0.02281369 0.02366554 0.02353388 0.0247489 ]\n",
            "3 day output [[0.02511158]]\n",
            "4 day input [0.01140684 0.01140684 0.00380228 0.01901141 0.01520913 0.02281369\n",
            " 0.02366554 0.02353388 0.0247489  0.02511158]\n",
            "4 day output [[0.02605144]]\n",
            "5 day input [0.01140684 0.00380228 0.01901141 0.01520913 0.02281369 0.02366554\n",
            " 0.02353388 0.0247489  0.02511158 0.02605144]\n",
            "5 day output [[0.02652996]]\n",
            "6 day input [0.00380228 0.01901141 0.01520913 0.02281369 0.02366554 0.02353388\n",
            " 0.0247489  0.02511158 0.02605144 0.02652996]\n",
            "6 day output [[0.0265731]]\n",
            "7 day input [0.01901141 0.01520913 0.02281369 0.02366554 0.02353388 0.0247489\n",
            " 0.02511158 0.02605144 0.02652996 0.0265731 ]\n",
            "7 day output [[0.02690936]]\n",
            "8 day input [0.01520913 0.02281369 0.02366554 0.02353388 0.0247489  0.02511158\n",
            " 0.02605144 0.02652996 0.0265731  0.02690936]\n",
            "8 day output [[0.02697054]]\n",
            "9 day input [0.02281369 0.02366554 0.02353388 0.0247489  0.02511158 0.02605144\n",
            " 0.02652996 0.0265731  0.02690936 0.02697054]\n",
            "9 day output [[0.02709774]]\n",
            "10 day input [0.02366554 0.02353388 0.0247489  0.02511158 0.02605144 0.02652996\n",
            " 0.0265731  0.02690936 0.02697054 0.02709774]\n",
            "10 day output [[0.02725043]]\n",
            "11 day input [0.02353388 0.0247489  0.02511158 0.02605144 0.02652996 0.0265731\n",
            " 0.02690936 0.02697054 0.02709774 0.02725043]\n",
            "11 day output [[0.02728374]]\n",
            "12 day input [0.0247489  0.02511158 0.02605144 0.02652996 0.0265731  0.02690936\n",
            " 0.02697054 0.02709774 0.02725043 0.02728374]\n",
            "12 day output [[0.02735332]]\n",
            "13 day input [0.02511158 0.02605144 0.02652996 0.0265731  0.02690936 0.02697054\n",
            " 0.02709774 0.02725043 0.02728374 0.02735332]\n",
            "13 day output [[0.02737042]]\n",
            "14 day input [0.02605144 0.02652996 0.0265731  0.02690936 0.02697054 0.02709774\n",
            " 0.02725043 0.02728374 0.02735332 0.02737042]\n",
            "14 day output [[0.02738704]]\n",
            "15 day input [0.02652996 0.0265731  0.02690936 0.02697054 0.02709774 0.02725043\n",
            " 0.02728374 0.02735332 0.02737042 0.02738704]\n",
            "15 day output [[0.02742122]]\n",
            "16 day input [0.0265731  0.02690936 0.02697054 0.02709774 0.02725043 0.02728374\n",
            " 0.02735332 0.02737042 0.02738704 0.02742122]\n",
            "16 day output [[0.02742638]]\n",
            "17 day input [0.02690936 0.02697054 0.02709774 0.02725043 0.02728374 0.02735332\n",
            " 0.02737042 0.02738704 0.02742122 0.02742638]\n",
            "17 day output [[0.02744071]]\n",
            "18 day input [0.02697054 0.02709774 0.02725043 0.02728374 0.02735332 0.02737042\n",
            " 0.02738704 0.02742122 0.02742638 0.02744071]\n",
            "18 day output [[0.02744834]]\n",
            "19 day input [0.02709774 0.02725043 0.02728374 0.02735332 0.02737042 0.02738704\n",
            " 0.02742122 0.02742638 0.02744071 0.02744834]\n",
            "19 day output [[0.02744918]]\n",
            "20 day input [0.02725043 0.02728374 0.02735332 0.02737042 0.02738704 0.02742122\n",
            " 0.02742638 0.02744071 0.02744834 0.02744918]\n",
            "20 day output [[0.02745533]]\n",
            "21 day input [0.02728374 0.02735332 0.02737042 0.02738704 0.02742122 0.02742638\n",
            " 0.02744071 0.02744834 0.02744918 0.02745533]\n",
            "21 day output [[0.02745653]]\n",
            "22 day input [0.02735332 0.02737042 0.02738704 0.02742122 0.02742638 0.02744071\n",
            " 0.02744834 0.02744918 0.02745533 0.02745653]\n",
            "22 day output [[0.02745891]]\n",
            "23 day input [0.02737042 0.02738704 0.02742122 0.02742638 0.02744071 0.02744834\n",
            " 0.02744918 0.02745533 0.02745653 0.02745891]\n",
            "23 day output [[0.02746097]]\n",
            "24 day input [0.02738704 0.02742122 0.02742638 0.02744071 0.02744834 0.02744918\n",
            " 0.02745533 0.02745653 0.02745891 0.02746097]\n",
            "24 day output [[0.02746087]]\n",
            "25 day input [0.02742122 0.02742638 0.02744071 0.02744834 0.02744918 0.02745533\n",
            " 0.02745653 0.02745891 0.02746097 0.02746087]\n",
            "25 day output [[0.02746207]]\n",
            "26 day input [0.02742638 0.02744071 0.02744834 0.02744918 0.02745533 0.02745653\n",
            " 0.02745891 0.02746097 0.02746087 0.02746207]\n",
            "26 day output [[0.02746232]]\n",
            "27 day input [0.02744071 0.02744834 0.02744918 0.02745533 0.02745653 0.02745891\n",
            " 0.02746097 0.02746087 0.02746207 0.02746232]\n",
            "27 day output [[0.02746254]]\n",
            "28 day input [0.02744834 0.02744918 0.02745533 0.02745653 0.02745891 0.02746097\n",
            " 0.02746087 0.02746207 0.02746232 0.02746254]\n",
            "28 day output [[0.02746304]]\n",
            "29 day input [0.02744918 0.02745533 0.02745653 0.02745891 0.02746097 0.02746087\n",
            " 0.02746207 0.02746232 0.02746254 0.02746304]\n",
            "29 day output [[0.02746302]]\n",
            "[[0.023665539920330048], [0.023533876985311508], [0.024748899042606354], [0.025111578404903412], [0.026051439344882965], [0.026529964059591293], [0.026573099195957184], [0.02690936252474785], [0.02697053551673889], [0.02709774300456047], [0.02725042775273323], [0.027283743023872375], [0.02735332027077675], [0.027370423078536987], [0.027387041598558426], [0.027421217411756516], [0.027426384389400482], [0.027440708130598068], [0.027448341250419617], [0.027449175715446472], [0.02745532989501953], [0.027456533163785934], [0.027458909898996353], [0.0274609737098217], [0.027460869401693344], [0.02746206894516945], [0.027462322264909744], [0.027462542057037354], [0.02746303752064705], [0.027463022619485855]]\n"
          ]
        }
      ]
    },
    {
      "cell_type": "code",
      "metadata": {
        "id": "9lFrh9vQQUbV"
      },
      "source": [
        "day_new=np.arange(1,101)\n",
        "day_pred=np.arange(101,131)   "
      ],
      "execution_count": 107,
      "outputs": []
    },
    {
      "cell_type": "code",
      "metadata": {
        "colab": {
          "base_uri": "https://localhost:8080/",
          "height": 282
        },
        "id": "RKi_GHpNRMO7",
        "outputId": "16ecea23-1391-4d54-8838-14520be1a308"
      },
      "source": [
        "plt.plot(day_new,scaler.inverse_transform(df1[319:]))\n",
        "plt.plot(day_pred,scaler.inverse_transform(lst_output))"
      ],
      "execution_count": 108,
      "outputs": [
        {
          "output_type": "execute_result",
          "data": {
            "text/plain": [
              "[<matplotlib.lines.Line2D at 0x7fae5f91eee0>]"
            ]
          },
          "metadata": {},
          "execution_count": 108
        },
        {
          "output_type": "display_data",
          "data": {
            "text/plain": [
              "<Figure size 432x288 with 1 Axes>"
            ],
            "image/png": "[encoded data removed]"
          },
          "metadata": {
            "needs_background": "light"
          }
        }
      ]
    },
    {
      "cell_type": "code",
      "metadata": {
        "colab": {
          "base_uri": "https://localhost:8080/",
          "height": 282
        },
        "id": "IotdNVWKRUJf",
        "outputId": "9d97c7ee-9925-4bc9-c1e3-bc515dde43c4"
      },
      "source": [
        "df3=df1.tolist()\n",
        "df3.extend(lst_output)\n",
        "plt.plot(df3[310:])"
      ],
      "execution_count": 109,
      "outputs": [
        {
          "output_type": "execute_result",
          "data": {
            "text/plain": [
              "[<matplotlib.lines.Line2D at 0x7fae5fd8c7f0>]"
            ]
          },
          "metadata": {},
          "execution_count": 109
        },
        {
          "output_type": "display_data",
          "data": {
            "text/plain": [
              "<Figure size 432x288 with 1 Axes>"
            ],
            "image/png": "[encoded data removed]"
          },
          "metadata": {
            "needs_background": "light"
          }
        }
      ]
    },
    {
      "cell_type": "code",
      "metadata": {
        "colab": {
          "base_uri": "https://localhost:8080/",
          "height": 282
        },
        "id": "oEAujjl_RbtL",
        "outputId": "3c90294b-00ab-4e1e-8bcb-ffaca3e26483"
      },
      "source": [
        "df3=scaler.inverse_transform(df3).tolist()\n",
        "plt.plot(df3)"
      ],
      "execution_count": 110,
      "outputs": [
        {
          "output_type": "execute_result",
          "data": {
            "text/plain": [
              "[<matplotlib.lines.Line2D at 0x7fae5e9d14c0>]"
            ]
          },
          "metadata": {},
          "execution_count": 110
        },
        {
          "output_type": "display_data",
          "data": {
            "text/plain": [
              "<Figure size 432x288 with 1 Axes>"
            ],
            "image/png": "[encoded data removed]"
          },
          "metadata": {
            "needs_background": "light"
          }
        }
      ]
    },
    {
      "cell_type": "code",
      "metadata": {
        "id": "9BTqNWDtRibX"
      },
      "source": [],
      "execution_count": 110,
      "outputs": []
    }
  ]
}