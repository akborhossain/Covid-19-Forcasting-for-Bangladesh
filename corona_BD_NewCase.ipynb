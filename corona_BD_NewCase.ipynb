{
  "nbformat": 4,
  "nbformat_minor": 0,
  "metadata": {
    "kernelspec": {
      "display_name": "Python 3",
      "language": "python",
      "name": "python3"
    },
    "language_info": {
      "codemirror_mode": {
        "name": "ipython",
        "version": 3
      },
      "file_extension": ".py",
      "mimetype": "text/x-python",
      "name": "python",
      "nbconvert_exporter": "python",
      "pygments_lexer": "ipython3",
      "version": "3.6.9"
    },
    "colab": {
      "provenance": []
    },
    "gpuClass": "standard"
  },
  "cells": [
    {
      "cell_type": "code",
      "metadata": {
        "colab": {
          "base_uri": "https://localhost:8080/"
        },
        "id": "auOKAzR_Veu7",
        "outputId": "89e310e8-f87e-4258-f5bb-e450e628d2b8"
      },
      "source": [
        "from google.colab import drive\n",
        "drive.mount('/content/drive')"
      ],
      "execution_count": 269,
      "outputs": [
        {
          "output_type": "stream",
          "name": "stdout",
          "text": [
            "Drive already mounted at /content/drive; to attempt to forcibly remount, call drive.mount(\"/content/drive\", force_remount=True).\n"
          ]
        }
      ]
    },
    {
      "cell_type": "code",
      "metadata": {
        "id": "-MiA_A9hU-nA"
      },
      "source": [
        "import pandas as pd\n",
        "import pandas_datareader as pdr"
      ],
      "execution_count": 270,
      "outputs": []
    },
    {
      "cell_type": "code",
      "metadata": {
        "id": "5B4Y8StdU-nB"
      },
      "source": [
        "df=pd.read_csv('/content/drive/MyDrive/corona project/bangladesh.csv')"
      ],
      "execution_count": 271,
      "outputs": []
    },
    {
      "cell_type": "code",
      "metadata": {
        "colab": {
          "base_uri": "https://localhost:8080/",
          "height": 206
        },
        "id": "JM6jPwPLU-nD",
        "outputId": "b4d93695-3a0a-4999-8e6c-3b1908f9c98e"
      },
      "source": [
        "df.head()"
      ],
      "execution_count": 272,
      "outputs": [
        {
          "output_type": "execute_result",
          "data": {
            "text/plain": [
              "        date  new_case  death\n",
              "0  9-27-2020      1275     32\n",
              "1  9-28-2020      1407     32\n",
              "2  9-29-2020      1488     26\n",
              "3  9-30-2020      1436     32\n",
              "4  10-1-2020      1508     21"
            ],
            "text/html": [
              "\n",
              "  <div id=\"df-80e64d6b-3e40-43d8-a0f6-ed309519feae\">\n",
              "    <div class=\"colab-df-container\">\n",
              "      <div>\n",
              "<style scoped>\n",
              "    .dataframe tbody tr th:only-of-type {\n",
              "        vertical-align: middle;\n",
              "    }\n",
              "\n",
              "    .dataframe tbody tr th {\n",
              "        vertical-align: top;\n",
              "    }\n",
              "\n",
              "    .dataframe thead th {\n",
              "        text-align: right;\n",
              "    }\n",
              "</style>\n",
              "<table border=\"1\" class=\"dataframe\">\n",
              "  <thead>\n",
              "    <tr style=\"text-align: right;\">\n",
              "      <th></th>\n",
              "      <th>date</th>\n",
              "      <th>new_case</th>\n",
              "      <th>death</th>\n",
              "    </tr>\n",
              "  </thead>\n",
              "  <tbody>\n",
              "    <tr>\n",
              "      <th>0</th>\n",
              "      <td>9-27-2020</td>\n",
              "      <td>1275</td>\n",
              "      <td>32</td>\n",
              "    </tr>\n",
              "    <tr>\n",
              "      <th>1</th>\n",
              "      <td>9-28-2020</td>\n",
              "      <td>1407</td>\n",
              "      <td>32</td>\n",
              "    </tr>\n",
              "    <tr>\n",
              "      <th>2</th>\n",
              "      <td>9-29-2020</td>\n",
              "      <td>1488</td>\n",
              "      <td>26</td>\n",
              "    </tr>\n",
              "    <tr>\n",
              "      <th>3</th>\n",
              "      <td>9-30-2020</td>\n",
              "      <td>1436</td>\n",
              "      <td>32</td>\n",
              "    </tr>\n",
              "    <tr>\n",
              "      <th>4</th>\n",
              "      <td>10-1-2020</td>\n",
              "      <td>1508</td>\n",
              "      <td>21</td>\n",
              "    </tr>\n",
              "  </tbody>\n",
              "</table>\n",
              "</div>\n",
              "      <button class=\"colab-df-convert\" onclick=\"convertToInteractive('df-80e64d6b-3e40-43d8-a0f6-ed309519feae')\"\n",
              "              title=\"Convert this dataframe to an interactive table.\"\n",
              "              style=\"display:none;\">\n",
              "        \n",
              "  <svg xmlns=\"http://www.w3.org/2000/svg\" height=\"24px\"viewBox=\"0 0 24 24\"\n",
              "       width=\"24px\">\n",
              "    <path d=\"M0 0h24v24H0V0z\" fill=\"none\"/>\n",
              "    <path d=\"M18.56 5.44l.94 2.06.94-2.06 2.06-.94-2.06-.94-.94-2.06-.94 2.06-2.06.94zm-11 1L8.5 8.5l.94-2.06 2.06-.94-2.06-.94L8.5 2.5l-.94 2.06-2.06.94zm10 10l.94 2.06.94-2.06 2.06-.94-2.06-.94-.94-2.06-.94 2.06-2.06.94z\"/><path d=\"M17.41 7.96l-1.37-1.37c-.4-.4-.92-.59-1.43-.59-.52 0-1.04.2-1.43.59L10.3 9.45l-7.72 7.72c-.78.78-.78 2.05 0 2.83L4 21.41c.39.39.9.59 1.41.59.51 0 1.02-.2 1.41-.59l7.78-7.78 2.81-2.81c.8-.78.8-2.07 0-2.86zM5.41 20L4 18.59l7.72-7.72 1.47 1.35L5.41 20z\"/>\n",
              "  </svg>\n",
              "      </button>\n",
              "      \n",
              "  <style>\n",
              "    .colab-df-container {\n",
              "      display:flex;\n",
              "      flex-wrap:wrap;\n",
              "      gap: 12px;\n",
              "    }\n",
              "\n",
              "    .colab-df-convert {\n",
              "      background-color: #E8F0FE;\n",
              "      border: none;\n",
              "      border-radius: 50%;\n",
              "      cursor: pointer;\n",
              "      display: none;\n",
              "      fill: #1967D2;\n",
              "      height: 32px;\n",
              "      padding: 0 0 0 0;\n",
              "      width: 32px;\n",
              "    }\n",
              "\n",
              "    .colab-df-convert:hover {\n",
              "      background-color: #E2EBFA;\n",
              "      box-shadow: 0px 1px 2px rgba(60, 64, 67, 0.3), 0px 1px 3px 1px rgba(60, 64, 67, 0.15);\n",
              "      fill: #174EA6;\n",
              "    }\n",
              "\n",
              "    [theme=dark] .colab-df-convert {\n",
              "      background-color: #3B4455;\n",
              "      fill: #D2E3FC;\n",
              "    }\n",
              "\n",
              "    [theme=dark] .colab-df-convert:hover {\n",
              "      background-color: #434B5C;\n",
              "      box-shadow: 0px 1px 3px 1px rgba(0, 0, 0, 0.15);\n",
              "      filter: drop-shadow(0px 1px 2px rgba(0, 0, 0, 0.3));\n",
              "      fill: #FFFFFF;\n",
              "    }\n",
              "  </style>\n",
              "\n",
              "      <script>\n",
              "        const buttonEl =\n",
              "          document.querySelector('#df-80e64d6b-3e40-43d8-a0f6-ed309519feae button.colab-df-convert');\n",
              "        buttonEl.style.display =\n",
              "          google.colab.kernel.accessAllowed ? 'block' : 'none';\n",
              "\n",
              "        async function convertToInteractive(key) {\n",
              "          const element = document.querySelector('#df-80e64d6b-3e40-43d8-a0f6-ed309519feae');\n",
              "          const dataTable =\n",
              "            await google.colab.kernel.invokeFunction('convertToInteractive',\n",
              "                                                     [key], {});\n",
              "          if (!dataTable) return;\n",
              "\n",
              "          const docLinkHtml = 'Like what you see? Visit the ' +\n",
              "            '<a target=\"_blank\" href=https://colab.research.google.com/notebooks/data_table.ipynb>data table notebook</a>'\n",
              "            + ' to learn more about interactive tables.';\n",
              "          element.innerHTML = '';\n",
              "          dataTable['output_type'] = 'display_data';\n",
              "          await google.colab.output.renderOutput(dataTable, element);\n",
              "          const docLink = document.createElement('div');\n",
              "          docLink.innerHTML = docLinkHtml;\n",
              "          element.appendChild(docLink);\n",
              "        }\n",
              "      </script>\n",
              "    </div>\n",
              "  </div>\n",
              "  "
            ]
          },
          "metadata": {},
          "execution_count": 272
        }
      ]
    },
    {
      "cell_type": "code",
      "metadata": {
        "colab": {
          "base_uri": "https://localhost:8080/",
          "height": 206
        },
        "id": "GpgOCTfcU-nI",
        "outputId": "71cefbf5-68f7-4c5d-e3e7-8be029578def"
      },
      "source": [
        "df.tail()"
      ],
      "execution_count": 273,
      "outputs": [
        {
          "output_type": "execute_result",
          "data": {
            "text/plain": [
              "           date  new_case  death\n",
              "414  11/15/2021       234      4\n",
              "415  11/16/2021       213      2\n",
              "416  11/17/2021       266      6\n",
              "417  11/18/2021       244      5\n",
              "418  11/19/2021       253      7"
            ],
            "text/html": [
              "\n",
              "  <div id=\"df-464df792-1caa-4a42-9614-5456b18991ad\">\n",
              "    <div class=\"colab-df-container\">\n",
              "      <div>\n",
              "<style scoped>\n",
              "    .dataframe tbody tr th:only-of-type {\n",
              "        vertical-align: middle;\n",
              "    }\n",
              "\n",
              "    .dataframe tbody tr th {\n",
              "        vertical-align: top;\n",
              "    }\n",
              "\n",
              "    .dataframe thead th {\n",
              "        text-align: right;\n",
              "    }\n",
              "</style>\n",
              "<table border=\"1\" class=\"dataframe\">\n",
              "  <thead>\n",
              "    <tr style=\"text-align: right;\">\n",
              "      <th></th>\n",
              "      <th>date</th>\n",
              "      <th>new_case</th>\n",
              "      <th>death</th>\n",
              "    </tr>\n",
              "  </thead>\n",
              "  <tbody>\n",
              "    <tr>\n",
              "      <th>414</th>\n",
              "      <td>11/15/2021</td>\n",
              "      <td>234</td>\n",
              "      <td>4</td>\n",
              "    </tr>\n",
              "    <tr>\n",
              "      <th>415</th>\n",
              "      <td>11/16/2021</td>\n",
              "      <td>213</td>\n",
              "      <td>2</td>\n",
              "    </tr>\n",
              "    <tr>\n",
              "      <th>416</th>\n",
              "      <td>11/17/2021</td>\n",
              "      <td>266</td>\n",
              "      <td>6</td>\n",
              "    </tr>\n",
              "    <tr>\n",
              "      <th>417</th>\n",
              "      <td>11/18/2021</td>\n",
              "      <td>244</td>\n",
              "      <td>5</td>\n",
              "    </tr>\n",
              "    <tr>\n",
              "      <th>418</th>\n",
              "      <td>11/19/2021</td>\n",
              "      <td>253</td>\n",
              "      <td>7</td>\n",
              "    </tr>\n",
              "  </tbody>\n",
              "</table>\n",
              "</div>\n",
              "      <button class=\"colab-df-convert\" onclick=\"convertToInteractive('df-464df792-1caa-4a42-9614-5456b18991ad')\"\n",
              "              title=\"Convert this dataframe to an interactive table.\"\n",
              "              style=\"display:none;\">\n",
              "        \n",
              "  <svg xmlns=\"http://www.w3.org/2000/svg\" height=\"24px\"viewBox=\"0 0 24 24\"\n",
              "       width=\"24px\">\n",
              "    <path d=\"M0 0h24v24H0V0z\" fill=\"none\"/>\n",
              "    <path d=\"M18.56 5.44l.94 2.06.94-2.06 2.06-.94-2.06-.94-.94-2.06-.94 2.06-2.06.94zm-11 1L8.5 8.5l.94-2.06 2.06-.94-2.06-.94L8.5 2.5l-.94 2.06-2.06.94zm10 10l.94 2.06.94-2.06 2.06-.94-2.06-.94-.94-2.06-.94 2.06-2.06.94z\"/><path d=\"M17.41 7.96l-1.37-1.37c-.4-.4-.92-.59-1.43-.59-.52 0-1.04.2-1.43.59L10.3 9.45l-7.72 7.72c-.78.78-.78 2.05 0 2.83L4 21.41c.39.39.9.59 1.41.59.51 0 1.02-.2 1.41-.59l7.78-7.78 2.81-2.81c.8-.78.8-2.07 0-2.86zM5.41 20L4 18.59l7.72-7.72 1.47 1.35L5.41 20z\"/>\n",
              "  </svg>\n",
              "      </button>\n",
              "      \n",
              "  <style>\n",
              "    .colab-df-container {\n",
              "      display:flex;\n",
              "      flex-wrap:wrap;\n",
              "      gap: 12px;\n",
              "    }\n",
              "\n",
              "    .colab-df-convert {\n",
              "      background-color: #E8F0FE;\n",
              "      border: none;\n",
              "      border-radius: 50%;\n",
              "      cursor: pointer;\n",
              "      display: none;\n",
              "      fill: #1967D2;\n",
              "      height: 32px;\n",
              "      padding: 0 0 0 0;\n",
              "      width: 32px;\n",
              "    }\n",
              "\n",
              "    .colab-df-convert:hover {\n",
              "      background-color: #E2EBFA;\n",
              "      box-shadow: 0px 1px 2px rgba(60, 64, 67, 0.3), 0px 1px 3px 1px rgba(60, 64, 67, 0.15);\n",
              "      fill: #174EA6;\n",
              "    }\n",
              "\n",
              "    [theme=dark] .colab-df-convert {\n",
              "      background-color: #3B4455;\n",
              "      fill: #D2E3FC;\n",
              "    }\n",
              "\n",
              "    [theme=dark] .colab-df-convert:hover {\n",
              "      background-color: #434B5C;\n",
              "      box-shadow: 0px 1px 3px 1px rgba(0, 0, 0, 0.15);\n",
              "      filter: drop-shadow(0px 1px 2px rgba(0, 0, 0, 0.3));\n",
              "      fill: #FFFFFF;\n",
              "    }\n",
              "  </style>\n",
              "\n",
              "      <script>\n",
              "        const buttonEl =\n",
              "          document.querySelector('#df-464df792-1caa-4a42-9614-5456b18991ad button.colab-df-convert');\n",
              "        buttonEl.style.display =\n",
              "          google.colab.kernel.accessAllowed ? 'block' : 'none';\n",
              "\n",
              "        async function convertToInteractive(key) {\n",
              "          const element = document.querySelector('#df-464df792-1caa-4a42-9614-5456b18991ad');\n",
              "          const dataTable =\n",
              "            await google.colab.kernel.invokeFunction('convertToInteractive',\n",
              "                                                     [key], {});\n",
              "          if (!dataTable) return;\n",
              "\n",
              "          const docLinkHtml = 'Like what you see? Visit the ' +\n",
              "            '<a target=\"_blank\" href=https://colab.research.google.com/notebooks/data_table.ipynb>data table notebook</a>'\n",
              "            + ' to learn more about interactive tables.';\n",
              "          element.innerHTML = '';\n",
              "          dataTable['output_type'] = 'display_data';\n",
              "          await google.colab.output.renderOutput(dataTable, element);\n",
              "          const docLink = document.createElement('div');\n",
              "          docLink.innerHTML = docLinkHtml;\n",
              "          element.appendChild(docLink);\n",
              "        }\n",
              "      </script>\n",
              "    </div>\n",
              "  </div>\n",
              "  "
            ]
          },
          "metadata": {},
          "execution_count": 273
        }
      ]
    },
    {
      "cell_type": "code",
      "metadata": {
        "id": "ijmwpW1gU-nJ"
      },
      "source": [
        "df1=df.reset_index()['new_case']"
      ],
      "execution_count": 274,
      "outputs": []
    },
    {
      "cell_type": "code",
      "metadata": {
        "colab": {
          "base_uri": "https://localhost:8080/"
        },
        "id": "aKoLe-HhU-nL",
        "outputId": "793cd0bd-6e52-43a7-f410-07c26a1819b3"
      },
      "source": [
        "df1"
      ],
      "execution_count": 275,
      "outputs": [
        {
          "output_type": "execute_result",
          "data": {
            "text/plain": [
              "0      1275\n",
              "1      1407\n",
              "2      1488\n",
              "3      1436\n",
              "4      1508\n",
              "       ... \n",
              "414     234\n",
              "415     213\n",
              "416     266\n",
              "417     244\n",
              "418     253\n",
              "Name: new_case, Length: 419, dtype: int64"
            ]
          },
          "metadata": {},
          "execution_count": 275
        }
      ]
    },
    {
      "cell_type": "code",
      "metadata": {
        "colab": {
          "base_uri": "https://localhost:8080/",
          "height": 282
        },
        "id": "pSwnk45GU-nN",
        "outputId": "06cbe2da-6d2c-4d2a-b2a4-f0c0e4a11ee9"
      },
      "source": [
        "import matplotlib.pyplot as plt\n",
        "plt.plot(df1)"
      ],
      "execution_count": 276,
      "outputs": [
        {
          "output_type": "execute_result",
          "data": {
            "text/plain": [
              "[<matplotlib.lines.Line2D at 0x7f631a681700>]"
            ]
          },
          "metadata": {},
          "execution_count": 276
        },
        {
          "output_type": "display_data",
          "data": {
            "text/plain": [
              "<Figure size 432x288 with 1 Axes>"
            ],
            "image/png": "[encoded data removed]"
          },
          "metadata": {
            "needs_background": "light"
          }
        }
      ]
    },
    {
      "cell_type": "code",
      "metadata": {
        "id": "wMEO68luU-nQ"
      },
      "source": [
        "import numpy as np"
      ],
      "execution_count": 277,
      "outputs": []
    },
    {
      "cell_type": "code",
      "metadata": {
        "id": "VWgWE33lU-nS"
      },
      "source": [
        "from sklearn.preprocessing import MinMaxScaler\n",
        "scaler=MinMaxScaler(feature_range=(0,1))\n",
        "df1=scaler.fit_transform(np.array(df1).reshape(-1,1))"
      ],
      "execution_count": 278,
      "outputs": []
    },
    {
      "cell_type": "code",
      "metadata": {
        "colab": {
          "base_uri": "https://localhost:8080/"
        },
        "id": "eLO4CR7YU-nS",
        "outputId": "fa22382a-672f-4093-846d-dc60e8660ab3"
      },
      "source": [
        "print(df1)"
      ],
      "execution_count": 279,
      "outputs": [
        {
          "output_type": "stream",
          "name": "stdout",
          "text": [
            "[[6.99048448e-02]\n",
            " [7.81143106e-02]\n",
            " [8.31519373e-02]\n",
            " [7.99179053e-02]\n",
            " [8.43957958e-02]\n",
            " [7.74301884e-02]\n",
            " [6.41209030e-02]\n",
            " [6.05759065e-02]\n",
            " [8.02910629e-02]\n",
            " [8.38360595e-02]\n",
            " [8.51421108e-02]\n",
            " [8.02288700e-02]\n",
            " [7.00914236e-02]\n",
            " [6.54269544e-02]\n",
            " [6.48050252e-02]\n",
            " [8.21568506e-02]\n",
            " [8.61993905e-02]\n",
            " [9.53417501e-02]\n",
            " [9.01175446e-02]\n",
            " [8.55774613e-02]\n",
            " [6.58001119e-02]\n",
            " [6.98426519e-02]\n",
            " [9.24186828e-02]\n",
            " [7.64351017e-02]\n",
            " [8.66969339e-02]\n",
            " [9.60880652e-02]\n",
            " [8.92468437e-02]\n",
            " [5.86479259e-02]\n",
            " [7.19572113e-02]\n",
            " [7.99179053e-02]\n",
            " [7.36364202e-02]\n",
            " [8.34629019e-02]\n",
            " [9.51551713e-02]\n",
            " [9.03663163e-02]\n",
            " [7.27035263e-02]\n",
            " [8.81273711e-02]\n",
            " [9.85757821e-02]\n",
            " [9.37869270e-02]\n",
            " [8.49555321e-02]\n",
            " [1.05168232e-01]\n",
            " [8.19702718e-02]\n",
            " [7.07755457e-02]\n",
            " [8.22812364e-02]\n",
            " [9.52795572e-02]\n",
            " [9.62746439e-02]\n",
            " [9.83892033e-02]\n",
            " [1.05354811e-01]\n",
            " [1.00503763e-01]\n",
            " [8.58262330e-02]\n",
            " [1.04857267e-01]\n",
            " [1.23639530e-01]\n",
            " [1.28179613e-01]\n",
            " [1.21898128e-01]\n",
            " [1.37632937e-01]\n",
            " [1.32097767e-01]\n",
            " [1.05479196e-01]\n",
            " [1.18726289e-01]\n",
            " [1.41053548e-01]\n",
            " [1.29299086e-01]\n",
            " [1.24696810e-01]\n",
            " [1.33155047e-01]\n",
            " [1.31973381e-01]\n",
            " [1.09272965e-01]\n",
            " [1.01809814e-01]\n",
            " [1.47645998e-01]\n",
            " [1.33217240e-01]\n",
            " [1.27308912e-01]\n",
            " [1.34647677e-01]\n",
            " [1.30667330e-01]\n",
            " [1.08029106e-01]\n",
            " [9.42222775e-02]\n",
            " [1.27308912e-01]\n",
            " [1.27557684e-01]\n",
            " [1.24883388e-01]\n",
            " [1.06349897e-01]\n",
            " [1.07780335e-01]\n",
            " [7.32632626e-02]\n",
            " [7.48802786e-02]\n",
            " [1.02493936e-01]\n",
            " [1.07344984e-01]\n",
            " [9.21077181e-02]\n",
            " [6.11356428e-02]\n",
            " [7.25791405e-02]\n",
            " [6.94073014e-02]\n",
            " [6.23173083e-02]\n",
            " [8.20324647e-02]\n",
            " [7.25791405e-02]\n",
            " [7.56265937e-02]\n",
            " [6.73549350e-02]\n",
            " [6.29392375e-02]\n",
            " [4.24777660e-02]\n",
            " [5.58492444e-02]\n",
            " [4.85726724e-02]\n",
            " [6.40587101e-02]\n",
            " [6.74171279e-02]\n",
            " [5.36724921e-02]\n",
            " [5.21798619e-02]\n",
            " [3.31488277e-02]\n",
            " [4.25399590e-02]\n",
            " [4.72044281e-02]\n",
            " [5.22420549e-02]\n",
            " [5.14335469e-02]\n",
            " [5.32371416e-02]\n",
            " [3.94303128e-02]\n",
            " [3.36463710e-02]\n",
            " [5.72174886e-02]\n",
            " [4.34106599e-02]\n",
            " [3.52633870e-02]\n",
            " [4.59605697e-02]\n",
            " [4.11717147e-02]\n",
            " [3.79998756e-02]\n",
            " [2.65563779e-02]\n",
            " [2.59966416e-02]\n",
            " [3.39573357e-02]\n",
            " [3.42683003e-02]\n",
            " [3.14074258e-02]\n",
            " [2.69295354e-02]\n",
            " [2.91062877e-02]\n",
            " [1.77249829e-02]\n",
            " [2.00261210e-02]\n",
            " [2.80490080e-02]\n",
            " [2.26382238e-02]\n",
            " [2.34467318e-02]\n",
            " [2.22650662e-02]\n",
            " [1.88444555e-02]\n",
            " [1.31848996e-02]\n",
            " [1.35580571e-02]\n",
            " [1.81603334e-02]\n",
            " [2.32601530e-02]\n",
            " [1.78493687e-02]\n",
            " [2.07724361e-02]\n",
            " [1.76627900e-02]\n",
            " [9.57771006e-03]\n",
            " [8.76920206e-03]\n",
            " [1.02618322e-02]\n",
            " [1.46775297e-02]\n",
            " [1.47397226e-02]\n",
            " [1.66055103e-02]\n",
            " [1.57348094e-02]\n",
            " [8.70700914e-03]\n",
            " [1.08837614e-02]\n",
            " [1.83469121e-02]\n",
            " [1.52372660e-02]\n",
            " [1.81603334e-02]\n",
            " [1.49263014e-02]\n",
            " [1.58591952e-02]\n",
            " [1.23763916e-02]\n",
            " [1.09459544e-02]\n",
            " [1.33714783e-02]\n",
            " [1.54238448e-02]\n",
            " [1.72274395e-02]\n",
            " [1.61079669e-02]\n",
            " [1.98395423e-02]\n",
            " [1.59213881e-02]\n",
            " [1.45531439e-02]\n",
            " [2.69917283e-02]\n",
            " [2.26382238e-02]\n",
            " [2.87953231e-02]\n",
            " [2.91062877e-02]\n",
            " [3.01013745e-02]\n",
            " [2.41930468e-02]\n",
            " [2.82977797e-02]\n",
            " [4.31618882e-02]\n",
            " [4.73288140e-02]\n",
            " [5.39212638e-02]\n",
            " [5.59736302e-02]\n",
            " [5.69065240e-02]\n",
            " [5.36724921e-02]\n",
            " [6.26904658e-02]\n",
            " [1.00876920e-01]\n",
            " [9.75185024e-02]\n",
            " [1.06598669e-01]\n",
            " [1.26624790e-01]\n",
            " [1.08713228e-01]\n",
            " [1.06785248e-01]\n",
            " [1.25691896e-01]\n",
            " [1.65308788e-01]\n",
            " [2.11642515e-01]\n",
            " [2.12451023e-01]\n",
            " [2.13694882e-01]\n",
            " [2.23023820e-01]\n",
            " [2.19105666e-01]\n",
            " [2.33658810e-01]\n",
            " [3.12830400e-01]\n",
            " [3.04185584e-01]\n",
            " [3.23838547e-01]\n",
            " [3.92934884e-01]\n",
            " [4.15386529e-01]\n",
            " [3.44051247e-01]\n",
            " [4.31370110e-01]\n",
            " [4.30623795e-01]\n",
            " [4.39206418e-01]\n",
            " [4.64892095e-01]\n",
            " [4.16879159e-01]\n",
            " [4.54692456e-01]\n",
            " [3.22905653e-01]\n",
            " [3.52509484e-01]\n",
            " [4.38460103e-01]\n",
            " [3.65507805e-01]\n",
            " [3.13079172e-01]\n",
            " [2.51321600e-01]\n",
            " [2.65315007e-01]\n",
            " [2.06604888e-01]\n",
            " [2.20598296e-01]\n",
            " [2.56234840e-01]\n",
            " [2.74146402e-01]\n",
            " [2.56794577e-01]\n",
            " [2.40251259e-01]\n",
            " [2.16306984e-01]\n",
            " [1.58343181e-01]\n",
            " [1.72336588e-01]\n",
            " [1.96218670e-01]\n",
            " [1.79115617e-01]\n",
            " [1.74388955e-01]\n",
            " [1.36202500e-01]\n",
            " [1.26002861e-01]\n",
            " [8.09129921e-02]\n",
            " [7.51290503e-02]\n",
            " [9.87623608e-02]\n",
            " [1.09646122e-01]\n",
            " [9.89489396e-02]\n",
            " [1.03924373e-01]\n",
            " [9.52173643e-02]\n",
            " [7.05267741e-02]\n",
            " [7.68082592e-02]\n",
            " [8.47689533e-02]\n",
            " [6.71061633e-02]\n",
            " [6.15088003e-02]\n",
            " [7.08377387e-02]\n",
            " [4.33484669e-02]\n",
            " [6.84122147e-03]\n",
            " [1.31848996e-02]\n",
            " [3.40195286e-02]\n",
            " [6.97182661e-02]\n",
            " [9.06150880e-02]\n",
            " [8.12239567e-02]\n",
            " [8.41470241e-02]\n",
            " [5.45431930e-02]\n",
            " [7.48180857e-02]\n",
            " [8.02288700e-02]\n",
            " [9.47820138e-02]\n",
            " [8.37116736e-02]\n",
            " [7.09621245e-02]\n",
            " [7.50668574e-02]\n",
            " [5.54760868e-02]\n",
            " [8.04154487e-02]\n",
            " [9.69587661e-02]\n",
            " [1.00379377e-01]\n",
            " [1.14248399e-01]\n",
            " [9.55283289e-02]\n",
            " [1.07966913e-01]\n",
            " [8.06020275e-02]\n",
            " [9.48442067e-02]\n",
            " [1.13128926e-01]\n",
            " [1.35020835e-01]\n",
            " [1.48392313e-01]\n",
            " [1.50817837e-01]\n",
            " [1.43230300e-01]\n",
            " [9.24186828e-02]\n",
            " [1.42110828e-01]\n",
            " [1.80297282e-01]\n",
            " [1.97027178e-01]\n",
            " [2.36644070e-01]\n",
            " [2.29429691e-01]\n",
            " [2.32103987e-01]\n",
            " [1.80732633e-01]\n",
            " [2.17053299e-01]\n",
            " [2.78935257e-01]\n",
            " [2.91995771e-01]\n",
            " [3.46787736e-01]\n",
            " [3.67373593e-01]\n",
            " [3.55619131e-01]\n",
            " [2.60152995e-01]\n",
            " [3.18241184e-01]\n",
            " [5.10790472e-01]\n",
            " [4.67379812e-01]\n",
            " [5.39274831e-01]\n",
            " [5.06872318e-01]\n",
            " [5.18191430e-01]\n",
            " [3.77075689e-01]\n",
            " [5.29261770e-01]\n",
            " [6.10299148e-01]\n",
            " [7.07382300e-01]\n",
            " [6.84806269e-01]\n",
            " [7.15218608e-01]\n",
            " [6.94881522e-01]\n",
            " [5.36165184e-01]\n",
            " [7.29087630e-01]\n",
            " [8.46881025e-01]\n",
            " [7.49238137e-01]\n",
            " [7.60743827e-01]\n",
            " [7.51601468e-01]\n",
            " [7.46128491e-01]\n",
            " [5.18564587e-01]\n",
            " [7.10678525e-01]\n",
            " [8.19080789e-01]\n",
            " [7.10740718e-01]\n",
            " [4.64145780e-01]\n",
            " [2.20536103e-01]\n",
            " [3.86404627e-01]\n",
            " [4.12276883e-01]\n",
            " [6.92829156e-01]\n",
            " [9.35443747e-01]\n",
            " [9.18838236e-01]\n",
            " [1.00000000e+00]\n",
            " [9.40356987e-01]\n",
            " [8.52727160e-01]\n",
            " [5.73294359e-01]\n",
            " [9.13800609e-01]\n",
            " [9.85011506e-01]\n",
            " [9.71764413e-01]\n",
            " [8.49928478e-01]\n",
            " [7.83195472e-01]\n",
            " [7.74612849e-01]\n",
            " [4.96610486e-01]\n",
            " [6.31133777e-01]\n",
            " [7.03526339e-01]\n",
            " [6.84930655e-01]\n",
            " [6.38659121e-01]\n",
            " [6.20374401e-01]\n",
            " [5.17071957e-01]\n",
            " [4.18807140e-01]\n",
            " [4.06306362e-01]\n",
            " [4.23409416e-01]\n",
            " [4.59232539e-01]\n",
            " [4.41383171e-01]\n",
            " [3.98967597e-01]\n",
            " [3.63331053e-01]\n",
            " [2.38820822e-01]\n",
            " [2.89383668e-01]\n",
            " [3.46165806e-01]\n",
            " [3.17059519e-01]\n",
            " [2.99458922e-01]\n",
            " [2.82791218e-01]\n",
            " [2.09838920e-01]\n",
            " [2.04303750e-01]\n",
            " [2.36146527e-01]\n",
            " [2.22215312e-01]\n",
            " [1.99390509e-01]\n",
            " [1.81043597e-01]\n",
            " [2.10523042e-01]\n",
            " [1.87573854e-01]\n",
            " [9.90111325e-02]\n",
            " [1.41737670e-01]\n",
            " [1.59151689e-01]\n",
            " [1.54735991e-01]\n",
            " [1.45904596e-01]\n",
            " [1.51564152e-01]\n",
            " [1.35207413e-01]\n",
            " [7.31388768e-02]\n",
            " [1.06971827e-01]\n",
            " [1.12071646e-01]\n",
            " [1.19596990e-01]\n",
            " [1.08837614e-01]\n",
            " [1.06412090e-01]\n",
            " [1.09210772e-01]\n",
            " [6.46184464e-02]\n",
            " [7.66216805e-02]\n",
            " [8.73188631e-02]\n",
            " [8.77542136e-02]\n",
            " [7.61863300e-02]\n",
            " [6.17575720e-02]\n",
            " [6.72927421e-02]\n",
            " [4.14826793e-02]\n",
            " [5.15579327e-02]\n",
            " [6.59866907e-02]\n",
            " [7.20815971e-02]\n",
            " [6.38721314e-02]\n",
            " [4.40947820e-02]\n",
            " [4.32862740e-02]\n",
            " [2.72405000e-02]\n",
            " [2.89819019e-02]\n",
            " [3.99900491e-02]\n",
            " [3.37707569e-02]\n",
            " [3.43304932e-02]\n",
            " [3.18427763e-02]\n",
            " [3.07233037e-02]\n",
            " [1.64189315e-02]\n",
            " [2.05236644e-02]\n",
            " [2.78624293e-02]\n",
            " [2.43796256e-02]\n",
            " [2.28248025e-02]\n",
            " [1.95907706e-02]\n",
            " [1.52372660e-02]\n",
            " [8.83139499e-03]\n",
            " [1.01374464e-02]\n",
            " [1.16922694e-02]\n",
            " [1.97773493e-02]\n",
            " [1.34958642e-02]\n",
            " [5.72174886e-03]\n",
            " [5.03762672e-03]\n",
            " [7.89850115e-03]\n",
            " [7.71192238e-03]\n",
            " [8.58262330e-03]\n",
            " [7.77411531e-03]\n",
            " [9.63990298e-03]\n",
            " [8.95578083e-03]\n",
            " [9.57771006e-03]\n",
            " [9.32893837e-04]\n",
            " [3.73157535e-03]\n",
            " [3.91815411e-03]\n",
            " [4.85104795e-03]\n",
            " [6.53025686e-03]\n",
            " [5.97052055e-03]\n",
            " [2.79868151e-03]\n",
            " [1.23763916e-02]\n",
            " [1.67920891e-03]\n",
            " [3.98034704e-03]\n",
            " [3.42061073e-03]\n",
            " [5.22420549e-03]\n",
            " [5.34859133e-03]\n",
            " [4.35350457e-03]\n",
            " [0.00000000e+00]\n",
            " [4.47789042e-03]\n",
            " [5.16201256e-03]\n",
            " [3.85596119e-03]\n",
            " [7.15218608e-03]\n",
            " [5.78394179e-03]\n",
            " [6.34367809e-03]]\n"
          ]
        }
      ]
    },
    {
      "cell_type": "code",
      "metadata": {
        "colab": {
          "base_uri": "https://localhost:8080/",
          "height": 282
        },
        "id": "CqS6SfPMeaWa",
        "outputId": "c00725c3-a143-42ee-a633-c3bd185d8f58"
      },
      "source": [
        "import matplotlib.pyplot as plt\n",
        "plt.plot(df1)"
      ],
      "execution_count": 280,
      "outputs": [
        {
          "output_type": "execute_result",
          "data": {
            "text/plain": [
              "[<matplotlib.lines.Line2D at 0x7f63288713d0>]"
            ]
          },
          "metadata": {},
          "execution_count": 280
        },
        {
          "output_type": "display_data",
          "data": {
            "text/plain": [
              "<Figure size 432x288 with 1 Axes>"
            ],
            "image/png": "[encoded data removed]"
          },
          "metadata": {
            "needs_background": "light"
          }
        }
      ]
    },
    {
      "cell_type": "code",
      "metadata": {
        "id": "-SNmx9gDU-nT"
      },
      "source": [
        "##splitting dataset into train and test split\n",
        "training_size=int(len(df1)*0.65)\n",
        "test_size=len(df1)-training_size\n",
        "train_data,test_data=df1[0:training_size,:],df1[training_size:len(df1),:1]"
      ],
      "execution_count": 281,
      "outputs": []
    },
    {
      "cell_type": "code",
      "metadata": {
        "colab": {
          "base_uri": "https://localhost:8080/"
        },
        "id": "NPlqp4q1U-nV",
        "outputId": "a5df955f-4f8c-4a9e-b5b5-c1737ea148f5"
      },
      "source": [
        "training_size,test_size"
      ],
      "execution_count": 282,
      "outputs": [
        {
          "output_type": "execute_result",
          "data": {
            "text/plain": [
              "(272, 147)"
            ]
          },
          "metadata": {},
          "execution_count": 282
        }
      ]
    },
    {
      "cell_type": "code",
      "metadata": {
        "colab": {
          "base_uri": "https://localhost:8080/"
        },
        "id": "nkBYTyeJU-nW",
        "outputId": "b1a1c4c3-07b4-4ee4-cc4f-7ef91a259386"
      },
      "source": [
        "train_data"
      ],
      "execution_count": 283,
      "outputs": [
        {
          "output_type": "execute_result",
          "data": {
            "text/plain": [
              "array([[0.06990484],\n",
              "       [0.07811431],\n",
              "       [0.08315194],\n",
              "       [0.07991791],\n",
              "       [0.0843958 ],\n",
              "       [0.07743019],\n",
              "       [0.0641209 ],\n",
              "       [0.06057591],\n",
              "       [0.08029106],\n",
              "       [0.08383606],\n",
              "       [0.08514211],\n",
              "       [0.08022887],\n",
              "       [0.07009142],\n",
              "       [0.06542695],\n",
              "       [0.06480503],\n",
              "       [0.08215685],\n",
              "       [0.08619939],\n",
              "       [0.09534175],\n",
              "       [0.09011754],\n",
              "       [0.08557746],\n",
              "       [0.06580011],\n",
              "       [0.06984265],\n",
              "       [0.09241868],\n",
              "       [0.0764351 ],\n",
              "       [0.08669693],\n",
              "       [0.09608807],\n",
              "       [0.08924684],\n",
              "       [0.05864793],\n",
              "       [0.07195721],\n",
              "       [0.07991791],\n",
              "       [0.07363642],\n",
              "       [0.0834629 ],\n",
              "       [0.09515517],\n",
              "       [0.09036632],\n",
              "       [0.07270353],\n",
              "       [0.08812737],\n",
              "       [0.09857578],\n",
              "       [0.09378693],\n",
              "       [0.08495553],\n",
              "       [0.10516823],\n",
              "       [0.08197027],\n",
              "       [0.07077555],\n",
              "       [0.08228124],\n",
              "       [0.09527956],\n",
              "       [0.09627464],\n",
              "       [0.0983892 ],\n",
              "       [0.10535481],\n",
              "       [0.10050376],\n",
              "       [0.08582623],\n",
              "       [0.10485727],\n",
              "       [0.12363953],\n",
              "       [0.12817961],\n",
              "       [0.12189813],\n",
              "       [0.13763294],\n",
              "       [0.13209777],\n",
              "       [0.1054792 ],\n",
              "       [0.11872629],\n",
              "       [0.14105355],\n",
              "       [0.12929909],\n",
              "       [0.12469681],\n",
              "       [0.13315505],\n",
              "       [0.13197338],\n",
              "       [0.10927296],\n",
              "       [0.10180981],\n",
              "       [0.147646  ],\n",
              "       [0.13321724],\n",
              "       [0.12730891],\n",
              "       [0.13464768],\n",
              "       [0.13066733],\n",
              "       [0.10802911],\n",
              "       [0.09422228],\n",
              "       [0.12730891],\n",
              "       [0.12755768],\n",
              "       [0.12488339],\n",
              "       [0.1063499 ],\n",
              "       [0.10778033],\n",
              "       [0.07326326],\n",
              "       [0.07488028],\n",
              "       [0.10249394],\n",
              "       [0.10734498],\n",
              "       [0.09210772],\n",
              "       [0.06113564],\n",
              "       [0.07257914],\n",
              "       [0.0694073 ],\n",
              "       [0.06231731],\n",
              "       [0.08203246],\n",
              "       [0.07257914],\n",
              "       [0.07562659],\n",
              "       [0.06735494],\n",
              "       [0.06293924],\n",
              "       [0.04247777],\n",
              "       [0.05584924],\n",
              "       [0.04857267],\n",
              "       [0.06405871],\n",
              "       [0.06741713],\n",
              "       [0.05367249],\n",
              "       [0.05217986],\n",
              "       [0.03314883],\n",
              "       [0.04253996],\n",
              "       [0.04720443],\n",
              "       [0.05224205],\n",
              "       [0.05143355],\n",
              "       [0.05323714],\n",
              "       [0.03943031],\n",
              "       [0.03364637],\n",
              "       [0.05721749],\n",
              "       [0.04341066],\n",
              "       [0.03526339],\n",
              "       [0.04596057],\n",
              "       [0.04117171],\n",
              "       [0.03799988],\n",
              "       [0.02655638],\n",
              "       [0.02599664],\n",
              "       [0.03395734],\n",
              "       [0.0342683 ],\n",
              "       [0.03140743],\n",
              "       [0.02692954],\n",
              "       [0.02910629],\n",
              "       [0.01772498],\n",
              "       [0.02002612],\n",
              "       [0.02804901],\n",
              "       [0.02263822],\n",
              "       [0.02344673],\n",
              "       [0.02226507],\n",
              "       [0.01884446],\n",
              "       [0.0131849 ],\n",
              "       [0.01355806],\n",
              "       [0.01816033],\n",
              "       [0.02326015],\n",
              "       [0.01784937],\n",
              "       [0.02077244],\n",
              "       [0.01766279],\n",
              "       [0.00957771],\n",
              "       [0.0087692 ],\n",
              "       [0.01026183],\n",
              "       [0.01467753],\n",
              "       [0.01473972],\n",
              "       [0.01660551],\n",
              "       [0.01573481],\n",
              "       [0.00870701],\n",
              "       [0.01088376],\n",
              "       [0.01834691],\n",
              "       [0.01523727],\n",
              "       [0.01816033],\n",
              "       [0.0149263 ],\n",
              "       [0.0158592 ],\n",
              "       [0.01237639],\n",
              "       [0.01094595],\n",
              "       [0.01337148],\n",
              "       [0.01542384],\n",
              "       [0.01722744],\n",
              "       [0.01610797],\n",
              "       [0.01983954],\n",
              "       [0.01592139],\n",
              "       [0.01455314],\n",
              "       [0.02699173],\n",
              "       [0.02263822],\n",
              "       [0.02879532],\n",
              "       [0.02910629],\n",
              "       [0.03010137],\n",
              "       [0.02419305],\n",
              "       [0.02829778],\n",
              "       [0.04316189],\n",
              "       [0.04732881],\n",
              "       [0.05392126],\n",
              "       [0.05597363],\n",
              "       [0.05690652],\n",
              "       [0.05367249],\n",
              "       [0.06269047],\n",
              "       [0.10087692],\n",
              "       [0.0975185 ],\n",
              "       [0.10659867],\n",
              "       [0.12662479],\n",
              "       [0.10871323],\n",
              "       [0.10678525],\n",
              "       [0.1256919 ],\n",
              "       [0.16530879],\n",
              "       [0.21164252],\n",
              "       [0.21245102],\n",
              "       [0.21369488],\n",
              "       [0.22302382],\n",
              "       [0.21910567],\n",
              "       [0.23365881],\n",
              "       [0.3128304 ],\n",
              "       [0.30418558],\n",
              "       [0.32383855],\n",
              "       [0.39293488],\n",
              "       [0.41538653],\n",
              "       [0.34405125],\n",
              "       [0.43137011],\n",
              "       [0.4306238 ],\n",
              "       [0.43920642],\n",
              "       [0.4648921 ],\n",
              "       [0.41687916],\n",
              "       [0.45469246],\n",
              "       [0.32290565],\n",
              "       [0.35250948],\n",
              "       [0.4384601 ],\n",
              "       [0.36550781],\n",
              "       [0.31307917],\n",
              "       [0.2513216 ],\n",
              "       [0.26531501],\n",
              "       [0.20660489],\n",
              "       [0.2205983 ],\n",
              "       [0.25623484],\n",
              "       [0.2741464 ],\n",
              "       [0.25679458],\n",
              "       [0.24025126],\n",
              "       [0.21630698],\n",
              "       [0.15834318],\n",
              "       [0.17233659],\n",
              "       [0.19621867],\n",
              "       [0.17911562],\n",
              "       [0.17438895],\n",
              "       [0.1362025 ],\n",
              "       [0.12600286],\n",
              "       [0.08091299],\n",
              "       [0.07512905],\n",
              "       [0.09876236],\n",
              "       [0.10964612],\n",
              "       [0.09894894],\n",
              "       [0.10392437],\n",
              "       [0.09521736],\n",
              "       [0.07052677],\n",
              "       [0.07680826],\n",
              "       [0.08476895],\n",
              "       [0.06710616],\n",
              "       [0.0615088 ],\n",
              "       [0.07083774],\n",
              "       [0.04334847],\n",
              "       [0.00684122],\n",
              "       [0.0131849 ],\n",
              "       [0.03401953],\n",
              "       [0.06971827],\n",
              "       [0.09061509],\n",
              "       [0.08122396],\n",
              "       [0.08414702],\n",
              "       [0.05454319],\n",
              "       [0.07481809],\n",
              "       [0.08022887],\n",
              "       [0.09478201],\n",
              "       [0.08371167],\n",
              "       [0.07096212],\n",
              "       [0.07506686],\n",
              "       [0.05547609],\n",
              "       [0.08041545],\n",
              "       [0.09695877],\n",
              "       [0.10037938],\n",
              "       [0.1142484 ],\n",
              "       [0.09552833],\n",
              "       [0.10796691],\n",
              "       [0.08060203],\n",
              "       [0.09484421],\n",
              "       [0.11312893],\n",
              "       [0.13502083],\n",
              "       [0.14839231],\n",
              "       [0.15081784],\n",
              "       [0.1432303 ],\n",
              "       [0.09241868],\n",
              "       [0.14211083],\n",
              "       [0.18029728],\n",
              "       [0.19702718],\n",
              "       [0.23664407],\n",
              "       [0.22942969],\n",
              "       [0.23210399],\n",
              "       [0.18073263],\n",
              "       [0.2170533 ],\n",
              "       [0.27893526],\n",
              "       [0.29199577],\n",
              "       [0.34678774],\n",
              "       [0.36737359],\n",
              "       [0.35561913]])"
            ]
          },
          "metadata": {},
          "execution_count": 283
        }
      ]
    },
    {
      "cell_type": "code",
      "metadata": {
        "id": "Bx15Zi4kU-nX"
      },
      "source": [
        "import numpy\n",
        "# convert an array of values into a dataset matrix\n",
        "def create_dataset(dataset, time_step=1):\n",
        "\tdataX, dataY = [], []\n",
        "\tfor i in range(len(dataset)-time_step-1):\n",
        "\t\ta = dataset[i:(i+time_step), 0]   ###i=0, 0,1,2,3-----99   100 \n",
        "\t\tdataX.append(a)\n",
        "\t\tdataY.append(dataset[i + time_step, 0])\n",
        "\treturn numpy.array(dataX), numpy.array(dataY)"
      ],
      "execution_count": 284,
      "outputs": []
    },
    {
      "cell_type": "code",
      "metadata": {
        "id": "K7yDgAeAU-nY"
      },
      "source": [
        "# reshape into X=t,t+1,t+2,t+3 and Y=t+4\n",
        "time_step = 10\n",
        "X_train, y_train = create_dataset(train_data, time_step)\n",
        "X_test, ytest = create_dataset(test_data, time_step)"
      ],
      "execution_count": 285,
      "outputs": []
    },
    {
      "cell_type": "code",
      "metadata": {
        "colab": {
          "base_uri": "https://localhost:8080/"
        },
        "id": "ldKjB4UOU-nZ",
        "outputId": "46489f1f-b22a-4e43-89f9-3a8a27fc8bd0"
      },
      "source": [
        "print(X_train.shape), print(y_train.shape)"
      ],
      "execution_count": 286,
      "outputs": [
        {
          "output_type": "stream",
          "name": "stdout",
          "text": [
            "(261, 10)\n",
            "(261,)\n"
          ]
        },
        {
          "output_type": "execute_result",
          "data": {
            "text/plain": [
              "(None, None)"
            ]
          },
          "metadata": {},
          "execution_count": 286
        }
      ]
    },
    {
      "cell_type": "code",
      "metadata": {
        "colab": {
          "base_uri": "https://localhost:8080/"
        },
        "id": "WIQbLpyFU-na",
        "outputId": "2994af09-02d9-4259-a5f4-2c2c5b91ad51"
      },
      "source": [
        "print(X_test.shape), print(ytest.shape)"
      ],
      "execution_count": 287,
      "outputs": [
        {
          "output_type": "stream",
          "name": "stdout",
          "text": [
            "(136, 10)\n",
            "(136,)\n"
          ]
        },
        {
          "output_type": "execute_result",
          "data": {
            "text/plain": [
              "(None, None)"
            ]
          },
          "metadata": {},
          "execution_count": 287
        }
      ]
    },
    {
      "cell_type": "code",
      "metadata": {
        "id": "DxWQ-NPGU-nb"
      },
      "source": [
        "# reshape input to be [samples, time steps, features] which is required for LSTM\n",
        "X_train =X_train.reshape(X_train.shape[0],X_train.shape[1] , 1)\n",
        "X_test = X_test.reshape(X_test.shape[0],X_test.shape[1] , 1)"
      ],
      "execution_count": 288,
      "outputs": []
    },
    {
      "cell_type": "code",
      "metadata": {
        "id": "oYVS8e0kU-nb"
      },
      "source": [
        "### Create the Stacked LSTM model\n",
        "from tensorflow.keras.models import Sequential\n",
        "from tensorflow.keras.layers import Dense\n",
        "from tensorflow.keras.layers import LSTM"
      ],
      "execution_count": 289,
      "outputs": []
    },
    {
      "cell_type": "code",
      "metadata": {
        "id": "0m1L1x_nU-nc"
      },
      "source": [
        "model=Sequential()\n",
        "model.add(LSTM(50,return_sequences=True,input_shape=(10,1)))\n",
        "model.add(LSTM(50,return_sequences=True))\n",
        "model.add(LSTM(50,return_sequences=True))\n",
        "model.add(LSTM(50))\n",
        "model.add(Dense(1))\n",
        "model.compile(loss='mean_squared_error',optimizer='adam')\n"
      ],
      "execution_count": 290,
      "outputs": []
    },
    {
      "cell_type": "code",
      "metadata": {
        "colab": {
          "base_uri": "https://localhost:8080/"
        },
        "id": "t6_soEUbU-nc",
        "outputId": "2222737d-b651-4bb3-b92c-b9191e475e97"
      },
      "source": [
        "model.summary()"
      ],
      "execution_count": 291,
      "outputs": [
        {
          "output_type": "stream",
          "name": "stdout",
          "text": [
            "Model: \"sequential_10\"\n",
            "_________________________________________________________________\n",
            " Layer (type)                Output Shape              Param #   \n",
            "=================================================================\n",
            " lstm_19 (LSTM)              (None, 10, 50)            10400     \n",
            "                                                                 \n",
            " lstm_20 (LSTM)              (None, 10, 50)            20200     \n",
            "                                                                 \n",
            " lstm_21 (LSTM)              (None, 10, 50)            20200     \n",
            "                                                                 \n",
            " lstm_22 (LSTM)              (None, 50)                20200     \n",
            "                                                                 \n",
            " dense_10 (Dense)            (None, 1)                 51        \n",
            "                                                                 \n",
            "=================================================================\n",
            "Total params: 71,051\n",
            "Trainable params: 71,051\n",
            "Non-trainable params: 0\n",
            "_________________________________________________________________\n"
          ]
        }
      ]
    },
    {
      "cell_type": "code",
      "metadata": {
        "colab": {
          "base_uri": "https://localhost:8080/"
        },
        "id": "eo1RBgrLU-ne",
        "outputId": "a9b5dd57-5129-47dd-f6b3-16c922c9848e"
      },
      "source": [
        "model.fit(X_train,y_train,validation_data=(X_test,ytest),epochs=100,batch_size=32,verbose=1)"
      ],
      "execution_count": 292,
      "outputs": [
        {
          "output_type": "stream",
          "name": "stdout",
          "text": [
            "Epoch 1/100\n",
            "9/9 [==============================] - 9s 194ms/step - loss: 0.0128 - val_loss: 0.0616\n",
            "Epoch 2/100\n",
            "9/9 [==============================] - 0s 27ms/step - loss: 0.0065 - val_loss: 0.0578\n",
            "Epoch 3/100\n",
            "9/9 [==============================] - 0s 28ms/step - loss: 0.0045 - val_loss: 0.0207\n",
            "Epoch 4/100\n",
            "9/9 [==============================] - 0s 28ms/step - loss: 0.0037 - val_loss: 0.0231\n",
            "Epoch 5/100\n",
            "9/9 [==============================] - 0s 28ms/step - loss: 0.0032 - val_loss: 0.0233\n",
            "Epoch 6/100\n",
            "9/9 [==============================] - 0s 28ms/step - loss: 0.0031 - val_loss: 0.0205\n",
            "Epoch 7/100\n",
            "9/9 [==============================] - 0s 29ms/step - loss: 0.0029 - val_loss: 0.0196\n",
            "Epoch 8/100\n",
            "9/9 [==============================] - 0s 27ms/step - loss: 0.0029 - val_loss: 0.0195\n",
            "Epoch 9/100\n",
            "9/9 [==============================] - 0s 30ms/step - loss: 0.0030 - val_loss: 0.0191\n",
            "Epoch 10/100\n",
            "9/9 [==============================] - 0s 28ms/step - loss: 0.0029 - val_loss: 0.0233\n",
            "Epoch 11/100\n",
            "9/9 [==============================] - 0s 26ms/step - loss: 0.0030 - val_loss: 0.0216\n",
            "Epoch 12/100\n",
            "9/9 [==============================] - 0s 30ms/step - loss: 0.0029 - val_loss: 0.0281\n",
            "Epoch 13/100\n",
            "9/9 [==============================] - 0s 26ms/step - loss: 0.0030 - val_loss: 0.0212\n",
            "Epoch 14/100\n",
            "9/9 [==============================] - 0s 31ms/step - loss: 0.0028 - val_loss: 0.0196\n",
            "Epoch 15/100\n",
            "9/9 [==============================] - 0s 27ms/step - loss: 0.0027 - val_loss: 0.0230\n",
            "Epoch 16/100\n",
            "9/9 [==============================] - 0s 28ms/step - loss: 0.0026 - val_loss: 0.0217\n",
            "Epoch 17/100\n",
            "9/9 [==============================] - 0s 40ms/step - loss: 0.0025 - val_loss: 0.0216\n",
            "Epoch 18/100\n",
            "9/9 [==============================] - 1s 59ms/step - loss: 0.0025 - val_loss: 0.0251\n",
            "Epoch 19/100\n",
            "9/9 [==============================] - 0s 52ms/step - loss: 0.0026 - val_loss: 0.0245\n",
            "Epoch 20/100\n",
            "9/9 [==============================] - 0s 41ms/step - loss: 0.0025 - val_loss: 0.0265\n",
            "Epoch 21/100\n",
            "9/9 [==============================] - 0s 44ms/step - loss: 0.0026 - val_loss: 0.0231\n",
            "Epoch 22/100\n",
            "9/9 [==============================] - 0s 42ms/step - loss: 0.0025 - val_loss: 0.0301\n",
            "Epoch 23/100\n",
            "9/9 [==============================] - 0s 46ms/step - loss: 0.0021 - val_loss: 0.0284\n",
            "Epoch 24/100\n",
            "9/9 [==============================] - 0s 46ms/step - loss: 0.0018 - val_loss: 0.0321\n",
            "Epoch 25/100\n",
            "9/9 [==============================] - 0s 47ms/step - loss: 0.0016 - val_loss: 0.0300\n",
            "Epoch 26/100\n",
            "9/9 [==============================] - 0s 41ms/step - loss: 0.0013 - val_loss: 0.0312\n",
            "Epoch 27/100\n",
            "9/9 [==============================] - 0s 29ms/step - loss: 0.0012 - val_loss: 0.0356\n",
            "Epoch 28/100\n",
            "9/9 [==============================] - 0s 27ms/step - loss: 0.0012 - val_loss: 0.0226\n",
            "Epoch 29/100\n",
            "9/9 [==============================] - 0s 27ms/step - loss: 0.0011 - val_loss: 0.0491\n",
            "Epoch 30/100\n",
            "9/9 [==============================] - 0s 30ms/step - loss: 0.0020 - val_loss: 0.0166\n",
            "Epoch 31/100\n",
            "9/9 [==============================] - 0s 29ms/step - loss: 0.0016 - val_loss: 0.0508\n",
            "Epoch 32/100\n",
            "9/9 [==============================] - 0s 29ms/step - loss: 0.0013 - val_loss: 0.0138\n",
            "Epoch 33/100\n",
            "9/9 [==============================] - 0s 34ms/step - loss: 0.0013 - val_loss: 0.0373\n",
            "Epoch 34/100\n",
            "9/9 [==============================] - 0s 29ms/step - loss: 0.0013 - val_loss: 0.0200\n",
            "Epoch 35/100\n",
            "9/9 [==============================] - 0s 28ms/step - loss: 0.0010 - val_loss: 0.0236\n",
            "Epoch 36/100\n",
            "9/9 [==============================] - 0s 29ms/step - loss: 0.0011 - val_loss: 0.0394\n",
            "Epoch 37/100\n",
            "9/9 [==============================] - 0s 28ms/step - loss: 0.0010 - val_loss: 0.0243\n",
            "Epoch 38/100\n",
            "9/9 [==============================] - 0s 32ms/step - loss: 9.2001e-04 - val_loss: 0.0299\n",
            "Epoch 39/100\n",
            "9/9 [==============================] - 0s 28ms/step - loss: 0.0010 - val_loss: 0.0183\n",
            "Epoch 40/100\n",
            "9/9 [==============================] - 0s 28ms/step - loss: 9.2092e-04 - val_loss: 0.0193\n",
            "Epoch 41/100\n",
            "9/9 [==============================] - 0s 33ms/step - loss: 0.0011 - val_loss: 0.0200\n",
            "Epoch 42/100\n",
            "9/9 [==============================] - 0s 33ms/step - loss: 8.4970e-04 - val_loss: 0.0155\n",
            "Epoch 43/100\n",
            "9/9 [==============================] - 0s 31ms/step - loss: 9.1721e-04 - val_loss: 0.0276\n",
            "Epoch 44/100\n",
            "9/9 [==============================] - 0s 30ms/step - loss: 0.0012 - val_loss: 0.0143\n",
            "Epoch 45/100\n",
            "9/9 [==============================] - 0s 29ms/step - loss: 0.0011 - val_loss: 0.0307\n",
            "Epoch 46/100\n",
            "9/9 [==============================] - 0s 30ms/step - loss: 9.2898e-04 - val_loss: 0.0175\n",
            "Epoch 47/100\n",
            "9/9 [==============================] - 0s 27ms/step - loss: 9.2589e-04 - val_loss: 0.0215\n",
            "Epoch 48/100\n",
            "9/9 [==============================] - 0s 28ms/step - loss: 9.7755e-04 - val_loss: 0.0299\n",
            "Epoch 49/100\n",
            "9/9 [==============================] - 0s 30ms/step - loss: 9.8630e-04 - val_loss: 0.0171\n",
            "Epoch 50/100\n",
            "9/9 [==============================] - 0s 29ms/step - loss: 9.0922e-04 - val_loss: 0.0265\n",
            "Epoch 51/100\n",
            "9/9 [==============================] - 0s 28ms/step - loss: 8.2915e-04 - val_loss: 0.0234\n",
            "Epoch 52/100\n",
            "9/9 [==============================] - 0s 29ms/step - loss: 7.8434e-04 - val_loss: 0.0230\n",
            "Epoch 53/100\n",
            "9/9 [==============================] - 0s 36ms/step - loss: 7.9722e-04 - val_loss: 0.0191\n",
            "Epoch 54/100\n",
            "9/9 [==============================] - 0s 35ms/step - loss: 8.6526e-04 - val_loss: 0.0223\n",
            "Epoch 55/100\n",
            "9/9 [==============================] - 0s 30ms/step - loss: 8.2580e-04 - val_loss: 0.0180\n",
            "Epoch 56/100\n",
            "9/9 [==============================] - 0s 29ms/step - loss: 8.2302e-04 - val_loss: 0.0330\n",
            "Epoch 57/100\n",
            "9/9 [==============================] - 0s 28ms/step - loss: 9.1011e-04 - val_loss: 0.0195\n",
            "Epoch 58/100\n",
            "9/9 [==============================] - 0s 28ms/step - loss: 9.0628e-04 - val_loss: 0.0239\n",
            "Epoch 59/100\n",
            "9/9 [==============================] - 0s 28ms/step - loss: 8.7781e-04 - val_loss: 0.0237\n",
            "Epoch 60/100\n",
            "9/9 [==============================] - 0s 30ms/step - loss: 8.5187e-04 - val_loss: 0.0332\n",
            "Epoch 61/100\n",
            "9/9 [==============================] - 0s 28ms/step - loss: 9.7560e-04 - val_loss: 0.0206\n",
            "Epoch 62/100\n",
            "9/9 [==============================] - 0s 27ms/step - loss: 8.4849e-04 - val_loss: 0.0227\n",
            "Epoch 63/100\n",
            "9/9 [==============================] - 0s 28ms/step - loss: 0.0013 - val_loss: 0.0373\n",
            "Epoch 64/100\n",
            "9/9 [==============================] - 0s 48ms/step - loss: 0.0013 - val_loss: 0.0201\n",
            "Epoch 65/100\n",
            "9/9 [==============================] - 0s 48ms/step - loss: 0.0010 - val_loss: 0.0260\n",
            "Epoch 66/100\n",
            "9/9 [==============================] - 0s 50ms/step - loss: 8.1586e-04 - val_loss: 0.0212\n",
            "Epoch 67/100\n",
            "9/9 [==============================] - 0s 48ms/step - loss: 8.2342e-04 - val_loss: 0.0289\n",
            "Epoch 68/100\n",
            "9/9 [==============================] - 0s 46ms/step - loss: 7.6962e-04 - val_loss: 0.0237\n",
            "Epoch 69/100\n",
            "9/9 [==============================] - 0s 45ms/step - loss: 7.7787e-04 - val_loss: 0.0260\n",
            "Epoch 70/100\n",
            "9/9 [==============================] - 0s 50ms/step - loss: 7.8104e-04 - val_loss: 0.0242\n",
            "Epoch 71/100\n",
            "9/9 [==============================] - 0s 44ms/step - loss: 9.0397e-04 - val_loss: 0.0281\n",
            "Epoch 72/100\n",
            "9/9 [==============================] - 0s 44ms/step - loss: 7.7467e-04 - val_loss: 0.0201\n",
            "Epoch 73/100\n",
            "9/9 [==============================] - 0s 44ms/step - loss: 8.2424e-04 - val_loss: 0.0303\n",
            "Epoch 74/100\n",
            "9/9 [==============================] - 0s 35ms/step - loss: 8.8887e-04 - val_loss: 0.0241\n",
            "Epoch 75/100\n",
            "9/9 [==============================] - 0s 29ms/step - loss: 8.0257e-04 - val_loss: 0.0214\n",
            "Epoch 76/100\n",
            "9/9 [==============================] - 0s 31ms/step - loss: 7.4378e-04 - val_loss: 0.0271\n",
            "Epoch 77/100\n",
            "9/9 [==============================] - 0s 29ms/step - loss: 7.4554e-04 - val_loss: 0.0233\n",
            "Epoch 78/100\n",
            "9/9 [==============================] - 0s 31ms/step - loss: 7.5389e-04 - val_loss: 0.0258\n",
            "Epoch 79/100\n",
            "9/9 [==============================] - 0s 31ms/step - loss: 7.4769e-04 - val_loss: 0.0285\n",
            "Epoch 80/100\n",
            "9/9 [==============================] - 0s 33ms/step - loss: 7.6424e-04 - val_loss: 0.0268\n",
            "Epoch 81/100\n",
            "9/9 [==============================] - 0s 34ms/step - loss: 8.3737e-04 - val_loss: 0.0316\n",
            "Epoch 82/100\n",
            "9/9 [==============================] - 0s 32ms/step - loss: 7.7751e-04 - val_loss: 0.0238\n",
            "Epoch 83/100\n",
            "9/9 [==============================] - 0s 34ms/step - loss: 8.8380e-04 - val_loss: 0.0250\n",
            "Epoch 84/100\n",
            "9/9 [==============================] - 0s 38ms/step - loss: 7.4540e-04 - val_loss: 0.0212\n",
            "Epoch 85/100\n",
            "9/9 [==============================] - 0s 36ms/step - loss: 8.1972e-04 - val_loss: 0.0276\n",
            "Epoch 86/100\n",
            "9/9 [==============================] - 0s 35ms/step - loss: 9.3163e-04 - val_loss: 0.0209\n",
            "Epoch 87/100\n",
            "9/9 [==============================] - 0s 32ms/step - loss: 8.1169e-04 - val_loss: 0.0283\n",
            "Epoch 88/100\n",
            "9/9 [==============================] - 0s 36ms/step - loss: 8.3815e-04 - val_loss: 0.0235\n",
            "Epoch 89/100\n",
            "9/9 [==============================] - 0s 30ms/step - loss: 7.4469e-04 - val_loss: 0.0254\n",
            "Epoch 90/100\n",
            "9/9 [==============================] - 0s 32ms/step - loss: 7.9588e-04 - val_loss: 0.0264\n",
            "Epoch 91/100\n",
            "9/9 [==============================] - 0s 30ms/step - loss: 8.2362e-04 - val_loss: 0.0224\n",
            "Epoch 92/100\n",
            "9/9 [==============================] - 0s 28ms/step - loss: 9.5251e-04 - val_loss: 0.0236\n",
            "Epoch 93/100\n",
            "9/9 [==============================] - 0s 31ms/step - loss: 0.0012 - val_loss: 0.0326\n",
            "Epoch 94/100\n",
            "9/9 [==============================] - 0s 31ms/step - loss: 9.7188e-04 - val_loss: 0.0252\n",
            "Epoch 95/100\n",
            "9/9 [==============================] - 0s 32ms/step - loss: 8.1110e-04 - val_loss: 0.0277\n",
            "Epoch 96/100\n",
            "9/9 [==============================] - 0s 32ms/step - loss: 7.4000e-04 - val_loss: 0.0288\n",
            "Epoch 97/100\n",
            "9/9 [==============================] - 0s 29ms/step - loss: 7.7368e-04 - val_loss: 0.0260\n",
            "Epoch 98/100\n",
            "9/9 [==============================] - 0s 33ms/step - loss: 8.0572e-04 - val_loss: 0.0286\n",
            "Epoch 99/100\n",
            "9/9 [==============================] - 0s 29ms/step - loss: 7.4664e-04 - val_loss: 0.0234\n",
            "Epoch 100/100\n",
            "9/9 [==============================] - 0s 29ms/step - loss: 7.7869e-04 - val_loss: 0.0284\n"
          ]
        },
        {
          "output_type": "execute_result",
          "data": {
            "text/plain": [
              "<keras.callbacks.History at 0x7f631a754fa0>"
            ]
          },
          "metadata": {},
          "execution_count": 292
        }
      ]
    },
    {
      "cell_type": "markdown",
      "source": [
        "# **Prediction**"
      ],
      "metadata": {
        "id": "1v-grVlbe9n-"
      }
    },
    {
      "cell_type": "code",
      "metadata": {
        "id": "hB-4oW3gU-nf"
      },
      "source": [
        "import tensorflow as tf"
      ],
      "execution_count": 293,
      "outputs": []
    },
    {
      "cell_type": "code",
      "metadata": {
        "id": "NBRS-ybtU-nf",
        "colab": {
          "base_uri": "https://localhost:8080/"
        },
        "outputId": "251f6974-c24c-42eb-f543-0e3017b9d586"
      },
      "source": [
        "### Lets Do the prediction and check performance metrics\n",
        "train_predict=model.predict(X_train)\n",
        "test_predict=model.predict(X_test)"
      ],
      "execution_count": 294,
      "outputs": [
        {
          "output_type": "stream",
          "name": "stdout",
          "text": [
            "9/9 [==============================] - 1s 6ms/step\n",
            "5/5 [==============================] - 0s 8ms/step\n"
          ]
        }
      ]
    },
    {
      "cell_type": "code",
      "metadata": {
        "id": "JlmCHajzU-ng"
      },
      "source": [
        "##Transformback to original form\n",
        "train_predict=scaler.inverse_transform(train_predict)\n",
        "test_predict=scaler.inverse_transform(test_predict)"
      ],
      "execution_count": 295,
      "outputs": []
    },
    {
      "cell_type": "markdown",
      "source": [
        "# **Performence Matrix**"
      ],
      "metadata": {
        "id": "EIHQwQO6fEyJ"
      }
    },
    {
      "cell_type": "markdown",
      "source": [
        "# **MSE**"
      ],
      "metadata": {
        "id": "7Jvbtj-Xh3_q"
      }
    },
    {
      "cell_type": "code",
      "metadata": {
        "colab": {
          "base_uri": "https://localhost:8080/"
        },
        "id": "h2i2Tn1oU-ng",
        "outputId": "5205d50c-39af-4105-fd0f-a04d6f236762"
      },
      "source": [
        "### Calculate RMSE performance metrics\n",
        "import math\n",
        "from sklearn.metrics import mean_squared_error\n",
        "mean_squared_error(y_train,train_predict)"
      ],
      "execution_count": 296,
      "outputs": [
        {
          "output_type": "execute_result",
          "data": {
            "text/plain": [
              "6021119.60145181"
            ]
          },
          "metadata": {},
          "execution_count": 296
        }
      ]
    },
    {
      "cell_type": "code",
      "metadata": {
        "colab": {
          "base_uri": "https://localhost:8080/"
        },
        "id": "9OxVnb8LU-ni",
        "outputId": "c4a9521d-7185-416a-9038-242497ef5aab"
      },
      "source": [
        "mean_squared_error(ytest,test_predict)"
      ],
      "execution_count": 297,
      "outputs": [
        {
          "output_type": "execute_result",
          "data": {
            "text/plain": [
              "21127476.497717097"
            ]
          },
          "metadata": {},
          "execution_count": 297
        }
      ]
    },
    {
      "cell_type": "markdown",
      "source": [
        "# **RMSE**"
      ],
      "metadata": {
        "id": "VJI-wcp-iT1w"
      }
    },
    {
      "cell_type": "code",
      "source": [
        "### Calculate RMSE performance metrics\n",
        "math.sqrt(mean_squared_error(y_train,train_predict))"
      ],
      "metadata": {
        "colab": {
          "base_uri": "https://localhost:8080/"
        },
        "id": "ANGdoFYwh9RZ",
        "outputId": "597162e1-2bea-4223-9687-f8c14b2d3a25"
      },
      "execution_count": 298,
      "outputs": [
        {
          "output_type": "execute_result",
          "data": {
            "text/plain": [
              "2453.796976412639"
            ]
          },
          "metadata": {},
          "execution_count": 298
        }
      ]
    },
    {
      "cell_type": "code",
      "source": [
        "### Test Data RMSE\n",
        "math.sqrt(mean_squared_error(ytest,test_predict))"
      ],
      "metadata": {
        "colab": {
          "base_uri": "https://localhost:8080/"
        },
        "id": "5IUJ1QesiSJq",
        "outputId": "1b84bec8-cb54-48b1-8ada-b115ad779821"
      },
      "execution_count": 299,
      "outputs": [
        {
          "output_type": "execute_result",
          "data": {
            "text/plain": [
              "4596.463477252604"
            ]
          },
          "metadata": {},
          "execution_count": 299
        }
      ]
    },
    {
      "cell_type": "markdown",
      "source": [
        "# **MAE**"
      ],
      "metadata": {
        "id": "7UJEZvcwicMP"
      }
    },
    {
      "cell_type": "code",
      "source": [
        "from sklearn.metrics import mean_absolute_error\n",
        "mean_absolute_error(y_train,train_predict)"
      ],
      "metadata": {
        "colab": {
          "base_uri": "https://localhost:8080/"
        },
        "id": "NYgNwLcoiXzv",
        "outputId": "99d57a86-28a5-4e22-c126-17e23261a466"
      },
      "execution_count": 300,
      "outputs": [
        {
          "output_type": "execute_result",
          "data": {
            "text/plain": [
              "1981.4828833627437"
            ]
          },
          "metadata": {},
          "execution_count": 300
        }
      ]
    },
    {
      "cell_type": "code",
      "source": [
        "### Test Data MAE\n",
        "mean_absolute_error(ytest,test_predict)"
      ],
      "metadata": {
        "colab": {
          "base_uri": "https://localhost:8080/"
        },
        "id": "UBa6QEtIifAv",
        "outputId": "2df6d87f-7520-44e7-cdb3-6089a5733648"
      },
      "execution_count": 301,
      "outputs": [
        {
          "output_type": "execute_result",
          "data": {
            "text/plain": [
              "3399.286101721105"
            ]
          },
          "metadata": {},
          "execution_count": 301
        }
      ]
    },
    {
      "cell_type": "code",
      "metadata": {
        "colab": {
          "base_uri": "https://localhost:8080/",
          "height": 265
        },
        "id": "yesyT_OzU-nj",
        "outputId": "5e781c72-6aaa-4548-a841-d0d6948846b4"
      },
      "source": [
        "### Plotting \n",
        "# shift train predictions for plotting\n",
        "look_back=10\n",
        "trainPredictPlot = numpy.empty_like(df1)\n",
        "trainPredictPlot[:, :] = np.nan\n",
        "trainPredictPlot[look_back:len(train_predict)+look_back, :] = train_predict\n",
        "# shift test predictions for plotting\n",
        "testPredictPlot = numpy.empty_like(df1)\n",
        "testPredictPlot[:, :] = numpy.nan\n",
        "testPredictPlot[len(train_predict)+(look_back*2)+1:len(df1)-1, :] = test_predict\n",
        "# plot baseline and predictions\n",
        "plt.plot(scaler.inverse_transform(df1))\n",
        "plt.plot(trainPredictPlot)\n",
        "plt.plot(testPredictPlot)\n",
        "plt.show()"
      ],
      "execution_count": 302,
      "outputs": [
        {
          "output_type": "display_data",
          "data": {
            "text/plain": [
              "<Figure size 432x288 with 1 Axes>"
            ],
            "image/png": "[encoded data removed]"
          },
          "metadata": {
            "needs_background": "light"
          }
        }
      ]
    },
    {
      "cell_type": "code",
      "metadata": {
        "colab": {
          "base_uri": "https://localhost:8080/"
        },
        "id": "9GkMLkiUU-nk",
        "outputId": "edaf20d2-2adc-4354-dccb-06e3b1ba6ef9"
      },
      "source": [
        "len(test_data)"
      ],
      "execution_count": 303,
      "outputs": [
        {
          "output_type": "execute_result",
          "data": {
            "text/plain": [
              "147"
            ]
          },
          "metadata": {},
          "execution_count": 303
        }
      ]
    },
    {
      "cell_type": "code",
      "metadata": {
        "colab": {
          "base_uri": "https://localhost:8080/"
        },
        "id": "p9hqyf35U-nl",
        "outputId": "5b64369d-222b-4830-a29c-42dfba0f5575"
      },
      "source": [
        "x_input=test_data[137:].reshape(1,-1)\n",
        "x_input.shape\n"
      ],
      "execution_count": 304,
      "outputs": [
        {
          "output_type": "execute_result",
          "data": {
            "text/plain": [
              "(1, 10)"
            ]
          },
          "metadata": {},
          "execution_count": 304
        }
      ]
    },
    {
      "cell_type": "code",
      "metadata": {
        "id": "KFN-DYjkU-nn"
      },
      "source": [
        "temp_input=list(x_input)\n",
        "temp_input=temp_input[0].tolist()"
      ],
      "execution_count": 305,
      "outputs": []
    },
    {
      "cell_type": "code",
      "metadata": {
        "colab": {
          "base_uri": "https://localhost:8080/"
        },
        "id": "CuUtPlH6RHVO",
        "outputId": "a20c720c-6a02-422a-e972-c1aad8b6b0f5"
      },
      "source": [
        "len(temp_input)"
      ],
      "execution_count": 306,
      "outputs": [
        {
          "output_type": "execute_result",
          "data": {
            "text/plain": [
              "10"
            ]
          },
          "metadata": {},
          "execution_count": 306
        }
      ]
    },
    {
      "cell_type": "code",
      "metadata": {
        "colab": {
          "base_uri": "https://localhost:8080/"
        },
        "id": "HQqAaefdU-no",
        "outputId": "242c8907-a371-4636-90ee-433003ace361"
      },
      "source": [
        "temp_input"
      ],
      "execution_count": 307,
      "outputs": [
        {
          "output_type": "execute_result",
          "data": {
            "text/plain": [
              "[0.0052242054854157605,\n",
              " 0.005348591330306612,\n",
              " 0.004353504571179801,\n",
              " 0.0,\n",
              " 0.004477890416070652,\n",
              " 0.005162012562970334,\n",
              " 0.0038559611916163944,\n",
              " 0.007152186081223958,\n",
              " 0.005783941787424592,\n",
              " 0.006343678089433423]"
            ]
          },
          "metadata": {},
          "execution_count": 307
        }
      ]
    },
    {
      "cell_type": "code",
      "metadata": {
        "colab": {
          "base_uri": "https://localhost:8080/"
        },
        "id": "EL4ab3SJU-no",
        "outputId": "27490a53-eed6-4161-ba9c-e84e4f342084"
      },
      "source": [
        "# demonstrate prediction for next 10 days\n",
        "from numpy import array\n",
        "\n",
        "lst_output=[]\n",
        "n_steps=10\n",
        "i=0\n",
        "while(i<30):\n",
        "    \n",
        "    if(len(temp_input)>10):\n",
        "        #print(temp_input)\n",
        "        x_input=np.array(temp_input[1:])\n",
        "        print(\"{} day input {}\".format(i,x_input))\n",
        "        x_input=x_input.reshape(1,-1)\n",
        "        x_input = x_input.reshape((1, n_steps, 1))\n",
        "        #print(x_input)\n",
        "        yhat = model.predict(x_input, verbose=0)\n",
        "        print(\"{} day output {}\".format(i,yhat))\n",
        "        temp_input.extend(yhat[0].tolist())\n",
        "        temp_input=temp_input[1:]\n",
        "        #print(temp_input)\n",
        "        lst_output.extend(yhat.tolist())\n",
        "        i=i+1\n",
        "    else:\n",
        "        x_input = x_input.reshape((1, n_steps,1))\n",
        "        yhat = model.predict(x_input, verbose=0)\n",
        "        print(yhat[0])\n",
        "        temp_input.extend(yhat[0].tolist())\n",
        "        print(len(temp_input))\n",
        "        lst_output.extend(yhat.tolist())\n",
        "        i=i+1\n",
        "    \n",
        "\n",
        "print(lst_output)"
      ],
      "execution_count": 308,
      "outputs": [
        {
          "output_type": "stream",
          "name": "stdout",
          "text": [
            "[0.01566909]\n",
            "11\n",
            "1 day input [0.00534859 0.0043535  0.         0.00447789 0.00516201 0.00385596\n",
            " 0.00715219 0.00578394 0.00634368 0.01566909]\n",
            "1 day output [[0.01748314]]\n",
            "2 day input [0.0043535  0.         0.00447789 0.00516201 0.00385596 0.00715219\n",
            " 0.00578394 0.00634368 0.01566909 0.01748314]\n",
            "2 day output [[0.02042605]]\n",
            "3 day input [0.         0.00447789 0.00516201 0.00385596 0.00715219 0.00578394\n",
            " 0.00634368 0.01566909 0.01748314 0.02042605]\n",
            "3 day output [[0.02414638]]\n",
            "4 day input [0.00447789 0.00516201 0.00385596 0.00715219 0.00578394 0.00634368\n",
            " 0.01566909 0.01748314 0.02042605 0.02414638]\n",
            "4 day output [[0.02746518]]\n",
            "5 day input [0.00516201 0.00385596 0.00715219 0.00578394 0.00634368 0.01566909\n",
            " 0.01748314 0.02042605 0.02414638 0.02746518]\n",
            "5 day output [[0.03225585]]\n",
            "6 day input [0.00385596 0.00715219 0.00578394 0.00634368 0.01566909 0.01748314\n",
            " 0.02042605 0.02414638 0.02746518 0.03225585]\n",
            "6 day output [[0.03738906]]\n",
            "7 day input [0.00715219 0.00578394 0.00634368 0.01566909 0.01748314 0.02042605\n",
            " 0.02414638 0.02746518 0.03225585 0.03738906]\n",
            "7 day output [[0.04211451]]\n",
            "8 day input [0.00578394 0.00634368 0.01566909 0.01748314 0.02042605 0.02414638\n",
            " 0.02746518 0.03225585 0.03738906 0.04211451]\n",
            "8 day output [[0.0474308]]\n",
            "9 day input [0.00634368 0.01566909 0.01748314 0.02042605 0.02414638 0.02746518\n",
            " 0.03225585 0.03738906 0.04211451 0.0474308 ]\n",
            "9 day output [[0.05202233]]\n",
            "10 day input [0.01566909 0.01748314 0.02042605 0.02414638 0.02746518 0.03225585\n",
            " 0.03738906 0.04211451 0.0474308  0.05202233]\n",
            "10 day output [[0.05614863]]\n",
            "11 day input [0.01748314 0.02042605 0.02414638 0.02746518 0.03225585 0.03738906\n",
            " 0.04211451 0.0474308  0.05202233 0.05614863]\n",
            "11 day output [[0.0619963]]\n",
            "12 day input [0.02042605 0.02414638 0.02746518 0.03225585 0.03738906 0.04211451\n",
            " 0.0474308  0.05202233 0.05614863 0.0619963 ]\n",
            "12 day output [[0.06759001]]\n",
            "13 day input [0.02414638 0.02746518 0.03225585 0.03738906 0.04211451 0.0474308\n",
            " 0.05202233 0.05614863 0.0619963  0.06759001]\n",
            "13 day output [[0.07307471]]\n",
            "14 day input [0.02746518 0.03225585 0.03738906 0.04211451 0.0474308  0.05202233\n",
            " 0.05614863 0.0619963  0.06759001 0.07307471]\n",
            "14 day output [[0.0785898]]\n",
            "15 day input [0.03225585 0.03738906 0.04211451 0.0474308  0.05202233 0.05614863\n",
            " 0.0619963  0.06759001 0.07307471 0.0785898 ]\n",
            "15 day output [[0.08396794]]\n",
            "16 day input [0.03738906 0.04211451 0.0474308  0.05202233 0.05614863 0.0619963\n",
            " 0.06759001 0.07307471 0.0785898  0.08396794]\n",
            "16 day output [[0.08953704]]\n",
            "17 day input [0.04211451 0.0474308  0.05202233 0.05614863 0.0619963  0.06759001\n",
            " 0.07307471 0.0785898  0.08396794 0.08953704]\n",
            "17 day output [[0.0953448]]\n",
            "18 day input [0.0474308  0.05202233 0.05614863 0.0619963  0.06759001 0.07307471\n",
            " 0.0785898  0.08396794 0.08953704 0.0953448 ]\n",
            "18 day output [[0.10123271]]\n",
            "19 day input [0.05202233 0.05614863 0.0619963  0.06759001 0.07307471 0.0785898\n",
            " 0.08396794 0.08953704 0.0953448  0.10123271]\n",
            "19 day output [[0.10732819]]\n",
            "20 day input [0.05614863 0.0619963  0.06759001 0.07307471 0.0785898  0.08396794\n",
            " 0.08953704 0.0953448  0.10123271 0.10732819]\n",
            "20 day output [[0.11340895]]\n",
            "21 day input [0.0619963  0.06759001 0.07307471 0.0785898  0.08396794 0.08953704\n",
            " 0.0953448  0.10123271 0.10732819 0.11340895]\n",
            "21 day output [[0.11930442]]\n",
            "22 day input [0.06759001 0.07307471 0.0785898  0.08396794 0.08953704 0.0953448\n",
            " 0.10123271 0.10732819 0.11340895 0.11930442]\n",
            "22 day output [[0.12546834]]\n",
            "23 day input [0.07307471 0.0785898  0.08396794 0.08953704 0.0953448  0.10123271\n",
            " 0.10732819 0.11340895 0.11930442 0.12546834]\n",
            "23 day output [[0.13181703]]\n",
            "24 day input [0.0785898  0.08396794 0.08953704 0.0953448  0.10123271 0.10732819\n",
            " 0.11340895 0.11930442 0.12546834 0.13181703]\n",
            "24 day output [[0.13829781]]\n",
            "25 day input [0.08396794 0.08953704 0.0953448  0.10123271 0.10732819 0.11340895\n",
            " 0.11930442 0.12546834 0.13181703 0.13829781]\n",
            "25 day output [[0.14490633]]\n",
            "26 day input [0.08953704 0.0953448  0.10123271 0.10732819 0.11340895 0.11930442\n",
            " 0.12546834 0.13181703 0.13829781 0.14490633]\n",
            "26 day output [[0.15159576]]\n",
            "27 day input [0.0953448  0.10123271 0.10732819 0.11340895 0.11930442 0.12546834\n",
            " 0.13181703 0.13829781 0.14490633 0.15159576]\n",
            "27 day output [[0.15841492]]\n",
            "28 day input [0.10123271 0.10732819 0.11340895 0.11930442 0.12546834 0.13181703\n",
            " 0.13829781 0.14490633 0.15159576 0.15841492]\n",
            "28 day output [[0.16542888]]\n",
            "29 day input [0.10732819 0.11340895 0.11930442 0.12546834 0.13181703 0.13829781\n",
            " 0.14490633 0.15159576 0.15841492 0.16542888]\n",
            "29 day output [[0.172657]]\n",
            "[[0.015669086948037148], [0.017483141273260117], [0.020426053553819656], [0.02414637804031372], [0.027465175837278366], [0.03225585073232651], [0.037389062345027924], [0.042114511132240295], [0.04743080213665962], [0.052022334188222885], [0.056148629635572433], [0.06199629604816437], [0.06759001314640045], [0.07307470589876175], [0.0785897970199585], [0.08396793901920319], [0.08953703939914703], [0.09534479677677155], [0.10123270750045776], [0.10732819139957428], [0.11340895295143127], [0.11930441856384277], [0.12546834349632263], [0.131817027926445], [0.13829781115055084], [0.14490632712841034], [0.15159575641155243], [0.15841491520404816], [0.16542887687683105], [0.17265699803829193]]\n"
          ]
        }
      ]
    },
    {
      "cell_type": "code",
      "metadata": {
        "id": "itL7ug7xU-np"
      },
      "source": [
        "day_new=np.arange(1,101)\n",
        "day_pred=np.arange(101,131)"
      ],
      "execution_count": 309,
      "outputs": []
    },
    {
      "cell_type": "code",
      "metadata": {
        "id": "4LFs9dLgU-nq"
      },
      "source": [
        "import matplotlib.pyplot as plt"
      ],
      "execution_count": 310,
      "outputs": []
    },
    {
      "cell_type": "code",
      "metadata": {
        "colab": {
          "base_uri": "https://localhost:8080/"
        },
        "id": "9Hyxt_gQU-nq",
        "outputId": "81fdda89-b70e-4d58-bca0-d211805f6595"
      },
      "source": [
        "len(df1)"
      ],
      "execution_count": 311,
      "outputs": [
        {
          "output_type": "execute_result",
          "data": {
            "text/plain": [
              "419"
            ]
          },
          "metadata": {},
          "execution_count": 311
        }
      ]
    },
    {
      "cell_type": "code",
      "metadata": {
        "colab": {
          "base_uri": "https://localhost:8080/"
        },
        "id": "9fl8-tsXr41b",
        "outputId": "52772a46-4c82-45be-fa56-d395ca6a490e"
      },
      "source": [
        "len(lst_output)"
      ],
      "execution_count": 312,
      "outputs": [
        {
          "output_type": "execute_result",
          "data": {
            "text/plain": [
              "30"
            ]
          },
          "metadata": {},
          "execution_count": 312
        }
      ]
    },
    {
      "cell_type": "code",
      "metadata": {
        "colab": {
          "base_uri": "https://localhost:8080/",
          "height": 282
        },
        "id": "QFCMU5meU-nr",
        "outputId": "067604d1-bce0-46a1-d7f6-636683ed64d3"
      },
      "source": [
        "plt.plot(day_new,scaler.inverse_transform(df1[319:]))\n",
        "plt.plot(day_pred,scaler.inverse_transform(lst_output))"
      ],
      "execution_count": 313,
      "outputs": [
        {
          "output_type": "execute_result",
          "data": {
            "text/plain": [
              "[<matplotlib.lines.Line2D at 0x7f6318118af0>]"
            ]
          },
          "metadata": {},
          "execution_count": 313
        },
        {
          "output_type": "display_data",
          "data": {
            "text/plain": [
              "<Figure size 432x288 with 1 Axes>"
            ],
            "image/png": "[encoded data removed]"
          },
          "metadata": {
            "needs_background": "light"
          }
        }
      ]
    },
    {
      "cell_type": "code",
      "metadata": {
        "colab": {
          "base_uri": "https://localhost:8080/",
          "height": 282
        },
        "id": "b-2A0_qfU-nr",
        "outputId": "14509d1d-850f-4da4-c43c-339517c2e662"
      },
      "source": [
        "df3=df1.tolist()\n",
        "df3.extend(lst_output)\n",
        "plt.plot(df3[300:])"
      ],
      "execution_count": 314,
      "outputs": [
        {
          "output_type": "execute_result",
          "data": {
            "text/plain": [
              "[<matplotlib.lines.Line2D at 0x7f63180cbd60>]"
            ]
          },
          "metadata": {},
          "execution_count": 314
        },
        {
          "output_type": "display_data",
          "data": {
            "text/plain": [
              "<Figure size 432x288 with 1 Axes>"
            ],
            "image/png": "[encoded data removed]"
          },
          "metadata": {
            "needs_background": "light"
          }
        }
      ]
    },
    {
      "cell_type": "code",
      "metadata": {
        "id": "YOhppl7gU-ns"
      },
      "source": [
        "df3=scaler.inverse_transform(df3).tolist()"
      ],
      "execution_count": 315,
      "outputs": []
    },
    {
      "cell_type": "code",
      "metadata": {
        "colab": {
          "base_uri": "https://localhost:8080/",
          "height": 282
        },
        "id": "Casmv77fU-ns",
        "outputId": "b97c42a1-c816-42b6-bfd0-fd4da0cb3415"
      },
      "source": [
        "plt.plot(df3)"
      ],
      "execution_count": 316,
      "outputs": [
        {
          "output_type": "execute_result",
          "data": {
            "text/plain": [
              "[<matplotlib.lines.Line2D at 0x7f63147041c0>]"
            ]
          },
          "metadata": {},
          "execution_count": 316
        },
        {
          "output_type": "display_data",
          "data": {
            "text/plain": [
              "<Figure size 432x288 with 1 Axes>"
            ],
            "image/png": "[encoded data removed]"
          },
          "metadata": {
            "needs_background": "light"
          }
        }
      ]
    },
    {
      "cell_type": "markdown",
      "metadata": {
        "id": "uviEE9j9Pbgo"
      },
      "source": [
        "# **Bidirectional LSTM**"
      ]
    },
    {
      "cell_type": "code",
      "metadata": {
        "id": "ZfCaowxLPadw"
      },
      "source": [
        "from keras.layers import Bidirectional\n",
        "model2 = Sequential()\n",
        "model2.add(Bidirectional(LSTM(50, activation='relu'), input_shape=(10,1)))\n",
        "model2.add(Dense(1))\n",
        "model2.compile(loss='mean_squared_error',optimizer='adam')"
      ],
      "execution_count": 317,
      "outputs": []
    },
    {
      "cell_type": "code",
      "metadata": {
        "colab": {
          "base_uri": "https://localhost:8080/"
        },
        "id": "5DpXde_4Qho-",
        "outputId": "3eefb1f5-2dca-49a6-814c-87dea7d9e8d8"
      },
      "source": [
        "model2.summary()"
      ],
      "execution_count": 318,
      "outputs": [
        {
          "output_type": "stream",
          "name": "stdout",
          "text": [
            "Model: \"sequential_11\"\n",
            "_________________________________________________________________\n",
            " Layer (type)                Output Shape              Param #   \n",
            "=================================================================\n",
            " bidirectional_2 (Bidirectio  (None, 100)              20800     \n",
            " nal)                                                            \n",
            "                                                                 \n",
            " dense_11 (Dense)            (None, 1)                 101       \n",
            "                                                                 \n",
            "=================================================================\n",
            "Total params: 20,901\n",
            "Trainable params: 20,901\n",
            "Non-trainable params: 0\n",
            "_________________________________________________________________\n"
          ]
        }
      ]
    },
    {
      "cell_type": "code",
      "metadata": {
        "colab": {
          "base_uri": "https://localhost:8080/"
        },
        "id": "yBgW4PGgQwKs",
        "outputId": "b534af16-ed90-4b3c-96a9-5720b8f9467e"
      },
      "source": [
        "model2.fit(X_train,y_train,validation_data=(X_test,ytest),epochs=100,batch_size=32,verbose=1)"
      ],
      "execution_count": 319,
      "outputs": [
        {
          "output_type": "stream",
          "name": "stdout",
          "text": [
            "Epoch 1/100\n",
            "9/9 [==============================] - 3s 56ms/step - loss: 0.0163 - val_loss: 0.1000\n",
            "Epoch 2/100\n",
            "9/9 [==============================] - 0s 13ms/step - loss: 0.0062 - val_loss: 0.0489\n",
            "Epoch 3/100\n",
            "9/9 [==============================] - 0s 13ms/step - loss: 0.0052 - val_loss: 0.0371\n",
            "Epoch 4/100\n",
            "9/9 [==============================] - 0s 13ms/step - loss: 0.0038 - val_loss: 0.0307\n",
            "Epoch 5/100\n",
            "9/9 [==============================] - 0s 13ms/step - loss: 0.0030 - val_loss: 0.0229\n",
            "Epoch 6/100\n",
            "9/9 [==============================] - 0s 12ms/step - loss: 0.0024 - val_loss: 0.0163\n",
            "Epoch 7/100\n",
            "9/9 [==============================] - 0s 14ms/step - loss: 0.0020 - val_loss: 0.0154\n",
            "Epoch 8/100\n",
            "9/9 [==============================] - 0s 14ms/step - loss: 0.0019 - val_loss: 0.0156\n",
            "Epoch 9/100\n",
            "9/9 [==============================] - 0s 13ms/step - loss: 0.0018 - val_loss: 0.0148\n",
            "Epoch 10/100\n",
            "9/9 [==============================] - 0s 13ms/step - loss: 0.0017 - val_loss: 0.0150\n",
            "Epoch 11/100\n",
            "9/9 [==============================] - 0s 12ms/step - loss: 0.0017 - val_loss: 0.0147\n",
            "Epoch 12/100\n",
            "9/9 [==============================] - 0s 12ms/step - loss: 0.0017 - val_loss: 0.0143\n",
            "Epoch 13/100\n",
            "9/9 [==============================] - 0s 13ms/step - loss: 0.0017 - val_loss: 0.0142\n",
            "Epoch 14/100\n",
            "9/9 [==============================] - 0s 14ms/step - loss: 0.0016 - val_loss: 0.0139\n",
            "Epoch 15/100\n",
            "9/9 [==============================] - 0s 13ms/step - loss: 0.0016 - val_loss: 0.0138\n",
            "Epoch 16/100\n",
            "9/9 [==============================] - 0s 13ms/step - loss: 0.0015 - val_loss: 0.0138\n",
            "Epoch 17/100\n",
            "9/9 [==============================] - 0s 15ms/step - loss: 0.0015 - val_loss: 0.0135\n",
            "Epoch 18/100\n",
            "9/9 [==============================] - 0s 13ms/step - loss: 0.0014 - val_loss: 0.0134\n",
            "Epoch 19/100\n",
            "9/9 [==============================] - 0s 12ms/step - loss: 0.0014 - val_loss: 0.0133\n",
            "Epoch 20/100\n",
            "9/9 [==============================] - 0s 13ms/step - loss: 0.0014 - val_loss: 0.0134\n",
            "Epoch 21/100\n",
            "9/9 [==============================] - 0s 12ms/step - loss: 0.0016 - val_loss: 0.0144\n",
            "Epoch 22/100\n",
            "9/9 [==============================] - 0s 14ms/step - loss: 0.0014 - val_loss: 0.0140\n",
            "Epoch 23/100\n",
            "9/9 [==============================] - 0s 13ms/step - loss: 0.0014 - val_loss: 0.0129\n",
            "Epoch 24/100\n",
            "9/9 [==============================] - 0s 12ms/step - loss: 0.0014 - val_loss: 0.0132\n",
            "Epoch 25/100\n",
            "9/9 [==============================] - 0s 12ms/step - loss: 0.0014 - val_loss: 0.0124\n",
            "Epoch 26/100\n",
            "9/9 [==============================] - 0s 12ms/step - loss: 0.0012 - val_loss: 0.0126\n",
            "Epoch 27/100\n",
            "9/9 [==============================] - 0s 14ms/step - loss: 0.0012 - val_loss: 0.0119\n",
            "Epoch 28/100\n",
            "9/9 [==============================] - 0s 14ms/step - loss: 0.0012 - val_loss: 0.0121\n",
            "Epoch 29/100\n",
            "9/9 [==============================] - 0s 13ms/step - loss: 0.0012 - val_loss: 0.0143\n",
            "Epoch 30/100\n",
            "9/9 [==============================] - 0s 13ms/step - loss: 0.0010 - val_loss: 0.0121\n",
            "Epoch 31/100\n",
            "9/9 [==============================] - 0s 13ms/step - loss: 0.0010 - val_loss: 0.0130\n",
            "Epoch 32/100\n",
            "9/9 [==============================] - 0s 13ms/step - loss: 9.1200e-04 - val_loss: 0.0165\n",
            "Epoch 33/100\n",
            "9/9 [==============================] - 0s 15ms/step - loss: 9.2810e-04 - val_loss: 0.0185\n",
            "Epoch 34/100\n",
            "9/9 [==============================] - 0s 12ms/step - loss: 9.1429e-04 - val_loss: 0.0138\n",
            "Epoch 35/100\n",
            "9/9 [==============================] - 0s 13ms/step - loss: 9.2775e-04 - val_loss: 0.0145\n",
            "Epoch 36/100\n",
            "9/9 [==============================] - 0s 13ms/step - loss: 7.7217e-04 - val_loss: 0.0196\n",
            "Epoch 37/100\n",
            "9/9 [==============================] - 0s 12ms/step - loss: 7.7912e-04 - val_loss: 0.0233\n",
            "Epoch 38/100\n",
            "9/9 [==============================] - 0s 12ms/step - loss: 7.2728e-04 - val_loss: 0.0199\n",
            "Epoch 39/100\n",
            "9/9 [==============================] - 0s 14ms/step - loss: 6.9119e-04 - val_loss: 0.0245\n",
            "Epoch 40/100\n",
            "9/9 [==============================] - 0s 13ms/step - loss: 6.8665e-04 - val_loss: 0.0394\n",
            "Epoch 41/100\n",
            "9/9 [==============================] - 0s 13ms/step - loss: 0.0010 - val_loss: 0.0410\n",
            "Epoch 42/100\n",
            "9/9 [==============================] - 0s 13ms/step - loss: 9.7419e-04 - val_loss: 0.0190\n",
            "Epoch 43/100\n",
            "9/9 [==============================] - 0s 15ms/step - loss: 7.4558e-04 - val_loss: 0.0242\n",
            "Epoch 44/100\n",
            "9/9 [==============================] - 0s 13ms/step - loss: 6.4546e-04 - val_loss: 0.0235\n",
            "Epoch 45/100\n",
            "9/9 [==============================] - 0s 14ms/step - loss: 7.1882e-04 - val_loss: 0.0258\n",
            "Epoch 46/100\n",
            "9/9 [==============================] - 0s 13ms/step - loss: 6.8694e-04 - val_loss: 0.0356\n",
            "Epoch 47/100\n",
            "9/9 [==============================] - 0s 14ms/step - loss: 7.1151e-04 - val_loss: 0.0390\n",
            "Epoch 48/100\n",
            "9/9 [==============================] - 0s 13ms/step - loss: 8.1984e-04 - val_loss: 0.0411\n",
            "Epoch 49/100\n",
            "9/9 [==============================] - 0s 13ms/step - loss: 6.6570e-04 - val_loss: 0.0301\n",
            "Epoch 50/100\n",
            "9/9 [==============================] - 0s 13ms/step - loss: 7.8381e-04 - val_loss: 0.0271\n",
            "Epoch 51/100\n",
            "9/9 [==============================] - 0s 13ms/step - loss: 6.1452e-04 - val_loss: 0.0349\n",
            "Epoch 52/100\n",
            "9/9 [==============================] - 0s 15ms/step - loss: 5.7981e-04 - val_loss: 0.0428\n",
            "Epoch 53/100\n",
            "9/9 [==============================] - 0s 16ms/step - loss: 6.5978e-04 - val_loss: 0.0381\n",
            "Epoch 54/100\n",
            "9/9 [==============================] - 0s 16ms/step - loss: 5.5750e-04 - val_loss: 0.0506\n",
            "Epoch 55/100\n",
            "9/9 [==============================] - 0s 15ms/step - loss: 5.4566e-04 - val_loss: 0.0468\n",
            "Epoch 56/100\n",
            "9/9 [==============================] - 0s 14ms/step - loss: 5.6447e-04 - val_loss: 0.0511\n",
            "Epoch 57/100\n",
            "9/9 [==============================] - 0s 13ms/step - loss: 5.7569e-04 - val_loss: 0.0573\n",
            "Epoch 58/100\n",
            "9/9 [==============================] - 0s 13ms/step - loss: 5.4390e-04 - val_loss: 0.0612\n",
            "Epoch 59/100\n",
            "9/9 [==============================] - 0s 14ms/step - loss: 6.5343e-04 - val_loss: 0.0599\n",
            "Epoch 60/100\n",
            "9/9 [==============================] - 0s 13ms/step - loss: 6.2962e-04 - val_loss: 0.0428\n",
            "Epoch 61/100\n",
            "9/9 [==============================] - 0s 13ms/step - loss: 6.5629e-04 - val_loss: 0.0568\n",
            "Epoch 62/100\n",
            "9/9 [==============================] - 0s 12ms/step - loss: 6.0726e-04 - val_loss: 0.0770\n",
            "Epoch 63/100\n",
            "9/9 [==============================] - 0s 22ms/step - loss: 6.2364e-04 - val_loss: 0.0486\n",
            "Epoch 64/100\n",
            "9/9 [==============================] - 0s 29ms/step - loss: 5.5302e-04 - val_loss: 0.0473\n",
            "Epoch 65/100\n",
            "9/9 [==============================] - 0s 26ms/step - loss: 5.4840e-04 - val_loss: 0.0560\n",
            "Epoch 66/100\n",
            "9/9 [==============================] - 0s 26ms/step - loss: 5.5704e-04 - val_loss: 0.0585\n",
            "Epoch 67/100\n",
            "9/9 [==============================] - 0s 22ms/step - loss: 5.5812e-04 - val_loss: 0.0570\n",
            "Epoch 68/100\n",
            "9/9 [==============================] - 0s 26ms/step - loss: 5.7485e-04 - val_loss: 0.0631\n",
            "Epoch 69/100\n",
            "9/9 [==============================] - 0s 32ms/step - loss: 5.9312e-04 - val_loss: 0.0508\n",
            "Epoch 70/100\n",
            "9/9 [==============================] - 0s 27ms/step - loss: 5.9123e-04 - val_loss: 0.0423\n",
            "Epoch 71/100\n",
            "9/9 [==============================] - 0s 26ms/step - loss: 5.8744e-04 - val_loss: 0.0587\n",
            "Epoch 72/100\n",
            "9/9 [==============================] - 0s 28ms/step - loss: 5.4852e-04 - val_loss: 0.0605\n",
            "Epoch 73/100\n",
            "9/9 [==============================] - 0s 27ms/step - loss: 5.3442e-04 - val_loss: 0.0439\n",
            "Epoch 74/100\n",
            "9/9 [==============================] - 0s 28ms/step - loss: 5.3632e-04 - val_loss: 0.0424\n",
            "Epoch 75/100\n",
            "9/9 [==============================] - 0s 29ms/step - loss: 5.2612e-04 - val_loss: 0.0516\n",
            "Epoch 76/100\n",
            "9/9 [==============================] - 0s 27ms/step - loss: 5.2029e-04 - val_loss: 0.0558\n",
            "Epoch 77/100\n",
            "9/9 [==============================] - 0s 30ms/step - loss: 5.6021e-04 - val_loss: 0.0601\n",
            "Epoch 78/100\n",
            "9/9 [==============================] - 0s 22ms/step - loss: 5.1841e-04 - val_loss: 0.0548\n",
            "Epoch 79/100\n",
            "9/9 [==============================] - 0s 16ms/step - loss: 6.6208e-04 - val_loss: 0.0411\n",
            "Epoch 80/100\n",
            "9/9 [==============================] - 0s 12ms/step - loss: 5.8912e-04 - val_loss: 0.0449\n",
            "Epoch 81/100\n",
            "9/9 [==============================] - 0s 14ms/step - loss: 5.9685e-04 - val_loss: 0.0487\n",
            "Epoch 82/100\n",
            "9/9 [==============================] - 0s 14ms/step - loss: 5.8589e-04 - val_loss: 0.0507\n",
            "Epoch 83/100\n",
            "9/9 [==============================] - 0s 13ms/step - loss: 5.0093e-04 - val_loss: 0.0354\n",
            "Epoch 84/100\n",
            "9/9 [==============================] - 0s 14ms/step - loss: 5.5699e-04 - val_loss: 0.0424\n",
            "Epoch 85/100\n",
            "9/9 [==============================] - 0s 13ms/step - loss: 5.1197e-04 - val_loss: 0.0454\n",
            "Epoch 86/100\n",
            "9/9 [==============================] - 0s 13ms/step - loss: 5.3679e-04 - val_loss: 0.0544\n",
            "Epoch 87/100\n",
            "9/9 [==============================] - 0s 13ms/step - loss: 5.6072e-04 - val_loss: 0.0565\n",
            "Epoch 88/100\n",
            "9/9 [==============================] - 0s 13ms/step - loss: 5.0831e-04 - val_loss: 0.0420\n",
            "Epoch 89/100\n",
            "9/9 [==============================] - 0s 13ms/step - loss: 6.2501e-04 - val_loss: 0.0585\n",
            "Epoch 90/100\n",
            "9/9 [==============================] - 0s 13ms/step - loss: 6.4964e-04 - val_loss: 0.0638\n",
            "Epoch 91/100\n",
            "9/9 [==============================] - 0s 12ms/step - loss: 5.9542e-04 - val_loss: 0.0466\n",
            "Epoch 92/100\n",
            "9/9 [==============================] - 0s 13ms/step - loss: 6.3610e-04 - val_loss: 0.0490\n",
            "Epoch 93/100\n",
            "9/9 [==============================] - 0s 15ms/step - loss: 6.1958e-04 - val_loss: 0.0409\n",
            "Epoch 94/100\n",
            "9/9 [==============================] - 0s 13ms/step - loss: 5.7461e-04 - val_loss: 0.0455\n",
            "Epoch 95/100\n",
            "9/9 [==============================] - 0s 12ms/step - loss: 6.1143e-04 - val_loss: 0.0414\n",
            "Epoch 96/100\n",
            "9/9 [==============================] - 0s 13ms/step - loss: 5.3311e-04 - val_loss: 0.0399\n",
            "Epoch 97/100\n",
            "9/9 [==============================] - 0s 13ms/step - loss: 4.9709e-04 - val_loss: 0.0466\n",
            "Epoch 98/100\n",
            "9/9 [==============================] - 0s 14ms/step - loss: 5.1494e-04 - val_loss: 0.0306\n",
            "Epoch 99/100\n",
            "9/9 [==============================] - 0s 16ms/step - loss: 8.7408e-04 - val_loss: 0.0320\n",
            "Epoch 100/100\n",
            "9/9 [==============================] - 0s 14ms/step - loss: 6.1424e-04 - val_loss: 0.0388\n"
          ]
        },
        {
          "output_type": "execute_result",
          "data": {
            "text/plain": [
              "<keras.callbacks.History at 0x7f6317f85a60>"
            ]
          },
          "metadata": {},
          "execution_count": 319
        }
      ]
    },
    {
      "cell_type": "markdown",
      "source": [
        "# **Prediction**"
      ],
      "metadata": {
        "id": "ieG0oNcCjm58"
      }
    },
    {
      "cell_type": "code",
      "metadata": {
        "id": "DKTU4Cx-RAoz",
        "colab": {
          "base_uri": "https://localhost:8080/"
        },
        "outputId": "9e9751f0-8edf-4b39-81b5-8ad241de46a1"
      },
      "source": [
        "train_predict=model2.predict(X_train)\n",
        "test_predict=model2.predict(X_test)"
      ],
      "execution_count": 320,
      "outputs": [
        {
          "output_type": "stream",
          "name": "stdout",
          "text": [
            "9/9 [==============================] - 0s 3ms/step\n",
            "5/5 [==============================] - 0s 3ms/step\n"
          ]
        }
      ]
    },
    {
      "cell_type": "code",
      "metadata": {
        "id": "c80-pT6_RGDF"
      },
      "source": [
        "train_predict=scaler.inverse_transform(train_predict)\n",
        "test_predict=scaler.inverse_transform(test_predict)"
      ],
      "execution_count": 321,
      "outputs": []
    },
    {
      "cell_type": "markdown",
      "source": [
        "# **Performence Matrix**"
      ],
      "metadata": {
        "id": "J92Fnqqyi393"
      }
    },
    {
      "cell_type": "markdown",
      "source": [
        "# **MSE**"
      ],
      "metadata": {
        "id": "biqp4W0OjC1e"
      }
    },
    {
      "cell_type": "code",
      "metadata": {
        "id": "qAI2cBvoRR9q",
        "colab": {
          "base_uri": "https://localhost:8080/"
        },
        "outputId": "8191ecc4-7ebb-41b4-d48b-5d419afd58ea"
      },
      "source": [
        "### Calculate MSE performance metrics\n",
        "mean_squared_error(y_train,train_predict)"
      ],
      "execution_count": 322,
      "outputs": [
        {
          "output_type": "execute_result",
          "data": {
            "text/plain": [
              "5572336.7470224025"
            ]
          },
          "metadata": {},
          "execution_count": 322
        }
      ]
    },
    {
      "cell_type": "code",
      "metadata": {
        "id": "nd0z2PoxRWgG",
        "colab": {
          "base_uri": "https://localhost:8080/"
        },
        "outputId": "76197c91-1725-4c2e-a504-15865b415840"
      },
      "source": [
        "### Test Data MSE\n",
        "mean_squared_error(ytest,test_predict)"
      ],
      "execution_count": 323,
      "outputs": [
        {
          "output_type": "execute_result",
          "data": {
            "text/plain": [
              "18115590.61757055"
            ]
          },
          "metadata": {},
          "execution_count": 323
        }
      ]
    },
    {
      "cell_type": "markdown",
      "source": [
        "# **RMSE**"
      ],
      "metadata": {
        "id": "dGb474-yjNXa"
      }
    },
    {
      "cell_type": "code",
      "source": [
        "math.sqrt(mean_squared_error(y_train,train_predict))\n"
      ],
      "metadata": {
        "colab": {
          "base_uri": "https://localhost:8080/"
        },
        "id": "B__RN3JXjF21",
        "outputId": "24bc08bb-e7aa-4b78-a42d-7f55d9e585da"
      },
      "execution_count": 324,
      "outputs": [
        {
          "output_type": "execute_result",
          "data": {
            "text/plain": [
              "2360.579748075121"
            ]
          },
          "metadata": {},
          "execution_count": 324
        }
      ]
    },
    {
      "cell_type": "code",
      "source": [
        "math.sqrt(mean_squared_error(ytest,test_predict))"
      ],
      "metadata": {
        "colab": {
          "base_uri": "https://localhost:8080/"
        },
        "id": "nKy3DyzEjGWd",
        "outputId": "0ab45a70-b7dc-43f0-ab47-c669d48f15d1"
      },
      "execution_count": 325,
      "outputs": [
        {
          "output_type": "execute_result",
          "data": {
            "text/plain": [
              "4256.241372099396"
            ]
          },
          "metadata": {},
          "execution_count": 325
        }
      ]
    },
    {
      "cell_type": "markdown",
      "source": [
        "# **MAE**"
      ],
      "metadata": {
        "id": "FANwH-10jWNC"
      }
    },
    {
      "cell_type": "code",
      "source": [
        "mean_absolute_error(y_train,train_predict)\n"
      ],
      "metadata": {
        "colab": {
          "base_uri": "https://localhost:8080/"
        },
        "id": "GesrmyQjjTDk",
        "outputId": "caaf3b3c-37a4-4f5c-c08c-90ca9e7d0bfd"
      },
      "execution_count": 326,
      "outputs": [
        {
          "output_type": "execute_result",
          "data": {
            "text/plain": [
              "1864.2236764081968"
            ]
          },
          "metadata": {},
          "execution_count": 326
        }
      ]
    },
    {
      "cell_type": "code",
      "source": [
        "mean_absolute_error(ytest,test_predict)"
      ],
      "metadata": {
        "colab": {
          "base_uri": "https://localhost:8080/"
        },
        "id": "dWaemlH6jVWa",
        "outputId": "bfd606a8-0029-465d-ad19-e755d3806963"
      },
      "execution_count": 327,
      "outputs": [
        {
          "output_type": "execute_result",
          "data": {
            "text/plain": [
              "3050.374545252814"
            ]
          },
          "metadata": {},
          "execution_count": 327
        }
      ]
    },
    {
      "cell_type": "code",
      "metadata": {
        "id": "hYawp5LRRbpu",
        "colab": {
          "base_uri": "https://localhost:8080/",
          "height": 265
        },
        "outputId": "0c8c8f1e-169d-43af-cf2a-dd8dd14e3e25"
      },
      "source": [
        "### Plotting \n",
        "# shift train predictions for plotting\n",
        "look_back=10\n",
        "trainPredictPlot = numpy.empty_like(df1)\n",
        "trainPredictPlot[:, :] = np.nan\n",
        "trainPredictPlot[look_back:len(train_predict)+look_back, :] = train_predict\n",
        "# shift test predictions for plotting\n",
        "testPredictPlot = numpy.empty_like(df1)\n",
        "testPredictPlot[:, :] = numpy.nan\n",
        "testPredictPlot[len(train_predict)+(look_back*2)+1:len(df1)-1, :] = test_predict\n",
        "# plot baseline and predictions\n",
        "plt.plot(scaler.inverse_transform(df1))\n",
        "plt.plot(trainPredictPlot)\n",
        "plt.plot(testPredictPlot)\n",
        "plt.show()"
      ],
      "execution_count": 328,
      "outputs": [
        {
          "output_type": "display_data",
          "data": {
            "text/plain": [
              "<Figure size 432x288 with 1 Axes>"
            ],
            "image/png": "[encoded data removed]"
          },
          "metadata": {
            "needs_background": "light"
          }
        }
      ]
    },
    {
      "cell_type": "code",
      "metadata": {
        "id": "qYp7Gl0mSXVH",
        "colab": {
          "base_uri": "https://localhost:8080/"
        },
        "outputId": "eafa7fbf-b6f3-45a6-bfc6-437660e3a5bb"
      },
      "source": [
        "x_input=test_data[137:].reshape(1,-1)\n",
        "x_input.shape"
      ],
      "execution_count": 329,
      "outputs": [
        {
          "output_type": "execute_result",
          "data": {
            "text/plain": [
              "(1, 10)"
            ]
          },
          "metadata": {},
          "execution_count": 329
        }
      ]
    },
    {
      "cell_type": "code",
      "metadata": {
        "id": "tJkxpncMSeAa"
      },
      "source": [
        "temp_input=list(x_input)\n",
        "temp_input=temp_input[0].tolist()"
      ],
      "execution_count": 330,
      "outputs": []
    },
    {
      "cell_type": "code",
      "metadata": {
        "id": "VonUkKmuRfQv",
        "colab": {
          "base_uri": "https://localhost:8080/"
        },
        "outputId": "93e6f85b-8d4d-47b0-cae0-67e618384f35"
      },
      "source": [
        "# demonstrate prediction for next 10 days\n",
        "from numpy import array\n",
        "\n",
        "lst_output=[]\n",
        "n_steps=10\n",
        "i=0\n",
        "while(i<30):\n",
        "    \n",
        "    if(len(temp_input)>10):\n",
        "        #print(temp_input)\n",
        "        x_input=np.array(temp_input[1:])\n",
        "        print(\"{} day input {}\".format(i,x_input))\n",
        "        x_input=x_input.reshape(1,-1)\n",
        "        x_input = x_input.reshape((1, n_steps, 1))\n",
        "        #print(x_input)\n",
        "        yhat = model2.predict(x_input, verbose=0)\n",
        "        print(\"{} day output {}\".format(i,yhat))\n",
        "        temp_input.extend(yhat[0].tolist())\n",
        "        temp_input=temp_input[1:]\n",
        "        #print(temp_input)\n",
        "        lst_output.extend(yhat.tolist())\n",
        "        i=i+1\n",
        "    else:\n",
        "        x_input = x_input.reshape((1, n_steps,1))\n",
        "        yhat = model2.predict(x_input, verbose=0)\n",
        "        print(yhat[0])\n",
        "        temp_input.extend(yhat[0].tolist())\n",
        "        print(len(temp_input))\n",
        "        lst_output.extend(yhat.tolist())\n",
        "        i=i+1\n",
        "    \n",
        "\n",
        "print(lst_output)"
      ],
      "execution_count": 331,
      "outputs": [
        {
          "output_type": "stream",
          "name": "stdout",
          "text": [
            "[0.01311683]\n",
            "11\n",
            "1 day input [0.00534859 0.0043535  0.         0.00447789 0.00516201 0.00385596\n",
            " 0.00715219 0.00578394 0.00634368 0.01311683]\n",
            "1 day output [[0.01477866]]\n",
            "2 day input [0.0043535  0.         0.00447789 0.00516201 0.00385596 0.00715219\n",
            " 0.00578394 0.00634368 0.01311683 0.01477866]\n",
            "2 day output [[0.01652584]]\n",
            "3 day input [0.         0.00447789 0.00516201 0.00385596 0.00715219 0.00578394\n",
            " 0.00634368 0.01311683 0.01477866 0.01652584]\n",
            "3 day output [[0.01832877]]\n",
            "4 day input [0.00447789 0.00516201 0.00385596 0.00715219 0.00578394 0.00634368\n",
            " 0.01311683 0.01477866 0.01652584 0.01832877]\n",
            "4 day output [[0.02006373]]\n",
            "5 day input [0.00516201 0.00385596 0.00715219 0.00578394 0.00634368 0.01311683\n",
            " 0.01477866 0.01652584 0.01832877 0.02006373]\n",
            "5 day output [[0.0218316]]\n",
            "6 day input [0.00385596 0.00715219 0.00578394 0.00634368 0.01311683 0.01477866\n",
            " 0.01652584 0.01832877 0.02006373 0.0218316 ]\n",
            "6 day output [[0.02358985]]\n",
            "7 day input [0.00715219 0.00578394 0.00634368 0.01311683 0.01477866 0.01652584\n",
            " 0.01832877 0.02006373 0.0218316  0.02358985]\n",
            "7 day output [[0.02527746]]\n",
            "8 day input [0.00578394 0.00634368 0.01311683 0.01477866 0.01652584 0.01832877\n",
            " 0.02006373 0.0218316  0.02358985 0.02527746]\n",
            "8 day output [[0.02698541]]\n",
            "9 day input [0.00634368 0.01311683 0.01477866 0.01652584 0.01832877 0.02006373\n",
            " 0.0218316  0.02358985 0.02527746 0.02698541]\n",
            "9 day output [[0.0284994]]\n",
            "10 day input [0.01311683 0.01477866 0.01652584 0.01832877 0.02006373 0.0218316\n",
            " 0.02358985 0.02527746 0.02698541 0.0284994 ]\n",
            "10 day output [[0.02976616]]\n",
            "11 day input [0.01477866 0.01652584 0.01832877 0.02006373 0.0218316  0.02358985\n",
            " 0.02527746 0.02698541 0.0284994  0.02976616]\n",
            "11 day output [[0.03104752]]\n",
            "12 day input [0.01652584 0.01832877 0.02006373 0.0218316  0.02358985 0.02527746\n",
            " 0.02698541 0.0284994  0.02976616 0.03104752]\n",
            "12 day output [[0.03225717]]\n",
            "13 day input [0.01832877 0.02006373 0.0218316  0.02358985 0.02527746 0.02698541\n",
            " 0.0284994  0.02976616 0.03104752 0.03225717]\n",
            "13 day output [[0.03337532]]\n",
            "14 day input [0.02006373 0.0218316  0.02358985 0.02527746 0.02698541 0.0284994\n",
            " 0.02976616 0.03104752 0.03225717 0.03337532]\n",
            "14 day output [[0.03444122]]\n",
            "15 day input [0.0218316  0.02358985 0.02527746 0.02698541 0.0284994  0.02976616\n",
            " 0.03104752 0.03225717 0.03337532 0.03444122]\n",
            "15 day output [[0.03548089]]\n",
            "16 day input [0.02358985 0.02527746 0.02698541 0.0284994  0.02976616 0.03104752\n",
            " 0.03225717 0.03337532 0.03444122 0.03548089]\n",
            "16 day output [[0.0364524]]\n",
            "17 day input [0.02527746 0.02698541 0.0284994  0.02976616 0.03104752 0.03225717\n",
            " 0.03337532 0.03444122 0.03548089 0.0364524 ]\n",
            "17 day output [[0.03738577]]\n",
            "18 day input [0.02698541 0.0284994  0.02976616 0.03104752 0.03225717 0.03337532\n",
            " 0.03444122 0.03548089 0.0364524  0.03738577]\n",
            "18 day output [[0.03825729]]\n",
            "19 day input [0.0284994  0.02976616 0.03104752 0.03225717 0.03337532 0.03444122\n",
            " 0.03548089 0.0364524  0.03738577 0.03825729]\n",
            "19 day output [[0.03910918]]\n",
            "20 day input [0.02976616 0.03104752 0.03225717 0.03337532 0.03444122 0.03548089\n",
            " 0.0364524  0.03738577 0.03825729 0.03910918]\n",
            "20 day output [[0.03994927]]\n",
            "21 day input [0.03104752 0.03225717 0.03337532 0.03444122 0.03548089 0.0364524\n",
            " 0.03738577 0.03825729 0.03910918 0.03994927]\n",
            "21 day output [[0.04076734]]\n",
            "22 day input [0.03225717 0.03337532 0.03444122 0.03548089 0.0364524  0.03738577\n",
            " 0.03825729 0.03910918 0.03994927 0.04076734]\n",
            "22 day output [[0.04156139]]\n",
            "23 day input [0.03337532 0.03444122 0.03548089 0.0364524  0.03738577 0.03825729\n",
            " 0.03910918 0.03994927 0.04076734 0.04156139]\n",
            "23 day output [[0.04233915]]\n",
            "24 day input [0.03444122 0.03548089 0.0364524  0.03738577 0.03825729 0.03910918\n",
            " 0.03994927 0.04076734 0.04156139 0.04233915]\n",
            "24 day output [[0.04310311]]\n",
            "25 day input [0.03548089 0.0364524  0.03738577 0.03825729 0.03910918 0.03994927\n",
            " 0.04076734 0.04156139 0.04233915 0.04310311]\n",
            "25 day output [[0.04384853]]\n",
            "26 day input [0.0364524  0.03738577 0.03825729 0.03910918 0.03994927 0.04076734\n",
            " 0.04156139 0.04233915 0.04310311 0.04384853]\n",
            "26 day output [[0.04456882]]\n",
            "27 day input [0.03738577 0.03825729 0.03910918 0.03994927 0.04076734 0.04156139\n",
            " 0.04233915 0.04310311 0.04384853 0.04456882]\n",
            "27 day output [[0.04526985]]\n",
            "28 day input [0.03825729 0.03910918 0.03994927 0.04076734 0.04156139 0.04233915\n",
            " 0.04310311 0.04384853 0.04456882 0.04526985]\n",
            "28 day output [[0.04595834]]\n",
            "29 day input [0.03910918 0.03994927 0.04076734 0.04156139 0.04233915 0.04310311\n",
            " 0.04384853 0.04456882 0.04526985 0.04595834]\n",
            "29 day output [[0.04663669]]\n",
            "[[0.013116829097270966], [0.014778661541640759], [0.016525838524103165], [0.018328770995140076], [0.020063728094100952], [0.02183159813284874], [0.023589853197336197], [0.025277461856603622], [0.02698541060090065], [0.02849939651787281], [0.029766160994768143], [0.0310475192964077], [0.03225716948509216], [0.033375322818756104], [0.03444122150540352], [0.03548089414834976], [0.03645239770412445], [0.03738576918840408], [0.03825729340314865], [0.03910917788743973], [0.039949268102645874], [0.04076734185218811], [0.041561391204595566], [0.04233914986252785], [0.04310310631990433], [0.04384852945804596], [0.04456882178783417], [0.04526984691619873], [0.04595834016799927], [0.04663668945431709]]\n"
          ]
        }
      ]
    },
    {
      "cell_type": "code",
      "metadata": {
        "id": "mnLg9E0tStlB"
      },
      "source": [
        "day_new=np.arange(1,101)\n",
        "day_pred=np.arange(101,131)"
      ],
      "execution_count": 332,
      "outputs": []
    },
    {
      "cell_type": "code",
      "metadata": {
        "id": "dPuNEx_USumh",
        "colab": {
          "base_uri": "https://localhost:8080/",
          "height": 282
        },
        "outputId": "bec04085-bb84-4d91-d25f-93b8ea45e622"
      },
      "source": [
        "plt.plot(day_new,scaler.inverse_transform(df1[319:]))\n",
        "plt.plot(day_pred,scaler.inverse_transform(lst_output))"
      ],
      "execution_count": 333,
      "outputs": [
        {
          "output_type": "execute_result",
          "data": {
            "text/plain": [
              "[<matplotlib.lines.Line2D at 0x7f631460b640>]"
            ]
          },
          "metadata": {},
          "execution_count": 333
        },
        {
          "output_type": "display_data",
          "data": {
            "text/plain": [
              "<Figure size 432x288 with 1 Axes>"
            ],
            "image/png": "[encoded data removed]"
          },
          "metadata": {
            "needs_background": "light"
          }
        }
      ]
    },
    {
      "cell_type": "code",
      "metadata": {
        "id": "MXIYtsiGSuch",
        "colab": {
          "base_uri": "https://localhost:8080/",
          "height": 282
        },
        "outputId": "721587ad-c2e4-494c-f9b0-e3eeadc6d85b"
      },
      "source": [
        "df3=df1.tolist()\n",
        "df3.extend(lst_output)\n",
        "plt.plot(df3[300:])"
      ],
      "execution_count": 334,
      "outputs": [
        {
          "output_type": "execute_result",
          "data": {
            "text/plain": [
              "[<matplotlib.lines.Line2D at 0x7f63145e7c70>]"
            ]
          },
          "metadata": {},
          "execution_count": 334
        },
        {
          "output_type": "display_data",
          "data": {
            "text/plain": [
              "<Figure size 432x288 with 1 Axes>"
            ],
            "image/png": "[encoded data removed]"
          },
          "metadata": {
            "needs_background": "light"
          }
        }
      ]
    },
    {
      "cell_type": "code",
      "metadata": {
        "id": "DecNMKBkTKFU",
        "colab": {
          "base_uri": "https://localhost:8080/",
          "height": 282
        },
        "outputId": "c406e88a-0fb4-4c99-96a8-3cb0fe28d4cc"
      },
      "source": [
        "df3=scaler.inverse_transform(df3).tolist()\n",
        "plt.plot(df3)"
      ],
      "execution_count": 335,
      "outputs": [
        {
          "output_type": "execute_result",
          "data": {
            "text/plain": [
              "[<matplotlib.lines.Line2D at 0x7f631463d7c0>]"
            ]
          },
          "metadata": {},
          "execution_count": 335
        },
        {
          "output_type": "display_data",
          "data": {
            "text/plain": [
              "<Figure size 432x288 with 1 Axes>"
            ],
            "image/png": "[encoded data removed]"
          },
          "metadata": {
            "needs_background": "light"
          }
        }
      ]
    },
    {
      "cell_type": "markdown",
      "metadata": {
        "id": "PHtkAuHpXa3O"
      },
      "source": [
        "# **Vanilla LSTM**"
      ]
    },
    {
      "cell_type": "code",
      "metadata": {
        "id": "o812ihR9XnZD"
      },
      "source": [
        "model3 = Sequential()\n",
        "model3.add(LSTM(50, activation='relu', input_shape=(10, 1)))\n",
        "model3.add(Dense(1))\n",
        "model3.compile(loss='mean_squared_error',optimizer='adam')"
      ],
      "execution_count": 336,
      "outputs": []
    },
    {
      "cell_type": "code",
      "metadata": {
        "id": "OUm4Xn7FYj15",
        "colab": {
          "base_uri": "https://localhost:8080/"
        },
        "outputId": "005f6829-0cc2-424a-faf5-e14a215a440a"
      },
      "source": [
        "model3.summary()"
      ],
      "execution_count": 337,
      "outputs": [
        {
          "output_type": "stream",
          "name": "stdout",
          "text": [
            "Model: \"sequential_12\"\n",
            "_________________________________________________________________\n",
            " Layer (type)                Output Shape              Param #   \n",
            "=================================================================\n",
            " lstm_24 (LSTM)              (None, 50)                10400     \n",
            "                                                                 \n",
            " dense_12 (Dense)            (None, 1)                 51        \n",
            "                                                                 \n",
            "=================================================================\n",
            "Total params: 10,451\n",
            "Trainable params: 10,451\n",
            "Non-trainable params: 0\n",
            "_________________________________________________________________\n"
          ]
        }
      ]
    },
    {
      "cell_type": "code",
      "metadata": {
        "id": "77axoUvpX0FY",
        "colab": {
          "base_uri": "https://localhost:8080/"
        },
        "outputId": "81ebdb34-69e8-450c-9e0d-586bb875d86f"
      },
      "source": [
        "model3.fit(X_train,y_train,validation_data=(X_test,ytest),epochs=100,batch_size=32,verbose=1)"
      ],
      "execution_count": 338,
      "outputs": [
        {
          "output_type": "stream",
          "name": "stdout",
          "text": [
            "Epoch 1/100\n",
            "9/9 [==============================] - 2s 35ms/step - loss: 0.0218 - val_loss: 0.1623\n",
            "Epoch 2/100\n",
            "9/9 [==============================] - 0s 11ms/step - loss: 0.0132 - val_loss: 0.1195\n",
            "Epoch 3/100\n",
            "9/9 [==============================] - 0s 9ms/step - loss: 0.0076 - val_loss: 0.0843\n",
            "Epoch 4/100\n",
            "9/9 [==============================] - 0s 12ms/step - loss: 0.0053 - val_loss: 0.0581\n",
            "Epoch 5/100\n",
            "9/9 [==============================] - 0s 12ms/step - loss: 0.0039 - val_loss: 0.0410\n",
            "Epoch 6/100\n",
            "9/9 [==============================] - 0s 15ms/step - loss: 0.0029 - val_loss: 0.0272\n",
            "Epoch 7/100\n",
            "9/9 [==============================] - 0s 11ms/step - loss: 0.0021 - val_loss: 0.0176\n",
            "Epoch 8/100\n",
            "9/9 [==============================] - 0s 11ms/step - loss: 0.0016 - val_loss: 0.0145\n",
            "Epoch 9/100\n",
            "9/9 [==============================] - 0s 9ms/step - loss: 0.0016 - val_loss: 0.0140\n",
            "Epoch 10/100\n",
            "9/9 [==============================] - 0s 10ms/step - loss: 0.0015 - val_loss: 0.0144\n",
            "Epoch 11/100\n",
            "9/9 [==============================] - 0s 10ms/step - loss: 0.0015 - val_loss: 0.0156\n",
            "Epoch 12/100\n",
            "9/9 [==============================] - 0s 10ms/step - loss: 0.0015 - val_loss: 0.0156\n",
            "Epoch 13/100\n",
            "9/9 [==============================] - 0s 9ms/step - loss: 0.0015 - val_loss: 0.0152\n",
            "Epoch 14/100\n",
            "9/9 [==============================] - 0s 10ms/step - loss: 0.0014 - val_loss: 0.0143\n",
            "Epoch 15/100\n",
            "9/9 [==============================] - 0s 9ms/step - loss: 0.0013 - val_loss: 0.0140\n",
            "Epoch 16/100\n",
            "9/9 [==============================] - 0s 10ms/step - loss: 0.0013 - val_loss: 0.0144\n",
            "Epoch 17/100\n",
            "9/9 [==============================] - 0s 12ms/step - loss: 0.0013 - val_loss: 0.0143\n",
            "Epoch 18/100\n",
            "9/9 [==============================] - 0s 9ms/step - loss: 0.0013 - val_loss: 0.0141\n",
            "Epoch 19/100\n",
            "9/9 [==============================] - 0s 9ms/step - loss: 0.0012 - val_loss: 0.0141\n",
            "Epoch 20/100\n",
            "9/9 [==============================] - 0s 10ms/step - loss: 0.0012 - val_loss: 0.0137\n",
            "Epoch 21/100\n",
            "9/9 [==============================] - 0s 9ms/step - loss: 0.0013 - val_loss: 0.0136\n",
            "Epoch 22/100\n",
            "9/9 [==============================] - 0s 10ms/step - loss: 0.0012 - val_loss: 0.0136\n",
            "Epoch 23/100\n",
            "9/9 [==============================] - 0s 10ms/step - loss: 0.0012 - val_loss: 0.0133\n",
            "Epoch 24/100\n",
            "9/9 [==============================] - 0s 10ms/step - loss: 0.0011 - val_loss: 0.0133\n",
            "Epoch 25/100\n",
            "9/9 [==============================] - 0s 10ms/step - loss: 0.0011 - val_loss: 0.0132\n",
            "Epoch 26/100\n",
            "9/9 [==============================] - 0s 11ms/step - loss: 0.0011 - val_loss: 0.0125\n",
            "Epoch 27/100\n",
            "9/9 [==============================] - 0s 9ms/step - loss: 0.0011 - val_loss: 0.0126\n",
            "Epoch 28/100\n",
            "9/9 [==============================] - 0s 11ms/step - loss: 0.0011 - val_loss: 0.0127\n",
            "Epoch 29/100\n",
            "9/9 [==============================] - 0s 10ms/step - loss: 9.9478e-04 - val_loss: 0.0125\n",
            "Epoch 30/100\n",
            "9/9 [==============================] - 0s 10ms/step - loss: 0.0010 - val_loss: 0.0121\n",
            "Epoch 31/100\n",
            "9/9 [==============================] - 0s 11ms/step - loss: 0.0010 - val_loss: 0.0120\n",
            "Epoch 32/100\n",
            "9/9 [==============================] - 0s 10ms/step - loss: 0.0010 - val_loss: 0.0119\n",
            "Epoch 33/100\n",
            "9/9 [==============================] - 0s 9ms/step - loss: 9.1552e-04 - val_loss: 0.0120\n",
            "Epoch 34/100\n",
            "9/9 [==============================] - 0s 9ms/step - loss: 9.4406e-04 - val_loss: 0.0128\n",
            "Epoch 35/100\n",
            "9/9 [==============================] - 0s 11ms/step - loss: 9.4229e-04 - val_loss: 0.0125\n",
            "Epoch 36/100\n",
            "9/9 [==============================] - 0s 10ms/step - loss: 8.6626e-04 - val_loss: 0.0130\n",
            "Epoch 37/100\n",
            "9/9 [==============================] - 0s 9ms/step - loss: 8.0495e-04 - val_loss: 0.0142\n",
            "Epoch 38/100\n",
            "9/9 [==============================] - 0s 11ms/step - loss: 7.7871e-04 - val_loss: 0.0149\n",
            "Epoch 39/100\n",
            "9/9 [==============================] - 0s 11ms/step - loss: 7.5888e-04 - val_loss: 0.0166\n",
            "Epoch 40/100\n",
            "9/9 [==============================] - 0s 11ms/step - loss: 7.4404e-04 - val_loss: 0.0160\n",
            "Epoch 41/100\n",
            "9/9 [==============================] - 0s 10ms/step - loss: 7.0467e-04 - val_loss: 0.0270\n",
            "Epoch 42/100\n",
            "9/9 [==============================] - 0s 11ms/step - loss: 8.5133e-04 - val_loss: 0.0204\n",
            "Epoch 43/100\n",
            "9/9 [==============================] - 0s 11ms/step - loss: 7.5285e-04 - val_loss: 0.0178\n",
            "Epoch 44/100\n",
            "9/9 [==============================] - 0s 10ms/step - loss: 8.0662e-04 - val_loss: 0.0297\n",
            "Epoch 45/100\n",
            "9/9 [==============================] - 0s 11ms/step - loss: 7.1695e-04 - val_loss: 0.0308\n",
            "Epoch 46/100\n",
            "9/9 [==============================] - 0s 10ms/step - loss: 7.6864e-04 - val_loss: 0.0264\n",
            "Epoch 47/100\n",
            "9/9 [==============================] - 0s 13ms/step - loss: 8.1663e-04 - val_loss: 0.0331\n",
            "Epoch 48/100\n",
            "9/9 [==============================] - 0s 10ms/step - loss: 6.7055e-04 - val_loss: 0.0354\n",
            "Epoch 49/100\n",
            "9/9 [==============================] - 0s 11ms/step - loss: 6.7051e-04 - val_loss: 0.0373\n",
            "Epoch 50/100\n",
            "9/9 [==============================] - 0s 12ms/step - loss: 6.9536e-04 - val_loss: 0.0364\n",
            "Epoch 51/100\n",
            "9/9 [==============================] - 0s 11ms/step - loss: 7.2176e-04 - val_loss: 0.0360\n",
            "Epoch 52/100\n",
            "9/9 [==============================] - 0s 9ms/step - loss: 7.3882e-04 - val_loss: 0.0443\n",
            "Epoch 53/100\n",
            "9/9 [==============================] - 0s 12ms/step - loss: 8.0734e-04 - val_loss: 0.0322\n",
            "Epoch 54/100\n",
            "9/9 [==============================] - 0s 11ms/step - loss: 6.4005e-04 - val_loss: 0.0403\n",
            "Epoch 55/100\n",
            "9/9 [==============================] - 0s 10ms/step - loss: 7.1339e-04 - val_loss: 0.0349\n",
            "Epoch 56/100\n",
            "9/9 [==============================] - 0s 10ms/step - loss: 6.7100e-04 - val_loss: 0.0329\n",
            "Epoch 57/100\n",
            "9/9 [==============================] - 0s 10ms/step - loss: 6.8901e-04 - val_loss: 0.0261\n",
            "Epoch 58/100\n",
            "9/9 [==============================] - 0s 11ms/step - loss: 9.3393e-04 - val_loss: 0.0362\n",
            "Epoch 59/100\n",
            "9/9 [==============================] - 0s 13ms/step - loss: 8.6679e-04 - val_loss: 0.0209\n",
            "Epoch 60/100\n",
            "9/9 [==============================] - 0s 10ms/step - loss: 7.8486e-04 - val_loss: 0.0262\n",
            "Epoch 61/100\n",
            "9/9 [==============================] - 0s 11ms/step - loss: 6.9117e-04 - val_loss: 0.0283\n",
            "Epoch 62/100\n",
            "9/9 [==============================] - 0s 11ms/step - loss: 6.7417e-04 - val_loss: 0.0299\n",
            "Epoch 63/100\n",
            "9/9 [==============================] - 0s 11ms/step - loss: 6.9417e-04 - val_loss: 0.0271\n",
            "Epoch 64/100\n",
            "9/9 [==============================] - 0s 9ms/step - loss: 6.5156e-04 - val_loss: 0.0352\n",
            "Epoch 65/100\n",
            "9/9 [==============================] - 0s 11ms/step - loss: 7.1993e-04 - val_loss: 0.0305\n",
            "Epoch 66/100\n",
            "9/9 [==============================] - 0s 10ms/step - loss: 7.4070e-04 - val_loss: 0.0287\n",
            "Epoch 67/100\n",
            "9/9 [==============================] - 0s 10ms/step - loss: 6.8695e-04 - val_loss: 0.0425\n",
            "Epoch 68/100\n",
            "9/9 [==============================] - 0s 10ms/step - loss: 7.1354e-04 - val_loss: 0.0333\n",
            "Epoch 69/100\n",
            "9/9 [==============================] - 0s 12ms/step - loss: 6.3293e-04 - val_loss: 0.0357\n",
            "Epoch 70/100\n",
            "9/9 [==============================] - 0s 10ms/step - loss: 6.5729e-04 - val_loss: 0.0395\n",
            "Epoch 71/100\n",
            "9/9 [==============================] - 0s 11ms/step - loss: 6.6680e-04 - val_loss: 0.0343\n",
            "Epoch 72/100\n",
            "9/9 [==============================] - 0s 9ms/step - loss: 6.3058e-04 - val_loss: 0.0386\n",
            "Epoch 73/100\n",
            "9/9 [==============================] - 0s 10ms/step - loss: 6.6526e-04 - val_loss: 0.0429\n",
            "Epoch 74/100\n",
            "9/9 [==============================] - 0s 10ms/step - loss: 6.5205e-04 - val_loss: 0.0374\n",
            "Epoch 75/100\n",
            "9/9 [==============================] - 0s 9ms/step - loss: 6.3310e-04 - val_loss: 0.0396\n",
            "Epoch 76/100\n",
            "9/9 [==============================] - 0s 12ms/step - loss: 6.6734e-04 - val_loss: 0.0324\n",
            "Epoch 77/100\n",
            "9/9 [==============================] - 0s 10ms/step - loss: 6.8944e-04 - val_loss: 0.0463\n",
            "Epoch 78/100\n",
            "9/9 [==============================] - 0s 9ms/step - loss: 7.3622e-04 - val_loss: 0.0350\n",
            "Epoch 79/100\n",
            "9/9 [==============================] - 0s 9ms/step - loss: 6.6483e-04 - val_loss: 0.0342\n",
            "Epoch 80/100\n",
            "9/9 [==============================] - 0s 11ms/step - loss: 6.3103e-04 - val_loss: 0.0397\n",
            "Epoch 81/100\n",
            "9/9 [==============================] - 0s 10ms/step - loss: 6.3188e-04 - val_loss: 0.0395\n",
            "Epoch 82/100\n",
            "9/9 [==============================] - 0s 11ms/step - loss: 6.3324e-04 - val_loss: 0.0391\n",
            "Epoch 83/100\n",
            "9/9 [==============================] - 0s 10ms/step - loss: 6.2782e-04 - val_loss: 0.0463\n",
            "Epoch 84/100\n",
            "9/9 [==============================] - 0s 10ms/step - loss: 6.3066e-04 - val_loss: 0.0562\n",
            "Epoch 85/100\n",
            "9/9 [==============================] - 0s 10ms/step - loss: 6.2883e-04 - val_loss: 0.0394\n",
            "Epoch 86/100\n",
            "9/9 [==============================] - 0s 11ms/step - loss: 7.0754e-04 - val_loss: 0.0402\n",
            "Epoch 87/100\n",
            "9/9 [==============================] - 0s 12ms/step - loss: 7.2027e-04 - val_loss: 0.0300\n",
            "Epoch 88/100\n",
            "9/9 [==============================] - 0s 12ms/step - loss: 7.8046e-04 - val_loss: 0.0229\n",
            "Epoch 89/100\n",
            "9/9 [==============================] - 0s 9ms/step - loss: 7.2925e-04 - val_loss: 0.0352\n",
            "Epoch 90/100\n",
            "9/9 [==============================] - 0s 12ms/step - loss: 7.0141e-04 - val_loss: 0.0303\n",
            "Epoch 91/100\n",
            "9/9 [==============================] - 0s 9ms/step - loss: 6.5919e-04 - val_loss: 0.0282\n",
            "Epoch 92/100\n",
            "9/9 [==============================] - 0s 9ms/step - loss: 6.6255e-04 - val_loss: 0.0375\n",
            "Epoch 93/100\n",
            "9/9 [==============================] - 0s 9ms/step - loss: 6.5962e-04 - val_loss: 0.0348\n",
            "Epoch 94/100\n",
            "9/9 [==============================] - 0s 11ms/step - loss: 6.1503e-04 - val_loss: 0.0345\n",
            "Epoch 95/100\n",
            "9/9 [==============================] - 0s 9ms/step - loss: 6.7667e-04 - val_loss: 0.0428\n",
            "Epoch 96/100\n",
            "9/9 [==============================] - 0s 10ms/step - loss: 6.9955e-04 - val_loss: 0.0290\n",
            "Epoch 97/100\n",
            "9/9 [==============================] - 0s 10ms/step - loss: 6.3761e-04 - val_loss: 0.0330\n",
            "Epoch 98/100\n",
            "9/9 [==============================] - 0s 11ms/step - loss: 6.4003e-04 - val_loss: 0.0327\n",
            "Epoch 99/100\n",
            "9/9 [==============================] - 0s 16ms/step - loss: 6.3139e-04 - val_loss: 0.0281\n",
            "Epoch 100/100\n",
            "9/9 [==============================] - 0s 20ms/step - loss: 6.4393e-04 - val_loss: 0.0265\n"
          ]
        },
        {
          "output_type": "execute_result",
          "data": {
            "text/plain": [
              "<keras.callbacks.History at 0x7f63146ef2e0>"
            ]
          },
          "metadata": {},
          "execution_count": 338
        }
      ]
    },
    {
      "cell_type": "code",
      "metadata": {
        "id": "rJVXqWhpX7Tb",
        "colab": {
          "base_uri": "https://localhost:8080/"
        },
        "outputId": "70b7a36d-79c8-402e-ae02-f7705ec5f86f"
      },
      "source": [
        "train_predict=model3.predict(X_train)\n",
        "test_predict=model3.predict(X_test)\n",
        "##Transformback to original form\n",
        "train_predict=scaler.inverse_transform(train_predict)\n",
        "test_predict=scaler.inverse_transform(test_predict)"
      ],
      "execution_count": 339,
      "outputs": [
        {
          "output_type": "stream",
          "name": "stdout",
          "text": [
            "9/9 [==============================] - 0s 4ms/step\n",
            "5/5 [==============================] - 0s 4ms/step\n"
          ]
        }
      ]
    },
    {
      "cell_type": "markdown",
      "source": [
        "# **MSE**"
      ],
      "metadata": {
        "id": "NhqgCBEUmeDN"
      }
    },
    {
      "cell_type": "code",
      "metadata": {
        "id": "--q1N7beY3YU",
        "colab": {
          "base_uri": "https://localhost:8080/"
        },
        "outputId": "a98e42c6-b90d-45e5-a408-93989c971d06"
      },
      "source": [
        "### Calculate RMSE performance metrics\n",
        "mean_squared_error(y_train,train_predict)"
      ],
      "execution_count": 340,
      "outputs": [
        {
          "output_type": "execute_result",
          "data": {
            "text/plain": [
              "6219190.50037113"
            ]
          },
          "metadata": {},
          "execution_count": 340
        }
      ]
    },
    {
      "cell_type": "code",
      "metadata": {
        "id": "Q3SRTZsPZEiS",
        "colab": {
          "base_uri": "https://localhost:8080/"
        },
        "outputId": "5502b11d-6499-4571-ce87-3ee8185c7b42"
      },
      "source": [
        "### Test Data RMSE\n",
        "mean_squared_error(ytest,test_predict)"
      ],
      "execution_count": 341,
      "outputs": [
        {
          "output_type": "execute_result",
          "data": {
            "text/plain": [
              "25956063.783885274"
            ]
          },
          "metadata": {},
          "execution_count": 341
        }
      ]
    },
    {
      "cell_type": "markdown",
      "source": [
        "# **RMSE**"
      ],
      "metadata": {
        "id": "caPDpeQ0mO_t"
      }
    },
    {
      "cell_type": "code",
      "source": [
        "math.sqrt(mean_squared_error(y_train,train_predict))\n",
        "math.sqrt(mean_squared_error(ytest,test_predict))"
      ],
      "metadata": {
        "colab": {
          "base_uri": "https://localhost:8080/"
        },
        "id": "s5ZENb9OmN6N",
        "outputId": "3a5a0e51-d44d-4622-ad64-b510e1767141"
      },
      "execution_count": 342,
      "outputs": [
        {
          "output_type": "execute_result",
          "data": {
            "text/plain": [
              "5094.70939150461"
            ]
          },
          "metadata": {},
          "execution_count": 342
        }
      ]
    },
    {
      "cell_type": "markdown",
      "source": [
        "# **MAE**"
      ],
      "metadata": {
        "id": "NLHNW2eLmiC9"
      }
    },
    {
      "cell_type": "code",
      "source": [
        "mean_absolute_error(y_train,train_predict)\n",
        "mean_absolute_error(ytest,test_predict)"
      ],
      "metadata": {
        "colab": {
          "base_uri": "https://localhost:8080/"
        },
        "id": "UCbdpZ8ZmhWc",
        "outputId": "ee8594cf-69cd-4c48-fdc6-2ac698788233"
      },
      "execution_count": 343,
      "outputs": [
        {
          "output_type": "execute_result",
          "data": {
            "text/plain": [
              "3575.9020983623755"
            ]
          },
          "metadata": {},
          "execution_count": 343
        }
      ]
    },
    {
      "cell_type": "code",
      "metadata": {
        "id": "QZ2NR-WDZGTa",
        "colab": {
          "base_uri": "https://localhost:8080/",
          "height": 265
        },
        "outputId": "dda5c875-11b9-4c72-d265-dd66c1ec1978"
      },
      "source": [
        "### Plotting \n",
        "# shift train predictions for plotting\n",
        "look_back=10\n",
        "trainPredictPlot = numpy.empty_like(df1)\n",
        "trainPredictPlot[:, :] = np.nan\n",
        "trainPredictPlot[look_back:len(train_predict)+look_back, :] = train_predict\n",
        "# shift test predictions for plotting\n",
        "testPredictPlot = numpy.empty_like(df1)\n",
        "testPredictPlot[:, :] = numpy.nan\n",
        "testPredictPlot[len(train_predict)+(look_back*2)+1:len(df1)-1, :] = test_predict\n",
        "# plot baseline and predictions\n",
        "plt.plot(scaler.inverse_transform(df1))\n",
        "plt.plot(trainPredictPlot)\n",
        "plt.plot(testPredictPlot)\n",
        "plt.show()"
      ],
      "execution_count": 344,
      "outputs": [
        {
          "output_type": "display_data",
          "data": {
            "text/plain": [
              "<Figure size 432x288 with 1 Axes>"
            ],
            "image/png": "[encoded data removed]"
          },
          "metadata": {
            "needs_background": "light"
          }
        }
      ]
    },
    {
      "cell_type": "code",
      "metadata": {
        "id": "NvkswuURZO91",
        "colab": {
          "base_uri": "https://localhost:8080/"
        },
        "outputId": "dbe2275b-7315-4a8f-d4eb-7c967f25f377"
      },
      "source": [
        "x_input=test_data[137:].reshape(1,-1)\n",
        "x_input.shape"
      ],
      "execution_count": 345,
      "outputs": [
        {
          "output_type": "execute_result",
          "data": {
            "text/plain": [
              "(1, 10)"
            ]
          },
          "metadata": {},
          "execution_count": 345
        }
      ]
    },
    {
      "cell_type": "code",
      "metadata": {
        "id": "C3xPO9GNZZqq"
      },
      "source": [
        "temp_input=list(x_input)\n",
        "temp_input=temp_input[0].tolist()"
      ],
      "execution_count": 346,
      "outputs": []
    },
    {
      "cell_type": "code",
      "metadata": {
        "id": "iGbwDep0ZbHy",
        "colab": {
          "base_uri": "https://localhost:8080/"
        },
        "outputId": "a24ed7e5-9a07-482e-e85d-b22f05602680"
      },
      "source": [
        "# demonstrate prediction for next 10 days\n",
        "from numpy import array\n",
        "\n",
        "lst_output=[]\n",
        "n_steps=10\n",
        "i=0\n",
        "while(i<30):\n",
        "    \n",
        "    if(len(temp_input)>10):\n",
        "        #print(temp_input)\n",
        "        x_input=np.array(temp_input[1:])\n",
        "        print(\"{} day input {}\".format(i,x_input))\n",
        "        x_input=x_input.reshape(1,-1)\n",
        "        x_input = x_input.reshape((1, n_steps, 1))\n",
        "        #print(x_input)\n",
        "        yhat = model3.predict(x_input, verbose=0)\n",
        "        print(\"{} day output {}\".format(i,yhat))\n",
        "        temp_input.extend(yhat[0].tolist())\n",
        "        temp_input=temp_input[1:]\n",
        "        #print(temp_input)\n",
        "        lst_output.extend(yhat.tolist())\n",
        "        i=i+1\n",
        "    else:\n",
        "        x_input = x_input.reshape((1, n_steps,1))\n",
        "        yhat = model3.predict(x_input, verbose=0)\n",
        "        print(yhat[0])\n",
        "        temp_input.extend(yhat[0].tolist())\n",
        "        print(len(temp_input))\n",
        "        lst_output.extend(yhat.tolist())\n",
        "        i=i+1\n",
        "    \n",
        "\n",
        "print(lst_output)"
      ],
      "execution_count": 347,
      "outputs": [
        {
          "output_type": "stream",
          "name": "stdout",
          "text": [
            "[0.01074924]\n",
            "11\n",
            "1 day input [0.00534859 0.0043535  0.         0.00447789 0.00516201 0.00385596\n",
            " 0.00715219 0.00578394 0.00634368 0.01074924]\n",
            "1 day output [[0.01234216]]\n",
            "2 day input [0.0043535  0.         0.00447789 0.00516201 0.00385596 0.00715219\n",
            " 0.00578394 0.00634368 0.01074924 0.01234216]\n",
            "2 day output [[0.01415154]]\n",
            "3 day input [0.         0.00447789 0.00516201 0.00385596 0.00715219 0.00578394\n",
            " 0.00634368 0.01074924 0.01234216 0.01415154]\n",
            "3 day output [[0.0161225]]\n",
            "4 day input [0.00447789 0.00516201 0.00385596 0.00715219 0.00578394 0.00634368\n",
            " 0.01074924 0.01234216 0.01415154 0.0161225 ]\n",
            "4 day output [[0.01794531]]\n",
            "5 day input [0.00516201 0.00385596 0.00715219 0.00578394 0.00634368 0.01074924\n",
            " 0.01234216 0.01415154 0.0161225  0.01794531]\n",
            "5 day output [[0.02007945]]\n",
            "6 day input [0.00385596 0.00715219 0.00578394 0.00634368 0.01074924 0.01234216\n",
            " 0.01415154 0.0161225  0.01794531 0.02007945]\n",
            "6 day output [[0.02234542]]\n",
            "7 day input [0.00715219 0.00578394 0.00634368 0.01074924 0.01234216 0.01415154\n",
            " 0.0161225  0.01794531 0.02007945 0.02234542]\n",
            "7 day output [[0.02455067]]\n",
            "8 day input [0.00578394 0.00634368 0.01074924 0.01234216 0.01415154 0.0161225\n",
            " 0.01794531 0.02007945 0.02234542 0.02455067]\n",
            "8 day output [[0.02694084]]\n",
            "9 day input [0.00634368 0.01074924 0.01234216 0.01415154 0.0161225  0.01794531\n",
            " 0.02007945 0.02234542 0.02455067 0.02694084]\n",
            "9 day output [[0.02924054]]\n",
            "10 day input [0.01074924 0.01234216 0.01415154 0.0161225  0.01794531 0.02007945\n",
            " 0.02234542 0.02455067 0.02694084 0.02924054]\n",
            "10 day output [[0.03148025]]\n",
            "11 day input [0.01234216 0.01415154 0.0161225  0.01794531 0.02007945 0.02234542\n",
            " 0.02455067 0.02694084 0.02924054 0.03148025]\n",
            "11 day output [[0.03388926]]\n",
            "12 day input [0.01415154 0.0161225  0.01794531 0.02007945 0.02234542 0.02455067\n",
            " 0.02694084 0.02924054 0.03148025 0.03388926]\n",
            "12 day output [[0.03634329]]\n",
            "13 day input [0.0161225  0.01794531 0.02007945 0.02234542 0.02455067 0.02694084\n",
            " 0.02924054 0.03148025 0.03388926 0.03634329]\n",
            "13 day output [[0.03886066]]\n",
            "14 day input [0.01794531 0.02007945 0.02234542 0.02455067 0.02694084 0.02924054\n",
            " 0.03148025 0.03388926 0.03634329 0.03886066]\n",
            "14 day output [[0.04144566]]\n",
            "15 day input [0.02007945 0.02234542 0.02455067 0.02694084 0.02924054 0.03148025\n",
            " 0.03388926 0.03634329 0.03886066 0.04144566]\n",
            "15 day output [[0.0440758]]\n",
            "16 day input [0.02234542 0.02455067 0.02694084 0.02924054 0.03148025 0.03388926\n",
            " 0.03634329 0.03886066 0.04144566 0.0440758 ]\n",
            "16 day output [[0.04676495]]\n",
            "17 day input [0.02455067 0.02694084 0.02924054 0.03148025 0.03388926 0.03634329\n",
            " 0.03886066 0.04144566 0.0440758  0.04676495]\n",
            "17 day output [[0.04952278]]\n",
            "18 day input [0.02694084 0.02924054 0.03148025 0.03388926 0.03634329 0.03886066\n",
            " 0.04144566 0.0440758  0.04676495 0.04952278]\n",
            "18 day output [[0.05235145]]\n",
            "19 day input [0.02924054 0.03148025 0.03388926 0.03634329 0.03886066 0.04144566\n",
            " 0.0440758  0.04676495 0.04952278 0.05235145]\n",
            "19 day output [[0.05526147]]\n",
            "20 day input [0.03148025 0.03388926 0.03634329 0.03886066 0.04144566 0.0440758\n",
            " 0.04676495 0.04952278 0.05235145 0.05526147]\n",
            "20 day output [[0.05826002]]\n",
            "21 day input [0.03388926 0.03634329 0.03886066 0.04144566 0.0440758  0.04676495\n",
            " 0.04952278 0.05235145 0.05526147 0.05826002]\n",
            "21 day output [[0.06133826]]\n",
            "22 day input [0.03634329 0.03886066 0.04144566 0.0440758  0.04676495 0.04952278\n",
            " 0.05235145 0.05526147 0.05826002 0.06133826]\n",
            "22 day output [[0.06452996]]\n",
            "23 day input [0.03886066 0.04144566 0.0440758  0.04676495 0.04952278 0.05235145\n",
            " 0.05526147 0.05826002 0.06133826 0.06452996]\n",
            "23 day output [[0.0678489]]\n",
            "24 day input [0.04144566 0.0440758  0.04676495 0.04952278 0.05235145 0.05526147\n",
            " 0.05826002 0.06133826 0.06452996 0.0678489 ]\n",
            "24 day output [[0.07129869]]\n",
            "25 day input [0.0440758  0.04676495 0.04952278 0.05235145 0.05526147 0.05826002\n",
            " 0.06133826 0.06452996 0.0678489  0.07129869]\n",
            "25 day output [[0.07487512]]\n",
            "26 day input [0.04676495 0.04952278 0.05235145 0.05526147 0.05826002 0.06133826\n",
            " 0.06452996 0.0678489  0.07129869 0.07487512]\n",
            "26 day output [[0.07857399]]\n",
            "27 day input [0.04952278 0.05235145 0.05526147 0.05826002 0.06133826 0.06452996\n",
            " 0.0678489  0.07129869 0.07487512 0.07857399]\n",
            "27 day output [[0.08241186]]\n",
            "28 day input [0.05235145 0.05526147 0.05826002 0.06133826 0.06452996 0.0678489\n",
            " 0.07129869 0.07487512 0.07857399 0.08241186]\n",
            "28 day output [[0.08639688]]\n",
            "29 day input [0.05526147 0.05826002 0.06133826 0.06452996 0.0678489  0.07129869\n",
            " 0.07487512 0.07857399 0.08241186 0.08639688]\n",
            "29 day output [[0.09053586]]\n",
            "[[0.01074923761188984], [0.012342160567641258], [0.014151537790894508], [0.016122501343488693], [0.017945311963558197], [0.020079445093870163], [0.022345416247844696], [0.0245506651699543], [0.026940837502479553], [0.02924054116010666], [0.031480249017477036], [0.03388926014304161], [0.0363432914018631], [0.038860660046339035], [0.04144565761089325], [0.044075801968574524], [0.04676494747400284], [0.04952277988195419], [0.0523514524102211], [0.05526147037744522], [0.05826001986861229], [0.06133825704455376], [0.06452996283769608], [0.06784889847040176], [0.07129868865013123], [0.0748751163482666], [0.07857399433851242], [0.08241185545921326], [0.08639688044786453], [0.09053586423397064]]\n"
          ]
        }
      ]
    },
    {
      "cell_type": "code",
      "metadata": {
        "id": "WDKNYR_HZlMg"
      },
      "source": [
        "day_new=np.arange(1,101)\n",
        "day_pred=np.arange(101,131)   "
      ],
      "execution_count": 348,
      "outputs": []
    },
    {
      "cell_type": "code",
      "metadata": {
        "id": "TJdnmujbZlIP",
        "colab": {
          "base_uri": "https://localhost:8080/",
          "height": 282
        },
        "outputId": "b5c8cc27-af2b-4daa-d773-01d315f54c3d"
      },
      "source": [
        "plt.plot(day_new,scaler.inverse_transform(df1[319:]))\n",
        "plt.plot(day_pred,scaler.inverse_transform(lst_output))"
      ],
      "execution_count": 349,
      "outputs": [
        {
          "output_type": "execute_result",
          "data": {
            "text/plain": [
              "[<matplotlib.lines.Line2D at 0x7f6310875520>]"
            ]
          },
          "metadata": {},
          "execution_count": 349
        },
        {
          "output_type": "display_data",
          "data": {
            "text/plain": [
              "<Figure size 432x288 with 1 Axes>"
            ],
            "image/png": "[encoded data removed]"
          },
          "metadata": {
            "needs_background": "light"
          }
        }
      ]
    },
    {
      "cell_type": "code",
      "metadata": {
        "id": "uq5ZynCaZlDu",
        "colab": {
          "base_uri": "https://localhost:8080/",
          "height": 282
        },
        "outputId": "7ae32884-381a-47a9-98b4-63f5297b87b7"
      },
      "source": [
        "df3=df1.tolist()\n",
        "df3.extend(lst_output)\n",
        "plt.plot(df3[300:])"
      ],
      "execution_count": 350,
      "outputs": [
        {
          "output_type": "execute_result",
          "data": {
            "text/plain": [
              "[<matplotlib.lines.Line2D at 0x7f631087b550>]"
            ]
          },
          "metadata": {},
          "execution_count": 350
        },
        {
          "output_type": "display_data",
          "data": {
            "text/plain": [
              "<Figure size 432x288 with 1 Axes>"
            ],
            "image/png": "[encoded data removed]"
          },
          "metadata": {
            "needs_background": "light"
          }
        }
      ]
    },
    {
      "cell_type": "code",
      "metadata": {
        "id": "v5eSUsMaaLp_",
        "colab": {
          "base_uri": "https://localhost:8080/",
          "height": 282
        },
        "outputId": "d09d0c3d-4cea-49c9-a22b-19c270bf4d18"
      },
      "source": [
        "df3=scaler.inverse_transform(df3).tolist()\n",
        "plt.plot(df3)"
      ],
      "execution_count": 351,
      "outputs": [
        {
          "output_type": "execute_result",
          "data": {
            "text/plain": [
              "[<matplotlib.lines.Line2D at 0x7f63100a6ca0>]"
            ]
          },
          "metadata": {},
          "execution_count": 351
        },
        {
          "output_type": "display_data",
          "data": {
            "text/plain": [
              "<Figure size 432x288 with 1 Axes>"
            ],
            "image/png": "[encoded data removed]"
          },
          "metadata": {
            "needs_background": "light"
          }
        }
      ]
    },
    {
      "cell_type": "markdown",
      "metadata": {
        "id": "fki4gj64TYyC"
      },
      "source": [
        "# **ConvLSTM1D**"
      ]
    },
    {
      "cell_type": "code",
      "metadata": {
        "id": "OM9c-vAxcV3Q"
      },
      "source": [
        "X_train = X_train.reshape((261, 1, 10, 1))\n",
        "X_test = X_test.reshape((136, 1, 10, 1))"
      ],
      "execution_count": 352,
      "outputs": []
    },
    {
      "cell_type": "code",
      "metadata": {
        "id": "GCGGq7UETYea"
      },
      "source": [
        "from keras.layers import Flatten\n",
        "from keras.layers import TimeDistributed\n",
        "from keras.layers.convolutional import Conv1D\n",
        "from keras.layers.convolutional import MaxPooling1D\n",
        "model4 = Sequential()\n",
        "model4.add(TimeDistributed(Conv1D(filters=64, kernel_size=1, activation='relu'), input_shape=(None,10,1)))\n",
        "model4.add(TimeDistributed(MaxPooling1D(pool_size=2)))\n",
        "model4.add(TimeDistributed(Flatten()))\n",
        "model4.add(LSTM(50, activation='relu'))\n",
        "model4.add(Dense(1))\n",
        "model4.compile(loss='mean_squared_error',optimizer='adam')"
      ],
      "execution_count": 353,
      "outputs": []
    },
    {
      "cell_type": "code",
      "metadata": {
        "id": "FfNxtKa8b19L",
        "colab": {
          "base_uri": "https://localhost:8080/"
        },
        "outputId": "bd05dc7e-1993-49ed-b93e-c865afb27b7f"
      },
      "source": [
        "model4.summary()"
      ],
      "execution_count": 354,
      "outputs": [
        {
          "output_type": "stream",
          "name": "stdout",
          "text": [
            "Model: \"sequential_13\"\n",
            "_________________________________________________________________\n",
            " Layer (type)                Output Shape              Param #   \n",
            "=================================================================\n",
            " time_distributed_9 (TimeDis  (None, None, 10, 64)     128       \n",
            " tributed)                                                       \n",
            "                                                                 \n",
            " time_distributed_10 (TimeDi  (None, None, 5, 64)      0         \n",
            " stributed)                                                      \n",
            "                                                                 \n",
            " time_distributed_11 (TimeDi  (None, None, 320)        0         \n",
            " stributed)                                                      \n",
            "                                                                 \n",
            " lstm_25 (LSTM)              (None, 50)                74200     \n",
            "                                                                 \n",
            " dense_13 (Dense)            (None, 1)                 51        \n",
            "                                                                 \n",
            "=================================================================\n",
            "Total params: 74,379\n",
            "Trainable params: 74,379\n",
            "Non-trainable params: 0\n",
            "_________________________________________________________________\n"
          ]
        }
      ]
    },
    {
      "cell_type": "code",
      "metadata": {
        "id": "ZChlqcZxbzz3",
        "colab": {
          "base_uri": "https://localhost:8080/"
        },
        "outputId": "297a33fb-5f54-4d54-9338-9ee44bcb4001"
      },
      "source": [
        "model4.fit(X_train,y_train,validation_data=(X_test,ytest),epochs=100,batch_size=32,verbose=1)"
      ],
      "execution_count": 355,
      "outputs": [
        {
          "output_type": "stream",
          "name": "stdout",
          "text": [
            "Epoch 1/100\n",
            "9/9 [==============================] - 3s 38ms/step - loss: 0.0157 - val_loss: 0.0857\n",
            "Epoch 2/100\n",
            "9/9 [==============================] - 0s 9ms/step - loss: 0.0066 - val_loss: 0.0319\n",
            "Epoch 3/100\n",
            "9/9 [==============================] - 0s 8ms/step - loss: 0.0042 - val_loss: 0.0183\n",
            "Epoch 4/100\n",
            "9/9 [==============================] - 0s 9ms/step - loss: 0.0034 - val_loss: 0.0182\n",
            "Epoch 5/100\n",
            "9/9 [==============================] - 0s 9ms/step - loss: 0.0029 - val_loss: 0.0159\n",
            "Epoch 6/100\n",
            "9/9 [==============================] - 0s 9ms/step - loss: 0.0024 - val_loss: 0.0167\n",
            "Epoch 7/100\n",
            "9/9 [==============================] - 0s 8ms/step - loss: 0.0022 - val_loss: 0.0196\n",
            "Epoch 8/100\n",
            "9/9 [==============================] - 0s 9ms/step - loss: 0.0020 - val_loss: 0.0203\n",
            "Epoch 9/100\n",
            "9/9 [==============================] - 0s 8ms/step - loss: 0.0019 - val_loss: 0.0256\n",
            "Epoch 10/100\n",
            "9/9 [==============================] - 0s 7ms/step - loss: 0.0019 - val_loss: 0.0208\n",
            "Epoch 11/100\n",
            "9/9 [==============================] - 0s 9ms/step - loss: 0.0018 - val_loss: 0.0206\n",
            "Epoch 12/100\n",
            "9/9 [==============================] - 0s 7ms/step - loss: 0.0017 - val_loss: 0.0188\n",
            "Epoch 13/100\n",
            "9/9 [==============================] - 0s 9ms/step - loss: 0.0017 - val_loss: 0.0150\n",
            "Epoch 14/100\n",
            "9/9 [==============================] - 0s 7ms/step - loss: 0.0016 - val_loss: 0.0165\n",
            "Epoch 15/100\n",
            "9/9 [==============================] - 0s 8ms/step - loss: 0.0016 - val_loss: 0.0191\n",
            "Epoch 16/100\n",
            "9/9 [==============================] - 0s 9ms/step - loss: 0.0015 - val_loss: 0.0176\n",
            "Epoch 17/100\n",
            "9/9 [==============================] - 0s 9ms/step - loss: 0.0014 - val_loss: 0.0198\n",
            "Epoch 18/100\n",
            "9/9 [==============================] - 0s 9ms/step - loss: 0.0013 - val_loss: 0.0171\n",
            "Epoch 19/100\n",
            "9/9 [==============================] - 0s 7ms/step - loss: 0.0013 - val_loss: 0.0156\n",
            "Epoch 20/100\n",
            "9/9 [==============================] - 0s 7ms/step - loss: 0.0013 - val_loss: 0.0166\n",
            "Epoch 21/100\n",
            "9/9 [==============================] - 0s 11ms/step - loss: 0.0012 - val_loss: 0.0125\n",
            "Epoch 22/100\n",
            "9/9 [==============================] - 0s 9ms/step - loss: 0.0011 - val_loss: 0.0130\n",
            "Epoch 23/100\n",
            "9/9 [==============================] - 0s 8ms/step - loss: 0.0011 - val_loss: 0.0121\n",
            "Epoch 24/100\n",
            "9/9 [==============================] - 0s 8ms/step - loss: 0.0010 - val_loss: 0.0123\n",
            "Epoch 25/100\n",
            "9/9 [==============================] - 0s 8ms/step - loss: 9.7777e-04 - val_loss: 0.0128\n",
            "Epoch 26/100\n",
            "9/9 [==============================] - 0s 10ms/step - loss: 9.4628e-04 - val_loss: 0.0127\n",
            "Epoch 27/100\n",
            "9/9 [==============================] - 0s 9ms/step - loss: 9.1706e-04 - val_loss: 0.0122\n",
            "Epoch 28/100\n",
            "9/9 [==============================] - 0s 8ms/step - loss: 9.4481e-04 - val_loss: 0.0122\n",
            "Epoch 29/100\n",
            "9/9 [==============================] - 0s 7ms/step - loss: 8.5887e-04 - val_loss: 0.0106\n",
            "Epoch 30/100\n",
            "9/9 [==============================] - 0s 7ms/step - loss: 8.5012e-04 - val_loss: 0.0115\n",
            "Epoch 31/100\n",
            "9/9 [==============================] - 0s 9ms/step - loss: 7.9850e-04 - val_loss: 0.0111\n",
            "Epoch 32/100\n",
            "9/9 [==============================] - 0s 9ms/step - loss: 7.4805e-04 - val_loss: 0.0114\n",
            "Epoch 33/100\n",
            "9/9 [==============================] - 0s 9ms/step - loss: 7.6280e-04 - val_loss: 0.0107\n",
            "Epoch 34/100\n",
            "9/9 [==============================] - 0s 9ms/step - loss: 7.6065e-04 - val_loss: 0.0100\n",
            "Epoch 35/100\n",
            "9/9 [==============================] - 0s 9ms/step - loss: 6.9118e-04 - val_loss: 0.0108\n",
            "Epoch 36/100\n",
            "9/9 [==============================] - 0s 10ms/step - loss: 6.6585e-04 - val_loss: 0.0098\n",
            "Epoch 37/100\n",
            "9/9 [==============================] - 0s 8ms/step - loss: 6.7973e-04 - val_loss: 0.0099\n",
            "Epoch 38/100\n",
            "9/9 [==============================] - 0s 9ms/step - loss: 6.3766e-04 - val_loss: 0.0102\n",
            "Epoch 39/100\n",
            "9/9 [==============================] - 0s 9ms/step - loss: 6.6147e-04 - val_loss: 0.0099\n",
            "Epoch 40/100\n",
            "9/9 [==============================] - 0s 7ms/step - loss: 6.2243e-04 - val_loss: 0.0100\n",
            "Epoch 41/100\n",
            "9/9 [==============================] - 0s 7ms/step - loss: 6.0847e-04 - val_loss: 0.0099\n",
            "Epoch 42/100\n",
            "9/9 [==============================] - 0s 7ms/step - loss: 6.1497e-04 - val_loss: 0.0099\n",
            "Epoch 43/100\n",
            "9/9 [==============================] - 0s 9ms/step - loss: 6.0822e-04 - val_loss: 0.0102\n",
            "Epoch 44/100\n",
            "9/9 [==============================] - 0s 7ms/step - loss: 5.9400e-04 - val_loss: 0.0102\n",
            "Epoch 45/100\n",
            "9/9 [==============================] - 0s 9ms/step - loss: 5.7798e-04 - val_loss: 0.0104\n",
            "Epoch 46/100\n",
            "9/9 [==============================] - 0s 7ms/step - loss: 5.7360e-04 - val_loss: 0.0103\n",
            "Epoch 47/100\n",
            "9/9 [==============================] - 0s 11ms/step - loss: 5.5861e-04 - val_loss: 0.0108\n",
            "Epoch 48/100\n",
            "9/9 [==============================] - 0s 8ms/step - loss: 6.3449e-04 - val_loss: 0.0123\n",
            "Epoch 49/100\n",
            "9/9 [==============================] - 0s 8ms/step - loss: 5.5914e-04 - val_loss: 0.0116\n",
            "Epoch 50/100\n",
            "9/9 [==============================] - 0s 7ms/step - loss: 5.4900e-04 - val_loss: 0.0111\n",
            "Epoch 51/100\n",
            "9/9 [==============================] - 0s 9ms/step - loss: 5.5230e-04 - val_loss: 0.0112\n",
            "Epoch 52/100\n",
            "9/9 [==============================] - 0s 7ms/step - loss: 5.4503e-04 - val_loss: 0.0110\n",
            "Epoch 53/100\n",
            "9/9 [==============================] - 0s 7ms/step - loss: 5.3397e-04 - val_loss: 0.0115\n",
            "Epoch 54/100\n",
            "9/9 [==============================] - 0s 8ms/step - loss: 5.3860e-04 - val_loss: 0.0125\n",
            "Epoch 55/100\n",
            "9/9 [==============================] - 0s 8ms/step - loss: 5.2345e-04 - val_loss: 0.0117\n",
            "Epoch 56/100\n",
            "9/9 [==============================] - 0s 9ms/step - loss: 5.2255e-04 - val_loss: 0.0120\n",
            "Epoch 57/100\n",
            "9/9 [==============================] - 0s 7ms/step - loss: 5.2258e-04 - val_loss: 0.0125\n",
            "Epoch 58/100\n",
            "9/9 [==============================] - 0s 7ms/step - loss: 5.3799e-04 - val_loss: 0.0156\n",
            "Epoch 59/100\n",
            "9/9 [==============================] - 0s 9ms/step - loss: 5.5266e-04 - val_loss: 0.0138\n",
            "Epoch 60/100\n",
            "9/9 [==============================] - 0s 8ms/step - loss: 5.1582e-04 - val_loss: 0.0134\n",
            "Epoch 61/100\n",
            "9/9 [==============================] - 0s 12ms/step - loss: 5.1859e-04 - val_loss: 0.0129\n",
            "Epoch 62/100\n",
            "9/9 [==============================] - 0s 10ms/step - loss: 5.1456e-04 - val_loss: 0.0139\n",
            "Epoch 63/100\n",
            "9/9 [==============================] - 0s 7ms/step - loss: 5.6710e-04 - val_loss: 0.0142\n",
            "Epoch 64/100\n",
            "9/9 [==============================] - 0s 9ms/step - loss: 5.1870e-04 - val_loss: 0.0134\n",
            "Epoch 65/100\n",
            "9/9 [==============================] - 0s 9ms/step - loss: 5.0476e-04 - val_loss: 0.0135\n",
            "Epoch 66/100\n",
            "9/9 [==============================] - 0s 8ms/step - loss: 4.9532e-04 - val_loss: 0.0130\n",
            "Epoch 67/100\n",
            "9/9 [==============================] - 0s 8ms/step - loss: 5.1536e-04 - val_loss: 0.0135\n",
            "Epoch 68/100\n",
            "9/9 [==============================] - 0s 7ms/step - loss: 5.2077e-04 - val_loss: 0.0145\n",
            "Epoch 69/100\n",
            "9/9 [==============================] - 0s 7ms/step - loss: 5.1365e-04 - val_loss: 0.0145\n",
            "Epoch 70/100\n",
            "9/9 [==============================] - 0s 7ms/step - loss: 5.0691e-04 - val_loss: 0.0147\n",
            "Epoch 71/100\n",
            "9/9 [==============================] - 0s 7ms/step - loss: 5.2885e-04 - val_loss: 0.0126\n",
            "Epoch 72/100\n",
            "9/9 [==============================] - 0s 7ms/step - loss: 5.0658e-04 - val_loss: 0.0139\n",
            "Epoch 73/100\n",
            "9/9 [==============================] - 0s 9ms/step - loss: 5.0433e-04 - val_loss: 0.0154\n",
            "Epoch 74/100\n",
            "9/9 [==============================] - 0s 9ms/step - loss: 4.8896e-04 - val_loss: 0.0146\n",
            "Epoch 75/100\n",
            "9/9 [==============================] - 0s 9ms/step - loss: 4.9301e-04 - val_loss: 0.0140\n",
            "Epoch 76/100\n",
            "9/9 [==============================] - 0s 9ms/step - loss: 4.8774e-04 - val_loss: 0.0140\n",
            "Epoch 77/100\n",
            "9/9 [==============================] - 0s 8ms/step - loss: 4.7777e-04 - val_loss: 0.0154\n",
            "Epoch 78/100\n",
            "9/9 [==============================] - 0s 9ms/step - loss: 4.8958e-04 - val_loss: 0.0160\n",
            "Epoch 79/100\n",
            "9/9 [==============================] - 0s 10ms/step - loss: 4.9701e-04 - val_loss: 0.0155\n",
            "Epoch 80/100\n",
            "9/9 [==============================] - 0s 8ms/step - loss: 4.9011e-04 - val_loss: 0.0177\n",
            "Epoch 81/100\n",
            "9/9 [==============================] - 0s 7ms/step - loss: 4.8218e-04 - val_loss: 0.0170\n",
            "Epoch 82/100\n",
            "9/9 [==============================] - 0s 9ms/step - loss: 4.8111e-04 - val_loss: 0.0155\n",
            "Epoch 83/100\n",
            "9/9 [==============================] - 0s 7ms/step - loss: 4.7314e-04 - val_loss: 0.0157\n",
            "Epoch 84/100\n",
            "9/9 [==============================] - 0s 7ms/step - loss: 4.7147e-04 - val_loss: 0.0172\n",
            "Epoch 85/100\n",
            "9/9 [==============================] - 0s 7ms/step - loss: 4.7341e-04 - val_loss: 0.0177\n",
            "Epoch 86/100\n",
            "9/9 [==============================] - 0s 7ms/step - loss: 4.6738e-04 - val_loss: 0.0170\n",
            "Epoch 87/100\n",
            "9/9 [==============================] - 0s 10ms/step - loss: 4.8493e-04 - val_loss: 0.0184\n",
            "Epoch 88/100\n",
            "9/9 [==============================] - 0s 11ms/step - loss: 4.6319e-04 - val_loss: 0.0170\n",
            "Epoch 89/100\n",
            "9/9 [==============================] - 0s 11ms/step - loss: 4.7965e-04 - val_loss: 0.0170\n",
            "Epoch 90/100\n",
            "9/9 [==============================] - 0s 12ms/step - loss: 4.6194e-04 - val_loss: 0.0173\n",
            "Epoch 91/100\n",
            "9/9 [==============================] - 0s 10ms/step - loss: 4.6881e-04 - val_loss: 0.0176\n",
            "Epoch 92/100\n",
            "9/9 [==============================] - 0s 13ms/step - loss: 4.8059e-04 - val_loss: 0.0185\n",
            "Epoch 93/100\n",
            "9/9 [==============================] - 0s 11ms/step - loss: 4.6685e-04 - val_loss: 0.0182\n",
            "Epoch 94/100\n",
            "9/9 [==============================] - 0s 10ms/step - loss: 4.7593e-04 - val_loss: 0.0170\n",
            "Epoch 95/100\n",
            "9/9 [==============================] - 0s 12ms/step - loss: 4.7188e-04 - val_loss: 0.0143\n",
            "Epoch 96/100\n",
            "9/9 [==============================] - 0s 14ms/step - loss: 5.0423e-04 - val_loss: 0.0159\n",
            "Epoch 97/100\n",
            "9/9 [==============================] - 0s 12ms/step - loss: 4.7926e-04 - val_loss: 0.0169\n",
            "Epoch 98/100\n",
            "9/9 [==============================] - 0s 15ms/step - loss: 4.6051e-04 - val_loss: 0.0193\n",
            "Epoch 99/100\n",
            "9/9 [==============================] - 0s 11ms/step - loss: 5.3314e-04 - val_loss: 0.0203\n",
            "Epoch 100/100\n",
            "9/9 [==============================] - 0s 10ms/step - loss: 4.8255e-04 - val_loss: 0.0194\n"
          ]
        },
        {
          "output_type": "execute_result",
          "data": {
            "text/plain": [
              "<keras.callbacks.History at 0x7f63106858e0>"
            ]
          },
          "metadata": {},
          "execution_count": 355
        }
      ]
    },
    {
      "cell_type": "markdown",
      "source": [
        "**Prediction**\n"
      ],
      "metadata": {
        "id": "QHpXEUPxdsud"
      }
    },
    {
      "cell_type": "code",
      "metadata": {
        "id": "2lvbuN3fdLw6",
        "colab": {
          "base_uri": "https://localhost:8080/"
        },
        "outputId": "87d3f6d8-8e35-465e-923a-1c317d0e4a06"
      },
      "source": [
        "train_predict=model4.predict(X_train)\n",
        "test_predict=model4.predict(X_test)\n",
        "##Transformback to original form\n",
        "train_predict=scaler.inverse_transform(train_predict)\n",
        "test_predict=scaler.inverse_transform(test_predict)"
      ],
      "execution_count": 356,
      "outputs": [
        {
          "output_type": "stream",
          "name": "stdout",
          "text": [
            "9/9 [==============================] - 0s 3ms/step\n",
            "5/5 [==============================] - 0s 2ms/step\n"
          ]
        }
      ]
    },
    {
      "cell_type": "markdown",
      "source": [
        "**MSE**"
      ],
      "metadata": {
        "id": "coSlwLVsd0l1"
      }
    },
    {
      "cell_type": "code",
      "metadata": {
        "id": "rGBK0vu5fqXi",
        "colab": {
          "base_uri": "https://localhost:8080/"
        },
        "outputId": "b7100b9e-1150-430b-9c7a-a2ef019dd09e"
      },
      "source": [
        "### Calculate MSE performance metrics\n",
        "mean_squared_error(y_train,train_predict)"
      ],
      "execution_count": 357,
      "outputs": [
        {
          "output_type": "execute_result",
          "data": {
            "text/plain": [
              "5880476.425744597"
            ]
          },
          "metadata": {},
          "execution_count": 357
        }
      ]
    },
    {
      "cell_type": "code",
      "metadata": {
        "id": "ipbZYmxcfqU5",
        "colab": {
          "base_uri": "https://localhost:8080/"
        },
        "outputId": "231e61dc-bb26-47fc-c29c-9dd92896ad9d"
      },
      "source": [
        "### Test Data MSE\n",
        "mean_squared_error(ytest,test_predict)"
      ],
      "execution_count": 358,
      "outputs": [
        {
          "output_type": "execute_result",
          "data": {
            "text/plain": [
              "25600564.203174986"
            ]
          },
          "metadata": {},
          "execution_count": 358
        }
      ]
    },
    {
      "cell_type": "markdown",
      "source": [
        "**RMSE**"
      ],
      "metadata": {
        "id": "ERu7Zo8KeYLZ"
      }
    },
    {
      "cell_type": "code",
      "source": [
        "### Calculate RMSE performance metrics\n",
        "math.sqrt(mean_squared_error(y_train,train_predict))"
      ],
      "metadata": {
        "colab": {
          "base_uri": "https://localhost:8080/"
        },
        "id": "U_W9Tm69eHcc",
        "outputId": "cb4b6b92-cfa1-4e1d-d539-b5cda35cd4ef"
      },
      "execution_count": 359,
      "outputs": [
        {
          "output_type": "execute_result",
          "data": {
            "text/plain": [
              "2424.9693659394125"
            ]
          },
          "metadata": {},
          "execution_count": 359
        }
      ]
    },
    {
      "cell_type": "code",
      "source": [
        "### Test Data RMSE\n",
        "math.sqrt(mean_squared_error(ytest,test_predict))"
      ],
      "metadata": {
        "colab": {
          "base_uri": "https://localhost:8080/"
        },
        "id": "Xe51LTBBeKHc",
        "outputId": "0a6139d0-e002-4f79-9a22-ae0bdc496d15"
      },
      "execution_count": 360,
      "outputs": [
        {
          "output_type": "execute_result",
          "data": {
            "text/plain": [
              "5059.7000111839625"
            ]
          },
          "metadata": {},
          "execution_count": 360
        }
      ]
    },
    {
      "cell_type": "markdown",
      "source": [
        "**MAE**"
      ],
      "metadata": {
        "id": "VLPa3GTZeb6x"
      }
    },
    {
      "cell_type": "code",
      "source": [
        "from sklearn.metrics import mean_absolute_error\n",
        "\n",
        "mean_absolute_error(y_train,train_predict)"
      ],
      "metadata": {
        "colab": {
          "base_uri": "https://localhost:8080/"
        },
        "id": "Z9rQtzqqePyU",
        "outputId": "3eaaddf3-2d79-4410-ae60-8025882b7d53"
      },
      "execution_count": 361,
      "outputs": [
        {
          "output_type": "execute_result",
          "data": {
            "text/plain": [
              "1886.5221097924161"
            ]
          },
          "metadata": {},
          "execution_count": 361
        }
      ]
    },
    {
      "cell_type": "code",
      "source": [
        "### Test Data MAE\n",
        "mean_absolute_error(ytest,test_predict)"
      ],
      "metadata": {
        "colab": {
          "base_uri": "https://localhost:8080/"
        },
        "id": "aViR7Se0eQiE",
        "outputId": "df49d4cd-fa08-43ab-c4bb-296f83db583e"
      },
      "execution_count": 362,
      "outputs": [
        {
          "output_type": "execute_result",
          "data": {
            "text/plain": [
              "3564.51665529202"
            ]
          },
          "metadata": {},
          "execution_count": 362
        }
      ]
    },
    {
      "cell_type": "code",
      "metadata": {
        "id": "Y9iNr1dkfqCx",
        "colab": {
          "base_uri": "https://localhost:8080/",
          "height": 265
        },
        "outputId": "82e79956-b30e-4f64-c9cb-c0ea99523859"
      },
      "source": [
        "### Plotting \n",
        "# shift train predictions for plotting\n",
        "look_back=10\n",
        "trainPredictPlot = numpy.empty_like(df1)\n",
        "trainPredictPlot[:, :] = np.nan\n",
        "trainPredictPlot[look_back:len(train_predict)+look_back, :] = train_predict\n",
        "# shift test predictions for plotting\n",
        "testPredictPlot = numpy.empty_like(df1)\n",
        "testPredictPlot[:, :] = numpy.nan\n",
        "testPredictPlot[len(train_predict)+(look_back*2)+1:len(df1)-1, :] = test_predict\n",
        "# plot baseline and predictions\n",
        "plt.plot(scaler.inverse_transform(df1))\n",
        "plt.plot(trainPredictPlot)\n",
        "plt.plot(testPredictPlot)\n",
        "plt.show()"
      ],
      "execution_count": 363,
      "outputs": [
        {
          "output_type": "display_data",
          "data": {
            "text/plain": [
              "<Figure size 432x288 with 1 Axes>"
            ],
            "image/png": "[encoded data removed]"
          },
          "metadata": {
            "needs_background": "light"
          }
        }
      ]
    },
    {
      "cell_type": "code",
      "metadata": {
        "id": "r1zmGD6Afp_V",
        "colab": {
          "base_uri": "https://localhost:8080/"
        },
        "outputId": "deab9d46-a6f4-4c9c-b646-10011417a131"
      },
      "source": [
        "x_input=test_data[137:].reshape(1,-1)\n",
        "x_input.shape"
      ],
      "execution_count": 364,
      "outputs": [
        {
          "output_type": "execute_result",
          "data": {
            "text/plain": [
              "(1, 10)"
            ]
          },
          "metadata": {},
          "execution_count": 364
        }
      ]
    },
    {
      "cell_type": "code",
      "metadata": {
        "id": "Gi0vCQq4fp7Y"
      },
      "source": [
        "temp_input=list(x_input)\n",
        "temp_input=temp_input[0].tolist()"
      ],
      "execution_count": 365,
      "outputs": []
    },
    {
      "cell_type": "code",
      "metadata": {
        "id": "Nom3OeowZErg",
        "colab": {
          "base_uri": "https://localhost:8080/"
        },
        "outputId": "90f708bc-cae3-4f98-e6d0-25cd8063c734"
      },
      "source": [
        "temp_input"
      ],
      "execution_count": 366,
      "outputs": [
        {
          "output_type": "execute_result",
          "data": {
            "text/plain": [
              "[0.0052242054854157605,\n",
              " 0.005348591330306612,\n",
              " 0.004353504571179801,\n",
              " 0.0,\n",
              " 0.004477890416070652,\n",
              " 0.005162012562970334,\n",
              " 0.0038559611916163944,\n",
              " 0.007152186081223958,\n",
              " 0.005783941787424592,\n",
              " 0.006343678089433423]"
            ]
          },
          "metadata": {},
          "execution_count": 366
        }
      ]
    },
    {
      "cell_type": "code",
      "metadata": {
        "id": "Ia9z--hkfp3o",
        "colab": {
          "base_uri": "https://localhost:8080/"
        },
        "outputId": "457a7aab-b0c0-4a77-f101-140f3cba4413"
      },
      "source": [
        "# demonstrate prediction for next 10 days\n",
        "from numpy import array\n",
        "\n",
        "lst_output=[]\n",
        "n_steps=10\n",
        "i=0\n",
        "while(i<30):\n",
        "    \n",
        "    if(len(temp_input)>10):\n",
        "        #print(temp_input)\n",
        "        x_input=np.array(temp_input[1:])\n",
        "        print(\"{} day input {}\".format(i,x_input))\n",
        "        x_input=x_input.reshape(1,-1)\n",
        "        x_input = x_input.reshape((1,1, n_steps, 1))\n",
        "        #print(x_input)\n",
        "        yhat = model4.predict(x_input, verbose=0)\n",
        "        print(\"{} day output {}\".format(i,yhat))\n",
        "        temp_input.extend(yhat[0].tolist())\n",
        "        temp_input=temp_input[1:]\n",
        "        #print(temp_input)\n",
        "        lst_output.extend(yhat.tolist())\n",
        "        i=i+1\n",
        "    else:\n",
        "        x_input = x_input.reshape((1,1, n_steps,1))\n",
        "        yhat = model4.predict(x_input, verbose=0)\n",
        "        print(yhat[0])\n",
        "        temp_input.extend(yhat[0].tolist())\n",
        "        print(len(temp_input))\n",
        "        lst_output.extend(yhat.tolist())\n",
        "        i=i+1\n",
        "    \n",
        "\n",
        "print(lst_output)"
      ],
      "execution_count": 367,
      "outputs": [
        {
          "output_type": "stream",
          "name": "stdout",
          "text": [
            "[0.01244844]\n",
            "11\n",
            "1 day input [0.00534859 0.0043535  0.         0.00447789 0.00516201 0.00385596\n",
            " 0.00715219 0.00578394 0.00634368 0.01244844]\n",
            "1 day output [[0.01379316]]\n",
            "2 day input [0.0043535  0.         0.00447789 0.00516201 0.00385596 0.00715219\n",
            " 0.00578394 0.00634368 0.01244844 0.01379316]\n",
            "2 day output [[0.01431146]]\n",
            "3 day input [0.         0.00447789 0.00516201 0.00385596 0.00715219 0.00578394\n",
            " 0.00634368 0.01244844 0.01379316 0.01431146]\n",
            "3 day output [[0.01494125]]\n",
            "4 day input [0.00447789 0.00516201 0.00385596 0.00715219 0.00578394 0.00634368\n",
            " 0.01244844 0.01379316 0.01431146 0.01494125]\n",
            "4 day output [[0.01523225]]\n",
            "5 day input [0.00516201 0.00385596 0.00715219 0.00578394 0.00634368 0.01244844\n",
            " 0.01379316 0.01431146 0.01494125 0.01523225]\n",
            "5 day output [[0.01577108]]\n",
            "6 day input [0.00385596 0.00715219 0.00578394 0.00634368 0.01244844 0.01379316\n",
            " 0.01431146 0.01494125 0.01523225 0.01577108]\n",
            "6 day output [[0.01581622]]\n",
            "7 day input [0.00715219 0.00578394 0.00634368 0.01244844 0.01379316 0.01431146\n",
            " 0.01494125 0.01523225 0.01577108 0.01581622]\n",
            "7 day output [[0.01639308]]\n",
            "8 day input [0.00578394 0.00634368 0.01244844 0.01379316 0.01431146 0.01494125\n",
            " 0.01523225 0.01577108 0.01581622 0.01639308]\n",
            "8 day output [[0.01681264]]\n",
            "9 day input [0.00634368 0.01244844 0.01379316 0.01431146 0.01494125 0.01523225\n",
            " 0.01577108 0.01581622 0.01639308 0.01681264]\n",
            "9 day output [[0.01641349]]\n",
            "10 day input [0.01244844 0.01379316 0.01431146 0.01494125 0.01523225 0.01577108\n",
            " 0.01581622 0.01639308 0.01681264 0.01641349]\n",
            "10 day output [[0.01643146]]\n",
            "11 day input [0.01379316 0.01431146 0.01494125 0.01523225 0.01577108 0.01581622\n",
            " 0.01639308 0.01681264 0.01641349 0.01643146]\n",
            "11 day output [[0.01636105]]\n",
            "12 day input [0.01431146 0.01494125 0.01523225 0.01577108 0.01581622 0.01639308\n",
            " 0.01681264 0.01641349 0.01643146 0.01636105]\n",
            "12 day output [[0.01638959]]\n",
            "13 day input [0.01494125 0.01523225 0.01577108 0.01581622 0.01639308 0.01681264\n",
            " 0.01641349 0.01643146 0.01636105 0.01638959]\n",
            "13 day output [[0.01635076]]\n",
            "14 day input [0.01523225 0.01577108 0.01581622 0.01639308 0.01681264 0.01641349\n",
            " 0.01643146 0.01636105 0.01638959 0.01635076]\n",
            "14 day output [[0.01635135]]\n",
            "15 day input [0.01577108 0.01581622 0.01639308 0.01681264 0.01641349 0.01643146\n",
            " 0.01636105 0.01638959 0.01635076 0.01635135]\n",
            "15 day output [[0.01634589]]\n",
            "16 day input [0.01581622 0.01639308 0.01681264 0.01641349 0.01643146 0.01636105\n",
            " 0.01638959 0.01635076 0.01635135 0.01634589]\n",
            "16 day output [[0.01629061]]\n",
            "17 day input [0.01639308 0.01681264 0.01641349 0.01643146 0.01636105 0.01638959\n",
            " 0.01635076 0.01635135 0.01634589 0.01629061]\n",
            "17 day output [[0.01620826]]\n",
            "18 day input [0.01681264 0.01641349 0.01643146 0.01636105 0.01638959 0.01635076\n",
            " 0.01635135 0.01634589 0.01629061 0.01620826]\n",
            "18 day output [[0.01619547]]\n",
            "19 day input [0.01641349 0.01643146 0.01636105 0.01638959 0.01635076 0.01635135\n",
            " 0.01634589 0.01629061 0.01620826 0.01619547]\n",
            "19 day output [[0.016206]]\n",
            "20 day input [0.01643146 0.01636105 0.01638959 0.01635076 0.01635135 0.01634589\n",
            " 0.01629061 0.01620826 0.01619547 0.016206  ]\n",
            "20 day output [[0.01620048]]\n",
            "21 day input [0.01636105 0.01638959 0.01635076 0.01635135 0.01634589 0.01629061\n",
            " 0.01620826 0.01619547 0.016206   0.01620048]\n",
            "21 day output [[0.01619319]]\n",
            "22 day input [0.01638959 0.01635076 0.01635135 0.01634589 0.01629061 0.01620826\n",
            " 0.01619547 0.016206   0.01620048 0.01619319]\n",
            "22 day output [[0.01618787]]\n",
            "23 day input [0.01635076 0.01635135 0.01634589 0.01629061 0.01620826 0.01619547\n",
            " 0.016206   0.01620048 0.01619319 0.01618787]\n",
            "23 day output [[0.01618364]]\n",
            "24 day input [0.01635135 0.01634589 0.01629061 0.01620826 0.01619547 0.016206\n",
            " 0.01620048 0.01619319 0.01618787 0.01618364]\n",
            "24 day output [[0.01617675]]\n",
            "25 day input [0.01634589 0.01629061 0.01620826 0.01619547 0.016206   0.01620048\n",
            " 0.01619319 0.01618787 0.01618364 0.01617675]\n",
            "25 day output [[0.01616818]]\n",
            "26 day input [0.01629061 0.01620826 0.01619547 0.016206   0.01620048 0.01619319\n",
            " 0.01618787 0.01618364 0.01617675 0.01616818]\n",
            "26 day output [[0.01617081]]\n",
            "27 day input [0.01620826 0.01619547 0.016206   0.01620048 0.01619319 0.01618787\n",
            " 0.01618364 0.01617675 0.01616818 0.01617081]\n",
            "27 day output [[0.01617643]]\n",
            "28 day input [0.01619547 0.016206   0.01620048 0.01619319 0.01618787 0.01618364\n",
            " 0.01617675 0.01616818 0.01617081 0.01617643]\n",
            "28 day output [[0.01617646]]\n",
            "29 day input [0.016206   0.01620048 0.01619319 0.01618787 0.01618364 0.01617675\n",
            " 0.01616818 0.01617081 0.01617643 0.01617646]\n",
            "29 day output [[0.01617498]]\n",
            "[[0.012448437511920929], [0.013793159276247025], [0.014311456121504307], [0.014941250905394554], [0.015232249163091183], [0.015771081671118736], [0.01581622287631035], [0.016393080353736877], [0.01681264489889145], [0.01641349121928215], [0.016431458294391632], [0.016361046582460403], [0.016389593482017517], [0.01635076478123665], [0.016351353377103806], [0.016345888376235962], [0.016290608793497086], [0.016208261251449585], [0.016195468604564667], [0.01620600000023842], [0.0162004753947258], [0.016193192452192307], [0.016187872737646103], [0.01618363708257675], [0.016176745295524597], [0.016168175265192986], [0.01617080718278885], [0.016176434233784676], [0.016176458448171616], [0.016174975782632828]]\n"
          ]
        }
      ]
    },
    {
      "cell_type": "code",
      "source": [
        "day_new=np.arange(1,101)\n",
        "day_pred=np.arange(101,131) "
      ],
      "metadata": {
        "id": "9hwzGlSNc-BP"
      },
      "execution_count": 368,
      "outputs": []
    },
    {
      "cell_type": "code",
      "source": [
        "plt.plot(day_new,scaler.inverse_transform(df1[319:]))\n",
        "plt.plot(day_pred,scaler.inverse_transform(lst_output))\n",
        "plt.xlabel('Days')\n",
        "plt.ylabel('Confirmed Cases')"
      ],
      "metadata": {
        "colab": {
          "base_uri": "https://localhost:8080/",
          "height": 296
        },
        "id": "4pu5lIgjdB3e",
        "outputId": "e86fb118-b29d-44fd-c79b-e0226a3c0880"
      },
      "execution_count": 369,
      "outputs": [
        {
          "output_type": "execute_result",
          "data": {
            "text/plain": [
              "Text(0, 0.5, 'Confirmed Cases')"
            ]
          },
          "metadata": {},
          "execution_count": 369
        },
        {
          "output_type": "display_data",
          "data": {
            "text/plain": [
              "<Figure size 432x288 with 1 Axes>"
            ],
            "image/png": "[encoded data removed]"
          },
          "metadata": {
            "needs_background": "light"
          }
        }
      ]
    },
    {
      "cell_type": "code",
      "source": [
        "df3=df1.tolist()\n",
        "df3.extend(lst_output)\n",
        "plt.plot(df3[300:])\n",
        "plt.xlabel('Days')\n",
        "plt.ylabel('Confirmed Cases')"
      ],
      "metadata": {
        "colab": {
          "base_uri": "https://localhost:8080/",
          "height": 296
        },
        "id": "0s8Zp4gDdXC-",
        "outputId": "1d772a20-d7be-4221-934d-dc9e369f6107"
      },
      "execution_count": 370,
      "outputs": [
        {
          "output_type": "execute_result",
          "data": {
            "text/plain": [
              "Text(0, 0.5, 'Confirmed Cases')"
            ]
          },
          "metadata": {},
          "execution_count": 370
        },
        {
          "output_type": "display_data",
          "data": {
            "text/plain": [
              "<Figure size 432x288 with 1 Axes>"
            ],
            "image/png": "[encoded data removed]"
          },
          "metadata": {
            "needs_background": "light"
          }
        }
      ]
    },
    {
      "cell_type": "code",
      "source": [
        "df3=scaler.inverse_transform(df3).tolist()\n",
        "plt.plot(df3)\n",
        "plt.xlabel('Days')\n",
        "plt.ylabel('Confirmed Cases')"
      ],
      "metadata": {
        "colab": {
          "base_uri": "https://localhost:8080/",
          "height": 296
        },
        "id": "8B4Iijemdcyl",
        "outputId": "50820a4d-ce60-4dcd-a5a6-5bf0f71c5287"
      },
      "execution_count": 371,
      "outputs": [
        {
          "output_type": "execute_result",
          "data": {
            "text/plain": [
              "Text(0, 0.5, 'Confirmed Cases')"
            ]
          },
          "metadata": {},
          "execution_count": 371
        },
        {
          "output_type": "display_data",
          "data": {
            "text/plain": [
              "<Figure size 432x288 with 1 Axes>"
            ],
            "image/png": "[encoded data removed]"
          },
          "metadata": {
            "needs_background": "light"
          }
        }
      ]
    }
  ]
}